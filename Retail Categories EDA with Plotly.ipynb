{
 "cells": [
  {
   "cell_type": "code",
   "execution_count": 2,
   "metadata": {},
   "outputs": [
    {
     "data": {
      "text/html": [
       "        <script type=\"text/javascript\">\n",
       "        window.PlotlyConfig = {MathJaxConfig: 'local'};\n",
       "        if (window.MathJax) {MathJax.Hub.Config({SVG: {font: \"STIX-Web\"}});}\n",
       "        if (typeof require !== 'undefined') {\n",
       "        require.undef(\"plotly\");\n",
       "        requirejs.config({\n",
       "            paths: {\n",
       "                'plotly': ['https://cdn.plot.ly/plotly-latest.min']\n",
       "            }\n",
       "        });\n",
       "        require(['plotly'], function(Plotly) {\n",
       "            window._Plotly = Plotly;\n",
       "        });\n",
       "        }\n",
       "        </script>\n",
       "        "
      ]
     },
     "metadata": {},
     "output_type": "display_data"
    },
    {
     "data": {
      "text/html": [
       "        <script type=\"text/javascript\">\n",
       "        window.PlotlyConfig = {MathJaxConfig: 'local'};\n",
       "        if (window.MathJax) {MathJax.Hub.Config({SVG: {font: \"STIX-Web\"}});}\n",
       "        if (typeof require !== 'undefined') {\n",
       "        require.undef(\"plotly\");\n",
       "        requirejs.config({\n",
       "            paths: {\n",
       "                'plotly': ['https://cdn.plot.ly/plotly-latest.min']\n",
       "            }\n",
       "        });\n",
       "        require(['plotly'], function(Plotly) {\n",
       "            window._Plotly = Plotly;\n",
       "        });\n",
       "        }\n",
       "        </script>\n",
       "        "
      ]
     },
     "metadata": {},
     "output_type": "display_data"
    }
   ],
   "source": [
    "# Import the needed packages\n",
    "import pandas as pd\n",
    "import numpy as np\n",
    "import plotly.express as px\n",
    "import plotly.graph_objects as go\n",
    "import chart_studio.plotly as py\n",
    "from plotly.subplots import make_subplots\n",
    "import cufflinks as cf\n",
    "import seaborn as sns # for sample datasets only!\n",
    "%matplotlib inline\n",
    "\n",
    "from plotly.offline import download_plotlyjs, init_notebook_mode, plot, iplot\n",
    "init_notebook_mode(connected=True)\n",
    "cf.go_offline()"
   ]
  },
  {
   "cell_type": "code",
   "execution_count": 5,
   "metadata": {},
   "outputs": [],
   "source": [
    "# Import all the needed files for the analysis\n",
    "campaign_table = pd.read_csv('Retail Data Viz/Dunnhumby Datasets/campaign_table.csv')\n",
    "causal_data = pd.read_csv('Retail Data Viz/Dunnhumby Datasets/causal_data.csv')\n",
    "coupon = pd.read_csv('Retail Data Viz/Dunnhumby Datasets/coupon.csv')\n",
    "campaign_desc = pd.read_csv('Retail Data Viz/Dunnhumby Datasets/campaign_desc.csv')\n",
    "product = pd.read_csv('Retail Data Viz/Dunnhumby Datasets/product.csv')\n",
    "transaction_data = pd.read_csv('Retail Data Viz/Dunnhumby Datasets/transaction_data.csv')\n",
    "hh_demographic = pd.read_csv('Retail Data Viz/Dunnhumby Datasets/hh_demographic.csv')\n",
    "coupon_redempt = pd.read_csv('Retail Data Viz/Dunnhumby Datasets/coupon_redempt.csv')"
   ]
  },
  {
   "cell_type": "markdown",
   "metadata": {},
   "source": [
    "Examine the transaction table"
   ]
  },
  {
   "cell_type": "code",
   "execution_count": 4,
   "metadata": {},
   "outputs": [
    {
     "data": {
      "text/html": [
       "<div>\n",
       "<style scoped>\n",
       "    .dataframe tbody tr th:only-of-type {\n",
       "        vertical-align: middle;\n",
       "    }\n",
       "\n",
       "    .dataframe tbody tr th {\n",
       "        vertical-align: top;\n",
       "    }\n",
       "\n",
       "    .dataframe thead th {\n",
       "        text-align: right;\n",
       "    }\n",
       "</style>\n",
       "<table border=\"1\" class=\"dataframe\">\n",
       "  <thead>\n",
       "    <tr style=\"text-align: right;\">\n",
       "      <th></th>\n",
       "      <th>household_key</th>\n",
       "      <th>BASKET_ID</th>\n",
       "      <th>DAY</th>\n",
       "      <th>PRODUCT_ID</th>\n",
       "      <th>QUANTITY</th>\n",
       "      <th>SALES_VALUE</th>\n",
       "      <th>STORE_ID</th>\n",
       "      <th>RETAIL_DISC</th>\n",
       "      <th>TRANS_TIME</th>\n",
       "      <th>WEEK_NO</th>\n",
       "      <th>COUPON_DISC</th>\n",
       "      <th>COUPON_MATCH_DISC</th>\n",
       "    </tr>\n",
       "  </thead>\n",
       "  <tbody>\n",
       "    <tr>\n",
       "      <th>0</th>\n",
       "      <td>2375</td>\n",
       "      <td>26984851472</td>\n",
       "      <td>1</td>\n",
       "      <td>1004906</td>\n",
       "      <td>1</td>\n",
       "      <td>1.39</td>\n",
       "      <td>364</td>\n",
       "      <td>-0.60</td>\n",
       "      <td>1631</td>\n",
       "      <td>1</td>\n",
       "      <td>0.0</td>\n",
       "      <td>0.0</td>\n",
       "    </tr>\n",
       "    <tr>\n",
       "      <th>1</th>\n",
       "      <td>2375</td>\n",
       "      <td>26984851472</td>\n",
       "      <td>1</td>\n",
       "      <td>1033142</td>\n",
       "      <td>1</td>\n",
       "      <td>0.82</td>\n",
       "      <td>364</td>\n",
       "      <td>0.00</td>\n",
       "      <td>1631</td>\n",
       "      <td>1</td>\n",
       "      <td>0.0</td>\n",
       "      <td>0.0</td>\n",
       "    </tr>\n",
       "    <tr>\n",
       "      <th>2</th>\n",
       "      <td>2375</td>\n",
       "      <td>26984851472</td>\n",
       "      <td>1</td>\n",
       "      <td>1036325</td>\n",
       "      <td>1</td>\n",
       "      <td>0.99</td>\n",
       "      <td>364</td>\n",
       "      <td>-0.30</td>\n",
       "      <td>1631</td>\n",
       "      <td>1</td>\n",
       "      <td>0.0</td>\n",
       "      <td>0.0</td>\n",
       "    </tr>\n",
       "    <tr>\n",
       "      <th>3</th>\n",
       "      <td>2375</td>\n",
       "      <td>26984851472</td>\n",
       "      <td>1</td>\n",
       "      <td>1082185</td>\n",
       "      <td>1</td>\n",
       "      <td>1.21</td>\n",
       "      <td>364</td>\n",
       "      <td>0.00</td>\n",
       "      <td>1631</td>\n",
       "      <td>1</td>\n",
       "      <td>0.0</td>\n",
       "      <td>0.0</td>\n",
       "    </tr>\n",
       "    <tr>\n",
       "      <th>4</th>\n",
       "      <td>2375</td>\n",
       "      <td>26984851472</td>\n",
       "      <td>1</td>\n",
       "      <td>8160430</td>\n",
       "      <td>1</td>\n",
       "      <td>1.50</td>\n",
       "      <td>364</td>\n",
       "      <td>-0.39</td>\n",
       "      <td>1631</td>\n",
       "      <td>1</td>\n",
       "      <td>0.0</td>\n",
       "      <td>0.0</td>\n",
       "    </tr>\n",
       "  </tbody>\n",
       "</table>\n",
       "</div>"
      ],
      "text/plain": [
       "   household_key    BASKET_ID  DAY  PRODUCT_ID  QUANTITY  SALES_VALUE  \\\n",
       "0           2375  26984851472    1     1004906         1         1.39   \n",
       "1           2375  26984851472    1     1033142         1         0.82   \n",
       "2           2375  26984851472    1     1036325         1         0.99   \n",
       "3           2375  26984851472    1     1082185         1         1.21   \n",
       "4           2375  26984851472    1     8160430         1         1.50   \n",
       "\n",
       "   STORE_ID  RETAIL_DISC  TRANS_TIME  WEEK_NO  COUPON_DISC  COUPON_MATCH_DISC  \n",
       "0       364        -0.60        1631        1          0.0                0.0  \n",
       "1       364         0.00        1631        1          0.0                0.0  \n",
       "2       364        -0.30        1631        1          0.0                0.0  \n",
       "3       364         0.00        1631        1          0.0                0.0  \n",
       "4       364        -0.39        1631        1          0.0                0.0  "
      ]
     },
     "execution_count": 4,
     "metadata": {},
     "output_type": "execute_result"
    }
   ],
   "source": [
    "transaction_data.head()"
   ]
  },
  {
   "cell_type": "code",
   "execution_count": 5,
   "metadata": {},
   "outputs": [
    {
     "data": {
      "text/plain": [
       "(2595732, 12)"
      ]
     },
     "execution_count": 5,
     "metadata": {},
     "output_type": "execute_result"
    }
   ],
   "source": [
    "transaction_data.shape"
   ]
  },
  {
   "cell_type": "code",
   "execution_count": 6,
   "metadata": {},
   "outputs": [],
   "source": [
    "# Subset the data to make charts run faster\n",
    "transaction_data = transaction_data[transaction_data['DAY'] < 100]"
   ]
  },
  {
   "cell_type": "code",
   "execution_count": 7,
   "metadata": {},
   "outputs": [
    {
     "data": {
      "text/plain": [
       "(158305, 12)"
      ]
     },
     "execution_count": 7,
     "metadata": {},
     "output_type": "execute_result"
    }
   ],
   "source": [
    "transaction_data.shape"
   ]
  },
  {
   "cell_type": "markdown",
   "metadata": {},
   "source": [
    "### Data Transformations and Cleaning"
   ]
  },
  {
   "cell_type": "code",
   "execution_count": 55,
   "metadata": {},
   "outputs": [],
   "source": [
    "# Create Daily aggregate data for product trends\n",
    "transaction_data = transaction_data[['household_key','DAY','PRODUCT_ID', 'QUANTITY','SALES_VALUE']] \\\n",
    "            .merge(product[['PRODUCT_ID','COMMODITY_DESC']], on='PRODUCT_ID')\n",
    "\n",
    "# Remove blanks and 'COUPON/MISC ITEMS', and '(CORP USE ONLY)' in the COMMODITY_DESC field as they won't be helpful in the analysis anyway\n",
    "transaction_data = transaction_data[~transaction_data['COMMODITY_DESC'].isin(['',' ','COUPON/MISC ITEMS','(CORP USE ONLY)'])] \n",
    "\n",
    "# Do a daily summary with the following metrics: sales, quantity, number of households\n",
    "daily_sales = transaction_data.groupby(['COMMODITY_DESC', 'DAY']) \\\n",
    "            .agg({'SALES_VALUE':'sum', 'QUANTITY':'sum', 'household_key':pd.Series.nunique}) \\\n",
    "            .rename(columns = {'household_key':'HOUSEHOLDS'}) \\\n",
    "            .reset_index()\n",
    "\n",
    "daily_sales.head()"
   ]
  },
  {
   "cell_type": "markdown",
   "metadata": {},
   "source": [
    "## Plotly Charts"
   ]
  },
  {
   "cell_type": "markdown",
   "metadata": {},
   "source": [
    "### Chart 1: Bar Chart, Top 5 Commodities in terms of Sales"
   ]
  },
  {
   "cell_type": "code",
   "execution_count": 48,
   "metadata": {},
   "outputs": [],
   "source": [
    "# Prepare dataframes\n",
    "df_top5 = daily_sales[['COMMODITY_DESC','SALES_VALUE']]\\\n",
    "            .groupby(['COMMODITY_DESC']).sum().reset_index()\n",
    "df_top5 = df_top5[df_top5['COMMODITY_DESC'] != ''].sort_values(by = 'SALES_VALUE', ascending=False)[:5] \\\n",
    "            .sort_values(by = 'SALES_VALUE')"
   ]
  },
  {
   "cell_type": "code",
   "execution_count": 49,
   "metadata": {
    "scrolled": false
   },
   "outputs": [
    {
     "data": {
      "application/vnd.plotly.v1+json": {
       "config": {
        "plotlyServerURL": "https://plot.ly"
       },
       "data": [
        {
         "alignmentgroup": "True",
         "hovertemplate": "Sales=%{x}<br>Commodities=%{y}<extra></extra>",
         "legendgroup": "",
         "marker": {
          "color": "#1F77B4"
         },
         "name": "",
         "offsetgroup": "",
         "orientation": "h",
         "showlegend": false,
         "textposition": "auto",
         "type": "bar",
         "x": [
          10497.360000000002,
          11016.969999999996,
          11476.070000000002,
          21298.489999999994,
          22295.209999999995
         ],
         "xaxis": "x",
         "y": [
          "BEERS/ALES",
          "CHEESE",
          "FLUID MILK PRODUCTS",
          "BEEF",
          "SOFT DRINKS"
         ],
         "yaxis": "y"
        }
       ],
       "layout": {
        "barmode": "relative",
        "legend": {
         "tracegroupgap": 0
        },
        "template": {
         "data": {
          "bar": [
           {
            "error_x": {
             "color": "rgb(36,36,36)"
            },
            "error_y": {
             "color": "rgb(36,36,36)"
            },
            "marker": {
             "line": {
              "color": "white",
              "width": 0.5
             }
            },
            "type": "bar"
           }
          ],
          "barpolar": [
           {
            "marker": {
             "line": {
              "color": "white",
              "width": 0.5
             }
            },
            "type": "barpolar"
           }
          ],
          "carpet": [
           {
            "aaxis": {
             "endlinecolor": "rgb(36,36,36)",
             "gridcolor": "white",
             "linecolor": "white",
             "minorgridcolor": "white",
             "startlinecolor": "rgb(36,36,36)"
            },
            "baxis": {
             "endlinecolor": "rgb(36,36,36)",
             "gridcolor": "white",
             "linecolor": "white",
             "minorgridcolor": "white",
             "startlinecolor": "rgb(36,36,36)"
            },
            "type": "carpet"
           }
          ],
          "choropleth": [
           {
            "colorbar": {
             "outlinewidth": 1,
             "tickcolor": "rgb(36,36,36)",
             "ticks": "outside"
            },
            "type": "choropleth"
           }
          ],
          "contour": [
           {
            "colorbar": {
             "outlinewidth": 1,
             "tickcolor": "rgb(36,36,36)",
             "ticks": "outside"
            },
            "colorscale": [
             [
              0,
              "#440154"
             ],
             [
              0.1111111111111111,
              "#482878"
             ],
             [
              0.2222222222222222,
              "#3e4989"
             ],
             [
              0.3333333333333333,
              "#31688e"
             ],
             [
              0.4444444444444444,
              "#26828e"
             ],
             [
              0.5555555555555556,
              "#1f9e89"
             ],
             [
              0.6666666666666666,
              "#35b779"
             ],
             [
              0.7777777777777778,
              "#6ece58"
             ],
             [
              0.8888888888888888,
              "#b5de2b"
             ],
             [
              1,
              "#fde725"
             ]
            ],
            "type": "contour"
           }
          ],
          "contourcarpet": [
           {
            "colorbar": {
             "outlinewidth": 1,
             "tickcolor": "rgb(36,36,36)",
             "ticks": "outside"
            },
            "type": "contourcarpet"
           }
          ],
          "heatmap": [
           {
            "colorbar": {
             "outlinewidth": 1,
             "tickcolor": "rgb(36,36,36)",
             "ticks": "outside"
            },
            "colorscale": [
             [
              0,
              "#440154"
             ],
             [
              0.1111111111111111,
              "#482878"
             ],
             [
              0.2222222222222222,
              "#3e4989"
             ],
             [
              0.3333333333333333,
              "#31688e"
             ],
             [
              0.4444444444444444,
              "#26828e"
             ],
             [
              0.5555555555555556,
              "#1f9e89"
             ],
             [
              0.6666666666666666,
              "#35b779"
             ],
             [
              0.7777777777777778,
              "#6ece58"
             ],
             [
              0.8888888888888888,
              "#b5de2b"
             ],
             [
              1,
              "#fde725"
             ]
            ],
            "type": "heatmap"
           }
          ],
          "heatmapgl": [
           {
            "colorbar": {
             "outlinewidth": 1,
             "tickcolor": "rgb(36,36,36)",
             "ticks": "outside"
            },
            "colorscale": [
             [
              0,
              "#440154"
             ],
             [
              0.1111111111111111,
              "#482878"
             ],
             [
              0.2222222222222222,
              "#3e4989"
             ],
             [
              0.3333333333333333,
              "#31688e"
             ],
             [
              0.4444444444444444,
              "#26828e"
             ],
             [
              0.5555555555555556,
              "#1f9e89"
             ],
             [
              0.6666666666666666,
              "#35b779"
             ],
             [
              0.7777777777777778,
              "#6ece58"
             ],
             [
              0.8888888888888888,
              "#b5de2b"
             ],
             [
              1,
              "#fde725"
             ]
            ],
            "type": "heatmapgl"
           }
          ],
          "histogram": [
           {
            "marker": {
             "line": {
              "color": "white",
              "width": 0.6
             }
            },
            "type": "histogram"
           }
          ],
          "histogram2d": [
           {
            "colorbar": {
             "outlinewidth": 1,
             "tickcolor": "rgb(36,36,36)",
             "ticks": "outside"
            },
            "colorscale": [
             [
              0,
              "#440154"
             ],
             [
              0.1111111111111111,
              "#482878"
             ],
             [
              0.2222222222222222,
              "#3e4989"
             ],
             [
              0.3333333333333333,
              "#31688e"
             ],
             [
              0.4444444444444444,
              "#26828e"
             ],
             [
              0.5555555555555556,
              "#1f9e89"
             ],
             [
              0.6666666666666666,
              "#35b779"
             ],
             [
              0.7777777777777778,
              "#6ece58"
             ],
             [
              0.8888888888888888,
              "#b5de2b"
             ],
             [
              1,
              "#fde725"
             ]
            ],
            "type": "histogram2d"
           }
          ],
          "histogram2dcontour": [
           {
            "colorbar": {
             "outlinewidth": 1,
             "tickcolor": "rgb(36,36,36)",
             "ticks": "outside"
            },
            "colorscale": [
             [
              0,
              "#440154"
             ],
             [
              0.1111111111111111,
              "#482878"
             ],
             [
              0.2222222222222222,
              "#3e4989"
             ],
             [
              0.3333333333333333,
              "#31688e"
             ],
             [
              0.4444444444444444,
              "#26828e"
             ],
             [
              0.5555555555555556,
              "#1f9e89"
             ],
             [
              0.6666666666666666,
              "#35b779"
             ],
             [
              0.7777777777777778,
              "#6ece58"
             ],
             [
              0.8888888888888888,
              "#b5de2b"
             ],
             [
              1,
              "#fde725"
             ]
            ],
            "type": "histogram2dcontour"
           }
          ],
          "mesh3d": [
           {
            "colorbar": {
             "outlinewidth": 1,
             "tickcolor": "rgb(36,36,36)",
             "ticks": "outside"
            },
            "type": "mesh3d"
           }
          ],
          "parcoords": [
           {
            "line": {
             "colorbar": {
              "outlinewidth": 1,
              "tickcolor": "rgb(36,36,36)",
              "ticks": "outside"
             }
            },
            "type": "parcoords"
           }
          ],
          "pie": [
           {
            "automargin": true,
            "type": "pie"
           }
          ],
          "scatter": [
           {
            "marker": {
             "colorbar": {
              "outlinewidth": 1,
              "tickcolor": "rgb(36,36,36)",
              "ticks": "outside"
             }
            },
            "type": "scatter"
           }
          ],
          "scatter3d": [
           {
            "line": {
             "colorbar": {
              "outlinewidth": 1,
              "tickcolor": "rgb(36,36,36)",
              "ticks": "outside"
             }
            },
            "marker": {
             "colorbar": {
              "outlinewidth": 1,
              "tickcolor": "rgb(36,36,36)",
              "ticks": "outside"
             }
            },
            "type": "scatter3d"
           }
          ],
          "scattercarpet": [
           {
            "marker": {
             "colorbar": {
              "outlinewidth": 1,
              "tickcolor": "rgb(36,36,36)",
              "ticks": "outside"
             }
            },
            "type": "scattercarpet"
           }
          ],
          "scattergeo": [
           {
            "marker": {
             "colorbar": {
              "outlinewidth": 1,
              "tickcolor": "rgb(36,36,36)",
              "ticks": "outside"
             }
            },
            "type": "scattergeo"
           }
          ],
          "scattergl": [
           {
            "marker": {
             "colorbar": {
              "outlinewidth": 1,
              "tickcolor": "rgb(36,36,36)",
              "ticks": "outside"
             }
            },
            "type": "scattergl"
           }
          ],
          "scattermapbox": [
           {
            "marker": {
             "colorbar": {
              "outlinewidth": 1,
              "tickcolor": "rgb(36,36,36)",
              "ticks": "outside"
             }
            },
            "type": "scattermapbox"
           }
          ],
          "scatterpolar": [
           {
            "marker": {
             "colorbar": {
              "outlinewidth": 1,
              "tickcolor": "rgb(36,36,36)",
              "ticks": "outside"
             }
            },
            "type": "scatterpolar"
           }
          ],
          "scatterpolargl": [
           {
            "marker": {
             "colorbar": {
              "outlinewidth": 1,
              "tickcolor": "rgb(36,36,36)",
              "ticks": "outside"
             }
            },
            "type": "scatterpolargl"
           }
          ],
          "scatterternary": [
           {
            "marker": {
             "colorbar": {
              "outlinewidth": 1,
              "tickcolor": "rgb(36,36,36)",
              "ticks": "outside"
             }
            },
            "type": "scatterternary"
           }
          ],
          "surface": [
           {
            "colorbar": {
             "outlinewidth": 1,
             "tickcolor": "rgb(36,36,36)",
             "ticks": "outside"
            },
            "colorscale": [
             [
              0,
              "#440154"
             ],
             [
              0.1111111111111111,
              "#482878"
             ],
             [
              0.2222222222222222,
              "#3e4989"
             ],
             [
              0.3333333333333333,
              "#31688e"
             ],
             [
              0.4444444444444444,
              "#26828e"
             ],
             [
              0.5555555555555556,
              "#1f9e89"
             ],
             [
              0.6666666666666666,
              "#35b779"
             ],
             [
              0.7777777777777778,
              "#6ece58"
             ],
             [
              0.8888888888888888,
              "#b5de2b"
             ],
             [
              1,
              "#fde725"
             ]
            ],
            "type": "surface"
           }
          ],
          "table": [
           {
            "cells": {
             "fill": {
              "color": "rgb(237,237,237)"
             },
             "line": {
              "color": "white"
             }
            },
            "header": {
             "fill": {
              "color": "rgb(217,217,217)"
             },
             "line": {
              "color": "white"
             }
            },
            "type": "table"
           }
          ]
         },
         "layout": {
          "annotationdefaults": {
           "arrowhead": 0,
           "arrowwidth": 1
          },
          "autotypenumbers": "strict",
          "coloraxis": {
           "colorbar": {
            "outlinewidth": 1,
            "tickcolor": "rgb(36,36,36)",
            "ticks": "outside"
           }
          },
          "colorscale": {
           "diverging": [
            [
             0,
             "rgb(103,0,31)"
            ],
            [
             0.1,
             "rgb(178,24,43)"
            ],
            [
             0.2,
             "rgb(214,96,77)"
            ],
            [
             0.3,
             "rgb(244,165,130)"
            ],
            [
             0.4,
             "rgb(253,219,199)"
            ],
            [
             0.5,
             "rgb(247,247,247)"
            ],
            [
             0.6,
             "rgb(209,229,240)"
            ],
            [
             0.7,
             "rgb(146,197,222)"
            ],
            [
             0.8,
             "rgb(67,147,195)"
            ],
            [
             0.9,
             "rgb(33,102,172)"
            ],
            [
             1,
             "rgb(5,48,97)"
            ]
           ],
           "sequential": [
            [
             0,
             "#440154"
            ],
            [
             0.1111111111111111,
             "#482878"
            ],
            [
             0.2222222222222222,
             "#3e4989"
            ],
            [
             0.3333333333333333,
             "#31688e"
            ],
            [
             0.4444444444444444,
             "#26828e"
            ],
            [
             0.5555555555555556,
             "#1f9e89"
            ],
            [
             0.6666666666666666,
             "#35b779"
            ],
            [
             0.7777777777777778,
             "#6ece58"
            ],
            [
             0.8888888888888888,
             "#b5de2b"
            ],
            [
             1,
             "#fde725"
            ]
           ],
           "sequentialminus": [
            [
             0,
             "#440154"
            ],
            [
             0.1111111111111111,
             "#482878"
            ],
            [
             0.2222222222222222,
             "#3e4989"
            ],
            [
             0.3333333333333333,
             "#31688e"
            ],
            [
             0.4444444444444444,
             "#26828e"
            ],
            [
             0.5555555555555556,
             "#1f9e89"
            ],
            [
             0.6666666666666666,
             "#35b779"
            ],
            [
             0.7777777777777778,
             "#6ece58"
            ],
            [
             0.8888888888888888,
             "#b5de2b"
            ],
            [
             1,
             "#fde725"
            ]
           ]
          },
          "colorway": [
           "#1F77B4",
           "#FF7F0E",
           "#2CA02C",
           "#D62728",
           "#9467BD",
           "#8C564B",
           "#E377C2",
           "#7F7F7F",
           "#BCBD22",
           "#17BECF"
          ],
          "font": {
           "color": "rgb(36,36,36)"
          },
          "geo": {
           "bgcolor": "white",
           "lakecolor": "white",
           "landcolor": "white",
           "showlakes": true,
           "showland": true,
           "subunitcolor": "white"
          },
          "hoverlabel": {
           "align": "left"
          },
          "hovermode": "closest",
          "mapbox": {
           "style": "light"
          },
          "paper_bgcolor": "white",
          "plot_bgcolor": "white",
          "polar": {
           "angularaxis": {
            "gridcolor": "rgb(232,232,232)",
            "linecolor": "rgb(36,36,36)",
            "showgrid": false,
            "showline": true,
            "ticks": "outside"
           },
           "bgcolor": "white",
           "radialaxis": {
            "gridcolor": "rgb(232,232,232)",
            "linecolor": "rgb(36,36,36)",
            "showgrid": false,
            "showline": true,
            "ticks": "outside"
           }
          },
          "scene": {
           "xaxis": {
            "backgroundcolor": "white",
            "gridcolor": "rgb(232,232,232)",
            "gridwidth": 2,
            "linecolor": "rgb(36,36,36)",
            "showbackground": true,
            "showgrid": false,
            "showline": true,
            "ticks": "outside",
            "zeroline": false,
            "zerolinecolor": "rgb(36,36,36)"
           },
           "yaxis": {
            "backgroundcolor": "white",
            "gridcolor": "rgb(232,232,232)",
            "gridwidth": 2,
            "linecolor": "rgb(36,36,36)",
            "showbackground": true,
            "showgrid": false,
            "showline": true,
            "ticks": "outside",
            "zeroline": false,
            "zerolinecolor": "rgb(36,36,36)"
           },
           "zaxis": {
            "backgroundcolor": "white",
            "gridcolor": "rgb(232,232,232)",
            "gridwidth": 2,
            "linecolor": "rgb(36,36,36)",
            "showbackground": true,
            "showgrid": false,
            "showline": true,
            "ticks": "outside",
            "zeroline": false,
            "zerolinecolor": "rgb(36,36,36)"
           }
          },
          "shapedefaults": {
           "fillcolor": "black",
           "line": {
            "width": 0
           },
           "opacity": 0.3
          },
          "ternary": {
           "aaxis": {
            "gridcolor": "rgb(232,232,232)",
            "linecolor": "rgb(36,36,36)",
            "showgrid": false,
            "showline": true,
            "ticks": "outside"
           },
           "baxis": {
            "gridcolor": "rgb(232,232,232)",
            "linecolor": "rgb(36,36,36)",
            "showgrid": false,
            "showline": true,
            "ticks": "outside"
           },
           "bgcolor": "white",
           "caxis": {
            "gridcolor": "rgb(232,232,232)",
            "linecolor": "rgb(36,36,36)",
            "showgrid": false,
            "showline": true,
            "ticks": "outside"
           }
          },
          "title": {
           "x": 0.05
          },
          "xaxis": {
           "automargin": true,
           "gridcolor": "rgb(232,232,232)",
           "linecolor": "rgb(36,36,36)",
           "showgrid": false,
           "showline": true,
           "ticks": "outside",
           "title": {
            "standoff": 15
           },
           "zeroline": false,
           "zerolinecolor": "rgb(36,36,36)"
          },
          "yaxis": {
           "automargin": true,
           "gridcolor": "rgb(232,232,232)",
           "linecolor": "rgb(36,36,36)",
           "showgrid": false,
           "showline": true,
           "ticks": "outside",
           "title": {
            "standoff": 15
           },
           "zeroline": false,
           "zerolinecolor": "rgb(36,36,36)"
          }
         }
        },
        "title": {
         "text": "Top 5 Commodities by Sales"
        },
        "xaxis": {
         "anchor": "y",
         "domain": [
          0,
          1
         ],
         "title": {
          "text": "Sales"
         }
        },
        "yaxis": {
         "anchor": "x",
         "domain": [
          0,
          1
         ],
         "title": {
          "text": "Commodities"
         }
        }
       }
      },
      "text/html": [
       "<div>                            <div id=\"6c319a80-32b6-494a-859a-ebd065d6f6fb\" class=\"plotly-graph-div\" style=\"height:525px; width:100%;\"></div>            <script type=\"text/javascript\">                require([\"plotly\"], function(Plotly) {                    window.PLOTLYENV=window.PLOTLYENV || {};                                    if (document.getElementById(\"6c319a80-32b6-494a-859a-ebd065d6f6fb\")) {                    Plotly.newPlot(                        \"6c319a80-32b6-494a-859a-ebd065d6f6fb\",                        [{\"alignmentgroup\": \"True\", \"hovertemplate\": \"Sales=%{x}<br>Commodities=%{y}<extra></extra>\", \"legendgroup\": \"\", \"marker\": {\"color\": \"#1F77B4\"}, \"name\": \"\", \"offsetgroup\": \"\", \"orientation\": \"h\", \"showlegend\": false, \"textposition\": \"auto\", \"type\": \"bar\", \"x\": [10497.360000000002, 11016.969999999996, 11476.070000000002, 21298.489999999994, 22295.209999999995], \"xaxis\": \"x\", \"y\": [\"BEERS/ALES\", \"CHEESE\", \"FLUID MILK PRODUCTS\", \"BEEF\", \"SOFT DRINKS\"], \"yaxis\": \"y\"}],                        {\"barmode\": \"relative\", \"legend\": {\"tracegroupgap\": 0}, \"template\": {\"data\": {\"bar\": [{\"error_x\": {\"color\": \"rgb(36,36,36)\"}, \"error_y\": {\"color\": \"rgb(36,36,36)\"}, \"marker\": {\"line\": {\"color\": \"white\", \"width\": 0.5}}, \"type\": \"bar\"}], \"barpolar\": [{\"marker\": {\"line\": {\"color\": \"white\", \"width\": 0.5}}, \"type\": \"barpolar\"}], \"carpet\": [{\"aaxis\": {\"endlinecolor\": \"rgb(36,36,36)\", \"gridcolor\": \"white\", \"linecolor\": \"white\", \"minorgridcolor\": \"white\", \"startlinecolor\": \"rgb(36,36,36)\"}, \"baxis\": {\"endlinecolor\": \"rgb(36,36,36)\", \"gridcolor\": \"white\", \"linecolor\": \"white\", \"minorgridcolor\": \"white\", \"startlinecolor\": \"rgb(36,36,36)\"}, \"type\": \"carpet\"}], \"choropleth\": [{\"colorbar\": {\"outlinewidth\": 1, \"tickcolor\": \"rgb(36,36,36)\", \"ticks\": \"outside\"}, \"type\": \"choropleth\"}], \"contour\": [{\"colorbar\": {\"outlinewidth\": 1, \"tickcolor\": \"rgb(36,36,36)\", \"ticks\": \"outside\"}, \"colorscale\": [[0.0, \"#440154\"], [0.1111111111111111, \"#482878\"], [0.2222222222222222, \"#3e4989\"], [0.3333333333333333, \"#31688e\"], [0.4444444444444444, \"#26828e\"], [0.5555555555555556, \"#1f9e89\"], [0.6666666666666666, \"#35b779\"], [0.7777777777777778, \"#6ece58\"], [0.8888888888888888, \"#b5de2b\"], [1.0, \"#fde725\"]], \"type\": \"contour\"}], \"contourcarpet\": [{\"colorbar\": {\"outlinewidth\": 1, \"tickcolor\": \"rgb(36,36,36)\", \"ticks\": \"outside\"}, \"type\": \"contourcarpet\"}], \"heatmap\": [{\"colorbar\": {\"outlinewidth\": 1, \"tickcolor\": \"rgb(36,36,36)\", \"ticks\": \"outside\"}, \"colorscale\": [[0.0, \"#440154\"], [0.1111111111111111, \"#482878\"], [0.2222222222222222, \"#3e4989\"], [0.3333333333333333, \"#31688e\"], [0.4444444444444444, \"#26828e\"], [0.5555555555555556, \"#1f9e89\"], [0.6666666666666666, \"#35b779\"], [0.7777777777777778, \"#6ece58\"], [0.8888888888888888, \"#b5de2b\"], [1.0, \"#fde725\"]], \"type\": \"heatmap\"}], \"heatmapgl\": [{\"colorbar\": {\"outlinewidth\": 1, \"tickcolor\": \"rgb(36,36,36)\", \"ticks\": \"outside\"}, \"colorscale\": [[0.0, \"#440154\"], [0.1111111111111111, \"#482878\"], [0.2222222222222222, \"#3e4989\"], [0.3333333333333333, \"#31688e\"], [0.4444444444444444, \"#26828e\"], [0.5555555555555556, \"#1f9e89\"], [0.6666666666666666, \"#35b779\"], [0.7777777777777778, \"#6ece58\"], [0.8888888888888888, \"#b5de2b\"], [1.0, \"#fde725\"]], \"type\": \"heatmapgl\"}], \"histogram\": [{\"marker\": {\"line\": {\"color\": \"white\", \"width\": 0.6}}, \"type\": \"histogram\"}], \"histogram2d\": [{\"colorbar\": {\"outlinewidth\": 1, \"tickcolor\": \"rgb(36,36,36)\", \"ticks\": \"outside\"}, \"colorscale\": [[0.0, \"#440154\"], [0.1111111111111111, \"#482878\"], [0.2222222222222222, \"#3e4989\"], [0.3333333333333333, \"#31688e\"], [0.4444444444444444, \"#26828e\"], [0.5555555555555556, \"#1f9e89\"], [0.6666666666666666, \"#35b779\"], [0.7777777777777778, \"#6ece58\"], [0.8888888888888888, \"#b5de2b\"], [1.0, \"#fde725\"]], \"type\": \"histogram2d\"}], \"histogram2dcontour\": [{\"colorbar\": {\"outlinewidth\": 1, \"tickcolor\": \"rgb(36,36,36)\", \"ticks\": \"outside\"}, \"colorscale\": [[0.0, \"#440154\"], [0.1111111111111111, \"#482878\"], [0.2222222222222222, \"#3e4989\"], [0.3333333333333333, \"#31688e\"], [0.4444444444444444, \"#26828e\"], [0.5555555555555556, \"#1f9e89\"], [0.6666666666666666, \"#35b779\"], [0.7777777777777778, \"#6ece58\"], [0.8888888888888888, \"#b5de2b\"], [1.0, \"#fde725\"]], \"type\": \"histogram2dcontour\"}], \"mesh3d\": [{\"colorbar\": {\"outlinewidth\": 1, \"tickcolor\": \"rgb(36,36,36)\", \"ticks\": \"outside\"}, \"type\": \"mesh3d\"}], \"parcoords\": [{\"line\": {\"colorbar\": {\"outlinewidth\": 1, \"tickcolor\": \"rgb(36,36,36)\", \"ticks\": \"outside\"}}, \"type\": \"parcoords\"}], \"pie\": [{\"automargin\": true, \"type\": \"pie\"}], \"scatter\": [{\"marker\": {\"colorbar\": {\"outlinewidth\": 1, \"tickcolor\": \"rgb(36,36,36)\", \"ticks\": \"outside\"}}, \"type\": \"scatter\"}], \"scatter3d\": [{\"line\": {\"colorbar\": {\"outlinewidth\": 1, \"tickcolor\": \"rgb(36,36,36)\", \"ticks\": \"outside\"}}, \"marker\": {\"colorbar\": {\"outlinewidth\": 1, \"tickcolor\": \"rgb(36,36,36)\", \"ticks\": \"outside\"}}, \"type\": \"scatter3d\"}], \"scattercarpet\": [{\"marker\": {\"colorbar\": {\"outlinewidth\": 1, \"tickcolor\": \"rgb(36,36,36)\", \"ticks\": \"outside\"}}, \"type\": \"scattercarpet\"}], \"scattergeo\": [{\"marker\": {\"colorbar\": {\"outlinewidth\": 1, \"tickcolor\": \"rgb(36,36,36)\", \"ticks\": \"outside\"}}, \"type\": \"scattergeo\"}], \"scattergl\": [{\"marker\": {\"colorbar\": {\"outlinewidth\": 1, \"tickcolor\": \"rgb(36,36,36)\", \"ticks\": \"outside\"}}, \"type\": \"scattergl\"}], \"scattermapbox\": [{\"marker\": {\"colorbar\": {\"outlinewidth\": 1, \"tickcolor\": \"rgb(36,36,36)\", \"ticks\": \"outside\"}}, \"type\": \"scattermapbox\"}], \"scatterpolar\": [{\"marker\": {\"colorbar\": {\"outlinewidth\": 1, \"tickcolor\": \"rgb(36,36,36)\", \"ticks\": \"outside\"}}, \"type\": \"scatterpolar\"}], \"scatterpolargl\": [{\"marker\": {\"colorbar\": {\"outlinewidth\": 1, \"tickcolor\": \"rgb(36,36,36)\", \"ticks\": \"outside\"}}, \"type\": \"scatterpolargl\"}], \"scatterternary\": [{\"marker\": {\"colorbar\": {\"outlinewidth\": 1, \"tickcolor\": \"rgb(36,36,36)\", \"ticks\": \"outside\"}}, \"type\": \"scatterternary\"}], \"surface\": [{\"colorbar\": {\"outlinewidth\": 1, \"tickcolor\": \"rgb(36,36,36)\", \"ticks\": \"outside\"}, \"colorscale\": [[0.0, \"#440154\"], [0.1111111111111111, \"#482878\"], [0.2222222222222222, \"#3e4989\"], [0.3333333333333333, \"#31688e\"], [0.4444444444444444, \"#26828e\"], [0.5555555555555556, \"#1f9e89\"], [0.6666666666666666, \"#35b779\"], [0.7777777777777778, \"#6ece58\"], [0.8888888888888888, \"#b5de2b\"], [1.0, \"#fde725\"]], \"type\": \"surface\"}], \"table\": [{\"cells\": {\"fill\": {\"color\": \"rgb(237,237,237)\"}, \"line\": {\"color\": \"white\"}}, \"header\": {\"fill\": {\"color\": \"rgb(217,217,217)\"}, \"line\": {\"color\": \"white\"}}, \"type\": \"table\"}]}, \"layout\": {\"annotationdefaults\": {\"arrowhead\": 0, \"arrowwidth\": 1}, \"autotypenumbers\": \"strict\", \"coloraxis\": {\"colorbar\": {\"outlinewidth\": 1, \"tickcolor\": \"rgb(36,36,36)\", \"ticks\": \"outside\"}}, \"colorscale\": {\"diverging\": [[0.0, \"rgb(103,0,31)\"], [0.1, \"rgb(178,24,43)\"], [0.2, \"rgb(214,96,77)\"], [0.3, \"rgb(244,165,130)\"], [0.4, \"rgb(253,219,199)\"], [0.5, \"rgb(247,247,247)\"], [0.6, \"rgb(209,229,240)\"], [0.7, \"rgb(146,197,222)\"], [0.8, \"rgb(67,147,195)\"], [0.9, \"rgb(33,102,172)\"], [1.0, \"rgb(5,48,97)\"]], \"sequential\": [[0.0, \"#440154\"], [0.1111111111111111, \"#482878\"], [0.2222222222222222, \"#3e4989\"], [0.3333333333333333, \"#31688e\"], [0.4444444444444444, \"#26828e\"], [0.5555555555555556, \"#1f9e89\"], [0.6666666666666666, \"#35b779\"], [0.7777777777777778, \"#6ece58\"], [0.8888888888888888, \"#b5de2b\"], [1.0, \"#fde725\"]], \"sequentialminus\": [[0.0, \"#440154\"], [0.1111111111111111, \"#482878\"], [0.2222222222222222, \"#3e4989\"], [0.3333333333333333, \"#31688e\"], [0.4444444444444444, \"#26828e\"], [0.5555555555555556, \"#1f9e89\"], [0.6666666666666666, \"#35b779\"], [0.7777777777777778, \"#6ece58\"], [0.8888888888888888, \"#b5de2b\"], [1.0, \"#fde725\"]]}, \"colorway\": [\"#1F77B4\", \"#FF7F0E\", \"#2CA02C\", \"#D62728\", \"#9467BD\", \"#8C564B\", \"#E377C2\", \"#7F7F7F\", \"#BCBD22\", \"#17BECF\"], \"font\": {\"color\": \"rgb(36,36,36)\"}, \"geo\": {\"bgcolor\": \"white\", \"lakecolor\": \"white\", \"landcolor\": \"white\", \"showlakes\": true, \"showland\": true, \"subunitcolor\": \"white\"}, \"hoverlabel\": {\"align\": \"left\"}, \"hovermode\": \"closest\", \"mapbox\": {\"style\": \"light\"}, \"paper_bgcolor\": \"white\", \"plot_bgcolor\": \"white\", \"polar\": {\"angularaxis\": {\"gridcolor\": \"rgb(232,232,232)\", \"linecolor\": \"rgb(36,36,36)\", \"showgrid\": false, \"showline\": true, \"ticks\": \"outside\"}, \"bgcolor\": \"white\", \"radialaxis\": {\"gridcolor\": \"rgb(232,232,232)\", \"linecolor\": \"rgb(36,36,36)\", \"showgrid\": false, \"showline\": true, \"ticks\": \"outside\"}}, \"scene\": {\"xaxis\": {\"backgroundcolor\": \"white\", \"gridcolor\": \"rgb(232,232,232)\", \"gridwidth\": 2, \"linecolor\": \"rgb(36,36,36)\", \"showbackground\": true, \"showgrid\": false, \"showline\": true, \"ticks\": \"outside\", \"zeroline\": false, \"zerolinecolor\": \"rgb(36,36,36)\"}, \"yaxis\": {\"backgroundcolor\": \"white\", \"gridcolor\": \"rgb(232,232,232)\", \"gridwidth\": 2, \"linecolor\": \"rgb(36,36,36)\", \"showbackground\": true, \"showgrid\": false, \"showline\": true, \"ticks\": \"outside\", \"zeroline\": false, \"zerolinecolor\": \"rgb(36,36,36)\"}, \"zaxis\": {\"backgroundcolor\": \"white\", \"gridcolor\": \"rgb(232,232,232)\", \"gridwidth\": 2, \"linecolor\": \"rgb(36,36,36)\", \"showbackground\": true, \"showgrid\": false, \"showline\": true, \"ticks\": \"outside\", \"zeroline\": false, \"zerolinecolor\": \"rgb(36,36,36)\"}}, \"shapedefaults\": {\"fillcolor\": \"black\", \"line\": {\"width\": 0}, \"opacity\": 0.3}, \"ternary\": {\"aaxis\": {\"gridcolor\": \"rgb(232,232,232)\", \"linecolor\": \"rgb(36,36,36)\", \"showgrid\": false, \"showline\": true, \"ticks\": \"outside\"}, \"baxis\": {\"gridcolor\": \"rgb(232,232,232)\", \"linecolor\": \"rgb(36,36,36)\", \"showgrid\": false, \"showline\": true, \"ticks\": \"outside\"}, \"bgcolor\": \"white\", \"caxis\": {\"gridcolor\": \"rgb(232,232,232)\", \"linecolor\": \"rgb(36,36,36)\", \"showgrid\": false, \"showline\": true, \"ticks\": \"outside\"}}, \"title\": {\"x\": 0.05}, \"xaxis\": {\"automargin\": true, \"gridcolor\": \"rgb(232,232,232)\", \"linecolor\": \"rgb(36,36,36)\", \"showgrid\": false, \"showline\": true, \"ticks\": \"outside\", \"title\": {\"standoff\": 15}, \"zeroline\": false, \"zerolinecolor\": \"rgb(36,36,36)\"}, \"yaxis\": {\"automargin\": true, \"gridcolor\": \"rgb(232,232,232)\", \"linecolor\": \"rgb(36,36,36)\", \"showgrid\": false, \"showline\": true, \"ticks\": \"outside\", \"title\": {\"standoff\": 15}, \"zeroline\": false, \"zerolinecolor\": \"rgb(36,36,36)\"}}}, \"title\": {\"text\": \"Top 5 Commodities by Sales\"}, \"xaxis\": {\"anchor\": \"y\", \"domain\": [0.0, 1.0], \"title\": {\"text\": \"Sales\"}}, \"yaxis\": {\"anchor\": \"x\", \"domain\": [0.0, 1.0], \"title\": {\"text\": \"Commodities\"}}},                        {\"responsive\": true}                    ).then(function(){\n",
       "                            \n",
       "var gd = document.getElementById('6c319a80-32b6-494a-859a-ebd065d6f6fb');\n",
       "var x = new MutationObserver(function (mutations, observer) {{\n",
       "        var display = window.getComputedStyle(gd).display;\n",
       "        if (!display || display === 'none') {{\n",
       "            console.log([gd, 'removed!']);\n",
       "            Plotly.purge(gd);\n",
       "            observer.disconnect();\n",
       "        }}\n",
       "}});\n",
       "\n",
       "// Listen for the removal of the full notebook cells\n",
       "var notebookContainer = gd.closest('#notebook-container');\n",
       "if (notebookContainer) {{\n",
       "    x.observe(notebookContainer, {childList: true});\n",
       "}}\n",
       "\n",
       "// Listen for the clearing of the current output cell\n",
       "var outputEl = gd.closest('.output');\n",
       "if (outputEl) {{\n",
       "    x.observe(outputEl, {childList: true});\n",
       "}}\n",
       "\n",
       "                        })                };                });            </script>        </div>"
      ]
     },
     "metadata": {},
     "output_type": "display_data"
    }
   ],
   "source": [
    "# Bar Charts Using Plotly Express\n",
    "fig = px.bar(x = df_top5.SALES_VALUE, \n",
    "             y = df_top5.COMMODITY_DESC,\n",
    "             labels = {\n",
    "                 'y' : 'Commodities',\n",
    "                 'x' : 'Sales'\n",
    "             },\n",
    "             title = 'Top 5 Commodities by Sales',\n",
    "             template = 'simple_white')\n",
    "fig.show()"
   ]
  },
  {
   "cell_type": "markdown",
   "metadata": {},
   "source": [
    "### Chart 2: Two Bar Charts, Top 5 Commodities in terms of Sales, and Top 5 in terms of Quantity"
   ]
  },
  {
   "cell_type": "code",
   "execution_count": 50,
   "metadata": {},
   "outputs": [],
   "source": [
    "# Prepare dataframe for quantity\n",
    "df_top5_quantity = daily_sales[['COMMODITY_DESC','QUANTITY']]\\\n",
    "            .groupby(['COMMODITY_DESC']).sum().reset_index()\n",
    "df_top5_quantity = df_top5_quantity[df_top5_quantity['COMMODITY_DESC'] != ''] \\\n",
    "            .sort_values(by = 'QUANTITY', ascending=False)[:5]\n",
    "\n",
    "df_top5 = df_top5.sort_values(by = 'SALES_VALUE', ascending=False)[:5]"
   ]
  },
  {
   "cell_type": "code",
   "execution_count": 51,
   "metadata": {},
   "outputs": [
    {
     "data": {
      "application/vnd.plotly.v1+json": {
       "config": {
        "plotlyServerURL": "https://plot.ly"
       },
       "data": [
        {
         "name": "Sales $",
         "type": "bar",
         "x": [
          "SOFT DRINKS",
          "BEEF",
          "FLUID MILK PRODUCTS",
          "CHEESE",
          "BEERS/ALES"
         ],
         "xaxis": "x",
         "y": [
          22295.209999999995,
          21298.489999999994,
          11476.070000000002,
          11016.969999999996,
          10497.360000000002
         ],
         "yaxis": "y"
        },
        {
         "name": "Quantity",
         "type": "bar",
         "x": [
          "SOFT DRINKS",
          "FLUID MILK PRODUCTS",
          "BAKED BREAD/BUNS/ROLLS",
          "BAG SNACKS",
          "CHEESE"
         ],
         "xaxis": "x2",
         "y": [
          10734,
          6731,
          6162,
          5220,
          5197
         ],
         "yaxis": "y2"
        }
       ],
       "layout": {
        "annotations": [
         {
          "font": {
           "size": 16
          },
          "showarrow": false,
          "text": "Sales $",
          "x": 0.225,
          "xanchor": "center",
          "xref": "paper",
          "y": 1,
          "yanchor": "bottom",
          "yref": "paper"
         },
         {
          "font": {
           "size": 16
          },
          "showarrow": false,
          "text": "Quantity",
          "x": 0.775,
          "xanchor": "center",
          "xref": "paper",
          "y": 1,
          "yanchor": "bottom",
          "yref": "paper"
         }
        ],
        "height": 600,
        "template": {
         "data": {
          "bar": [
           {
            "error_x": {
             "color": "rgb(36,36,36)"
            },
            "error_y": {
             "color": "rgb(36,36,36)"
            },
            "marker": {
             "line": {
              "color": "white",
              "width": 0.5
             }
            },
            "type": "bar"
           }
          ],
          "barpolar": [
           {
            "marker": {
             "line": {
              "color": "white",
              "width": 0.5
             }
            },
            "type": "barpolar"
           }
          ],
          "carpet": [
           {
            "aaxis": {
             "endlinecolor": "rgb(36,36,36)",
             "gridcolor": "white",
             "linecolor": "white",
             "minorgridcolor": "white",
             "startlinecolor": "rgb(36,36,36)"
            },
            "baxis": {
             "endlinecolor": "rgb(36,36,36)",
             "gridcolor": "white",
             "linecolor": "white",
             "minorgridcolor": "white",
             "startlinecolor": "rgb(36,36,36)"
            },
            "type": "carpet"
           }
          ],
          "choropleth": [
           {
            "colorbar": {
             "outlinewidth": 1,
             "tickcolor": "rgb(36,36,36)",
             "ticks": "outside"
            },
            "type": "choropleth"
           }
          ],
          "contour": [
           {
            "colorbar": {
             "outlinewidth": 1,
             "tickcolor": "rgb(36,36,36)",
             "ticks": "outside"
            },
            "colorscale": [
             [
              0,
              "#440154"
             ],
             [
              0.1111111111111111,
              "#482878"
             ],
             [
              0.2222222222222222,
              "#3e4989"
             ],
             [
              0.3333333333333333,
              "#31688e"
             ],
             [
              0.4444444444444444,
              "#26828e"
             ],
             [
              0.5555555555555556,
              "#1f9e89"
             ],
             [
              0.6666666666666666,
              "#35b779"
             ],
             [
              0.7777777777777778,
              "#6ece58"
             ],
             [
              0.8888888888888888,
              "#b5de2b"
             ],
             [
              1,
              "#fde725"
             ]
            ],
            "type": "contour"
           }
          ],
          "contourcarpet": [
           {
            "colorbar": {
             "outlinewidth": 1,
             "tickcolor": "rgb(36,36,36)",
             "ticks": "outside"
            },
            "type": "contourcarpet"
           }
          ],
          "heatmap": [
           {
            "colorbar": {
             "outlinewidth": 1,
             "tickcolor": "rgb(36,36,36)",
             "ticks": "outside"
            },
            "colorscale": [
             [
              0,
              "#440154"
             ],
             [
              0.1111111111111111,
              "#482878"
             ],
             [
              0.2222222222222222,
              "#3e4989"
             ],
             [
              0.3333333333333333,
              "#31688e"
             ],
             [
              0.4444444444444444,
              "#26828e"
             ],
             [
              0.5555555555555556,
              "#1f9e89"
             ],
             [
              0.6666666666666666,
              "#35b779"
             ],
             [
              0.7777777777777778,
              "#6ece58"
             ],
             [
              0.8888888888888888,
              "#b5de2b"
             ],
             [
              1,
              "#fde725"
             ]
            ],
            "type": "heatmap"
           }
          ],
          "heatmapgl": [
           {
            "colorbar": {
             "outlinewidth": 1,
             "tickcolor": "rgb(36,36,36)",
             "ticks": "outside"
            },
            "colorscale": [
             [
              0,
              "#440154"
             ],
             [
              0.1111111111111111,
              "#482878"
             ],
             [
              0.2222222222222222,
              "#3e4989"
             ],
             [
              0.3333333333333333,
              "#31688e"
             ],
             [
              0.4444444444444444,
              "#26828e"
             ],
             [
              0.5555555555555556,
              "#1f9e89"
             ],
             [
              0.6666666666666666,
              "#35b779"
             ],
             [
              0.7777777777777778,
              "#6ece58"
             ],
             [
              0.8888888888888888,
              "#b5de2b"
             ],
             [
              1,
              "#fde725"
             ]
            ],
            "type": "heatmapgl"
           }
          ],
          "histogram": [
           {
            "marker": {
             "line": {
              "color": "white",
              "width": 0.6
             }
            },
            "type": "histogram"
           }
          ],
          "histogram2d": [
           {
            "colorbar": {
             "outlinewidth": 1,
             "tickcolor": "rgb(36,36,36)",
             "ticks": "outside"
            },
            "colorscale": [
             [
              0,
              "#440154"
             ],
             [
              0.1111111111111111,
              "#482878"
             ],
             [
              0.2222222222222222,
              "#3e4989"
             ],
             [
              0.3333333333333333,
              "#31688e"
             ],
             [
              0.4444444444444444,
              "#26828e"
             ],
             [
              0.5555555555555556,
              "#1f9e89"
             ],
             [
              0.6666666666666666,
              "#35b779"
             ],
             [
              0.7777777777777778,
              "#6ece58"
             ],
             [
              0.8888888888888888,
              "#b5de2b"
             ],
             [
              1,
              "#fde725"
             ]
            ],
            "type": "histogram2d"
           }
          ],
          "histogram2dcontour": [
           {
            "colorbar": {
             "outlinewidth": 1,
             "tickcolor": "rgb(36,36,36)",
             "ticks": "outside"
            },
            "colorscale": [
             [
              0,
              "#440154"
             ],
             [
              0.1111111111111111,
              "#482878"
             ],
             [
              0.2222222222222222,
              "#3e4989"
             ],
             [
              0.3333333333333333,
              "#31688e"
             ],
             [
              0.4444444444444444,
              "#26828e"
             ],
             [
              0.5555555555555556,
              "#1f9e89"
             ],
             [
              0.6666666666666666,
              "#35b779"
             ],
             [
              0.7777777777777778,
              "#6ece58"
             ],
             [
              0.8888888888888888,
              "#b5de2b"
             ],
             [
              1,
              "#fde725"
             ]
            ],
            "type": "histogram2dcontour"
           }
          ],
          "mesh3d": [
           {
            "colorbar": {
             "outlinewidth": 1,
             "tickcolor": "rgb(36,36,36)",
             "ticks": "outside"
            },
            "type": "mesh3d"
           }
          ],
          "parcoords": [
           {
            "line": {
             "colorbar": {
              "outlinewidth": 1,
              "tickcolor": "rgb(36,36,36)",
              "ticks": "outside"
             }
            },
            "type": "parcoords"
           }
          ],
          "pie": [
           {
            "automargin": true,
            "type": "pie"
           }
          ],
          "scatter": [
           {
            "marker": {
             "colorbar": {
              "outlinewidth": 1,
              "tickcolor": "rgb(36,36,36)",
              "ticks": "outside"
             }
            },
            "type": "scatter"
           }
          ],
          "scatter3d": [
           {
            "line": {
             "colorbar": {
              "outlinewidth": 1,
              "tickcolor": "rgb(36,36,36)",
              "ticks": "outside"
             }
            },
            "marker": {
             "colorbar": {
              "outlinewidth": 1,
              "tickcolor": "rgb(36,36,36)",
              "ticks": "outside"
             }
            },
            "type": "scatter3d"
           }
          ],
          "scattercarpet": [
           {
            "marker": {
             "colorbar": {
              "outlinewidth": 1,
              "tickcolor": "rgb(36,36,36)",
              "ticks": "outside"
             }
            },
            "type": "scattercarpet"
           }
          ],
          "scattergeo": [
           {
            "marker": {
             "colorbar": {
              "outlinewidth": 1,
              "tickcolor": "rgb(36,36,36)",
              "ticks": "outside"
             }
            },
            "type": "scattergeo"
           }
          ],
          "scattergl": [
           {
            "marker": {
             "colorbar": {
              "outlinewidth": 1,
              "tickcolor": "rgb(36,36,36)",
              "ticks": "outside"
             }
            },
            "type": "scattergl"
           }
          ],
          "scattermapbox": [
           {
            "marker": {
             "colorbar": {
              "outlinewidth": 1,
              "tickcolor": "rgb(36,36,36)",
              "ticks": "outside"
             }
            },
            "type": "scattermapbox"
           }
          ],
          "scatterpolar": [
           {
            "marker": {
             "colorbar": {
              "outlinewidth": 1,
              "tickcolor": "rgb(36,36,36)",
              "ticks": "outside"
             }
            },
            "type": "scatterpolar"
           }
          ],
          "scatterpolargl": [
           {
            "marker": {
             "colorbar": {
              "outlinewidth": 1,
              "tickcolor": "rgb(36,36,36)",
              "ticks": "outside"
             }
            },
            "type": "scatterpolargl"
           }
          ],
          "scatterternary": [
           {
            "marker": {
             "colorbar": {
              "outlinewidth": 1,
              "tickcolor": "rgb(36,36,36)",
              "ticks": "outside"
             }
            },
            "type": "scatterternary"
           }
          ],
          "surface": [
           {
            "colorbar": {
             "outlinewidth": 1,
             "tickcolor": "rgb(36,36,36)",
             "ticks": "outside"
            },
            "colorscale": [
             [
              0,
              "#440154"
             ],
             [
              0.1111111111111111,
              "#482878"
             ],
             [
              0.2222222222222222,
              "#3e4989"
             ],
             [
              0.3333333333333333,
              "#31688e"
             ],
             [
              0.4444444444444444,
              "#26828e"
             ],
             [
              0.5555555555555556,
              "#1f9e89"
             ],
             [
              0.6666666666666666,
              "#35b779"
             ],
             [
              0.7777777777777778,
              "#6ece58"
             ],
             [
              0.8888888888888888,
              "#b5de2b"
             ],
             [
              1,
              "#fde725"
             ]
            ],
            "type": "surface"
           }
          ],
          "table": [
           {
            "cells": {
             "fill": {
              "color": "rgb(237,237,237)"
             },
             "line": {
              "color": "white"
             }
            },
            "header": {
             "fill": {
              "color": "rgb(217,217,217)"
             },
             "line": {
              "color": "white"
             }
            },
            "type": "table"
           }
          ]
         },
         "layout": {
          "annotationdefaults": {
           "arrowhead": 0,
           "arrowwidth": 1
          },
          "autotypenumbers": "strict",
          "coloraxis": {
           "colorbar": {
            "outlinewidth": 1,
            "tickcolor": "rgb(36,36,36)",
            "ticks": "outside"
           }
          },
          "colorscale": {
           "diverging": [
            [
             0,
             "rgb(103,0,31)"
            ],
            [
             0.1,
             "rgb(178,24,43)"
            ],
            [
             0.2,
             "rgb(214,96,77)"
            ],
            [
             0.3,
             "rgb(244,165,130)"
            ],
            [
             0.4,
             "rgb(253,219,199)"
            ],
            [
             0.5,
             "rgb(247,247,247)"
            ],
            [
             0.6,
             "rgb(209,229,240)"
            ],
            [
             0.7,
             "rgb(146,197,222)"
            ],
            [
             0.8,
             "rgb(67,147,195)"
            ],
            [
             0.9,
             "rgb(33,102,172)"
            ],
            [
             1,
             "rgb(5,48,97)"
            ]
           ],
           "sequential": [
            [
             0,
             "#440154"
            ],
            [
             0.1111111111111111,
             "#482878"
            ],
            [
             0.2222222222222222,
             "#3e4989"
            ],
            [
             0.3333333333333333,
             "#31688e"
            ],
            [
             0.4444444444444444,
             "#26828e"
            ],
            [
             0.5555555555555556,
             "#1f9e89"
            ],
            [
             0.6666666666666666,
             "#35b779"
            ],
            [
             0.7777777777777778,
             "#6ece58"
            ],
            [
             0.8888888888888888,
             "#b5de2b"
            ],
            [
             1,
             "#fde725"
            ]
           ],
           "sequentialminus": [
            [
             0,
             "#440154"
            ],
            [
             0.1111111111111111,
             "#482878"
            ],
            [
             0.2222222222222222,
             "#3e4989"
            ],
            [
             0.3333333333333333,
             "#31688e"
            ],
            [
             0.4444444444444444,
             "#26828e"
            ],
            [
             0.5555555555555556,
             "#1f9e89"
            ],
            [
             0.6666666666666666,
             "#35b779"
            ],
            [
             0.7777777777777778,
             "#6ece58"
            ],
            [
             0.8888888888888888,
             "#b5de2b"
            ],
            [
             1,
             "#fde725"
            ]
           ]
          },
          "colorway": [
           "#1F77B4",
           "#FF7F0E",
           "#2CA02C",
           "#D62728",
           "#9467BD",
           "#8C564B",
           "#E377C2",
           "#7F7F7F",
           "#BCBD22",
           "#17BECF"
          ],
          "font": {
           "color": "rgb(36,36,36)"
          },
          "geo": {
           "bgcolor": "white",
           "lakecolor": "white",
           "landcolor": "white",
           "showlakes": true,
           "showland": true,
           "subunitcolor": "white"
          },
          "hoverlabel": {
           "align": "left"
          },
          "hovermode": "closest",
          "mapbox": {
           "style": "light"
          },
          "paper_bgcolor": "white",
          "plot_bgcolor": "white",
          "polar": {
           "angularaxis": {
            "gridcolor": "rgb(232,232,232)",
            "linecolor": "rgb(36,36,36)",
            "showgrid": false,
            "showline": true,
            "ticks": "outside"
           },
           "bgcolor": "white",
           "radialaxis": {
            "gridcolor": "rgb(232,232,232)",
            "linecolor": "rgb(36,36,36)",
            "showgrid": false,
            "showline": true,
            "ticks": "outside"
           }
          },
          "scene": {
           "xaxis": {
            "backgroundcolor": "white",
            "gridcolor": "rgb(232,232,232)",
            "gridwidth": 2,
            "linecolor": "rgb(36,36,36)",
            "showbackground": true,
            "showgrid": false,
            "showline": true,
            "ticks": "outside",
            "zeroline": false,
            "zerolinecolor": "rgb(36,36,36)"
           },
           "yaxis": {
            "backgroundcolor": "white",
            "gridcolor": "rgb(232,232,232)",
            "gridwidth": 2,
            "linecolor": "rgb(36,36,36)",
            "showbackground": true,
            "showgrid": false,
            "showline": true,
            "ticks": "outside",
            "zeroline": false,
            "zerolinecolor": "rgb(36,36,36)"
           },
           "zaxis": {
            "backgroundcolor": "white",
            "gridcolor": "rgb(232,232,232)",
            "gridwidth": 2,
            "linecolor": "rgb(36,36,36)",
            "showbackground": true,
            "showgrid": false,
            "showline": true,
            "ticks": "outside",
            "zeroline": false,
            "zerolinecolor": "rgb(36,36,36)"
           }
          },
          "shapedefaults": {
           "fillcolor": "black",
           "line": {
            "width": 0
           },
           "opacity": 0.3
          },
          "ternary": {
           "aaxis": {
            "gridcolor": "rgb(232,232,232)",
            "linecolor": "rgb(36,36,36)",
            "showgrid": false,
            "showline": true,
            "ticks": "outside"
           },
           "baxis": {
            "gridcolor": "rgb(232,232,232)",
            "linecolor": "rgb(36,36,36)",
            "showgrid": false,
            "showline": true,
            "ticks": "outside"
           },
           "bgcolor": "white",
           "caxis": {
            "gridcolor": "rgb(232,232,232)",
            "linecolor": "rgb(36,36,36)",
            "showgrid": false,
            "showline": true,
            "ticks": "outside"
           }
          },
          "title": {
           "x": 0.05
          },
          "xaxis": {
           "automargin": true,
           "gridcolor": "rgb(232,232,232)",
           "linecolor": "rgb(36,36,36)",
           "showgrid": false,
           "showline": true,
           "ticks": "outside",
           "title": {
            "standoff": 15
           },
           "zeroline": false,
           "zerolinecolor": "rgb(36,36,36)"
          },
          "yaxis": {
           "automargin": true,
           "gridcolor": "rgb(232,232,232)",
           "linecolor": "rgb(36,36,36)",
           "showgrid": false,
           "showline": true,
           "ticks": "outside",
           "title": {
            "standoff": 15
           },
           "zeroline": false,
           "zerolinecolor": "rgb(36,36,36)"
          }
         }
        },
        "title": {
         "text": "Top 5 Commodities in Sales and Quantity"
        },
        "width": 800,
        "xaxis": {
         "anchor": "y",
         "domain": [
          0,
          0.45
         ]
        },
        "xaxis2": {
         "anchor": "y2",
         "domain": [
          0.55,
          1
         ]
        },
        "yaxis": {
         "anchor": "x",
         "domain": [
          0,
          1
         ]
        },
        "yaxis2": {
         "anchor": "x2",
         "domain": [
          0,
          1
         ]
        }
       }
      },
      "text/html": [
       "<div>                            <div id=\"922fa5db-b4d6-40cb-9c1a-26c26b723fac\" class=\"plotly-graph-div\" style=\"height:600px; width:800px;\"></div>            <script type=\"text/javascript\">                require([\"plotly\"], function(Plotly) {                    window.PLOTLYENV=window.PLOTLYENV || {};                                    if (document.getElementById(\"922fa5db-b4d6-40cb-9c1a-26c26b723fac\")) {                    Plotly.newPlot(                        \"922fa5db-b4d6-40cb-9c1a-26c26b723fac\",                        [{\"name\": \"Sales $\", \"type\": \"bar\", \"x\": [\"SOFT DRINKS\", \"BEEF\", \"FLUID MILK PRODUCTS\", \"CHEESE\", \"BEERS/ALES\"], \"xaxis\": \"x\", \"y\": [22295.209999999995, 21298.489999999994, 11476.070000000002, 11016.969999999996, 10497.360000000002], \"yaxis\": \"y\"}, {\"name\": \"Quantity\", \"type\": \"bar\", \"x\": [\"SOFT DRINKS\", \"FLUID MILK PRODUCTS\", \"BAKED BREAD/BUNS/ROLLS\", \"BAG SNACKS\", \"CHEESE\"], \"xaxis\": \"x2\", \"y\": [10734, 6731, 6162, 5220, 5197], \"yaxis\": \"y2\"}],                        {\"annotations\": [{\"font\": {\"size\": 16}, \"showarrow\": false, \"text\": \"Sales $\", \"x\": 0.225, \"xanchor\": \"center\", \"xref\": \"paper\", \"y\": 1.0, \"yanchor\": \"bottom\", \"yref\": \"paper\"}, {\"font\": {\"size\": 16}, \"showarrow\": false, \"text\": \"Quantity\", \"x\": 0.775, \"xanchor\": \"center\", \"xref\": \"paper\", \"y\": 1.0, \"yanchor\": \"bottom\", \"yref\": \"paper\"}], \"height\": 600, \"template\": {\"data\": {\"bar\": [{\"error_x\": {\"color\": \"rgb(36,36,36)\"}, \"error_y\": {\"color\": \"rgb(36,36,36)\"}, \"marker\": {\"line\": {\"color\": \"white\", \"width\": 0.5}}, \"type\": \"bar\"}], \"barpolar\": [{\"marker\": {\"line\": {\"color\": \"white\", \"width\": 0.5}}, \"type\": \"barpolar\"}], \"carpet\": [{\"aaxis\": {\"endlinecolor\": \"rgb(36,36,36)\", \"gridcolor\": \"white\", \"linecolor\": \"white\", \"minorgridcolor\": \"white\", \"startlinecolor\": \"rgb(36,36,36)\"}, \"baxis\": {\"endlinecolor\": \"rgb(36,36,36)\", \"gridcolor\": \"white\", \"linecolor\": \"white\", \"minorgridcolor\": \"white\", \"startlinecolor\": \"rgb(36,36,36)\"}, \"type\": \"carpet\"}], \"choropleth\": [{\"colorbar\": {\"outlinewidth\": 1, \"tickcolor\": \"rgb(36,36,36)\", \"ticks\": \"outside\"}, \"type\": \"choropleth\"}], \"contour\": [{\"colorbar\": {\"outlinewidth\": 1, \"tickcolor\": \"rgb(36,36,36)\", \"ticks\": \"outside\"}, \"colorscale\": [[0.0, \"#440154\"], [0.1111111111111111, \"#482878\"], [0.2222222222222222, \"#3e4989\"], [0.3333333333333333, \"#31688e\"], [0.4444444444444444, \"#26828e\"], [0.5555555555555556, \"#1f9e89\"], [0.6666666666666666, \"#35b779\"], [0.7777777777777778, \"#6ece58\"], [0.8888888888888888, \"#b5de2b\"], [1.0, \"#fde725\"]], \"type\": \"contour\"}], \"contourcarpet\": [{\"colorbar\": {\"outlinewidth\": 1, \"tickcolor\": \"rgb(36,36,36)\", \"ticks\": \"outside\"}, \"type\": \"contourcarpet\"}], \"heatmap\": [{\"colorbar\": {\"outlinewidth\": 1, \"tickcolor\": \"rgb(36,36,36)\", \"ticks\": \"outside\"}, \"colorscale\": [[0.0, \"#440154\"], [0.1111111111111111, \"#482878\"], [0.2222222222222222, \"#3e4989\"], [0.3333333333333333, \"#31688e\"], [0.4444444444444444, \"#26828e\"], [0.5555555555555556, \"#1f9e89\"], [0.6666666666666666, \"#35b779\"], [0.7777777777777778, \"#6ece58\"], [0.8888888888888888, \"#b5de2b\"], [1.0, \"#fde725\"]], \"type\": \"heatmap\"}], \"heatmapgl\": [{\"colorbar\": {\"outlinewidth\": 1, \"tickcolor\": \"rgb(36,36,36)\", \"ticks\": \"outside\"}, \"colorscale\": [[0.0, \"#440154\"], [0.1111111111111111, \"#482878\"], [0.2222222222222222, \"#3e4989\"], [0.3333333333333333, \"#31688e\"], [0.4444444444444444, \"#26828e\"], [0.5555555555555556, \"#1f9e89\"], [0.6666666666666666, \"#35b779\"], [0.7777777777777778, \"#6ece58\"], [0.8888888888888888, \"#b5de2b\"], [1.0, \"#fde725\"]], \"type\": \"heatmapgl\"}], \"histogram\": [{\"marker\": {\"line\": {\"color\": \"white\", \"width\": 0.6}}, \"type\": \"histogram\"}], \"histogram2d\": [{\"colorbar\": {\"outlinewidth\": 1, \"tickcolor\": \"rgb(36,36,36)\", \"ticks\": \"outside\"}, \"colorscale\": [[0.0, \"#440154\"], [0.1111111111111111, \"#482878\"], [0.2222222222222222, \"#3e4989\"], [0.3333333333333333, \"#31688e\"], [0.4444444444444444, \"#26828e\"], [0.5555555555555556, \"#1f9e89\"], [0.6666666666666666, \"#35b779\"], [0.7777777777777778, \"#6ece58\"], [0.8888888888888888, \"#b5de2b\"], [1.0, \"#fde725\"]], \"type\": \"histogram2d\"}], \"histogram2dcontour\": [{\"colorbar\": {\"outlinewidth\": 1, \"tickcolor\": \"rgb(36,36,36)\", \"ticks\": \"outside\"}, \"colorscale\": [[0.0, \"#440154\"], [0.1111111111111111, \"#482878\"], [0.2222222222222222, \"#3e4989\"], [0.3333333333333333, \"#31688e\"], [0.4444444444444444, \"#26828e\"], [0.5555555555555556, \"#1f9e89\"], [0.6666666666666666, \"#35b779\"], [0.7777777777777778, \"#6ece58\"], [0.8888888888888888, \"#b5de2b\"], [1.0, \"#fde725\"]], \"type\": \"histogram2dcontour\"}], \"mesh3d\": [{\"colorbar\": {\"outlinewidth\": 1, \"tickcolor\": \"rgb(36,36,36)\", \"ticks\": \"outside\"}, \"type\": \"mesh3d\"}], \"parcoords\": [{\"line\": {\"colorbar\": {\"outlinewidth\": 1, \"tickcolor\": \"rgb(36,36,36)\", \"ticks\": \"outside\"}}, \"type\": \"parcoords\"}], \"pie\": [{\"automargin\": true, \"type\": \"pie\"}], \"scatter\": [{\"marker\": {\"colorbar\": {\"outlinewidth\": 1, \"tickcolor\": \"rgb(36,36,36)\", \"ticks\": \"outside\"}}, \"type\": \"scatter\"}], \"scatter3d\": [{\"line\": {\"colorbar\": {\"outlinewidth\": 1, \"tickcolor\": \"rgb(36,36,36)\", \"ticks\": \"outside\"}}, \"marker\": {\"colorbar\": {\"outlinewidth\": 1, \"tickcolor\": \"rgb(36,36,36)\", \"ticks\": \"outside\"}}, \"type\": \"scatter3d\"}], \"scattercarpet\": [{\"marker\": {\"colorbar\": {\"outlinewidth\": 1, \"tickcolor\": \"rgb(36,36,36)\", \"ticks\": \"outside\"}}, \"type\": \"scattercarpet\"}], \"scattergeo\": [{\"marker\": {\"colorbar\": {\"outlinewidth\": 1, \"tickcolor\": \"rgb(36,36,36)\", \"ticks\": \"outside\"}}, \"type\": \"scattergeo\"}], \"scattergl\": [{\"marker\": {\"colorbar\": {\"outlinewidth\": 1, \"tickcolor\": \"rgb(36,36,36)\", \"ticks\": \"outside\"}}, \"type\": \"scattergl\"}], \"scattermapbox\": [{\"marker\": {\"colorbar\": {\"outlinewidth\": 1, \"tickcolor\": \"rgb(36,36,36)\", \"ticks\": \"outside\"}}, \"type\": \"scattermapbox\"}], \"scatterpolar\": [{\"marker\": {\"colorbar\": {\"outlinewidth\": 1, \"tickcolor\": \"rgb(36,36,36)\", \"ticks\": \"outside\"}}, \"type\": \"scatterpolar\"}], \"scatterpolargl\": [{\"marker\": {\"colorbar\": {\"outlinewidth\": 1, \"tickcolor\": \"rgb(36,36,36)\", \"ticks\": \"outside\"}}, \"type\": \"scatterpolargl\"}], \"scatterternary\": [{\"marker\": {\"colorbar\": {\"outlinewidth\": 1, \"tickcolor\": \"rgb(36,36,36)\", \"ticks\": \"outside\"}}, \"type\": \"scatterternary\"}], \"surface\": [{\"colorbar\": {\"outlinewidth\": 1, \"tickcolor\": \"rgb(36,36,36)\", \"ticks\": \"outside\"}, \"colorscale\": [[0.0, \"#440154\"], [0.1111111111111111, \"#482878\"], [0.2222222222222222, \"#3e4989\"], [0.3333333333333333, \"#31688e\"], [0.4444444444444444, \"#26828e\"], [0.5555555555555556, \"#1f9e89\"], [0.6666666666666666, \"#35b779\"], [0.7777777777777778, \"#6ece58\"], [0.8888888888888888, \"#b5de2b\"], [1.0, \"#fde725\"]], \"type\": \"surface\"}], \"table\": [{\"cells\": {\"fill\": {\"color\": \"rgb(237,237,237)\"}, \"line\": {\"color\": \"white\"}}, \"header\": {\"fill\": {\"color\": \"rgb(217,217,217)\"}, \"line\": {\"color\": \"white\"}}, \"type\": \"table\"}]}, \"layout\": {\"annotationdefaults\": {\"arrowhead\": 0, \"arrowwidth\": 1}, \"autotypenumbers\": \"strict\", \"coloraxis\": {\"colorbar\": {\"outlinewidth\": 1, \"tickcolor\": \"rgb(36,36,36)\", \"ticks\": \"outside\"}}, \"colorscale\": {\"diverging\": [[0.0, \"rgb(103,0,31)\"], [0.1, \"rgb(178,24,43)\"], [0.2, \"rgb(214,96,77)\"], [0.3, \"rgb(244,165,130)\"], [0.4, \"rgb(253,219,199)\"], [0.5, \"rgb(247,247,247)\"], [0.6, \"rgb(209,229,240)\"], [0.7, \"rgb(146,197,222)\"], [0.8, \"rgb(67,147,195)\"], [0.9, \"rgb(33,102,172)\"], [1.0, \"rgb(5,48,97)\"]], \"sequential\": [[0.0, \"#440154\"], [0.1111111111111111, \"#482878\"], [0.2222222222222222, \"#3e4989\"], [0.3333333333333333, \"#31688e\"], [0.4444444444444444, \"#26828e\"], [0.5555555555555556, \"#1f9e89\"], [0.6666666666666666, \"#35b779\"], [0.7777777777777778, \"#6ece58\"], [0.8888888888888888, \"#b5de2b\"], [1.0, \"#fde725\"]], \"sequentialminus\": [[0.0, \"#440154\"], [0.1111111111111111, \"#482878\"], [0.2222222222222222, \"#3e4989\"], [0.3333333333333333, \"#31688e\"], [0.4444444444444444, \"#26828e\"], [0.5555555555555556, \"#1f9e89\"], [0.6666666666666666, \"#35b779\"], [0.7777777777777778, \"#6ece58\"], [0.8888888888888888, \"#b5de2b\"], [1.0, \"#fde725\"]]}, \"colorway\": [\"#1F77B4\", \"#FF7F0E\", \"#2CA02C\", \"#D62728\", \"#9467BD\", \"#8C564B\", \"#E377C2\", \"#7F7F7F\", \"#BCBD22\", \"#17BECF\"], \"font\": {\"color\": \"rgb(36,36,36)\"}, \"geo\": {\"bgcolor\": \"white\", \"lakecolor\": \"white\", \"landcolor\": \"white\", \"showlakes\": true, \"showland\": true, \"subunitcolor\": \"white\"}, \"hoverlabel\": {\"align\": \"left\"}, \"hovermode\": \"closest\", \"mapbox\": {\"style\": \"light\"}, \"paper_bgcolor\": \"white\", \"plot_bgcolor\": \"white\", \"polar\": {\"angularaxis\": {\"gridcolor\": \"rgb(232,232,232)\", \"linecolor\": \"rgb(36,36,36)\", \"showgrid\": false, \"showline\": true, \"ticks\": \"outside\"}, \"bgcolor\": \"white\", \"radialaxis\": {\"gridcolor\": \"rgb(232,232,232)\", \"linecolor\": \"rgb(36,36,36)\", \"showgrid\": false, \"showline\": true, \"ticks\": \"outside\"}}, \"scene\": {\"xaxis\": {\"backgroundcolor\": \"white\", \"gridcolor\": \"rgb(232,232,232)\", \"gridwidth\": 2, \"linecolor\": \"rgb(36,36,36)\", \"showbackground\": true, \"showgrid\": false, \"showline\": true, \"ticks\": \"outside\", \"zeroline\": false, \"zerolinecolor\": \"rgb(36,36,36)\"}, \"yaxis\": {\"backgroundcolor\": \"white\", \"gridcolor\": \"rgb(232,232,232)\", \"gridwidth\": 2, \"linecolor\": \"rgb(36,36,36)\", \"showbackground\": true, \"showgrid\": false, \"showline\": true, \"ticks\": \"outside\", \"zeroline\": false, \"zerolinecolor\": \"rgb(36,36,36)\"}, \"zaxis\": {\"backgroundcolor\": \"white\", \"gridcolor\": \"rgb(232,232,232)\", \"gridwidth\": 2, \"linecolor\": \"rgb(36,36,36)\", \"showbackground\": true, \"showgrid\": false, \"showline\": true, \"ticks\": \"outside\", \"zeroline\": false, \"zerolinecolor\": \"rgb(36,36,36)\"}}, \"shapedefaults\": {\"fillcolor\": \"black\", \"line\": {\"width\": 0}, \"opacity\": 0.3}, \"ternary\": {\"aaxis\": {\"gridcolor\": \"rgb(232,232,232)\", \"linecolor\": \"rgb(36,36,36)\", \"showgrid\": false, \"showline\": true, \"ticks\": \"outside\"}, \"baxis\": {\"gridcolor\": \"rgb(232,232,232)\", \"linecolor\": \"rgb(36,36,36)\", \"showgrid\": false, \"showline\": true, \"ticks\": \"outside\"}, \"bgcolor\": \"white\", \"caxis\": {\"gridcolor\": \"rgb(232,232,232)\", \"linecolor\": \"rgb(36,36,36)\", \"showgrid\": false, \"showline\": true, \"ticks\": \"outside\"}}, \"title\": {\"x\": 0.05}, \"xaxis\": {\"automargin\": true, \"gridcolor\": \"rgb(232,232,232)\", \"linecolor\": \"rgb(36,36,36)\", \"showgrid\": false, \"showline\": true, \"ticks\": \"outside\", \"title\": {\"standoff\": 15}, \"zeroline\": false, \"zerolinecolor\": \"rgb(36,36,36)\"}, \"yaxis\": {\"automargin\": true, \"gridcolor\": \"rgb(232,232,232)\", \"linecolor\": \"rgb(36,36,36)\", \"showgrid\": false, \"showline\": true, \"ticks\": \"outside\", \"title\": {\"standoff\": 15}, \"zeroline\": false, \"zerolinecolor\": \"rgb(36,36,36)\"}}}, \"title\": {\"text\": \"Top 5 Commodities in Sales and Quantity\"}, \"width\": 800, \"xaxis\": {\"anchor\": \"y\", \"domain\": [0.0, 0.45]}, \"xaxis2\": {\"anchor\": \"y2\", \"domain\": [0.55, 1.0]}, \"yaxis\": {\"anchor\": \"x\", \"domain\": [0.0, 1.0]}, \"yaxis2\": {\"anchor\": \"x2\", \"domain\": [0.0, 1.0]}},                        {\"responsive\": true}                    ).then(function(){\n",
       "                            \n",
       "var gd = document.getElementById('922fa5db-b4d6-40cb-9c1a-26c26b723fac');\n",
       "var x = new MutationObserver(function (mutations, observer) {{\n",
       "        var display = window.getComputedStyle(gd).display;\n",
       "        if (!display || display === 'none') {{\n",
       "            console.log([gd, 'removed!']);\n",
       "            Plotly.purge(gd);\n",
       "            observer.disconnect();\n",
       "        }}\n",
       "}});\n",
       "\n",
       "// Listen for the removal of the full notebook cells\n",
       "var notebookContainer = gd.closest('#notebook-container');\n",
       "if (notebookContainer) {{\n",
       "    x.observe(notebookContainer, {childList: true});\n",
       "}}\n",
       "\n",
       "// Listen for the clearing of the current output cell\n",
       "var outputEl = gd.closest('.output');\n",
       "if (outputEl) {{\n",
       "    x.observe(outputEl, {childList: true});\n",
       "}}\n",
       "\n",
       "                        })                };                });            </script>        </div>"
      ]
     },
     "metadata": {},
     "output_type": "display_data"
    }
   ],
   "source": [
    "# Add the 2 traces\n",
    "trace1 = go.Bar(\n",
    "            x = df_top5.COMMODITY_DESC,\n",
    "            y = df_top5.SALES_VALUE,\n",
    "            name = 'Sales $')\n",
    "\n",
    "trace2 = go.Bar(\n",
    "            x = df_top5_quantity.COMMODITY_DESC,\n",
    "            y = df_top5_quantity.QUANTITY,\n",
    "            name = 'Quantity')\n",
    "\n",
    "# Set-up subplots\n",
    "fig = make_subplots(rows=1, cols=2, subplot_titles=(\"Sales $\", \"Quantity\"))\n",
    "\n",
    "fig.add_trace(\n",
    "    trace1,\n",
    "    row=1, col=1\n",
    ")\n",
    "\n",
    "fig.add_trace(\n",
    "    trace2,\n",
    "    row=1, col=2\n",
    ")\n",
    "\n",
    "fig.update_layout(height=600, width=800, template = 'simple_white', title_text=\"Top 5 Commodities in Sales and Quantity\")\n",
    "\n",
    "fig.show()"
   ]
  },
  {
   "cell_type": "markdown",
   "metadata": {},
   "source": [
    "### Chart 3: Line Charts, Daily Sales for the Top 5 Commodities"
   ]
  },
  {
   "cell_type": "code",
   "execution_count": 52,
   "metadata": {},
   "outputs": [
    {
     "data": {
      "application/vnd.plotly.v1+json": {
       "config": {
        "plotlyServerURL": "https://plot.ly"
       },
       "data": [
        {
         "hovertemplate": "COMMODITY_DESC=BEEF<br>DAY=%{x}<br>SALES_VALUE=%{y}<extra></extra>",
         "legendgroup": "BEEF",
         "line": {
          "color": "#1F77B4",
          "dash": "solid"
         },
         "mode": "lines",
         "name": "BEEF",
         "orientation": "v",
         "showlegend": true,
         "type": "scatter",
         "x": [
          1,
          2,
          3,
          4,
          5,
          6,
          7,
          8,
          9,
          10,
          11,
          12,
          13,
          14,
          15,
          16,
          17,
          18,
          19,
          20,
          21,
          22,
          23,
          24,
          25,
          26,
          27,
          28,
          29,
          30,
          31,
          32,
          33,
          34,
          35,
          36,
          37,
          38,
          39,
          40,
          41,
          42,
          43,
          44,
          45,
          46,
          47,
          48,
          49,
          50,
          51,
          52,
          53,
          54,
          55,
          56,
          57,
          58,
          59,
          60,
          61,
          62,
          63,
          64,
          65,
          66,
          67,
          68,
          69,
          70,
          71,
          72,
          73,
          74,
          75,
          76,
          77,
          78,
          79,
          80,
          81,
          82,
          83,
          84,
          85,
          86,
          87,
          88,
          89,
          90,
          91,
          92,
          93,
          94,
          95,
          96,
          97,
          98,
          99
         ],
         "xaxis": "x",
         "y": [
          3.09,
          9.44,
          54.44,
          84.71999999999998,
          36.07,
          64.08,
          15.72,
          37.550000000000004,
          28.33,
          18.35,
          133.41999999999996,
          107.28000000000002,
          69.66,
          81.71000000000001,
          69.79,
          56.69,
          83.38000000000001,
          121.71000000000002,
          73.05000000000001,
          70.30000000000001,
          136.86,
          68.09,
          37.46,
          95.36000000000001,
          196.81000000000003,
          142.64,
          72.73,
          115.47999999999999,
          125.34,
          149.29,
          126.96000000000001,
          124.74999999999999,
          205.98000000000002,
          102.24000000000001,
          106.53,
          352.46999999999997,
          77.86000000000001,
          182.47000000000003,
          217.33000000000004,
          258.44,
          168.76999999999998,
          143.27,
          112.17,
          366.71000000000004,
          179.48000000000002,
          309.3999999999999,
          263.94000000000005,
          186.80999999999997,
          147.11999999999998,
          190.48999999999998,
          184.80999999999997,
          246.45999999999998,
          240.49999999999997,
          212.83,
          145.08,
          93.19000000000001,
          164.28000000000003,
          225.11,
          137.19000000000003,
          393.6200000000001,
          244.02000000000004,
          152.65,
          255.50000000000003,
          111.64999999999999,
          339.57000000000005,
          455.68,
          635.87,
          292.16,
          586.2900000000002,
          223.09,
          245.02999999999997,
          321.83000000000004,
          244.82999999999998,
          477.11999999999983,
          391.5,
          344.56,
          319.34,
          269.53,
          227.28,
          262.88,
          351.2899999999999,
          488.28999999999985,
          298.4699999999999,
          232.58000000000004,
          342.82000000000005,
          335.50999999999993,
          354.83000000000004,
          374.65999999999997,
          410.57999999999987,
          360.35,
          276.54,
          351.67,
          241.78,
          338.1000000000001,
          524.4999999999999,
          577.6200000000003,
          217.39000000000001,
          227.48999999999998,
          368.54
         ],
         "yaxis": "y"
        },
        {
         "hovertemplate": "COMMODITY_DESC=BEERS/ALES<br>DAY=%{x}<br>SALES_VALUE=%{y}<extra></extra>",
         "legendgroup": "BEERS/ALES",
         "line": {
          "color": "#FF7F0E",
          "dash": "solid"
         },
         "mode": "lines",
         "name": "BEERS/ALES",
         "orientation": "v",
         "showlegend": true,
         "type": "scatter",
         "x": [
          2,
          3,
          4,
          5,
          6,
          7,
          8,
          9,
          10,
          11,
          12,
          14,
          15,
          16,
          17,
          18,
          19,
          20,
          21,
          22,
          23,
          24,
          25,
          26,
          27,
          28,
          29,
          30,
          31,
          32,
          33,
          34,
          35,
          36,
          37,
          38,
          39,
          40,
          41,
          42,
          43,
          44,
          45,
          46,
          47,
          48,
          49,
          50,
          51,
          52,
          53,
          54,
          55,
          56,
          57,
          58,
          59,
          60,
          61,
          62,
          63,
          64,
          65,
          66,
          67,
          68,
          69,
          70,
          71,
          72,
          73,
          74,
          75,
          76,
          77,
          78,
          79,
          80,
          81,
          82,
          83,
          84,
          85,
          86,
          87,
          88,
          89,
          90,
          91,
          92,
          93,
          94,
          95,
          96,
          97,
          98,
          99
         ],
         "xaxis": "x",
         "y": [
          7.99,
          58.93000000000001,
          27.97,
          25.270000000000003,
          14.780000000000001,
          9.99,
          10.48,
          20.759999999999998,
          25.97,
          50.129999999999995,
          14.48,
          12.68,
          34.27,
          29.46,
          50.95,
          47.95,
          74.50000000000001,
          37.47,
          24.97,
          34.45,
          27.47,
          22.47,
          117.35999999999999,
          33.65,
          66.22,
          33.35,
          49.53,
          46.95,
          29.47,
          115.63,
          28.85,
          56.720000000000006,
          56.43000000000001,
          99.67999999999996,
          56.940000000000005,
          79.78,
          60.440000000000005,
          71.41000000000001,
          38.96,
          56.900000000000006,
          51.45,
          74.97000000000001,
          90.97999999999998,
          95.69,
          142.35,
          86.52,
          61.620000000000005,
          63.410000000000004,
          96.82999999999998,
          155.21000000000004,
          115.16,
          183.83999999999997,
          56.940000000000005,
          58.40000000000001,
          152.3,
          54.70000000000001,
          92.65999999999998,
          129.51999999999998,
          115.53999999999999,
          89.49,
          55.77,
          113.37999999999998,
          106.14999999999998,
          300.35000000000014,
          338.2400000000001,
          166.19000000000003,
          173.70000000000002,
          108.03999999999999,
          119.00999999999998,
          109.96999999999998,
          159.38,
          314.15000000000015,
          169.92999999999998,
          117.11999999999998,
          90.33999999999997,
          127.60999999999999,
          160.25000000000003,
          296.67,
          255.73000000000005,
          234.44000000000005,
          62.300000000000004,
          133.74999999999997,
          100.10999999999999,
          167.8,
          305.33000000000004,
          277.14000000000016,
          232.99000000000007,
          173.04000000000005,
          142.51,
          145.90999999999997,
          184.81000000000006,
          199.92000000000002,
          429.15000000000015,
          153.36,
          257.72999999999996,
          145.11,
          140.74
         ],
         "yaxis": "y"
        },
        {
         "hovertemplate": "COMMODITY_DESC=CHEESE<br>DAY=%{x}<br>SALES_VALUE=%{y}<extra></extra>",
         "legendgroup": "CHEESE",
         "line": {
          "color": "#2CA02C",
          "dash": "solid"
         },
         "mode": "lines",
         "name": "CHEESE",
         "orientation": "v",
         "showlegend": true,
         "type": "scatter",
         "x": [
          1,
          2,
          3,
          4,
          5,
          6,
          7,
          8,
          9,
          10,
          11,
          12,
          13,
          14,
          15,
          16,
          17,
          18,
          19,
          20,
          21,
          22,
          23,
          24,
          25,
          26,
          27,
          28,
          29,
          30,
          31,
          32,
          33,
          34,
          35,
          36,
          37,
          38,
          39,
          40,
          41,
          42,
          43,
          44,
          45,
          46,
          47,
          48,
          49,
          50,
          51,
          52,
          53,
          54,
          55,
          56,
          57,
          58,
          59,
          60,
          61,
          62,
          63,
          64,
          65,
          66,
          67,
          68,
          69,
          70,
          71,
          72,
          73,
          74,
          75,
          76,
          77,
          78,
          79,
          80,
          81,
          82,
          83,
          84,
          85,
          86,
          87,
          88,
          89,
          90,
          91,
          92,
          93,
          94,
          95,
          96,
          97,
          98,
          99
         ],
         "xaxis": "x",
         "y": [
          3.98,
          6.83,
          38.72,
          49.36000000000001,
          15.030000000000001,
          18.38,
          32.34,
          31.66,
          24.840000000000003,
          31.420000000000005,
          55.990000000000016,
          47.23000000000001,
          54.38000000000001,
          68.00000000000001,
          36.39000000000001,
          51.44000000000001,
          64.38,
          41.1,
          58.32,
          27.18,
          64.34000000000002,
          24.860000000000003,
          39.05,
          55.56,
          66.18,
          47.64000000000001,
          58.24,
          38.720000000000006,
          78.81,
          82.92999999999999,
          87.27999999999999,
          77.5,
          93.33,
          90.22000000000001,
          78.83000000000001,
          118.69999999999996,
          70.38000000000001,
          58.09000000000002,
          165.23999999999992,
          130.60999999999999,
          102.02999999999999,
          67.85000000000001,
          81.30000000000001,
          65.87,
          75.39999999999999,
          95.27000000000004,
          99.16000000000003,
          111.01,
          114.08000000000003,
          98.43000000000002,
          94.97000000000003,
          122.47000000000001,
          128.54000000000002,
          115.87,
          113.70999999999998,
          91.04999999999998,
          67.66999999999999,
          142.25000000000003,
          126.66999999999994,
          147.38000000000002,
          133.97,
          142.21000000000004,
          112.75000000000001,
          90.78,
          162.21999999999997,
          130.31,
          215.96999999999983,
          194.14999999999992,
          146.69000000000003,
          127.18999999999998,
          181.33999999999997,
          147.27999999999997,
          124.32999999999997,
          162.73,
          207.82,
          163.37999999999994,
          164.49999999999994,
          126.83999999999997,
          125.35999999999999,
          236.26000000000005,
          203.86,
          199.41000000000003,
          198.98,
          164.43999999999997,
          145.40999999999997,
          169.15,
          207.21999999999994,
          209.30999999999995,
          220.81000000000006,
          178.14999999999992,
          196.8,
          188.62,
          183.23999999999987,
          181.62000000000003,
          212.97999999999988,
          248.45000000000007,
          90.47000000000001,
          151.36000000000004,
          226.15000000000012
         ],
         "yaxis": "y"
        },
        {
         "hovertemplate": "COMMODITY_DESC=FLUID MILK PRODUCTS<br>DAY=%{x}<br>SALES_VALUE=%{y}<extra></extra>",
         "legendgroup": "FLUID MILK PRODUCTS",
         "line": {
          "color": "#D62728",
          "dash": "solid"
         },
         "mode": "lines",
         "name": "FLUID MILK PRODUCTS",
         "orientation": "v",
         "showlegend": true,
         "type": "scatter",
         "x": [
          1,
          2,
          3,
          4,
          5,
          6,
          7,
          8,
          9,
          10,
          11,
          12,
          13,
          14,
          15,
          16,
          17,
          18,
          19,
          20,
          21,
          22,
          23,
          24,
          25,
          26,
          27,
          28,
          29,
          30,
          31,
          32,
          33,
          34,
          35,
          36,
          37,
          38,
          39,
          40,
          41,
          42,
          43,
          44,
          45,
          46,
          47,
          48,
          49,
          50,
          51,
          52,
          53,
          54,
          55,
          56,
          57,
          58,
          59,
          60,
          61,
          62,
          63,
          64,
          65,
          66,
          67,
          68,
          69,
          70,
          71,
          72,
          73,
          74,
          75,
          76,
          77,
          78,
          79,
          80,
          81,
          82,
          83,
          84,
          85,
          86,
          87,
          88,
          89,
          90,
          91,
          92,
          93,
          94,
          95,
          96,
          97,
          98,
          99
         ],
         "xaxis": "x",
         "y": [
          2.66,
          17.96,
          32.11000000000001,
          44.33,
          20.51,
          28.63,
          33.08,
          31.619999999999997,
          41.209999999999994,
          37.400000000000006,
          68.86,
          52.190000000000005,
          32.260000000000005,
          65.69999999999999,
          21.36,
          50.49,
          65.44,
          66.71,
          70.7,
          30.95,
          54.300000000000004,
          59.93000000000001,
          41.04000000000001,
          38.290000000000006,
          65.43,
          67.05000000000001,
          70.26000000000002,
          37.029999999999994,
          76.51000000000002,
          114.86000000000004,
          68.61000000000001,
          90.47,
          104.00000000000001,
          59.68000000000001,
          75.17000000000002,
          98.93,
          51.14000000000001,
          85.30000000000001,
          113.60000000000001,
          118.58999999999999,
          114.40000000000002,
          95.84,
          88.99000000000001,
          74.50000000000001,
          71.69,
          106.52,
          154.69,
          83.08,
          68.19000000000003,
          101.85000000000002,
          94.94999999999999,
          69.47000000000001,
          132.04999999999993,
          109.94999999999996,
          139.60999999999999,
          105.26000000000002,
          99.18,
          105.35,
          132.82000000000002,
          162.85,
          167.07999999999998,
          73.22,
          115.96999999999996,
          95.65999999999997,
          139.9,
          120.68999999999993,
          169.68999999999997,
          168.8099999999999,
          196.06999999999996,
          101.31000000000002,
          160.26000000000002,
          159.56000000000006,
          141.56000000000003,
          198.18,
          200.39,
          147.23999999999992,
          176.3399999999999,
          125.49999999999997,
          129.48999999999998,
          166.22999999999993,
          223.14000000000004,
          228.85999999999996,
          173.50999999999996,
          221.39999999999998,
          193.43,
          185.6,
          249.78999999999994,
          217.23999999999995,
          261.4199999999999,
          201.44999999999987,
          219.58999999999992,
          222.36999999999998,
          159.13000000000002,
          238.78999999999996,
          254.2899999999999,
          305.17999999999995,
          179.00999999999988,
          170.77999999999994,
          202.34000000000006
         ],
         "yaxis": "y"
        },
        {
         "hovertemplate": "COMMODITY_DESC=SOFT DRINKS<br>DAY=%{x}<br>SALES_VALUE=%{y}<extra></extra>",
         "legendgroup": "SOFT DRINKS",
         "line": {
          "color": "#9467BD",
          "dash": "solid"
         },
         "mode": "lines",
         "name": "SOFT DRINKS",
         "orientation": "v",
         "showlegend": true,
         "type": "scatter",
         "x": [
          1,
          2,
          3,
          4,
          5,
          6,
          7,
          8,
          9,
          10,
          11,
          12,
          13,
          14,
          15,
          16,
          17,
          18,
          19,
          20,
          21,
          22,
          23,
          24,
          25,
          26,
          27,
          28,
          29,
          30,
          31,
          32,
          33,
          34,
          35,
          36,
          37,
          38,
          39,
          40,
          41,
          42,
          43,
          44,
          45,
          46,
          47,
          48,
          49,
          50,
          51,
          52,
          53,
          54,
          55,
          56,
          57,
          58,
          59,
          60,
          61,
          62,
          63,
          64,
          65,
          66,
          67,
          68,
          69,
          70,
          71,
          72,
          73,
          74,
          75,
          76,
          77,
          78,
          79,
          80,
          81,
          82,
          83,
          84,
          85,
          86,
          87,
          88,
          89,
          90,
          91,
          92,
          93,
          94,
          95,
          96,
          97,
          98,
          99
         ],
         "xaxis": "x",
         "y": [
          29.740000000000002,
          10.629999999999999,
          81.19000000000001,
          99.98,
          50.05,
          32.28,
          40.32,
          36.129999999999995,
          11.390000000000002,
          81.54000000000002,
          78.16000000000001,
          93.30000000000003,
          38.18000000000001,
          46.14999999999999,
          46.36,
          18.15,
          120.55000000000001,
          67.79,
          153.26,
          131.15000000000003,
          92.80999999999999,
          74.69999999999999,
          68.87,
          151.15000000000003,
          191.04000000000002,
          77.32,
          97.76,
          97.16,
          150.99,
          120.42999999999999,
          142.84000000000006,
          166.71,
          170.64000000000001,
          175.77,
          162.15000000000006,
          186.64000000000004,
          75.07000000000001,
          140.46000000000006,
          171.63000000000005,
          129.33,
          206.84000000000012,
          114.20000000000003,
          129.87,
          242.7400000000001,
          128.91999999999996,
          223.4900000000001,
          268.7500000000001,
          149.16,
          225.34000000000003,
          222.86000000000007,
          169.42,
          187.01999999999998,
          240.3600000000001,
          211.69000000000008,
          185.68000000000006,
          155.86000000000007,
          162.04000000000013,
          131.61000000000007,
          180.63000000000008,
          266.63000000000005,
          226.8400000000001,
          260.76,
          245.0800000000001,
          236.5700000000001,
          324.6800000000002,
          401.09000000000003,
          425.40999999999985,
          449.13,
          397.68000000000006,
          119.60000000000004,
          247.55,
          253.28000000000026,
          226.1800000000001,
          324.41000000000014,
          394.13,
          360.51000000000005,
          356.25,
          337.0299999999998,
          362.44999999999993,
          417.64000000000016,
          415.9600000000001,
          549.7799999999999,
          320.19000000000005,
          292.73,
          302.7300000000001,
          330.2099999999999,
          354.2399999999998,
          369.32,
          452.73999999999984,
          377.25999999999993,
          284.87,
          423.24999999999983,
          483.42000000000013,
          313.2600000000001,
          512.77,
          524.4299999999997,
          746.1899999999997,
          554.1699999999997,
          608.5399999999997
         ],
         "yaxis": "y"
        }
       ],
       "layout": {
        "legend": {
         "title": {
          "text": "COMMODITY_DESC"
         },
         "tracegroupgap": 0
        },
        "template": {
         "data": {
          "bar": [
           {
            "error_x": {
             "color": "rgb(36,36,36)"
            },
            "error_y": {
             "color": "rgb(36,36,36)"
            },
            "marker": {
             "line": {
              "color": "white",
              "width": 0.5
             }
            },
            "type": "bar"
           }
          ],
          "barpolar": [
           {
            "marker": {
             "line": {
              "color": "white",
              "width": 0.5
             }
            },
            "type": "barpolar"
           }
          ],
          "carpet": [
           {
            "aaxis": {
             "endlinecolor": "rgb(36,36,36)",
             "gridcolor": "white",
             "linecolor": "white",
             "minorgridcolor": "white",
             "startlinecolor": "rgb(36,36,36)"
            },
            "baxis": {
             "endlinecolor": "rgb(36,36,36)",
             "gridcolor": "white",
             "linecolor": "white",
             "minorgridcolor": "white",
             "startlinecolor": "rgb(36,36,36)"
            },
            "type": "carpet"
           }
          ],
          "choropleth": [
           {
            "colorbar": {
             "outlinewidth": 1,
             "tickcolor": "rgb(36,36,36)",
             "ticks": "outside"
            },
            "type": "choropleth"
           }
          ],
          "contour": [
           {
            "colorbar": {
             "outlinewidth": 1,
             "tickcolor": "rgb(36,36,36)",
             "ticks": "outside"
            },
            "colorscale": [
             [
              0,
              "#440154"
             ],
             [
              0.1111111111111111,
              "#482878"
             ],
             [
              0.2222222222222222,
              "#3e4989"
             ],
             [
              0.3333333333333333,
              "#31688e"
             ],
             [
              0.4444444444444444,
              "#26828e"
             ],
             [
              0.5555555555555556,
              "#1f9e89"
             ],
             [
              0.6666666666666666,
              "#35b779"
             ],
             [
              0.7777777777777778,
              "#6ece58"
             ],
             [
              0.8888888888888888,
              "#b5de2b"
             ],
             [
              1,
              "#fde725"
             ]
            ],
            "type": "contour"
           }
          ],
          "contourcarpet": [
           {
            "colorbar": {
             "outlinewidth": 1,
             "tickcolor": "rgb(36,36,36)",
             "ticks": "outside"
            },
            "type": "contourcarpet"
           }
          ],
          "heatmap": [
           {
            "colorbar": {
             "outlinewidth": 1,
             "tickcolor": "rgb(36,36,36)",
             "ticks": "outside"
            },
            "colorscale": [
             [
              0,
              "#440154"
             ],
             [
              0.1111111111111111,
              "#482878"
             ],
             [
              0.2222222222222222,
              "#3e4989"
             ],
             [
              0.3333333333333333,
              "#31688e"
             ],
             [
              0.4444444444444444,
              "#26828e"
             ],
             [
              0.5555555555555556,
              "#1f9e89"
             ],
             [
              0.6666666666666666,
              "#35b779"
             ],
             [
              0.7777777777777778,
              "#6ece58"
             ],
             [
              0.8888888888888888,
              "#b5de2b"
             ],
             [
              1,
              "#fde725"
             ]
            ],
            "type": "heatmap"
           }
          ],
          "heatmapgl": [
           {
            "colorbar": {
             "outlinewidth": 1,
             "tickcolor": "rgb(36,36,36)",
             "ticks": "outside"
            },
            "colorscale": [
             [
              0,
              "#440154"
             ],
             [
              0.1111111111111111,
              "#482878"
             ],
             [
              0.2222222222222222,
              "#3e4989"
             ],
             [
              0.3333333333333333,
              "#31688e"
             ],
             [
              0.4444444444444444,
              "#26828e"
             ],
             [
              0.5555555555555556,
              "#1f9e89"
             ],
             [
              0.6666666666666666,
              "#35b779"
             ],
             [
              0.7777777777777778,
              "#6ece58"
             ],
             [
              0.8888888888888888,
              "#b5de2b"
             ],
             [
              1,
              "#fde725"
             ]
            ],
            "type": "heatmapgl"
           }
          ],
          "histogram": [
           {
            "marker": {
             "line": {
              "color": "white",
              "width": 0.6
             }
            },
            "type": "histogram"
           }
          ],
          "histogram2d": [
           {
            "colorbar": {
             "outlinewidth": 1,
             "tickcolor": "rgb(36,36,36)",
             "ticks": "outside"
            },
            "colorscale": [
             [
              0,
              "#440154"
             ],
             [
              0.1111111111111111,
              "#482878"
             ],
             [
              0.2222222222222222,
              "#3e4989"
             ],
             [
              0.3333333333333333,
              "#31688e"
             ],
             [
              0.4444444444444444,
              "#26828e"
             ],
             [
              0.5555555555555556,
              "#1f9e89"
             ],
             [
              0.6666666666666666,
              "#35b779"
             ],
             [
              0.7777777777777778,
              "#6ece58"
             ],
             [
              0.8888888888888888,
              "#b5de2b"
             ],
             [
              1,
              "#fde725"
             ]
            ],
            "type": "histogram2d"
           }
          ],
          "histogram2dcontour": [
           {
            "colorbar": {
             "outlinewidth": 1,
             "tickcolor": "rgb(36,36,36)",
             "ticks": "outside"
            },
            "colorscale": [
             [
              0,
              "#440154"
             ],
             [
              0.1111111111111111,
              "#482878"
             ],
             [
              0.2222222222222222,
              "#3e4989"
             ],
             [
              0.3333333333333333,
              "#31688e"
             ],
             [
              0.4444444444444444,
              "#26828e"
             ],
             [
              0.5555555555555556,
              "#1f9e89"
             ],
             [
              0.6666666666666666,
              "#35b779"
             ],
             [
              0.7777777777777778,
              "#6ece58"
             ],
             [
              0.8888888888888888,
              "#b5de2b"
             ],
             [
              1,
              "#fde725"
             ]
            ],
            "type": "histogram2dcontour"
           }
          ],
          "mesh3d": [
           {
            "colorbar": {
             "outlinewidth": 1,
             "tickcolor": "rgb(36,36,36)",
             "ticks": "outside"
            },
            "type": "mesh3d"
           }
          ],
          "parcoords": [
           {
            "line": {
             "colorbar": {
              "outlinewidth": 1,
              "tickcolor": "rgb(36,36,36)",
              "ticks": "outside"
             }
            },
            "type": "parcoords"
           }
          ],
          "pie": [
           {
            "automargin": true,
            "type": "pie"
           }
          ],
          "scatter": [
           {
            "marker": {
             "colorbar": {
              "outlinewidth": 1,
              "tickcolor": "rgb(36,36,36)",
              "ticks": "outside"
             }
            },
            "type": "scatter"
           }
          ],
          "scatter3d": [
           {
            "line": {
             "colorbar": {
              "outlinewidth": 1,
              "tickcolor": "rgb(36,36,36)",
              "ticks": "outside"
             }
            },
            "marker": {
             "colorbar": {
              "outlinewidth": 1,
              "tickcolor": "rgb(36,36,36)",
              "ticks": "outside"
             }
            },
            "type": "scatter3d"
           }
          ],
          "scattercarpet": [
           {
            "marker": {
             "colorbar": {
              "outlinewidth": 1,
              "tickcolor": "rgb(36,36,36)",
              "ticks": "outside"
             }
            },
            "type": "scattercarpet"
           }
          ],
          "scattergeo": [
           {
            "marker": {
             "colorbar": {
              "outlinewidth": 1,
              "tickcolor": "rgb(36,36,36)",
              "ticks": "outside"
             }
            },
            "type": "scattergeo"
           }
          ],
          "scattergl": [
           {
            "marker": {
             "colorbar": {
              "outlinewidth": 1,
              "tickcolor": "rgb(36,36,36)",
              "ticks": "outside"
             }
            },
            "type": "scattergl"
           }
          ],
          "scattermapbox": [
           {
            "marker": {
             "colorbar": {
              "outlinewidth": 1,
              "tickcolor": "rgb(36,36,36)",
              "ticks": "outside"
             }
            },
            "type": "scattermapbox"
           }
          ],
          "scatterpolar": [
           {
            "marker": {
             "colorbar": {
              "outlinewidth": 1,
              "tickcolor": "rgb(36,36,36)",
              "ticks": "outside"
             }
            },
            "type": "scatterpolar"
           }
          ],
          "scatterpolargl": [
           {
            "marker": {
             "colorbar": {
              "outlinewidth": 1,
              "tickcolor": "rgb(36,36,36)",
              "ticks": "outside"
             }
            },
            "type": "scatterpolargl"
           }
          ],
          "scatterternary": [
           {
            "marker": {
             "colorbar": {
              "outlinewidth": 1,
              "tickcolor": "rgb(36,36,36)",
              "ticks": "outside"
             }
            },
            "type": "scatterternary"
           }
          ],
          "surface": [
           {
            "colorbar": {
             "outlinewidth": 1,
             "tickcolor": "rgb(36,36,36)",
             "ticks": "outside"
            },
            "colorscale": [
             [
              0,
              "#440154"
             ],
             [
              0.1111111111111111,
              "#482878"
             ],
             [
              0.2222222222222222,
              "#3e4989"
             ],
             [
              0.3333333333333333,
              "#31688e"
             ],
             [
              0.4444444444444444,
              "#26828e"
             ],
             [
              0.5555555555555556,
              "#1f9e89"
             ],
             [
              0.6666666666666666,
              "#35b779"
             ],
             [
              0.7777777777777778,
              "#6ece58"
             ],
             [
              0.8888888888888888,
              "#b5de2b"
             ],
             [
              1,
              "#fde725"
             ]
            ],
            "type": "surface"
           }
          ],
          "table": [
           {
            "cells": {
             "fill": {
              "color": "rgb(237,237,237)"
             },
             "line": {
              "color": "white"
             }
            },
            "header": {
             "fill": {
              "color": "rgb(217,217,217)"
             },
             "line": {
              "color": "white"
             }
            },
            "type": "table"
           }
          ]
         },
         "layout": {
          "annotationdefaults": {
           "arrowhead": 0,
           "arrowwidth": 1
          },
          "autotypenumbers": "strict",
          "coloraxis": {
           "colorbar": {
            "outlinewidth": 1,
            "tickcolor": "rgb(36,36,36)",
            "ticks": "outside"
           }
          },
          "colorscale": {
           "diverging": [
            [
             0,
             "rgb(103,0,31)"
            ],
            [
             0.1,
             "rgb(178,24,43)"
            ],
            [
             0.2,
             "rgb(214,96,77)"
            ],
            [
             0.3,
             "rgb(244,165,130)"
            ],
            [
             0.4,
             "rgb(253,219,199)"
            ],
            [
             0.5,
             "rgb(247,247,247)"
            ],
            [
             0.6,
             "rgb(209,229,240)"
            ],
            [
             0.7,
             "rgb(146,197,222)"
            ],
            [
             0.8,
             "rgb(67,147,195)"
            ],
            [
             0.9,
             "rgb(33,102,172)"
            ],
            [
             1,
             "rgb(5,48,97)"
            ]
           ],
           "sequential": [
            [
             0,
             "#440154"
            ],
            [
             0.1111111111111111,
             "#482878"
            ],
            [
             0.2222222222222222,
             "#3e4989"
            ],
            [
             0.3333333333333333,
             "#31688e"
            ],
            [
             0.4444444444444444,
             "#26828e"
            ],
            [
             0.5555555555555556,
             "#1f9e89"
            ],
            [
             0.6666666666666666,
             "#35b779"
            ],
            [
             0.7777777777777778,
             "#6ece58"
            ],
            [
             0.8888888888888888,
             "#b5de2b"
            ],
            [
             1,
             "#fde725"
            ]
           ],
           "sequentialminus": [
            [
             0,
             "#440154"
            ],
            [
             0.1111111111111111,
             "#482878"
            ],
            [
             0.2222222222222222,
             "#3e4989"
            ],
            [
             0.3333333333333333,
             "#31688e"
            ],
            [
             0.4444444444444444,
             "#26828e"
            ],
            [
             0.5555555555555556,
             "#1f9e89"
            ],
            [
             0.6666666666666666,
             "#35b779"
            ],
            [
             0.7777777777777778,
             "#6ece58"
            ],
            [
             0.8888888888888888,
             "#b5de2b"
            ],
            [
             1,
             "#fde725"
            ]
           ]
          },
          "colorway": [
           "#1F77B4",
           "#FF7F0E",
           "#2CA02C",
           "#D62728",
           "#9467BD",
           "#8C564B",
           "#E377C2",
           "#7F7F7F",
           "#BCBD22",
           "#17BECF"
          ],
          "font": {
           "color": "rgb(36,36,36)"
          },
          "geo": {
           "bgcolor": "white",
           "lakecolor": "white",
           "landcolor": "white",
           "showlakes": true,
           "showland": true,
           "subunitcolor": "white"
          },
          "hoverlabel": {
           "align": "left"
          },
          "hovermode": "closest",
          "mapbox": {
           "style": "light"
          },
          "paper_bgcolor": "white",
          "plot_bgcolor": "white",
          "polar": {
           "angularaxis": {
            "gridcolor": "rgb(232,232,232)",
            "linecolor": "rgb(36,36,36)",
            "showgrid": false,
            "showline": true,
            "ticks": "outside"
           },
           "bgcolor": "white",
           "radialaxis": {
            "gridcolor": "rgb(232,232,232)",
            "linecolor": "rgb(36,36,36)",
            "showgrid": false,
            "showline": true,
            "ticks": "outside"
           }
          },
          "scene": {
           "xaxis": {
            "backgroundcolor": "white",
            "gridcolor": "rgb(232,232,232)",
            "gridwidth": 2,
            "linecolor": "rgb(36,36,36)",
            "showbackground": true,
            "showgrid": false,
            "showline": true,
            "ticks": "outside",
            "zeroline": false,
            "zerolinecolor": "rgb(36,36,36)"
           },
           "yaxis": {
            "backgroundcolor": "white",
            "gridcolor": "rgb(232,232,232)",
            "gridwidth": 2,
            "linecolor": "rgb(36,36,36)",
            "showbackground": true,
            "showgrid": false,
            "showline": true,
            "ticks": "outside",
            "zeroline": false,
            "zerolinecolor": "rgb(36,36,36)"
           },
           "zaxis": {
            "backgroundcolor": "white",
            "gridcolor": "rgb(232,232,232)",
            "gridwidth": 2,
            "linecolor": "rgb(36,36,36)",
            "showbackground": true,
            "showgrid": false,
            "showline": true,
            "ticks": "outside",
            "zeroline": false,
            "zerolinecolor": "rgb(36,36,36)"
           }
          },
          "shapedefaults": {
           "fillcolor": "black",
           "line": {
            "width": 0
           },
           "opacity": 0.3
          },
          "ternary": {
           "aaxis": {
            "gridcolor": "rgb(232,232,232)",
            "linecolor": "rgb(36,36,36)",
            "showgrid": false,
            "showline": true,
            "ticks": "outside"
           },
           "baxis": {
            "gridcolor": "rgb(232,232,232)",
            "linecolor": "rgb(36,36,36)",
            "showgrid": false,
            "showline": true,
            "ticks": "outside"
           },
           "bgcolor": "white",
           "caxis": {
            "gridcolor": "rgb(232,232,232)",
            "linecolor": "rgb(36,36,36)",
            "showgrid": false,
            "showline": true,
            "ticks": "outside"
           }
          },
          "title": {
           "x": 0.05
          },
          "xaxis": {
           "automargin": true,
           "gridcolor": "rgb(232,232,232)",
           "linecolor": "rgb(36,36,36)",
           "showgrid": false,
           "showline": true,
           "ticks": "outside",
           "title": {
            "standoff": 15
           },
           "zeroline": false,
           "zerolinecolor": "rgb(36,36,36)"
          },
          "yaxis": {
           "automargin": true,
           "gridcolor": "rgb(232,232,232)",
           "linecolor": "rgb(36,36,36)",
           "showgrid": false,
           "showline": true,
           "ticks": "outside",
           "title": {
            "standoff": 15
           },
           "zeroline": false,
           "zerolinecolor": "rgb(36,36,36)"
          }
         }
        },
        "title": {
         "text": "Daily Sales for the Top 5 Commodities"
        },
        "xaxis": {
         "anchor": "y",
         "domain": [
          0,
          1
         ],
         "title": {
          "text": "DAY"
         }
        },
        "yaxis": {
         "anchor": "x",
         "domain": [
          0,
          1
         ],
         "title": {
          "text": "SALES_VALUE"
         }
        }
       }
      },
      "text/html": [
       "<div>                            <div id=\"00cf29b4-620d-4f6b-a99c-888840c77fb8\" class=\"plotly-graph-div\" style=\"height:525px; width:100%;\"></div>            <script type=\"text/javascript\">                require([\"plotly\"], function(Plotly) {                    window.PLOTLYENV=window.PLOTLYENV || {};                                    if (document.getElementById(\"00cf29b4-620d-4f6b-a99c-888840c77fb8\")) {                    Plotly.newPlot(                        \"00cf29b4-620d-4f6b-a99c-888840c77fb8\",                        [{\"hovertemplate\": \"COMMODITY_DESC=BEEF<br>DAY=%{x}<br>SALES_VALUE=%{y}<extra></extra>\", \"legendgroup\": \"BEEF\", \"line\": {\"color\": \"#1F77B4\", \"dash\": \"solid\"}, \"mode\": \"lines\", \"name\": \"BEEF\", \"orientation\": \"v\", \"showlegend\": true, \"type\": \"scatter\", \"x\": [1, 2, 3, 4, 5, 6, 7, 8, 9, 10, 11, 12, 13, 14, 15, 16, 17, 18, 19, 20, 21, 22, 23, 24, 25, 26, 27, 28, 29, 30, 31, 32, 33, 34, 35, 36, 37, 38, 39, 40, 41, 42, 43, 44, 45, 46, 47, 48, 49, 50, 51, 52, 53, 54, 55, 56, 57, 58, 59, 60, 61, 62, 63, 64, 65, 66, 67, 68, 69, 70, 71, 72, 73, 74, 75, 76, 77, 78, 79, 80, 81, 82, 83, 84, 85, 86, 87, 88, 89, 90, 91, 92, 93, 94, 95, 96, 97, 98, 99], \"xaxis\": \"x\", \"y\": [3.09, 9.44, 54.44, 84.71999999999998, 36.07, 64.08, 15.72, 37.550000000000004, 28.33, 18.35, 133.41999999999996, 107.28000000000002, 69.66, 81.71000000000001, 69.79, 56.69, 83.38000000000001, 121.71000000000002, 73.05000000000001, 70.30000000000001, 136.86, 68.09, 37.46, 95.36000000000001, 196.81000000000003, 142.64, 72.73, 115.47999999999999, 125.34, 149.29, 126.96000000000001, 124.74999999999999, 205.98000000000002, 102.24000000000001, 106.53, 352.46999999999997, 77.86000000000001, 182.47000000000003, 217.33000000000004, 258.44, 168.76999999999998, 143.27, 112.17, 366.71000000000004, 179.48000000000002, 309.3999999999999, 263.94000000000005, 186.80999999999997, 147.11999999999998, 190.48999999999998, 184.80999999999997, 246.45999999999998, 240.49999999999997, 212.83, 145.08, 93.19000000000001, 164.28000000000003, 225.11, 137.19000000000003, 393.6200000000001, 244.02000000000004, 152.65, 255.50000000000003, 111.64999999999999, 339.57000000000005, 455.68, 635.87, 292.16, 586.2900000000002, 223.09, 245.02999999999997, 321.83000000000004, 244.82999999999998, 477.11999999999983, 391.5, 344.56, 319.34, 269.53, 227.28, 262.88, 351.2899999999999, 488.28999999999985, 298.4699999999999, 232.58000000000004, 342.82000000000005, 335.50999999999993, 354.83000000000004, 374.65999999999997, 410.57999999999987, 360.35, 276.54, 351.67, 241.78, 338.1000000000001, 524.4999999999999, 577.6200000000003, 217.39000000000001, 227.48999999999998, 368.54], \"yaxis\": \"y\"}, {\"hovertemplate\": \"COMMODITY_DESC=BEERS/ALES<br>DAY=%{x}<br>SALES_VALUE=%{y}<extra></extra>\", \"legendgroup\": \"BEERS/ALES\", \"line\": {\"color\": \"#FF7F0E\", \"dash\": \"solid\"}, \"mode\": \"lines\", \"name\": \"BEERS/ALES\", \"orientation\": \"v\", \"showlegend\": true, \"type\": \"scatter\", \"x\": [2, 3, 4, 5, 6, 7, 8, 9, 10, 11, 12, 14, 15, 16, 17, 18, 19, 20, 21, 22, 23, 24, 25, 26, 27, 28, 29, 30, 31, 32, 33, 34, 35, 36, 37, 38, 39, 40, 41, 42, 43, 44, 45, 46, 47, 48, 49, 50, 51, 52, 53, 54, 55, 56, 57, 58, 59, 60, 61, 62, 63, 64, 65, 66, 67, 68, 69, 70, 71, 72, 73, 74, 75, 76, 77, 78, 79, 80, 81, 82, 83, 84, 85, 86, 87, 88, 89, 90, 91, 92, 93, 94, 95, 96, 97, 98, 99], \"xaxis\": \"x\", \"y\": [7.99, 58.93000000000001, 27.97, 25.270000000000003, 14.780000000000001, 9.99, 10.48, 20.759999999999998, 25.97, 50.129999999999995, 14.48, 12.68, 34.27, 29.46, 50.95, 47.95, 74.50000000000001, 37.47, 24.97, 34.45, 27.47, 22.47, 117.35999999999999, 33.65, 66.22, 33.35, 49.53, 46.95, 29.47, 115.63, 28.85, 56.720000000000006, 56.43000000000001, 99.67999999999996, 56.940000000000005, 79.78, 60.440000000000005, 71.41000000000001, 38.96, 56.900000000000006, 51.45, 74.97000000000001, 90.97999999999998, 95.69, 142.35, 86.52, 61.620000000000005, 63.410000000000004, 96.82999999999998, 155.21000000000004, 115.16, 183.83999999999997, 56.940000000000005, 58.40000000000001, 152.3, 54.70000000000001, 92.65999999999998, 129.51999999999998, 115.53999999999999, 89.49, 55.77, 113.37999999999998, 106.14999999999998, 300.35000000000014, 338.2400000000001, 166.19000000000003, 173.70000000000002, 108.03999999999999, 119.00999999999998, 109.96999999999998, 159.38, 314.15000000000015, 169.92999999999998, 117.11999999999998, 90.33999999999997, 127.60999999999999, 160.25000000000003, 296.67, 255.73000000000005, 234.44000000000005, 62.300000000000004, 133.74999999999997, 100.10999999999999, 167.8, 305.33000000000004, 277.14000000000016, 232.99000000000007, 173.04000000000005, 142.51, 145.90999999999997, 184.81000000000006, 199.92000000000002, 429.15000000000015, 153.36, 257.72999999999996, 145.11, 140.74], \"yaxis\": \"y\"}, {\"hovertemplate\": \"COMMODITY_DESC=CHEESE<br>DAY=%{x}<br>SALES_VALUE=%{y}<extra></extra>\", \"legendgroup\": \"CHEESE\", \"line\": {\"color\": \"#2CA02C\", \"dash\": \"solid\"}, \"mode\": \"lines\", \"name\": \"CHEESE\", \"orientation\": \"v\", \"showlegend\": true, \"type\": \"scatter\", \"x\": [1, 2, 3, 4, 5, 6, 7, 8, 9, 10, 11, 12, 13, 14, 15, 16, 17, 18, 19, 20, 21, 22, 23, 24, 25, 26, 27, 28, 29, 30, 31, 32, 33, 34, 35, 36, 37, 38, 39, 40, 41, 42, 43, 44, 45, 46, 47, 48, 49, 50, 51, 52, 53, 54, 55, 56, 57, 58, 59, 60, 61, 62, 63, 64, 65, 66, 67, 68, 69, 70, 71, 72, 73, 74, 75, 76, 77, 78, 79, 80, 81, 82, 83, 84, 85, 86, 87, 88, 89, 90, 91, 92, 93, 94, 95, 96, 97, 98, 99], \"xaxis\": \"x\", \"y\": [3.98, 6.83, 38.72, 49.36000000000001, 15.030000000000001, 18.38, 32.34, 31.66, 24.840000000000003, 31.420000000000005, 55.990000000000016, 47.23000000000001, 54.38000000000001, 68.00000000000001, 36.39000000000001, 51.44000000000001, 64.38, 41.1, 58.32, 27.18, 64.34000000000002, 24.860000000000003, 39.05, 55.56, 66.18, 47.64000000000001, 58.24, 38.720000000000006, 78.81, 82.92999999999999, 87.27999999999999, 77.5, 93.33, 90.22000000000001, 78.83000000000001, 118.69999999999996, 70.38000000000001, 58.09000000000002, 165.23999999999992, 130.60999999999999, 102.02999999999999, 67.85000000000001, 81.30000000000001, 65.87, 75.39999999999999, 95.27000000000004, 99.16000000000003, 111.01, 114.08000000000003, 98.43000000000002, 94.97000000000003, 122.47000000000001, 128.54000000000002, 115.87, 113.70999999999998, 91.04999999999998, 67.66999999999999, 142.25000000000003, 126.66999999999994, 147.38000000000002, 133.97, 142.21000000000004, 112.75000000000001, 90.78, 162.21999999999997, 130.31, 215.96999999999983, 194.14999999999992, 146.69000000000003, 127.18999999999998, 181.33999999999997, 147.27999999999997, 124.32999999999997, 162.73, 207.82, 163.37999999999994, 164.49999999999994, 126.83999999999997, 125.35999999999999, 236.26000000000005, 203.86, 199.41000000000003, 198.98, 164.43999999999997, 145.40999999999997, 169.15, 207.21999999999994, 209.30999999999995, 220.81000000000006, 178.14999999999992, 196.8, 188.62, 183.23999999999987, 181.62000000000003, 212.97999999999988, 248.45000000000007, 90.47000000000001, 151.36000000000004, 226.15000000000012], \"yaxis\": \"y\"}, {\"hovertemplate\": \"COMMODITY_DESC=FLUID MILK PRODUCTS<br>DAY=%{x}<br>SALES_VALUE=%{y}<extra></extra>\", \"legendgroup\": \"FLUID MILK PRODUCTS\", \"line\": {\"color\": \"#D62728\", \"dash\": \"solid\"}, \"mode\": \"lines\", \"name\": \"FLUID MILK PRODUCTS\", \"orientation\": \"v\", \"showlegend\": true, \"type\": \"scatter\", \"x\": [1, 2, 3, 4, 5, 6, 7, 8, 9, 10, 11, 12, 13, 14, 15, 16, 17, 18, 19, 20, 21, 22, 23, 24, 25, 26, 27, 28, 29, 30, 31, 32, 33, 34, 35, 36, 37, 38, 39, 40, 41, 42, 43, 44, 45, 46, 47, 48, 49, 50, 51, 52, 53, 54, 55, 56, 57, 58, 59, 60, 61, 62, 63, 64, 65, 66, 67, 68, 69, 70, 71, 72, 73, 74, 75, 76, 77, 78, 79, 80, 81, 82, 83, 84, 85, 86, 87, 88, 89, 90, 91, 92, 93, 94, 95, 96, 97, 98, 99], \"xaxis\": \"x\", \"y\": [2.66, 17.96, 32.11000000000001, 44.33, 20.51, 28.63, 33.08, 31.619999999999997, 41.209999999999994, 37.400000000000006, 68.86, 52.190000000000005, 32.260000000000005, 65.69999999999999, 21.36, 50.49, 65.44, 66.71, 70.7, 30.95, 54.300000000000004, 59.93000000000001, 41.04000000000001, 38.290000000000006, 65.43, 67.05000000000001, 70.26000000000002, 37.029999999999994, 76.51000000000002, 114.86000000000004, 68.61000000000001, 90.47, 104.00000000000001, 59.68000000000001, 75.17000000000002, 98.93, 51.14000000000001, 85.30000000000001, 113.60000000000001, 118.58999999999999, 114.40000000000002, 95.84, 88.99000000000001, 74.50000000000001, 71.69, 106.52, 154.69, 83.08, 68.19000000000003, 101.85000000000002, 94.94999999999999, 69.47000000000001, 132.04999999999993, 109.94999999999996, 139.60999999999999, 105.26000000000002, 99.18, 105.35, 132.82000000000002, 162.85, 167.07999999999998, 73.22, 115.96999999999996, 95.65999999999997, 139.9, 120.68999999999993, 169.68999999999997, 168.8099999999999, 196.06999999999996, 101.31000000000002, 160.26000000000002, 159.56000000000006, 141.56000000000003, 198.18, 200.39, 147.23999999999992, 176.3399999999999, 125.49999999999997, 129.48999999999998, 166.22999999999993, 223.14000000000004, 228.85999999999996, 173.50999999999996, 221.39999999999998, 193.43, 185.6, 249.78999999999994, 217.23999999999995, 261.4199999999999, 201.44999999999987, 219.58999999999992, 222.36999999999998, 159.13000000000002, 238.78999999999996, 254.2899999999999, 305.17999999999995, 179.00999999999988, 170.77999999999994, 202.34000000000006], \"yaxis\": \"y\"}, {\"hovertemplate\": \"COMMODITY_DESC=SOFT DRINKS<br>DAY=%{x}<br>SALES_VALUE=%{y}<extra></extra>\", \"legendgroup\": \"SOFT DRINKS\", \"line\": {\"color\": \"#9467BD\", \"dash\": \"solid\"}, \"mode\": \"lines\", \"name\": \"SOFT DRINKS\", \"orientation\": \"v\", \"showlegend\": true, \"type\": \"scatter\", \"x\": [1, 2, 3, 4, 5, 6, 7, 8, 9, 10, 11, 12, 13, 14, 15, 16, 17, 18, 19, 20, 21, 22, 23, 24, 25, 26, 27, 28, 29, 30, 31, 32, 33, 34, 35, 36, 37, 38, 39, 40, 41, 42, 43, 44, 45, 46, 47, 48, 49, 50, 51, 52, 53, 54, 55, 56, 57, 58, 59, 60, 61, 62, 63, 64, 65, 66, 67, 68, 69, 70, 71, 72, 73, 74, 75, 76, 77, 78, 79, 80, 81, 82, 83, 84, 85, 86, 87, 88, 89, 90, 91, 92, 93, 94, 95, 96, 97, 98, 99], \"xaxis\": \"x\", \"y\": [29.740000000000002, 10.629999999999999, 81.19000000000001, 99.98, 50.05, 32.28, 40.32, 36.129999999999995, 11.390000000000002, 81.54000000000002, 78.16000000000001, 93.30000000000003, 38.18000000000001, 46.14999999999999, 46.36, 18.15, 120.55000000000001, 67.79, 153.26, 131.15000000000003, 92.80999999999999, 74.69999999999999, 68.87, 151.15000000000003, 191.04000000000002, 77.32, 97.76, 97.16, 150.99, 120.42999999999999, 142.84000000000006, 166.71, 170.64000000000001, 175.77, 162.15000000000006, 186.64000000000004, 75.07000000000001, 140.46000000000006, 171.63000000000005, 129.33, 206.84000000000012, 114.20000000000003, 129.87, 242.7400000000001, 128.91999999999996, 223.4900000000001, 268.7500000000001, 149.16, 225.34000000000003, 222.86000000000007, 169.42, 187.01999999999998, 240.3600000000001, 211.69000000000008, 185.68000000000006, 155.86000000000007, 162.04000000000013, 131.61000000000007, 180.63000000000008, 266.63000000000005, 226.8400000000001, 260.76, 245.0800000000001, 236.5700000000001, 324.6800000000002, 401.09000000000003, 425.40999999999985, 449.13, 397.68000000000006, 119.60000000000004, 247.55, 253.28000000000026, 226.1800000000001, 324.41000000000014, 394.13, 360.51000000000005, 356.25, 337.0299999999998, 362.44999999999993, 417.64000000000016, 415.9600000000001, 549.7799999999999, 320.19000000000005, 292.73, 302.7300000000001, 330.2099999999999, 354.2399999999998, 369.32, 452.73999999999984, 377.25999999999993, 284.87, 423.24999999999983, 483.42000000000013, 313.2600000000001, 512.77, 524.4299999999997, 746.1899999999997, 554.1699999999997, 608.5399999999997], \"yaxis\": \"y\"}],                        {\"legend\": {\"title\": {\"text\": \"COMMODITY_DESC\"}, \"tracegroupgap\": 0}, \"template\": {\"data\": {\"bar\": [{\"error_x\": {\"color\": \"rgb(36,36,36)\"}, \"error_y\": {\"color\": \"rgb(36,36,36)\"}, \"marker\": {\"line\": {\"color\": \"white\", \"width\": 0.5}}, \"type\": \"bar\"}], \"barpolar\": [{\"marker\": {\"line\": {\"color\": \"white\", \"width\": 0.5}}, \"type\": \"barpolar\"}], \"carpet\": [{\"aaxis\": {\"endlinecolor\": \"rgb(36,36,36)\", \"gridcolor\": \"white\", \"linecolor\": \"white\", \"minorgridcolor\": \"white\", \"startlinecolor\": \"rgb(36,36,36)\"}, \"baxis\": {\"endlinecolor\": \"rgb(36,36,36)\", \"gridcolor\": \"white\", \"linecolor\": \"white\", \"minorgridcolor\": \"white\", \"startlinecolor\": \"rgb(36,36,36)\"}, \"type\": \"carpet\"}], \"choropleth\": [{\"colorbar\": {\"outlinewidth\": 1, \"tickcolor\": \"rgb(36,36,36)\", \"ticks\": \"outside\"}, \"type\": \"choropleth\"}], \"contour\": [{\"colorbar\": {\"outlinewidth\": 1, \"tickcolor\": \"rgb(36,36,36)\", \"ticks\": \"outside\"}, \"colorscale\": [[0.0, \"#440154\"], [0.1111111111111111, \"#482878\"], [0.2222222222222222, \"#3e4989\"], [0.3333333333333333, \"#31688e\"], [0.4444444444444444, \"#26828e\"], [0.5555555555555556, \"#1f9e89\"], [0.6666666666666666, \"#35b779\"], [0.7777777777777778, \"#6ece58\"], [0.8888888888888888, \"#b5de2b\"], [1.0, \"#fde725\"]], \"type\": \"contour\"}], \"contourcarpet\": [{\"colorbar\": {\"outlinewidth\": 1, \"tickcolor\": \"rgb(36,36,36)\", \"ticks\": \"outside\"}, \"type\": \"contourcarpet\"}], \"heatmap\": [{\"colorbar\": {\"outlinewidth\": 1, \"tickcolor\": \"rgb(36,36,36)\", \"ticks\": \"outside\"}, \"colorscale\": [[0.0, \"#440154\"], [0.1111111111111111, \"#482878\"], [0.2222222222222222, \"#3e4989\"], [0.3333333333333333, \"#31688e\"], [0.4444444444444444, \"#26828e\"], [0.5555555555555556, \"#1f9e89\"], [0.6666666666666666, \"#35b779\"], [0.7777777777777778, \"#6ece58\"], [0.8888888888888888, \"#b5de2b\"], [1.0, \"#fde725\"]], \"type\": \"heatmap\"}], \"heatmapgl\": [{\"colorbar\": {\"outlinewidth\": 1, \"tickcolor\": \"rgb(36,36,36)\", \"ticks\": \"outside\"}, \"colorscale\": [[0.0, \"#440154\"], [0.1111111111111111, \"#482878\"], [0.2222222222222222, \"#3e4989\"], [0.3333333333333333, \"#31688e\"], [0.4444444444444444, \"#26828e\"], [0.5555555555555556, \"#1f9e89\"], [0.6666666666666666, \"#35b779\"], [0.7777777777777778, \"#6ece58\"], [0.8888888888888888, \"#b5de2b\"], [1.0, \"#fde725\"]], \"type\": \"heatmapgl\"}], \"histogram\": [{\"marker\": {\"line\": {\"color\": \"white\", \"width\": 0.6}}, \"type\": \"histogram\"}], \"histogram2d\": [{\"colorbar\": {\"outlinewidth\": 1, \"tickcolor\": \"rgb(36,36,36)\", \"ticks\": \"outside\"}, \"colorscale\": [[0.0, \"#440154\"], [0.1111111111111111, \"#482878\"], [0.2222222222222222, \"#3e4989\"], [0.3333333333333333, \"#31688e\"], [0.4444444444444444, \"#26828e\"], [0.5555555555555556, \"#1f9e89\"], [0.6666666666666666, \"#35b779\"], [0.7777777777777778, \"#6ece58\"], [0.8888888888888888, \"#b5de2b\"], [1.0, \"#fde725\"]], \"type\": \"histogram2d\"}], \"histogram2dcontour\": [{\"colorbar\": {\"outlinewidth\": 1, \"tickcolor\": \"rgb(36,36,36)\", \"ticks\": \"outside\"}, \"colorscale\": [[0.0, \"#440154\"], [0.1111111111111111, \"#482878\"], [0.2222222222222222, \"#3e4989\"], [0.3333333333333333, \"#31688e\"], [0.4444444444444444, \"#26828e\"], [0.5555555555555556, \"#1f9e89\"], [0.6666666666666666, \"#35b779\"], [0.7777777777777778, \"#6ece58\"], [0.8888888888888888, \"#b5de2b\"], [1.0, \"#fde725\"]], \"type\": \"histogram2dcontour\"}], \"mesh3d\": [{\"colorbar\": {\"outlinewidth\": 1, \"tickcolor\": \"rgb(36,36,36)\", \"ticks\": \"outside\"}, \"type\": \"mesh3d\"}], \"parcoords\": [{\"line\": {\"colorbar\": {\"outlinewidth\": 1, \"tickcolor\": \"rgb(36,36,36)\", \"ticks\": \"outside\"}}, \"type\": \"parcoords\"}], \"pie\": [{\"automargin\": true, \"type\": \"pie\"}], \"scatter\": [{\"marker\": {\"colorbar\": {\"outlinewidth\": 1, \"tickcolor\": \"rgb(36,36,36)\", \"ticks\": \"outside\"}}, \"type\": \"scatter\"}], \"scatter3d\": [{\"line\": {\"colorbar\": {\"outlinewidth\": 1, \"tickcolor\": \"rgb(36,36,36)\", \"ticks\": \"outside\"}}, \"marker\": {\"colorbar\": {\"outlinewidth\": 1, \"tickcolor\": \"rgb(36,36,36)\", \"ticks\": \"outside\"}}, \"type\": \"scatter3d\"}], \"scattercarpet\": [{\"marker\": {\"colorbar\": {\"outlinewidth\": 1, \"tickcolor\": \"rgb(36,36,36)\", \"ticks\": \"outside\"}}, \"type\": \"scattercarpet\"}], \"scattergeo\": [{\"marker\": {\"colorbar\": {\"outlinewidth\": 1, \"tickcolor\": \"rgb(36,36,36)\", \"ticks\": \"outside\"}}, \"type\": \"scattergeo\"}], \"scattergl\": [{\"marker\": {\"colorbar\": {\"outlinewidth\": 1, \"tickcolor\": \"rgb(36,36,36)\", \"ticks\": \"outside\"}}, \"type\": \"scattergl\"}], \"scattermapbox\": [{\"marker\": {\"colorbar\": {\"outlinewidth\": 1, \"tickcolor\": \"rgb(36,36,36)\", \"ticks\": \"outside\"}}, \"type\": \"scattermapbox\"}], \"scatterpolar\": [{\"marker\": {\"colorbar\": {\"outlinewidth\": 1, \"tickcolor\": \"rgb(36,36,36)\", \"ticks\": \"outside\"}}, \"type\": \"scatterpolar\"}], \"scatterpolargl\": [{\"marker\": {\"colorbar\": {\"outlinewidth\": 1, \"tickcolor\": \"rgb(36,36,36)\", \"ticks\": \"outside\"}}, \"type\": \"scatterpolargl\"}], \"scatterternary\": [{\"marker\": {\"colorbar\": {\"outlinewidth\": 1, \"tickcolor\": \"rgb(36,36,36)\", \"ticks\": \"outside\"}}, \"type\": \"scatterternary\"}], \"surface\": [{\"colorbar\": {\"outlinewidth\": 1, \"tickcolor\": \"rgb(36,36,36)\", \"ticks\": \"outside\"}, \"colorscale\": [[0.0, \"#440154\"], [0.1111111111111111, \"#482878\"], [0.2222222222222222, \"#3e4989\"], [0.3333333333333333, \"#31688e\"], [0.4444444444444444, \"#26828e\"], [0.5555555555555556, \"#1f9e89\"], [0.6666666666666666, \"#35b779\"], [0.7777777777777778, \"#6ece58\"], [0.8888888888888888, \"#b5de2b\"], [1.0, \"#fde725\"]], \"type\": \"surface\"}], \"table\": [{\"cells\": {\"fill\": {\"color\": \"rgb(237,237,237)\"}, \"line\": {\"color\": \"white\"}}, \"header\": {\"fill\": {\"color\": \"rgb(217,217,217)\"}, \"line\": {\"color\": \"white\"}}, \"type\": \"table\"}]}, \"layout\": {\"annotationdefaults\": {\"arrowhead\": 0, \"arrowwidth\": 1}, \"autotypenumbers\": \"strict\", \"coloraxis\": {\"colorbar\": {\"outlinewidth\": 1, \"tickcolor\": \"rgb(36,36,36)\", \"ticks\": \"outside\"}}, \"colorscale\": {\"diverging\": [[0.0, \"rgb(103,0,31)\"], [0.1, \"rgb(178,24,43)\"], [0.2, \"rgb(214,96,77)\"], [0.3, \"rgb(244,165,130)\"], [0.4, \"rgb(253,219,199)\"], [0.5, \"rgb(247,247,247)\"], [0.6, \"rgb(209,229,240)\"], [0.7, \"rgb(146,197,222)\"], [0.8, \"rgb(67,147,195)\"], [0.9, \"rgb(33,102,172)\"], [1.0, \"rgb(5,48,97)\"]], \"sequential\": [[0.0, \"#440154\"], [0.1111111111111111, \"#482878\"], [0.2222222222222222, \"#3e4989\"], [0.3333333333333333, \"#31688e\"], [0.4444444444444444, \"#26828e\"], [0.5555555555555556, \"#1f9e89\"], [0.6666666666666666, \"#35b779\"], [0.7777777777777778, \"#6ece58\"], [0.8888888888888888, \"#b5de2b\"], [1.0, \"#fde725\"]], \"sequentialminus\": [[0.0, \"#440154\"], [0.1111111111111111, \"#482878\"], [0.2222222222222222, \"#3e4989\"], [0.3333333333333333, \"#31688e\"], [0.4444444444444444, \"#26828e\"], [0.5555555555555556, \"#1f9e89\"], [0.6666666666666666, \"#35b779\"], [0.7777777777777778, \"#6ece58\"], [0.8888888888888888, \"#b5de2b\"], [1.0, \"#fde725\"]]}, \"colorway\": [\"#1F77B4\", \"#FF7F0E\", \"#2CA02C\", \"#D62728\", \"#9467BD\", \"#8C564B\", \"#E377C2\", \"#7F7F7F\", \"#BCBD22\", \"#17BECF\"], \"font\": {\"color\": \"rgb(36,36,36)\"}, \"geo\": {\"bgcolor\": \"white\", \"lakecolor\": \"white\", \"landcolor\": \"white\", \"showlakes\": true, \"showland\": true, \"subunitcolor\": \"white\"}, \"hoverlabel\": {\"align\": \"left\"}, \"hovermode\": \"closest\", \"mapbox\": {\"style\": \"light\"}, \"paper_bgcolor\": \"white\", \"plot_bgcolor\": \"white\", \"polar\": {\"angularaxis\": {\"gridcolor\": \"rgb(232,232,232)\", \"linecolor\": \"rgb(36,36,36)\", \"showgrid\": false, \"showline\": true, \"ticks\": \"outside\"}, \"bgcolor\": \"white\", \"radialaxis\": {\"gridcolor\": \"rgb(232,232,232)\", \"linecolor\": \"rgb(36,36,36)\", \"showgrid\": false, \"showline\": true, \"ticks\": \"outside\"}}, \"scene\": {\"xaxis\": {\"backgroundcolor\": \"white\", \"gridcolor\": \"rgb(232,232,232)\", \"gridwidth\": 2, \"linecolor\": \"rgb(36,36,36)\", \"showbackground\": true, \"showgrid\": false, \"showline\": true, \"ticks\": \"outside\", \"zeroline\": false, \"zerolinecolor\": \"rgb(36,36,36)\"}, \"yaxis\": {\"backgroundcolor\": \"white\", \"gridcolor\": \"rgb(232,232,232)\", \"gridwidth\": 2, \"linecolor\": \"rgb(36,36,36)\", \"showbackground\": true, \"showgrid\": false, \"showline\": true, \"ticks\": \"outside\", \"zeroline\": false, \"zerolinecolor\": \"rgb(36,36,36)\"}, \"zaxis\": {\"backgroundcolor\": \"white\", \"gridcolor\": \"rgb(232,232,232)\", \"gridwidth\": 2, \"linecolor\": \"rgb(36,36,36)\", \"showbackground\": true, \"showgrid\": false, \"showline\": true, \"ticks\": \"outside\", \"zeroline\": false, \"zerolinecolor\": \"rgb(36,36,36)\"}}, \"shapedefaults\": {\"fillcolor\": \"black\", \"line\": {\"width\": 0}, \"opacity\": 0.3}, \"ternary\": {\"aaxis\": {\"gridcolor\": \"rgb(232,232,232)\", \"linecolor\": \"rgb(36,36,36)\", \"showgrid\": false, \"showline\": true, \"ticks\": \"outside\"}, \"baxis\": {\"gridcolor\": \"rgb(232,232,232)\", \"linecolor\": \"rgb(36,36,36)\", \"showgrid\": false, \"showline\": true, \"ticks\": \"outside\"}, \"bgcolor\": \"white\", \"caxis\": {\"gridcolor\": \"rgb(232,232,232)\", \"linecolor\": \"rgb(36,36,36)\", \"showgrid\": false, \"showline\": true, \"ticks\": \"outside\"}}, \"title\": {\"x\": 0.05}, \"xaxis\": {\"automargin\": true, \"gridcolor\": \"rgb(232,232,232)\", \"linecolor\": \"rgb(36,36,36)\", \"showgrid\": false, \"showline\": true, \"ticks\": \"outside\", \"title\": {\"standoff\": 15}, \"zeroline\": false, \"zerolinecolor\": \"rgb(36,36,36)\"}, \"yaxis\": {\"automargin\": true, \"gridcolor\": \"rgb(232,232,232)\", \"linecolor\": \"rgb(36,36,36)\", \"showgrid\": false, \"showline\": true, \"ticks\": \"outside\", \"title\": {\"standoff\": 15}, \"zeroline\": false, \"zerolinecolor\": \"rgb(36,36,36)\"}}}, \"title\": {\"text\": \"Daily Sales for the Top 5 Commodities\"}, \"xaxis\": {\"anchor\": \"y\", \"domain\": [0.0, 1.0], \"title\": {\"text\": \"DAY\"}}, \"yaxis\": {\"anchor\": \"x\", \"domain\": [0.0, 1.0], \"title\": {\"text\": \"SALES_VALUE\"}}},                        {\"responsive\": true}                    ).then(function(){\n",
       "                            \n",
       "var gd = document.getElementById('00cf29b4-620d-4f6b-a99c-888840c77fb8');\n",
       "var x = new MutationObserver(function (mutations, observer) {{\n",
       "        var display = window.getComputedStyle(gd).display;\n",
       "        if (!display || display === 'none') {{\n",
       "            console.log([gd, 'removed!']);\n",
       "            Plotly.purge(gd);\n",
       "            observer.disconnect();\n",
       "        }}\n",
       "}});\n",
       "\n",
       "// Listen for the removal of the full notebook cells\n",
       "var notebookContainer = gd.closest('#notebook-container');\n",
       "if (notebookContainer) {{\n",
       "    x.observe(notebookContainer, {childList: true});\n",
       "}}\n",
       "\n",
       "// Listen for the clearing of the current output cell\n",
       "var outputEl = gd.closest('.output');\n",
       "if (outputEl) {{\n",
       "    x.observe(outputEl, {childList: true});\n",
       "}}\n",
       "\n",
       "                        })                };                });            </script>        </div>"
      ]
     },
     "metadata": {},
     "output_type": "display_data"
    }
   ],
   "source": [
    "# Prepare dataset\n",
    "list_top5_sales = df_top5['COMMODITY_DESC']\n",
    "\n",
    "daily_sales_top5 = daily_sales[daily_sales['COMMODITY_DESC'] \\\n",
    "                               .isin(list_top5_sales)] \\\n",
    "                                [['COMMODITY_DESC', 'SALES_VALUE', 'DAY']] \\\n",
    "                               .groupby(['COMMODITY_DESC','DAY']).sum().reset_index()\n",
    "\n",
    "fig = px.line(daily_sales_top5, \n",
    "              x = daily_sales_top5.DAY, \n",
    "              y = daily_sales_top5.SALES_VALUE,\n",
    "             color = daily_sales_top5.COMMODITY_DESC,\n",
    "             title = 'Daily Sales for the Top 5 Commodities',\n",
    "             template = 'simple_white')\n",
    "\n",
    "fig.show()"
   ]
  },
  {
   "cell_type": "markdown",
   "metadata": {},
   "source": [
    "### Chart 4: Box Plots for the Top 5 Commodities"
   ]
  },
  {
   "cell_type": "code",
   "execution_count": 53,
   "metadata": {},
   "outputs": [
    {
     "data": {
      "application/vnd.plotly.v1+json": {
       "config": {
        "plotlyServerURL": "https://plot.ly"
       },
       "data": [
        {
         "alignmentgroup": "True",
         "hovertemplate": "COMMODITY_DESC=%{x}<br>SALES_VALUE=%{y}<extra></extra>",
         "legendgroup": "BEEF",
         "marker": {
          "color": "#1F77B4"
         },
         "name": "BEEF",
         "notched": false,
         "offsetgroup": "BEEF",
         "orientation": "v",
         "showlegend": true,
         "type": "box",
         "x": [
          "BEEF",
          "BEEF",
          "BEEF",
          "BEEF",
          "BEEF",
          "BEEF",
          "BEEF",
          "BEEF",
          "BEEF",
          "BEEF",
          "BEEF",
          "BEEF",
          "BEEF",
          "BEEF",
          "BEEF",
          "BEEF",
          "BEEF",
          "BEEF",
          "BEEF",
          "BEEF",
          "BEEF",
          "BEEF",
          "BEEF",
          "BEEF",
          "BEEF",
          "BEEF",
          "BEEF",
          "BEEF",
          "BEEF",
          "BEEF",
          "BEEF",
          "BEEF",
          "BEEF",
          "BEEF",
          "BEEF",
          "BEEF",
          "BEEF",
          "BEEF",
          "BEEF",
          "BEEF",
          "BEEF",
          "BEEF",
          "BEEF",
          "BEEF",
          "BEEF",
          "BEEF",
          "BEEF",
          "BEEF",
          "BEEF",
          "BEEF",
          "BEEF",
          "BEEF",
          "BEEF",
          "BEEF",
          "BEEF",
          "BEEF",
          "BEEF",
          "BEEF",
          "BEEF",
          "BEEF",
          "BEEF",
          "BEEF",
          "BEEF",
          "BEEF",
          "BEEF",
          "BEEF",
          "BEEF",
          "BEEF",
          "BEEF",
          "BEEF",
          "BEEF",
          "BEEF",
          "BEEF",
          "BEEF",
          "BEEF",
          "BEEF",
          "BEEF",
          "BEEF",
          "BEEF",
          "BEEF",
          "BEEF",
          "BEEF",
          "BEEF",
          "BEEF",
          "BEEF",
          "BEEF",
          "BEEF",
          "BEEF",
          "BEEF",
          "BEEF",
          "BEEF",
          "BEEF",
          "BEEF",
          "BEEF",
          "BEEF",
          "BEEF",
          "BEEF",
          "BEEF",
          "BEEF"
         ],
         "x0": " ",
         "xaxis": "x",
         "y": [
          3.09,
          9.44,
          54.44,
          84.71999999999998,
          36.07,
          64.08,
          15.72,
          37.550000000000004,
          28.33,
          18.35,
          133.41999999999996,
          107.28000000000002,
          69.66,
          81.71000000000001,
          69.79,
          56.69,
          83.38000000000001,
          121.71000000000002,
          73.05000000000001,
          70.30000000000001,
          136.86,
          68.09,
          37.46,
          95.36000000000001,
          196.81000000000003,
          142.64,
          72.73,
          115.47999999999999,
          125.34,
          149.29,
          126.96000000000001,
          124.74999999999999,
          205.98000000000002,
          102.24000000000001,
          106.53,
          352.46999999999997,
          77.86000000000001,
          182.47000000000003,
          217.33000000000004,
          258.44,
          168.76999999999998,
          143.27,
          112.17,
          366.71000000000004,
          179.48000000000002,
          309.3999999999999,
          263.94000000000005,
          186.80999999999997,
          147.11999999999998,
          190.48999999999998,
          184.80999999999997,
          246.45999999999998,
          240.49999999999997,
          212.83,
          145.08,
          93.19000000000001,
          164.28000000000003,
          225.11,
          137.19000000000003,
          393.6200000000001,
          244.02000000000004,
          152.65,
          255.50000000000003,
          111.64999999999999,
          339.57000000000005,
          455.68,
          635.87,
          292.16,
          586.2900000000002,
          223.09,
          245.02999999999997,
          321.83000000000004,
          244.82999999999998,
          477.11999999999983,
          391.5,
          344.56,
          319.34,
          269.53,
          227.28,
          262.88,
          351.2899999999999,
          488.28999999999985,
          298.4699999999999,
          232.58000000000004,
          342.82000000000005,
          335.50999999999993,
          354.83000000000004,
          374.65999999999997,
          410.57999999999987,
          360.35,
          276.54,
          351.67,
          241.78,
          338.1000000000001,
          524.4999999999999,
          577.6200000000003,
          217.39000000000001,
          227.48999999999998,
          368.54
         ],
         "y0": " ",
         "yaxis": "y"
        },
        {
         "alignmentgroup": "True",
         "hovertemplate": "COMMODITY_DESC=%{x}<br>SALES_VALUE=%{y}<extra></extra>",
         "legendgroup": "BEERS/ALES",
         "marker": {
          "color": "#FF7F0E"
         },
         "name": "BEERS/ALES",
         "notched": false,
         "offsetgroup": "BEERS/ALES",
         "orientation": "v",
         "showlegend": true,
         "type": "box",
         "x": [
          "BEERS/ALES",
          "BEERS/ALES",
          "BEERS/ALES",
          "BEERS/ALES",
          "BEERS/ALES",
          "BEERS/ALES",
          "BEERS/ALES",
          "BEERS/ALES",
          "BEERS/ALES",
          "BEERS/ALES",
          "BEERS/ALES",
          "BEERS/ALES",
          "BEERS/ALES",
          "BEERS/ALES",
          "BEERS/ALES",
          "BEERS/ALES",
          "BEERS/ALES",
          "BEERS/ALES",
          "BEERS/ALES",
          "BEERS/ALES",
          "BEERS/ALES",
          "BEERS/ALES",
          "BEERS/ALES",
          "BEERS/ALES",
          "BEERS/ALES",
          "BEERS/ALES",
          "BEERS/ALES",
          "BEERS/ALES",
          "BEERS/ALES",
          "BEERS/ALES",
          "BEERS/ALES",
          "BEERS/ALES",
          "BEERS/ALES",
          "BEERS/ALES",
          "BEERS/ALES",
          "BEERS/ALES",
          "BEERS/ALES",
          "BEERS/ALES",
          "BEERS/ALES",
          "BEERS/ALES",
          "BEERS/ALES",
          "BEERS/ALES",
          "BEERS/ALES",
          "BEERS/ALES",
          "BEERS/ALES",
          "BEERS/ALES",
          "BEERS/ALES",
          "BEERS/ALES",
          "BEERS/ALES",
          "BEERS/ALES",
          "BEERS/ALES",
          "BEERS/ALES",
          "BEERS/ALES",
          "BEERS/ALES",
          "BEERS/ALES",
          "BEERS/ALES",
          "BEERS/ALES",
          "BEERS/ALES",
          "BEERS/ALES",
          "BEERS/ALES",
          "BEERS/ALES",
          "BEERS/ALES",
          "BEERS/ALES",
          "BEERS/ALES",
          "BEERS/ALES",
          "BEERS/ALES",
          "BEERS/ALES",
          "BEERS/ALES",
          "BEERS/ALES",
          "BEERS/ALES",
          "BEERS/ALES",
          "BEERS/ALES",
          "BEERS/ALES",
          "BEERS/ALES",
          "BEERS/ALES",
          "BEERS/ALES",
          "BEERS/ALES",
          "BEERS/ALES",
          "BEERS/ALES",
          "BEERS/ALES",
          "BEERS/ALES",
          "BEERS/ALES",
          "BEERS/ALES",
          "BEERS/ALES",
          "BEERS/ALES",
          "BEERS/ALES",
          "BEERS/ALES",
          "BEERS/ALES",
          "BEERS/ALES",
          "BEERS/ALES",
          "BEERS/ALES",
          "BEERS/ALES",
          "BEERS/ALES",
          "BEERS/ALES",
          "BEERS/ALES",
          "BEERS/ALES",
          "BEERS/ALES"
         ],
         "x0": " ",
         "xaxis": "x",
         "y": [
          7.99,
          58.93000000000001,
          27.97,
          25.270000000000003,
          14.780000000000001,
          9.99,
          10.48,
          20.759999999999998,
          25.97,
          50.129999999999995,
          14.48,
          12.68,
          34.27,
          29.46,
          50.95,
          47.95,
          74.50000000000001,
          37.47,
          24.97,
          34.45,
          27.47,
          22.47,
          117.35999999999999,
          33.65,
          66.22,
          33.35,
          49.53,
          46.95,
          29.47,
          115.63,
          28.85,
          56.720000000000006,
          56.43000000000001,
          99.67999999999996,
          56.940000000000005,
          79.78,
          60.440000000000005,
          71.41000000000001,
          38.96,
          56.900000000000006,
          51.45,
          74.97000000000001,
          90.97999999999998,
          95.69,
          142.35,
          86.52,
          61.620000000000005,
          63.410000000000004,
          96.82999999999998,
          155.21000000000004,
          115.16,
          183.83999999999997,
          56.940000000000005,
          58.40000000000001,
          152.3,
          54.70000000000001,
          92.65999999999998,
          129.51999999999998,
          115.53999999999999,
          89.49,
          55.77,
          113.37999999999998,
          106.14999999999998,
          300.35000000000014,
          338.2400000000001,
          166.19000000000003,
          173.70000000000002,
          108.03999999999999,
          119.00999999999998,
          109.96999999999998,
          159.38,
          314.15000000000015,
          169.92999999999998,
          117.11999999999998,
          90.33999999999997,
          127.60999999999999,
          160.25000000000003,
          296.67,
          255.73000000000005,
          234.44000000000005,
          62.300000000000004,
          133.74999999999997,
          100.10999999999999,
          167.8,
          305.33000000000004,
          277.14000000000016,
          232.99000000000007,
          173.04000000000005,
          142.51,
          145.90999999999997,
          184.81000000000006,
          199.92000000000002,
          429.15000000000015,
          153.36,
          257.72999999999996,
          145.11,
          140.74
         ],
         "y0": " ",
         "yaxis": "y"
        },
        {
         "alignmentgroup": "True",
         "hovertemplate": "COMMODITY_DESC=%{x}<br>SALES_VALUE=%{y}<extra></extra>",
         "legendgroup": "CHEESE",
         "marker": {
          "color": "#2CA02C"
         },
         "name": "CHEESE",
         "notched": false,
         "offsetgroup": "CHEESE",
         "orientation": "v",
         "showlegend": true,
         "type": "box",
         "x": [
          "CHEESE",
          "CHEESE",
          "CHEESE",
          "CHEESE",
          "CHEESE",
          "CHEESE",
          "CHEESE",
          "CHEESE",
          "CHEESE",
          "CHEESE",
          "CHEESE",
          "CHEESE",
          "CHEESE",
          "CHEESE",
          "CHEESE",
          "CHEESE",
          "CHEESE",
          "CHEESE",
          "CHEESE",
          "CHEESE",
          "CHEESE",
          "CHEESE",
          "CHEESE",
          "CHEESE",
          "CHEESE",
          "CHEESE",
          "CHEESE",
          "CHEESE",
          "CHEESE",
          "CHEESE",
          "CHEESE",
          "CHEESE",
          "CHEESE",
          "CHEESE",
          "CHEESE",
          "CHEESE",
          "CHEESE",
          "CHEESE",
          "CHEESE",
          "CHEESE",
          "CHEESE",
          "CHEESE",
          "CHEESE",
          "CHEESE",
          "CHEESE",
          "CHEESE",
          "CHEESE",
          "CHEESE",
          "CHEESE",
          "CHEESE",
          "CHEESE",
          "CHEESE",
          "CHEESE",
          "CHEESE",
          "CHEESE",
          "CHEESE",
          "CHEESE",
          "CHEESE",
          "CHEESE",
          "CHEESE",
          "CHEESE",
          "CHEESE",
          "CHEESE",
          "CHEESE",
          "CHEESE",
          "CHEESE",
          "CHEESE",
          "CHEESE",
          "CHEESE",
          "CHEESE",
          "CHEESE",
          "CHEESE",
          "CHEESE",
          "CHEESE",
          "CHEESE",
          "CHEESE",
          "CHEESE",
          "CHEESE",
          "CHEESE",
          "CHEESE",
          "CHEESE",
          "CHEESE",
          "CHEESE",
          "CHEESE",
          "CHEESE",
          "CHEESE",
          "CHEESE",
          "CHEESE",
          "CHEESE",
          "CHEESE",
          "CHEESE",
          "CHEESE",
          "CHEESE",
          "CHEESE",
          "CHEESE",
          "CHEESE",
          "CHEESE",
          "CHEESE",
          "CHEESE"
         ],
         "x0": " ",
         "xaxis": "x",
         "y": [
          3.98,
          6.83,
          38.72,
          49.36000000000001,
          15.030000000000001,
          18.38,
          32.34,
          31.66,
          24.840000000000003,
          31.420000000000005,
          55.990000000000016,
          47.23000000000001,
          54.38000000000001,
          68.00000000000001,
          36.39000000000001,
          51.44000000000001,
          64.38,
          41.1,
          58.32,
          27.18,
          64.34000000000002,
          24.860000000000003,
          39.05,
          55.56,
          66.18,
          47.64000000000001,
          58.24,
          38.720000000000006,
          78.81,
          82.92999999999999,
          87.27999999999999,
          77.5,
          93.33,
          90.22000000000001,
          78.83000000000001,
          118.69999999999996,
          70.38000000000001,
          58.09000000000002,
          165.23999999999992,
          130.60999999999999,
          102.02999999999999,
          67.85000000000001,
          81.30000000000001,
          65.87,
          75.39999999999999,
          95.27000000000004,
          99.16000000000003,
          111.01,
          114.08000000000003,
          98.43000000000002,
          94.97000000000003,
          122.47000000000001,
          128.54000000000002,
          115.87,
          113.70999999999998,
          91.04999999999998,
          67.66999999999999,
          142.25000000000003,
          126.66999999999994,
          147.38000000000002,
          133.97,
          142.21000000000004,
          112.75000000000001,
          90.78,
          162.21999999999997,
          130.31,
          215.96999999999983,
          194.14999999999992,
          146.69000000000003,
          127.18999999999998,
          181.33999999999997,
          147.27999999999997,
          124.32999999999997,
          162.73,
          207.82,
          163.37999999999994,
          164.49999999999994,
          126.83999999999997,
          125.35999999999999,
          236.26000000000005,
          203.86,
          199.41000000000003,
          198.98,
          164.43999999999997,
          145.40999999999997,
          169.15,
          207.21999999999994,
          209.30999999999995,
          220.81000000000006,
          178.14999999999992,
          196.8,
          188.62,
          183.23999999999987,
          181.62000000000003,
          212.97999999999988,
          248.45000000000007,
          90.47000000000001,
          151.36000000000004,
          226.15000000000012
         ],
         "y0": " ",
         "yaxis": "y"
        },
        {
         "alignmentgroup": "True",
         "hovertemplate": "COMMODITY_DESC=%{x}<br>SALES_VALUE=%{y}<extra></extra>",
         "legendgroup": "FLUID MILK PRODUCTS",
         "marker": {
          "color": "#D62728"
         },
         "name": "FLUID MILK PRODUCTS",
         "notched": false,
         "offsetgroup": "FLUID MILK PRODUCTS",
         "orientation": "v",
         "showlegend": true,
         "type": "box",
         "x": [
          "FLUID MILK PRODUCTS",
          "FLUID MILK PRODUCTS",
          "FLUID MILK PRODUCTS",
          "FLUID MILK PRODUCTS",
          "FLUID MILK PRODUCTS",
          "FLUID MILK PRODUCTS",
          "FLUID MILK PRODUCTS",
          "FLUID MILK PRODUCTS",
          "FLUID MILK PRODUCTS",
          "FLUID MILK PRODUCTS",
          "FLUID MILK PRODUCTS",
          "FLUID MILK PRODUCTS",
          "FLUID MILK PRODUCTS",
          "FLUID MILK PRODUCTS",
          "FLUID MILK PRODUCTS",
          "FLUID MILK PRODUCTS",
          "FLUID MILK PRODUCTS",
          "FLUID MILK PRODUCTS",
          "FLUID MILK PRODUCTS",
          "FLUID MILK PRODUCTS",
          "FLUID MILK PRODUCTS",
          "FLUID MILK PRODUCTS",
          "FLUID MILK PRODUCTS",
          "FLUID MILK PRODUCTS",
          "FLUID MILK PRODUCTS",
          "FLUID MILK PRODUCTS",
          "FLUID MILK PRODUCTS",
          "FLUID MILK PRODUCTS",
          "FLUID MILK PRODUCTS",
          "FLUID MILK PRODUCTS",
          "FLUID MILK PRODUCTS",
          "FLUID MILK PRODUCTS",
          "FLUID MILK PRODUCTS",
          "FLUID MILK PRODUCTS",
          "FLUID MILK PRODUCTS",
          "FLUID MILK PRODUCTS",
          "FLUID MILK PRODUCTS",
          "FLUID MILK PRODUCTS",
          "FLUID MILK PRODUCTS",
          "FLUID MILK PRODUCTS",
          "FLUID MILK PRODUCTS",
          "FLUID MILK PRODUCTS",
          "FLUID MILK PRODUCTS",
          "FLUID MILK PRODUCTS",
          "FLUID MILK PRODUCTS",
          "FLUID MILK PRODUCTS",
          "FLUID MILK PRODUCTS",
          "FLUID MILK PRODUCTS",
          "FLUID MILK PRODUCTS",
          "FLUID MILK PRODUCTS",
          "FLUID MILK PRODUCTS",
          "FLUID MILK PRODUCTS",
          "FLUID MILK PRODUCTS",
          "FLUID MILK PRODUCTS",
          "FLUID MILK PRODUCTS",
          "FLUID MILK PRODUCTS",
          "FLUID MILK PRODUCTS",
          "FLUID MILK PRODUCTS",
          "FLUID MILK PRODUCTS",
          "FLUID MILK PRODUCTS",
          "FLUID MILK PRODUCTS",
          "FLUID MILK PRODUCTS",
          "FLUID MILK PRODUCTS",
          "FLUID MILK PRODUCTS",
          "FLUID MILK PRODUCTS",
          "FLUID MILK PRODUCTS",
          "FLUID MILK PRODUCTS",
          "FLUID MILK PRODUCTS",
          "FLUID MILK PRODUCTS",
          "FLUID MILK PRODUCTS",
          "FLUID MILK PRODUCTS",
          "FLUID MILK PRODUCTS",
          "FLUID MILK PRODUCTS",
          "FLUID MILK PRODUCTS",
          "FLUID MILK PRODUCTS",
          "FLUID MILK PRODUCTS",
          "FLUID MILK PRODUCTS",
          "FLUID MILK PRODUCTS",
          "FLUID MILK PRODUCTS",
          "FLUID MILK PRODUCTS",
          "FLUID MILK PRODUCTS",
          "FLUID MILK PRODUCTS",
          "FLUID MILK PRODUCTS",
          "FLUID MILK PRODUCTS",
          "FLUID MILK PRODUCTS",
          "FLUID MILK PRODUCTS",
          "FLUID MILK PRODUCTS",
          "FLUID MILK PRODUCTS",
          "FLUID MILK PRODUCTS",
          "FLUID MILK PRODUCTS",
          "FLUID MILK PRODUCTS",
          "FLUID MILK PRODUCTS",
          "FLUID MILK PRODUCTS",
          "FLUID MILK PRODUCTS",
          "FLUID MILK PRODUCTS",
          "FLUID MILK PRODUCTS",
          "FLUID MILK PRODUCTS",
          "FLUID MILK PRODUCTS",
          "FLUID MILK PRODUCTS"
         ],
         "x0": " ",
         "xaxis": "x",
         "y": [
          2.66,
          17.96,
          32.11000000000001,
          44.33,
          20.51,
          28.63,
          33.08,
          31.619999999999997,
          41.209999999999994,
          37.400000000000006,
          68.86,
          52.190000000000005,
          32.260000000000005,
          65.69999999999999,
          21.36,
          50.49,
          65.44,
          66.71,
          70.7,
          30.95,
          54.300000000000004,
          59.93000000000001,
          41.04000000000001,
          38.290000000000006,
          65.43,
          67.05000000000001,
          70.26000000000002,
          37.029999999999994,
          76.51000000000002,
          114.86000000000004,
          68.61000000000001,
          90.47,
          104.00000000000001,
          59.68000000000001,
          75.17000000000002,
          98.93,
          51.14000000000001,
          85.30000000000001,
          113.60000000000001,
          118.58999999999999,
          114.40000000000002,
          95.84,
          88.99000000000001,
          74.50000000000001,
          71.69,
          106.52,
          154.69,
          83.08,
          68.19000000000003,
          101.85000000000002,
          94.94999999999999,
          69.47000000000001,
          132.04999999999993,
          109.94999999999996,
          139.60999999999999,
          105.26000000000002,
          99.18,
          105.35,
          132.82000000000002,
          162.85,
          167.07999999999998,
          73.22,
          115.96999999999996,
          95.65999999999997,
          139.9,
          120.68999999999993,
          169.68999999999997,
          168.8099999999999,
          196.06999999999996,
          101.31000000000002,
          160.26000000000002,
          159.56000000000006,
          141.56000000000003,
          198.18,
          200.39,
          147.23999999999992,
          176.3399999999999,
          125.49999999999997,
          129.48999999999998,
          166.22999999999993,
          223.14000000000004,
          228.85999999999996,
          173.50999999999996,
          221.39999999999998,
          193.43,
          185.6,
          249.78999999999994,
          217.23999999999995,
          261.4199999999999,
          201.44999999999987,
          219.58999999999992,
          222.36999999999998,
          159.13000000000002,
          238.78999999999996,
          254.2899999999999,
          305.17999999999995,
          179.00999999999988,
          170.77999999999994,
          202.34000000000006
         ],
         "y0": " ",
         "yaxis": "y"
        },
        {
         "alignmentgroup": "True",
         "hovertemplate": "COMMODITY_DESC=%{x}<br>SALES_VALUE=%{y}<extra></extra>",
         "legendgroup": "SOFT DRINKS",
         "marker": {
          "color": "#9467BD"
         },
         "name": "SOFT DRINKS",
         "notched": false,
         "offsetgroup": "SOFT DRINKS",
         "orientation": "v",
         "showlegend": true,
         "type": "box",
         "x": [
          "SOFT DRINKS",
          "SOFT DRINKS",
          "SOFT DRINKS",
          "SOFT DRINKS",
          "SOFT DRINKS",
          "SOFT DRINKS",
          "SOFT DRINKS",
          "SOFT DRINKS",
          "SOFT DRINKS",
          "SOFT DRINKS",
          "SOFT DRINKS",
          "SOFT DRINKS",
          "SOFT DRINKS",
          "SOFT DRINKS",
          "SOFT DRINKS",
          "SOFT DRINKS",
          "SOFT DRINKS",
          "SOFT DRINKS",
          "SOFT DRINKS",
          "SOFT DRINKS",
          "SOFT DRINKS",
          "SOFT DRINKS",
          "SOFT DRINKS",
          "SOFT DRINKS",
          "SOFT DRINKS",
          "SOFT DRINKS",
          "SOFT DRINKS",
          "SOFT DRINKS",
          "SOFT DRINKS",
          "SOFT DRINKS",
          "SOFT DRINKS",
          "SOFT DRINKS",
          "SOFT DRINKS",
          "SOFT DRINKS",
          "SOFT DRINKS",
          "SOFT DRINKS",
          "SOFT DRINKS",
          "SOFT DRINKS",
          "SOFT DRINKS",
          "SOFT DRINKS",
          "SOFT DRINKS",
          "SOFT DRINKS",
          "SOFT DRINKS",
          "SOFT DRINKS",
          "SOFT DRINKS",
          "SOFT DRINKS",
          "SOFT DRINKS",
          "SOFT DRINKS",
          "SOFT DRINKS",
          "SOFT DRINKS",
          "SOFT DRINKS",
          "SOFT DRINKS",
          "SOFT DRINKS",
          "SOFT DRINKS",
          "SOFT DRINKS",
          "SOFT DRINKS",
          "SOFT DRINKS",
          "SOFT DRINKS",
          "SOFT DRINKS",
          "SOFT DRINKS",
          "SOFT DRINKS",
          "SOFT DRINKS",
          "SOFT DRINKS",
          "SOFT DRINKS",
          "SOFT DRINKS",
          "SOFT DRINKS",
          "SOFT DRINKS",
          "SOFT DRINKS",
          "SOFT DRINKS",
          "SOFT DRINKS",
          "SOFT DRINKS",
          "SOFT DRINKS",
          "SOFT DRINKS",
          "SOFT DRINKS",
          "SOFT DRINKS",
          "SOFT DRINKS",
          "SOFT DRINKS",
          "SOFT DRINKS",
          "SOFT DRINKS",
          "SOFT DRINKS",
          "SOFT DRINKS",
          "SOFT DRINKS",
          "SOFT DRINKS",
          "SOFT DRINKS",
          "SOFT DRINKS",
          "SOFT DRINKS",
          "SOFT DRINKS",
          "SOFT DRINKS",
          "SOFT DRINKS",
          "SOFT DRINKS",
          "SOFT DRINKS",
          "SOFT DRINKS",
          "SOFT DRINKS",
          "SOFT DRINKS",
          "SOFT DRINKS",
          "SOFT DRINKS",
          "SOFT DRINKS",
          "SOFT DRINKS",
          "SOFT DRINKS"
         ],
         "x0": " ",
         "xaxis": "x",
         "y": [
          29.740000000000002,
          10.629999999999999,
          81.19000000000001,
          99.98,
          50.05,
          32.28,
          40.32,
          36.129999999999995,
          11.390000000000002,
          81.54000000000002,
          78.16000000000001,
          93.30000000000003,
          38.18000000000001,
          46.14999999999999,
          46.36,
          18.15,
          120.55000000000001,
          67.79,
          153.26,
          131.15000000000003,
          92.80999999999999,
          74.69999999999999,
          68.87,
          151.15000000000003,
          191.04000000000002,
          77.32,
          97.76,
          97.16,
          150.99,
          120.42999999999999,
          142.84000000000006,
          166.71,
          170.64000000000001,
          175.77,
          162.15000000000006,
          186.64000000000004,
          75.07000000000001,
          140.46000000000006,
          171.63000000000005,
          129.33,
          206.84000000000012,
          114.20000000000003,
          129.87,
          242.7400000000001,
          128.91999999999996,
          223.4900000000001,
          268.7500000000001,
          149.16,
          225.34000000000003,
          222.86000000000007,
          169.42,
          187.01999999999998,
          240.3600000000001,
          211.69000000000008,
          185.68000000000006,
          155.86000000000007,
          162.04000000000013,
          131.61000000000007,
          180.63000000000008,
          266.63000000000005,
          226.8400000000001,
          260.76,
          245.0800000000001,
          236.5700000000001,
          324.6800000000002,
          401.09000000000003,
          425.40999999999985,
          449.13,
          397.68000000000006,
          119.60000000000004,
          247.55,
          253.28000000000026,
          226.1800000000001,
          324.41000000000014,
          394.13,
          360.51000000000005,
          356.25,
          337.0299999999998,
          362.44999999999993,
          417.64000000000016,
          415.9600000000001,
          549.7799999999999,
          320.19000000000005,
          292.73,
          302.7300000000001,
          330.2099999999999,
          354.2399999999998,
          369.32,
          452.73999999999984,
          377.25999999999993,
          284.87,
          423.24999999999983,
          483.42000000000013,
          313.2600000000001,
          512.77,
          524.4299999999997,
          746.1899999999997,
          554.1699999999997,
          608.5399999999997
         ],
         "y0": " ",
         "yaxis": "y"
        }
       ],
       "layout": {
        "boxmode": "overlay",
        "legend": {
         "title": {
          "text": "COMMODITY_DESC"
         },
         "tracegroupgap": 0
        },
        "template": {
         "data": {
          "bar": [
           {
            "error_x": {
             "color": "rgb(36,36,36)"
            },
            "error_y": {
             "color": "rgb(36,36,36)"
            },
            "marker": {
             "line": {
              "color": "white",
              "width": 0.5
             }
            },
            "type": "bar"
           }
          ],
          "barpolar": [
           {
            "marker": {
             "line": {
              "color": "white",
              "width": 0.5
             }
            },
            "type": "barpolar"
           }
          ],
          "carpet": [
           {
            "aaxis": {
             "endlinecolor": "rgb(36,36,36)",
             "gridcolor": "white",
             "linecolor": "white",
             "minorgridcolor": "white",
             "startlinecolor": "rgb(36,36,36)"
            },
            "baxis": {
             "endlinecolor": "rgb(36,36,36)",
             "gridcolor": "white",
             "linecolor": "white",
             "minorgridcolor": "white",
             "startlinecolor": "rgb(36,36,36)"
            },
            "type": "carpet"
           }
          ],
          "choropleth": [
           {
            "colorbar": {
             "outlinewidth": 1,
             "tickcolor": "rgb(36,36,36)",
             "ticks": "outside"
            },
            "type": "choropleth"
           }
          ],
          "contour": [
           {
            "colorbar": {
             "outlinewidth": 1,
             "tickcolor": "rgb(36,36,36)",
             "ticks": "outside"
            },
            "colorscale": [
             [
              0,
              "#440154"
             ],
             [
              0.1111111111111111,
              "#482878"
             ],
             [
              0.2222222222222222,
              "#3e4989"
             ],
             [
              0.3333333333333333,
              "#31688e"
             ],
             [
              0.4444444444444444,
              "#26828e"
             ],
             [
              0.5555555555555556,
              "#1f9e89"
             ],
             [
              0.6666666666666666,
              "#35b779"
             ],
             [
              0.7777777777777778,
              "#6ece58"
             ],
             [
              0.8888888888888888,
              "#b5de2b"
             ],
             [
              1,
              "#fde725"
             ]
            ],
            "type": "contour"
           }
          ],
          "contourcarpet": [
           {
            "colorbar": {
             "outlinewidth": 1,
             "tickcolor": "rgb(36,36,36)",
             "ticks": "outside"
            },
            "type": "contourcarpet"
           }
          ],
          "heatmap": [
           {
            "colorbar": {
             "outlinewidth": 1,
             "tickcolor": "rgb(36,36,36)",
             "ticks": "outside"
            },
            "colorscale": [
             [
              0,
              "#440154"
             ],
             [
              0.1111111111111111,
              "#482878"
             ],
             [
              0.2222222222222222,
              "#3e4989"
             ],
             [
              0.3333333333333333,
              "#31688e"
             ],
             [
              0.4444444444444444,
              "#26828e"
             ],
             [
              0.5555555555555556,
              "#1f9e89"
             ],
             [
              0.6666666666666666,
              "#35b779"
             ],
             [
              0.7777777777777778,
              "#6ece58"
             ],
             [
              0.8888888888888888,
              "#b5de2b"
             ],
             [
              1,
              "#fde725"
             ]
            ],
            "type": "heatmap"
           }
          ],
          "heatmapgl": [
           {
            "colorbar": {
             "outlinewidth": 1,
             "tickcolor": "rgb(36,36,36)",
             "ticks": "outside"
            },
            "colorscale": [
             [
              0,
              "#440154"
             ],
             [
              0.1111111111111111,
              "#482878"
             ],
             [
              0.2222222222222222,
              "#3e4989"
             ],
             [
              0.3333333333333333,
              "#31688e"
             ],
             [
              0.4444444444444444,
              "#26828e"
             ],
             [
              0.5555555555555556,
              "#1f9e89"
             ],
             [
              0.6666666666666666,
              "#35b779"
             ],
             [
              0.7777777777777778,
              "#6ece58"
             ],
             [
              0.8888888888888888,
              "#b5de2b"
             ],
             [
              1,
              "#fde725"
             ]
            ],
            "type": "heatmapgl"
           }
          ],
          "histogram": [
           {
            "marker": {
             "line": {
              "color": "white",
              "width": 0.6
             }
            },
            "type": "histogram"
           }
          ],
          "histogram2d": [
           {
            "colorbar": {
             "outlinewidth": 1,
             "tickcolor": "rgb(36,36,36)",
             "ticks": "outside"
            },
            "colorscale": [
             [
              0,
              "#440154"
             ],
             [
              0.1111111111111111,
              "#482878"
             ],
             [
              0.2222222222222222,
              "#3e4989"
             ],
             [
              0.3333333333333333,
              "#31688e"
             ],
             [
              0.4444444444444444,
              "#26828e"
             ],
             [
              0.5555555555555556,
              "#1f9e89"
             ],
             [
              0.6666666666666666,
              "#35b779"
             ],
             [
              0.7777777777777778,
              "#6ece58"
             ],
             [
              0.8888888888888888,
              "#b5de2b"
             ],
             [
              1,
              "#fde725"
             ]
            ],
            "type": "histogram2d"
           }
          ],
          "histogram2dcontour": [
           {
            "colorbar": {
             "outlinewidth": 1,
             "tickcolor": "rgb(36,36,36)",
             "ticks": "outside"
            },
            "colorscale": [
             [
              0,
              "#440154"
             ],
             [
              0.1111111111111111,
              "#482878"
             ],
             [
              0.2222222222222222,
              "#3e4989"
             ],
             [
              0.3333333333333333,
              "#31688e"
             ],
             [
              0.4444444444444444,
              "#26828e"
             ],
             [
              0.5555555555555556,
              "#1f9e89"
             ],
             [
              0.6666666666666666,
              "#35b779"
             ],
             [
              0.7777777777777778,
              "#6ece58"
             ],
             [
              0.8888888888888888,
              "#b5de2b"
             ],
             [
              1,
              "#fde725"
             ]
            ],
            "type": "histogram2dcontour"
           }
          ],
          "mesh3d": [
           {
            "colorbar": {
             "outlinewidth": 1,
             "tickcolor": "rgb(36,36,36)",
             "ticks": "outside"
            },
            "type": "mesh3d"
           }
          ],
          "parcoords": [
           {
            "line": {
             "colorbar": {
              "outlinewidth": 1,
              "tickcolor": "rgb(36,36,36)",
              "ticks": "outside"
             }
            },
            "type": "parcoords"
           }
          ],
          "pie": [
           {
            "automargin": true,
            "type": "pie"
           }
          ],
          "scatter": [
           {
            "marker": {
             "colorbar": {
              "outlinewidth": 1,
              "tickcolor": "rgb(36,36,36)",
              "ticks": "outside"
             }
            },
            "type": "scatter"
           }
          ],
          "scatter3d": [
           {
            "line": {
             "colorbar": {
              "outlinewidth": 1,
              "tickcolor": "rgb(36,36,36)",
              "ticks": "outside"
             }
            },
            "marker": {
             "colorbar": {
              "outlinewidth": 1,
              "tickcolor": "rgb(36,36,36)",
              "ticks": "outside"
             }
            },
            "type": "scatter3d"
           }
          ],
          "scattercarpet": [
           {
            "marker": {
             "colorbar": {
              "outlinewidth": 1,
              "tickcolor": "rgb(36,36,36)",
              "ticks": "outside"
             }
            },
            "type": "scattercarpet"
           }
          ],
          "scattergeo": [
           {
            "marker": {
             "colorbar": {
              "outlinewidth": 1,
              "tickcolor": "rgb(36,36,36)",
              "ticks": "outside"
             }
            },
            "type": "scattergeo"
           }
          ],
          "scattergl": [
           {
            "marker": {
             "colorbar": {
              "outlinewidth": 1,
              "tickcolor": "rgb(36,36,36)",
              "ticks": "outside"
             }
            },
            "type": "scattergl"
           }
          ],
          "scattermapbox": [
           {
            "marker": {
             "colorbar": {
              "outlinewidth": 1,
              "tickcolor": "rgb(36,36,36)",
              "ticks": "outside"
             }
            },
            "type": "scattermapbox"
           }
          ],
          "scatterpolar": [
           {
            "marker": {
             "colorbar": {
              "outlinewidth": 1,
              "tickcolor": "rgb(36,36,36)",
              "ticks": "outside"
             }
            },
            "type": "scatterpolar"
           }
          ],
          "scatterpolargl": [
           {
            "marker": {
             "colorbar": {
              "outlinewidth": 1,
              "tickcolor": "rgb(36,36,36)",
              "ticks": "outside"
             }
            },
            "type": "scatterpolargl"
           }
          ],
          "scatterternary": [
           {
            "marker": {
             "colorbar": {
              "outlinewidth": 1,
              "tickcolor": "rgb(36,36,36)",
              "ticks": "outside"
             }
            },
            "type": "scatterternary"
           }
          ],
          "surface": [
           {
            "colorbar": {
             "outlinewidth": 1,
             "tickcolor": "rgb(36,36,36)",
             "ticks": "outside"
            },
            "colorscale": [
             [
              0,
              "#440154"
             ],
             [
              0.1111111111111111,
              "#482878"
             ],
             [
              0.2222222222222222,
              "#3e4989"
             ],
             [
              0.3333333333333333,
              "#31688e"
             ],
             [
              0.4444444444444444,
              "#26828e"
             ],
             [
              0.5555555555555556,
              "#1f9e89"
             ],
             [
              0.6666666666666666,
              "#35b779"
             ],
             [
              0.7777777777777778,
              "#6ece58"
             ],
             [
              0.8888888888888888,
              "#b5de2b"
             ],
             [
              1,
              "#fde725"
             ]
            ],
            "type": "surface"
           }
          ],
          "table": [
           {
            "cells": {
             "fill": {
              "color": "rgb(237,237,237)"
             },
             "line": {
              "color": "white"
             }
            },
            "header": {
             "fill": {
              "color": "rgb(217,217,217)"
             },
             "line": {
              "color": "white"
             }
            },
            "type": "table"
           }
          ]
         },
         "layout": {
          "annotationdefaults": {
           "arrowhead": 0,
           "arrowwidth": 1
          },
          "autotypenumbers": "strict",
          "coloraxis": {
           "colorbar": {
            "outlinewidth": 1,
            "tickcolor": "rgb(36,36,36)",
            "ticks": "outside"
           }
          },
          "colorscale": {
           "diverging": [
            [
             0,
             "rgb(103,0,31)"
            ],
            [
             0.1,
             "rgb(178,24,43)"
            ],
            [
             0.2,
             "rgb(214,96,77)"
            ],
            [
             0.3,
             "rgb(244,165,130)"
            ],
            [
             0.4,
             "rgb(253,219,199)"
            ],
            [
             0.5,
             "rgb(247,247,247)"
            ],
            [
             0.6,
             "rgb(209,229,240)"
            ],
            [
             0.7,
             "rgb(146,197,222)"
            ],
            [
             0.8,
             "rgb(67,147,195)"
            ],
            [
             0.9,
             "rgb(33,102,172)"
            ],
            [
             1,
             "rgb(5,48,97)"
            ]
           ],
           "sequential": [
            [
             0,
             "#440154"
            ],
            [
             0.1111111111111111,
             "#482878"
            ],
            [
             0.2222222222222222,
             "#3e4989"
            ],
            [
             0.3333333333333333,
             "#31688e"
            ],
            [
             0.4444444444444444,
             "#26828e"
            ],
            [
             0.5555555555555556,
             "#1f9e89"
            ],
            [
             0.6666666666666666,
             "#35b779"
            ],
            [
             0.7777777777777778,
             "#6ece58"
            ],
            [
             0.8888888888888888,
             "#b5de2b"
            ],
            [
             1,
             "#fde725"
            ]
           ],
           "sequentialminus": [
            [
             0,
             "#440154"
            ],
            [
             0.1111111111111111,
             "#482878"
            ],
            [
             0.2222222222222222,
             "#3e4989"
            ],
            [
             0.3333333333333333,
             "#31688e"
            ],
            [
             0.4444444444444444,
             "#26828e"
            ],
            [
             0.5555555555555556,
             "#1f9e89"
            ],
            [
             0.6666666666666666,
             "#35b779"
            ],
            [
             0.7777777777777778,
             "#6ece58"
            ],
            [
             0.8888888888888888,
             "#b5de2b"
            ],
            [
             1,
             "#fde725"
            ]
           ]
          },
          "colorway": [
           "#1F77B4",
           "#FF7F0E",
           "#2CA02C",
           "#D62728",
           "#9467BD",
           "#8C564B",
           "#E377C2",
           "#7F7F7F",
           "#BCBD22",
           "#17BECF"
          ],
          "font": {
           "color": "rgb(36,36,36)"
          },
          "geo": {
           "bgcolor": "white",
           "lakecolor": "white",
           "landcolor": "white",
           "showlakes": true,
           "showland": true,
           "subunitcolor": "white"
          },
          "hoverlabel": {
           "align": "left"
          },
          "hovermode": "closest",
          "mapbox": {
           "style": "light"
          },
          "paper_bgcolor": "white",
          "plot_bgcolor": "white",
          "polar": {
           "angularaxis": {
            "gridcolor": "rgb(232,232,232)",
            "linecolor": "rgb(36,36,36)",
            "showgrid": false,
            "showline": true,
            "ticks": "outside"
           },
           "bgcolor": "white",
           "radialaxis": {
            "gridcolor": "rgb(232,232,232)",
            "linecolor": "rgb(36,36,36)",
            "showgrid": false,
            "showline": true,
            "ticks": "outside"
           }
          },
          "scene": {
           "xaxis": {
            "backgroundcolor": "white",
            "gridcolor": "rgb(232,232,232)",
            "gridwidth": 2,
            "linecolor": "rgb(36,36,36)",
            "showbackground": true,
            "showgrid": false,
            "showline": true,
            "ticks": "outside",
            "zeroline": false,
            "zerolinecolor": "rgb(36,36,36)"
           },
           "yaxis": {
            "backgroundcolor": "white",
            "gridcolor": "rgb(232,232,232)",
            "gridwidth": 2,
            "linecolor": "rgb(36,36,36)",
            "showbackground": true,
            "showgrid": false,
            "showline": true,
            "ticks": "outside",
            "zeroline": false,
            "zerolinecolor": "rgb(36,36,36)"
           },
           "zaxis": {
            "backgroundcolor": "white",
            "gridcolor": "rgb(232,232,232)",
            "gridwidth": 2,
            "linecolor": "rgb(36,36,36)",
            "showbackground": true,
            "showgrid": false,
            "showline": true,
            "ticks": "outside",
            "zeroline": false,
            "zerolinecolor": "rgb(36,36,36)"
           }
          },
          "shapedefaults": {
           "fillcolor": "black",
           "line": {
            "width": 0
           },
           "opacity": 0.3
          },
          "ternary": {
           "aaxis": {
            "gridcolor": "rgb(232,232,232)",
            "linecolor": "rgb(36,36,36)",
            "showgrid": false,
            "showline": true,
            "ticks": "outside"
           },
           "baxis": {
            "gridcolor": "rgb(232,232,232)",
            "linecolor": "rgb(36,36,36)",
            "showgrid": false,
            "showline": true,
            "ticks": "outside"
           },
           "bgcolor": "white",
           "caxis": {
            "gridcolor": "rgb(232,232,232)",
            "linecolor": "rgb(36,36,36)",
            "showgrid": false,
            "showline": true,
            "ticks": "outside"
           }
          },
          "title": {
           "x": 0.05
          },
          "xaxis": {
           "automargin": true,
           "gridcolor": "rgb(232,232,232)",
           "linecolor": "rgb(36,36,36)",
           "showgrid": false,
           "showline": true,
           "ticks": "outside",
           "title": {
            "standoff": 15
           },
           "zeroline": false,
           "zerolinecolor": "rgb(36,36,36)"
          },
          "yaxis": {
           "automargin": true,
           "gridcolor": "rgb(232,232,232)",
           "linecolor": "rgb(36,36,36)",
           "showgrid": false,
           "showline": true,
           "ticks": "outside",
           "title": {
            "standoff": 15
           },
           "zeroline": false,
           "zerolinecolor": "rgb(36,36,36)"
          }
         }
        },
        "title": {
         "text": "Sales Distribution for the Top 5 Commodities"
        },
        "xaxis": {
         "anchor": "y",
         "categoryarray": [
          "BEEF",
          "BEERS/ALES",
          "CHEESE",
          "FLUID MILK PRODUCTS",
          "SOFT DRINKS"
         ],
         "categoryorder": "array",
         "domain": [
          0,
          1
         ],
         "title": {
          "text": "COMMODITY_DESC"
         }
        },
        "yaxis": {
         "anchor": "x",
         "domain": [
          0,
          1
         ],
         "title": {
          "text": "SALES_VALUE"
         }
        }
       }
      },
      "text/html": [
       "<div>                            <div id=\"4ba70d31-28ac-480f-9067-1ffe8c1b4f7f\" class=\"plotly-graph-div\" style=\"height:525px; width:100%;\"></div>            <script type=\"text/javascript\">                require([\"plotly\"], function(Plotly) {                    window.PLOTLYENV=window.PLOTLYENV || {};                                    if (document.getElementById(\"4ba70d31-28ac-480f-9067-1ffe8c1b4f7f\")) {                    Plotly.newPlot(                        \"4ba70d31-28ac-480f-9067-1ffe8c1b4f7f\",                        [{\"alignmentgroup\": \"True\", \"hovertemplate\": \"COMMODITY_DESC=%{x}<br>SALES_VALUE=%{y}<extra></extra>\", \"legendgroup\": \"BEEF\", \"marker\": {\"color\": \"#1F77B4\"}, \"name\": \"BEEF\", \"notched\": false, \"offsetgroup\": \"BEEF\", \"orientation\": \"v\", \"showlegend\": true, \"type\": \"box\", \"x\": [\"BEEF\", \"BEEF\", \"BEEF\", \"BEEF\", \"BEEF\", \"BEEF\", \"BEEF\", \"BEEF\", \"BEEF\", \"BEEF\", \"BEEF\", \"BEEF\", \"BEEF\", \"BEEF\", \"BEEF\", \"BEEF\", \"BEEF\", \"BEEF\", \"BEEF\", \"BEEF\", \"BEEF\", \"BEEF\", \"BEEF\", \"BEEF\", \"BEEF\", \"BEEF\", \"BEEF\", \"BEEF\", \"BEEF\", \"BEEF\", \"BEEF\", \"BEEF\", \"BEEF\", \"BEEF\", \"BEEF\", \"BEEF\", \"BEEF\", \"BEEF\", \"BEEF\", \"BEEF\", \"BEEF\", \"BEEF\", \"BEEF\", \"BEEF\", \"BEEF\", \"BEEF\", \"BEEF\", \"BEEF\", \"BEEF\", \"BEEF\", \"BEEF\", \"BEEF\", \"BEEF\", \"BEEF\", \"BEEF\", \"BEEF\", \"BEEF\", \"BEEF\", \"BEEF\", \"BEEF\", \"BEEF\", \"BEEF\", \"BEEF\", \"BEEF\", \"BEEF\", \"BEEF\", \"BEEF\", \"BEEF\", \"BEEF\", \"BEEF\", \"BEEF\", \"BEEF\", \"BEEF\", \"BEEF\", \"BEEF\", \"BEEF\", \"BEEF\", \"BEEF\", \"BEEF\", \"BEEF\", \"BEEF\", \"BEEF\", \"BEEF\", \"BEEF\", \"BEEF\", \"BEEF\", \"BEEF\", \"BEEF\", \"BEEF\", \"BEEF\", \"BEEF\", \"BEEF\", \"BEEF\", \"BEEF\", \"BEEF\", \"BEEF\", \"BEEF\", \"BEEF\", \"BEEF\"], \"x0\": \" \", \"xaxis\": \"x\", \"y\": [3.09, 9.44, 54.44, 84.71999999999998, 36.07, 64.08, 15.72, 37.550000000000004, 28.33, 18.35, 133.41999999999996, 107.28000000000002, 69.66, 81.71000000000001, 69.79, 56.69, 83.38000000000001, 121.71000000000002, 73.05000000000001, 70.30000000000001, 136.86, 68.09, 37.46, 95.36000000000001, 196.81000000000003, 142.64, 72.73, 115.47999999999999, 125.34, 149.29, 126.96000000000001, 124.74999999999999, 205.98000000000002, 102.24000000000001, 106.53, 352.46999999999997, 77.86000000000001, 182.47000000000003, 217.33000000000004, 258.44, 168.76999999999998, 143.27, 112.17, 366.71000000000004, 179.48000000000002, 309.3999999999999, 263.94000000000005, 186.80999999999997, 147.11999999999998, 190.48999999999998, 184.80999999999997, 246.45999999999998, 240.49999999999997, 212.83, 145.08, 93.19000000000001, 164.28000000000003, 225.11, 137.19000000000003, 393.6200000000001, 244.02000000000004, 152.65, 255.50000000000003, 111.64999999999999, 339.57000000000005, 455.68, 635.87, 292.16, 586.2900000000002, 223.09, 245.02999999999997, 321.83000000000004, 244.82999999999998, 477.11999999999983, 391.5, 344.56, 319.34, 269.53, 227.28, 262.88, 351.2899999999999, 488.28999999999985, 298.4699999999999, 232.58000000000004, 342.82000000000005, 335.50999999999993, 354.83000000000004, 374.65999999999997, 410.57999999999987, 360.35, 276.54, 351.67, 241.78, 338.1000000000001, 524.4999999999999, 577.6200000000003, 217.39000000000001, 227.48999999999998, 368.54], \"y0\": \" \", \"yaxis\": \"y\"}, {\"alignmentgroup\": \"True\", \"hovertemplate\": \"COMMODITY_DESC=%{x}<br>SALES_VALUE=%{y}<extra></extra>\", \"legendgroup\": \"BEERS/ALES\", \"marker\": {\"color\": \"#FF7F0E\"}, \"name\": \"BEERS/ALES\", \"notched\": false, \"offsetgroup\": \"BEERS/ALES\", \"orientation\": \"v\", \"showlegend\": true, \"type\": \"box\", \"x\": [\"BEERS/ALES\", \"BEERS/ALES\", \"BEERS/ALES\", \"BEERS/ALES\", \"BEERS/ALES\", \"BEERS/ALES\", \"BEERS/ALES\", \"BEERS/ALES\", \"BEERS/ALES\", \"BEERS/ALES\", \"BEERS/ALES\", \"BEERS/ALES\", \"BEERS/ALES\", \"BEERS/ALES\", \"BEERS/ALES\", \"BEERS/ALES\", \"BEERS/ALES\", \"BEERS/ALES\", \"BEERS/ALES\", \"BEERS/ALES\", \"BEERS/ALES\", \"BEERS/ALES\", \"BEERS/ALES\", \"BEERS/ALES\", \"BEERS/ALES\", \"BEERS/ALES\", \"BEERS/ALES\", \"BEERS/ALES\", \"BEERS/ALES\", \"BEERS/ALES\", \"BEERS/ALES\", \"BEERS/ALES\", \"BEERS/ALES\", \"BEERS/ALES\", \"BEERS/ALES\", \"BEERS/ALES\", \"BEERS/ALES\", \"BEERS/ALES\", \"BEERS/ALES\", \"BEERS/ALES\", \"BEERS/ALES\", \"BEERS/ALES\", \"BEERS/ALES\", \"BEERS/ALES\", \"BEERS/ALES\", \"BEERS/ALES\", \"BEERS/ALES\", \"BEERS/ALES\", \"BEERS/ALES\", \"BEERS/ALES\", \"BEERS/ALES\", \"BEERS/ALES\", \"BEERS/ALES\", \"BEERS/ALES\", \"BEERS/ALES\", \"BEERS/ALES\", \"BEERS/ALES\", \"BEERS/ALES\", \"BEERS/ALES\", \"BEERS/ALES\", \"BEERS/ALES\", \"BEERS/ALES\", \"BEERS/ALES\", \"BEERS/ALES\", \"BEERS/ALES\", \"BEERS/ALES\", \"BEERS/ALES\", \"BEERS/ALES\", \"BEERS/ALES\", \"BEERS/ALES\", \"BEERS/ALES\", \"BEERS/ALES\", \"BEERS/ALES\", \"BEERS/ALES\", \"BEERS/ALES\", \"BEERS/ALES\", \"BEERS/ALES\", \"BEERS/ALES\", \"BEERS/ALES\", \"BEERS/ALES\", \"BEERS/ALES\", \"BEERS/ALES\", \"BEERS/ALES\", \"BEERS/ALES\", \"BEERS/ALES\", \"BEERS/ALES\", \"BEERS/ALES\", \"BEERS/ALES\", \"BEERS/ALES\", \"BEERS/ALES\", \"BEERS/ALES\", \"BEERS/ALES\", \"BEERS/ALES\", \"BEERS/ALES\", \"BEERS/ALES\", \"BEERS/ALES\", \"BEERS/ALES\"], \"x0\": \" \", \"xaxis\": \"x\", \"y\": [7.99, 58.93000000000001, 27.97, 25.270000000000003, 14.780000000000001, 9.99, 10.48, 20.759999999999998, 25.97, 50.129999999999995, 14.48, 12.68, 34.27, 29.46, 50.95, 47.95, 74.50000000000001, 37.47, 24.97, 34.45, 27.47, 22.47, 117.35999999999999, 33.65, 66.22, 33.35, 49.53, 46.95, 29.47, 115.63, 28.85, 56.720000000000006, 56.43000000000001, 99.67999999999996, 56.940000000000005, 79.78, 60.440000000000005, 71.41000000000001, 38.96, 56.900000000000006, 51.45, 74.97000000000001, 90.97999999999998, 95.69, 142.35, 86.52, 61.620000000000005, 63.410000000000004, 96.82999999999998, 155.21000000000004, 115.16, 183.83999999999997, 56.940000000000005, 58.40000000000001, 152.3, 54.70000000000001, 92.65999999999998, 129.51999999999998, 115.53999999999999, 89.49, 55.77, 113.37999999999998, 106.14999999999998, 300.35000000000014, 338.2400000000001, 166.19000000000003, 173.70000000000002, 108.03999999999999, 119.00999999999998, 109.96999999999998, 159.38, 314.15000000000015, 169.92999999999998, 117.11999999999998, 90.33999999999997, 127.60999999999999, 160.25000000000003, 296.67, 255.73000000000005, 234.44000000000005, 62.300000000000004, 133.74999999999997, 100.10999999999999, 167.8, 305.33000000000004, 277.14000000000016, 232.99000000000007, 173.04000000000005, 142.51, 145.90999999999997, 184.81000000000006, 199.92000000000002, 429.15000000000015, 153.36, 257.72999999999996, 145.11, 140.74], \"y0\": \" \", \"yaxis\": \"y\"}, {\"alignmentgroup\": \"True\", \"hovertemplate\": \"COMMODITY_DESC=%{x}<br>SALES_VALUE=%{y}<extra></extra>\", \"legendgroup\": \"CHEESE\", \"marker\": {\"color\": \"#2CA02C\"}, \"name\": \"CHEESE\", \"notched\": false, \"offsetgroup\": \"CHEESE\", \"orientation\": \"v\", \"showlegend\": true, \"type\": \"box\", \"x\": [\"CHEESE\", \"CHEESE\", \"CHEESE\", \"CHEESE\", \"CHEESE\", \"CHEESE\", \"CHEESE\", \"CHEESE\", \"CHEESE\", \"CHEESE\", \"CHEESE\", \"CHEESE\", \"CHEESE\", \"CHEESE\", \"CHEESE\", \"CHEESE\", \"CHEESE\", \"CHEESE\", \"CHEESE\", \"CHEESE\", \"CHEESE\", \"CHEESE\", \"CHEESE\", \"CHEESE\", \"CHEESE\", \"CHEESE\", \"CHEESE\", \"CHEESE\", \"CHEESE\", \"CHEESE\", \"CHEESE\", \"CHEESE\", \"CHEESE\", \"CHEESE\", \"CHEESE\", \"CHEESE\", \"CHEESE\", \"CHEESE\", \"CHEESE\", \"CHEESE\", \"CHEESE\", \"CHEESE\", \"CHEESE\", \"CHEESE\", \"CHEESE\", \"CHEESE\", \"CHEESE\", \"CHEESE\", \"CHEESE\", \"CHEESE\", \"CHEESE\", \"CHEESE\", \"CHEESE\", \"CHEESE\", \"CHEESE\", \"CHEESE\", \"CHEESE\", \"CHEESE\", \"CHEESE\", \"CHEESE\", \"CHEESE\", \"CHEESE\", \"CHEESE\", \"CHEESE\", \"CHEESE\", \"CHEESE\", \"CHEESE\", \"CHEESE\", \"CHEESE\", \"CHEESE\", \"CHEESE\", \"CHEESE\", \"CHEESE\", \"CHEESE\", \"CHEESE\", \"CHEESE\", \"CHEESE\", \"CHEESE\", \"CHEESE\", \"CHEESE\", \"CHEESE\", \"CHEESE\", \"CHEESE\", \"CHEESE\", \"CHEESE\", \"CHEESE\", \"CHEESE\", \"CHEESE\", \"CHEESE\", \"CHEESE\", \"CHEESE\", \"CHEESE\", \"CHEESE\", \"CHEESE\", \"CHEESE\", \"CHEESE\", \"CHEESE\", \"CHEESE\", \"CHEESE\"], \"x0\": \" \", \"xaxis\": \"x\", \"y\": [3.98, 6.83, 38.72, 49.36000000000001, 15.030000000000001, 18.38, 32.34, 31.66, 24.840000000000003, 31.420000000000005, 55.990000000000016, 47.23000000000001, 54.38000000000001, 68.00000000000001, 36.39000000000001, 51.44000000000001, 64.38, 41.1, 58.32, 27.18, 64.34000000000002, 24.860000000000003, 39.05, 55.56, 66.18, 47.64000000000001, 58.24, 38.720000000000006, 78.81, 82.92999999999999, 87.27999999999999, 77.5, 93.33, 90.22000000000001, 78.83000000000001, 118.69999999999996, 70.38000000000001, 58.09000000000002, 165.23999999999992, 130.60999999999999, 102.02999999999999, 67.85000000000001, 81.30000000000001, 65.87, 75.39999999999999, 95.27000000000004, 99.16000000000003, 111.01, 114.08000000000003, 98.43000000000002, 94.97000000000003, 122.47000000000001, 128.54000000000002, 115.87, 113.70999999999998, 91.04999999999998, 67.66999999999999, 142.25000000000003, 126.66999999999994, 147.38000000000002, 133.97, 142.21000000000004, 112.75000000000001, 90.78, 162.21999999999997, 130.31, 215.96999999999983, 194.14999999999992, 146.69000000000003, 127.18999999999998, 181.33999999999997, 147.27999999999997, 124.32999999999997, 162.73, 207.82, 163.37999999999994, 164.49999999999994, 126.83999999999997, 125.35999999999999, 236.26000000000005, 203.86, 199.41000000000003, 198.98, 164.43999999999997, 145.40999999999997, 169.15, 207.21999999999994, 209.30999999999995, 220.81000000000006, 178.14999999999992, 196.8, 188.62, 183.23999999999987, 181.62000000000003, 212.97999999999988, 248.45000000000007, 90.47000000000001, 151.36000000000004, 226.15000000000012], \"y0\": \" \", \"yaxis\": \"y\"}, {\"alignmentgroup\": \"True\", \"hovertemplate\": \"COMMODITY_DESC=%{x}<br>SALES_VALUE=%{y}<extra></extra>\", \"legendgroup\": \"FLUID MILK PRODUCTS\", \"marker\": {\"color\": \"#D62728\"}, \"name\": \"FLUID MILK PRODUCTS\", \"notched\": false, \"offsetgroup\": \"FLUID MILK PRODUCTS\", \"orientation\": \"v\", \"showlegend\": true, \"type\": \"box\", \"x\": [\"FLUID MILK PRODUCTS\", \"FLUID MILK PRODUCTS\", \"FLUID MILK PRODUCTS\", \"FLUID MILK PRODUCTS\", \"FLUID MILK PRODUCTS\", \"FLUID MILK PRODUCTS\", \"FLUID MILK PRODUCTS\", \"FLUID MILK PRODUCTS\", \"FLUID MILK PRODUCTS\", \"FLUID MILK PRODUCTS\", \"FLUID MILK PRODUCTS\", \"FLUID MILK PRODUCTS\", \"FLUID MILK PRODUCTS\", \"FLUID MILK PRODUCTS\", \"FLUID MILK PRODUCTS\", \"FLUID MILK PRODUCTS\", \"FLUID MILK PRODUCTS\", \"FLUID MILK PRODUCTS\", \"FLUID MILK PRODUCTS\", \"FLUID MILK PRODUCTS\", \"FLUID MILK PRODUCTS\", \"FLUID MILK PRODUCTS\", \"FLUID MILK PRODUCTS\", \"FLUID MILK PRODUCTS\", \"FLUID MILK PRODUCTS\", \"FLUID MILK PRODUCTS\", \"FLUID MILK PRODUCTS\", \"FLUID MILK PRODUCTS\", \"FLUID MILK PRODUCTS\", \"FLUID MILK PRODUCTS\", \"FLUID MILK PRODUCTS\", \"FLUID MILK PRODUCTS\", \"FLUID MILK PRODUCTS\", \"FLUID MILK PRODUCTS\", \"FLUID MILK PRODUCTS\", \"FLUID MILK PRODUCTS\", \"FLUID MILK PRODUCTS\", \"FLUID MILK PRODUCTS\", \"FLUID MILK PRODUCTS\", \"FLUID MILK PRODUCTS\", \"FLUID MILK PRODUCTS\", \"FLUID MILK PRODUCTS\", \"FLUID MILK PRODUCTS\", \"FLUID MILK PRODUCTS\", \"FLUID MILK PRODUCTS\", \"FLUID MILK PRODUCTS\", \"FLUID MILK PRODUCTS\", \"FLUID MILK PRODUCTS\", \"FLUID MILK PRODUCTS\", \"FLUID MILK PRODUCTS\", \"FLUID MILK PRODUCTS\", \"FLUID MILK PRODUCTS\", \"FLUID MILK PRODUCTS\", \"FLUID MILK PRODUCTS\", \"FLUID MILK PRODUCTS\", \"FLUID MILK PRODUCTS\", \"FLUID MILK PRODUCTS\", \"FLUID MILK PRODUCTS\", \"FLUID MILK PRODUCTS\", \"FLUID MILK PRODUCTS\", \"FLUID MILK PRODUCTS\", \"FLUID MILK PRODUCTS\", \"FLUID MILK PRODUCTS\", \"FLUID MILK PRODUCTS\", \"FLUID MILK PRODUCTS\", \"FLUID MILK PRODUCTS\", \"FLUID MILK PRODUCTS\", \"FLUID MILK PRODUCTS\", \"FLUID MILK PRODUCTS\", \"FLUID MILK PRODUCTS\", \"FLUID MILK PRODUCTS\", \"FLUID MILK PRODUCTS\", \"FLUID MILK PRODUCTS\", \"FLUID MILK PRODUCTS\", \"FLUID MILK PRODUCTS\", \"FLUID MILK PRODUCTS\", \"FLUID MILK PRODUCTS\", \"FLUID MILK PRODUCTS\", \"FLUID MILK PRODUCTS\", \"FLUID MILK PRODUCTS\", \"FLUID MILK PRODUCTS\", \"FLUID MILK PRODUCTS\", \"FLUID MILK PRODUCTS\", \"FLUID MILK PRODUCTS\", \"FLUID MILK PRODUCTS\", \"FLUID MILK PRODUCTS\", \"FLUID MILK PRODUCTS\", \"FLUID MILK PRODUCTS\", \"FLUID MILK PRODUCTS\", \"FLUID MILK PRODUCTS\", \"FLUID MILK PRODUCTS\", \"FLUID MILK PRODUCTS\", \"FLUID MILK PRODUCTS\", \"FLUID MILK PRODUCTS\", \"FLUID MILK PRODUCTS\", \"FLUID MILK PRODUCTS\", \"FLUID MILK PRODUCTS\", \"FLUID MILK PRODUCTS\", \"FLUID MILK PRODUCTS\"], \"x0\": \" \", \"xaxis\": \"x\", \"y\": [2.66, 17.96, 32.11000000000001, 44.33, 20.51, 28.63, 33.08, 31.619999999999997, 41.209999999999994, 37.400000000000006, 68.86, 52.190000000000005, 32.260000000000005, 65.69999999999999, 21.36, 50.49, 65.44, 66.71, 70.7, 30.95, 54.300000000000004, 59.93000000000001, 41.04000000000001, 38.290000000000006, 65.43, 67.05000000000001, 70.26000000000002, 37.029999999999994, 76.51000000000002, 114.86000000000004, 68.61000000000001, 90.47, 104.00000000000001, 59.68000000000001, 75.17000000000002, 98.93, 51.14000000000001, 85.30000000000001, 113.60000000000001, 118.58999999999999, 114.40000000000002, 95.84, 88.99000000000001, 74.50000000000001, 71.69, 106.52, 154.69, 83.08, 68.19000000000003, 101.85000000000002, 94.94999999999999, 69.47000000000001, 132.04999999999993, 109.94999999999996, 139.60999999999999, 105.26000000000002, 99.18, 105.35, 132.82000000000002, 162.85, 167.07999999999998, 73.22, 115.96999999999996, 95.65999999999997, 139.9, 120.68999999999993, 169.68999999999997, 168.8099999999999, 196.06999999999996, 101.31000000000002, 160.26000000000002, 159.56000000000006, 141.56000000000003, 198.18, 200.39, 147.23999999999992, 176.3399999999999, 125.49999999999997, 129.48999999999998, 166.22999999999993, 223.14000000000004, 228.85999999999996, 173.50999999999996, 221.39999999999998, 193.43, 185.6, 249.78999999999994, 217.23999999999995, 261.4199999999999, 201.44999999999987, 219.58999999999992, 222.36999999999998, 159.13000000000002, 238.78999999999996, 254.2899999999999, 305.17999999999995, 179.00999999999988, 170.77999999999994, 202.34000000000006], \"y0\": \" \", \"yaxis\": \"y\"}, {\"alignmentgroup\": \"True\", \"hovertemplate\": \"COMMODITY_DESC=%{x}<br>SALES_VALUE=%{y}<extra></extra>\", \"legendgroup\": \"SOFT DRINKS\", \"marker\": {\"color\": \"#9467BD\"}, \"name\": \"SOFT DRINKS\", \"notched\": false, \"offsetgroup\": \"SOFT DRINKS\", \"orientation\": \"v\", \"showlegend\": true, \"type\": \"box\", \"x\": [\"SOFT DRINKS\", \"SOFT DRINKS\", \"SOFT DRINKS\", \"SOFT DRINKS\", \"SOFT DRINKS\", \"SOFT DRINKS\", \"SOFT DRINKS\", \"SOFT DRINKS\", \"SOFT DRINKS\", \"SOFT DRINKS\", \"SOFT DRINKS\", \"SOFT DRINKS\", \"SOFT DRINKS\", \"SOFT DRINKS\", \"SOFT DRINKS\", \"SOFT DRINKS\", \"SOFT DRINKS\", \"SOFT DRINKS\", \"SOFT DRINKS\", \"SOFT DRINKS\", \"SOFT DRINKS\", \"SOFT DRINKS\", \"SOFT DRINKS\", \"SOFT DRINKS\", \"SOFT DRINKS\", \"SOFT DRINKS\", \"SOFT DRINKS\", \"SOFT DRINKS\", \"SOFT DRINKS\", \"SOFT DRINKS\", \"SOFT DRINKS\", \"SOFT DRINKS\", \"SOFT DRINKS\", \"SOFT DRINKS\", \"SOFT DRINKS\", \"SOFT DRINKS\", \"SOFT DRINKS\", \"SOFT DRINKS\", \"SOFT DRINKS\", \"SOFT DRINKS\", \"SOFT DRINKS\", \"SOFT DRINKS\", \"SOFT DRINKS\", \"SOFT DRINKS\", \"SOFT DRINKS\", \"SOFT DRINKS\", \"SOFT DRINKS\", \"SOFT DRINKS\", \"SOFT DRINKS\", \"SOFT DRINKS\", \"SOFT DRINKS\", \"SOFT DRINKS\", \"SOFT DRINKS\", \"SOFT DRINKS\", \"SOFT DRINKS\", \"SOFT DRINKS\", \"SOFT DRINKS\", \"SOFT DRINKS\", \"SOFT DRINKS\", \"SOFT DRINKS\", \"SOFT DRINKS\", \"SOFT DRINKS\", \"SOFT DRINKS\", \"SOFT DRINKS\", \"SOFT DRINKS\", \"SOFT DRINKS\", \"SOFT DRINKS\", \"SOFT DRINKS\", \"SOFT DRINKS\", \"SOFT DRINKS\", \"SOFT DRINKS\", \"SOFT DRINKS\", \"SOFT DRINKS\", \"SOFT DRINKS\", \"SOFT DRINKS\", \"SOFT DRINKS\", \"SOFT DRINKS\", \"SOFT DRINKS\", \"SOFT DRINKS\", \"SOFT DRINKS\", \"SOFT DRINKS\", \"SOFT DRINKS\", \"SOFT DRINKS\", \"SOFT DRINKS\", \"SOFT DRINKS\", \"SOFT DRINKS\", \"SOFT DRINKS\", \"SOFT DRINKS\", \"SOFT DRINKS\", \"SOFT DRINKS\", \"SOFT DRINKS\", \"SOFT DRINKS\", \"SOFT DRINKS\", \"SOFT DRINKS\", \"SOFT DRINKS\", \"SOFT DRINKS\", \"SOFT DRINKS\", \"SOFT DRINKS\", \"SOFT DRINKS\"], \"x0\": \" \", \"xaxis\": \"x\", \"y\": [29.740000000000002, 10.629999999999999, 81.19000000000001, 99.98, 50.05, 32.28, 40.32, 36.129999999999995, 11.390000000000002, 81.54000000000002, 78.16000000000001, 93.30000000000003, 38.18000000000001, 46.14999999999999, 46.36, 18.15, 120.55000000000001, 67.79, 153.26, 131.15000000000003, 92.80999999999999, 74.69999999999999, 68.87, 151.15000000000003, 191.04000000000002, 77.32, 97.76, 97.16, 150.99, 120.42999999999999, 142.84000000000006, 166.71, 170.64000000000001, 175.77, 162.15000000000006, 186.64000000000004, 75.07000000000001, 140.46000000000006, 171.63000000000005, 129.33, 206.84000000000012, 114.20000000000003, 129.87, 242.7400000000001, 128.91999999999996, 223.4900000000001, 268.7500000000001, 149.16, 225.34000000000003, 222.86000000000007, 169.42, 187.01999999999998, 240.3600000000001, 211.69000000000008, 185.68000000000006, 155.86000000000007, 162.04000000000013, 131.61000000000007, 180.63000000000008, 266.63000000000005, 226.8400000000001, 260.76, 245.0800000000001, 236.5700000000001, 324.6800000000002, 401.09000000000003, 425.40999999999985, 449.13, 397.68000000000006, 119.60000000000004, 247.55, 253.28000000000026, 226.1800000000001, 324.41000000000014, 394.13, 360.51000000000005, 356.25, 337.0299999999998, 362.44999999999993, 417.64000000000016, 415.9600000000001, 549.7799999999999, 320.19000000000005, 292.73, 302.7300000000001, 330.2099999999999, 354.2399999999998, 369.32, 452.73999999999984, 377.25999999999993, 284.87, 423.24999999999983, 483.42000000000013, 313.2600000000001, 512.77, 524.4299999999997, 746.1899999999997, 554.1699999999997, 608.5399999999997], \"y0\": \" \", \"yaxis\": \"y\"}],                        {\"boxmode\": \"overlay\", \"legend\": {\"title\": {\"text\": \"COMMODITY_DESC\"}, \"tracegroupgap\": 0}, \"template\": {\"data\": {\"bar\": [{\"error_x\": {\"color\": \"rgb(36,36,36)\"}, \"error_y\": {\"color\": \"rgb(36,36,36)\"}, \"marker\": {\"line\": {\"color\": \"white\", \"width\": 0.5}}, \"type\": \"bar\"}], \"barpolar\": [{\"marker\": {\"line\": {\"color\": \"white\", \"width\": 0.5}}, \"type\": \"barpolar\"}], \"carpet\": [{\"aaxis\": {\"endlinecolor\": \"rgb(36,36,36)\", \"gridcolor\": \"white\", \"linecolor\": \"white\", \"minorgridcolor\": \"white\", \"startlinecolor\": \"rgb(36,36,36)\"}, \"baxis\": {\"endlinecolor\": \"rgb(36,36,36)\", \"gridcolor\": \"white\", \"linecolor\": \"white\", \"minorgridcolor\": \"white\", \"startlinecolor\": \"rgb(36,36,36)\"}, \"type\": \"carpet\"}], \"choropleth\": [{\"colorbar\": {\"outlinewidth\": 1, \"tickcolor\": \"rgb(36,36,36)\", \"ticks\": \"outside\"}, \"type\": \"choropleth\"}], \"contour\": [{\"colorbar\": {\"outlinewidth\": 1, \"tickcolor\": \"rgb(36,36,36)\", \"ticks\": \"outside\"}, \"colorscale\": [[0.0, \"#440154\"], [0.1111111111111111, \"#482878\"], [0.2222222222222222, \"#3e4989\"], [0.3333333333333333, \"#31688e\"], [0.4444444444444444, \"#26828e\"], [0.5555555555555556, \"#1f9e89\"], [0.6666666666666666, \"#35b779\"], [0.7777777777777778, \"#6ece58\"], [0.8888888888888888, \"#b5de2b\"], [1.0, \"#fde725\"]], \"type\": \"contour\"}], \"contourcarpet\": [{\"colorbar\": {\"outlinewidth\": 1, \"tickcolor\": \"rgb(36,36,36)\", \"ticks\": \"outside\"}, \"type\": \"contourcarpet\"}], \"heatmap\": [{\"colorbar\": {\"outlinewidth\": 1, \"tickcolor\": \"rgb(36,36,36)\", \"ticks\": \"outside\"}, \"colorscale\": [[0.0, \"#440154\"], [0.1111111111111111, \"#482878\"], [0.2222222222222222, \"#3e4989\"], [0.3333333333333333, \"#31688e\"], [0.4444444444444444, \"#26828e\"], [0.5555555555555556, \"#1f9e89\"], [0.6666666666666666, \"#35b779\"], [0.7777777777777778, \"#6ece58\"], [0.8888888888888888, \"#b5de2b\"], [1.0, \"#fde725\"]], \"type\": \"heatmap\"}], \"heatmapgl\": [{\"colorbar\": {\"outlinewidth\": 1, \"tickcolor\": \"rgb(36,36,36)\", \"ticks\": \"outside\"}, \"colorscale\": [[0.0, \"#440154\"], [0.1111111111111111, \"#482878\"], [0.2222222222222222, \"#3e4989\"], [0.3333333333333333, \"#31688e\"], [0.4444444444444444, \"#26828e\"], [0.5555555555555556, \"#1f9e89\"], [0.6666666666666666, \"#35b779\"], [0.7777777777777778, \"#6ece58\"], [0.8888888888888888, \"#b5de2b\"], [1.0, \"#fde725\"]], \"type\": \"heatmapgl\"}], \"histogram\": [{\"marker\": {\"line\": {\"color\": \"white\", \"width\": 0.6}}, \"type\": \"histogram\"}], \"histogram2d\": [{\"colorbar\": {\"outlinewidth\": 1, \"tickcolor\": \"rgb(36,36,36)\", \"ticks\": \"outside\"}, \"colorscale\": [[0.0, \"#440154\"], [0.1111111111111111, \"#482878\"], [0.2222222222222222, \"#3e4989\"], [0.3333333333333333, \"#31688e\"], [0.4444444444444444, \"#26828e\"], [0.5555555555555556, \"#1f9e89\"], [0.6666666666666666, \"#35b779\"], [0.7777777777777778, \"#6ece58\"], [0.8888888888888888, \"#b5de2b\"], [1.0, \"#fde725\"]], \"type\": \"histogram2d\"}], \"histogram2dcontour\": [{\"colorbar\": {\"outlinewidth\": 1, \"tickcolor\": \"rgb(36,36,36)\", \"ticks\": \"outside\"}, \"colorscale\": [[0.0, \"#440154\"], [0.1111111111111111, \"#482878\"], [0.2222222222222222, \"#3e4989\"], [0.3333333333333333, \"#31688e\"], [0.4444444444444444, \"#26828e\"], [0.5555555555555556, \"#1f9e89\"], [0.6666666666666666, \"#35b779\"], [0.7777777777777778, \"#6ece58\"], [0.8888888888888888, \"#b5de2b\"], [1.0, \"#fde725\"]], \"type\": \"histogram2dcontour\"}], \"mesh3d\": [{\"colorbar\": {\"outlinewidth\": 1, \"tickcolor\": \"rgb(36,36,36)\", \"ticks\": \"outside\"}, \"type\": \"mesh3d\"}], \"parcoords\": [{\"line\": {\"colorbar\": {\"outlinewidth\": 1, \"tickcolor\": \"rgb(36,36,36)\", \"ticks\": \"outside\"}}, \"type\": \"parcoords\"}], \"pie\": [{\"automargin\": true, \"type\": \"pie\"}], \"scatter\": [{\"marker\": {\"colorbar\": {\"outlinewidth\": 1, \"tickcolor\": \"rgb(36,36,36)\", \"ticks\": \"outside\"}}, \"type\": \"scatter\"}], \"scatter3d\": [{\"line\": {\"colorbar\": {\"outlinewidth\": 1, \"tickcolor\": \"rgb(36,36,36)\", \"ticks\": \"outside\"}}, \"marker\": {\"colorbar\": {\"outlinewidth\": 1, \"tickcolor\": \"rgb(36,36,36)\", \"ticks\": \"outside\"}}, \"type\": \"scatter3d\"}], \"scattercarpet\": [{\"marker\": {\"colorbar\": {\"outlinewidth\": 1, \"tickcolor\": \"rgb(36,36,36)\", \"ticks\": \"outside\"}}, \"type\": \"scattercarpet\"}], \"scattergeo\": [{\"marker\": {\"colorbar\": {\"outlinewidth\": 1, \"tickcolor\": \"rgb(36,36,36)\", \"ticks\": \"outside\"}}, \"type\": \"scattergeo\"}], \"scattergl\": [{\"marker\": {\"colorbar\": {\"outlinewidth\": 1, \"tickcolor\": \"rgb(36,36,36)\", \"ticks\": \"outside\"}}, \"type\": \"scattergl\"}], \"scattermapbox\": [{\"marker\": {\"colorbar\": {\"outlinewidth\": 1, \"tickcolor\": \"rgb(36,36,36)\", \"ticks\": \"outside\"}}, \"type\": \"scattermapbox\"}], \"scatterpolar\": [{\"marker\": {\"colorbar\": {\"outlinewidth\": 1, \"tickcolor\": \"rgb(36,36,36)\", \"ticks\": \"outside\"}}, \"type\": \"scatterpolar\"}], \"scatterpolargl\": [{\"marker\": {\"colorbar\": {\"outlinewidth\": 1, \"tickcolor\": \"rgb(36,36,36)\", \"ticks\": \"outside\"}}, \"type\": \"scatterpolargl\"}], \"scatterternary\": [{\"marker\": {\"colorbar\": {\"outlinewidth\": 1, \"tickcolor\": \"rgb(36,36,36)\", \"ticks\": \"outside\"}}, \"type\": \"scatterternary\"}], \"surface\": [{\"colorbar\": {\"outlinewidth\": 1, \"tickcolor\": \"rgb(36,36,36)\", \"ticks\": \"outside\"}, \"colorscale\": [[0.0, \"#440154\"], [0.1111111111111111, \"#482878\"], [0.2222222222222222, \"#3e4989\"], [0.3333333333333333, \"#31688e\"], [0.4444444444444444, \"#26828e\"], [0.5555555555555556, \"#1f9e89\"], [0.6666666666666666, \"#35b779\"], [0.7777777777777778, \"#6ece58\"], [0.8888888888888888, \"#b5de2b\"], [1.0, \"#fde725\"]], \"type\": \"surface\"}], \"table\": [{\"cells\": {\"fill\": {\"color\": \"rgb(237,237,237)\"}, \"line\": {\"color\": \"white\"}}, \"header\": {\"fill\": {\"color\": \"rgb(217,217,217)\"}, \"line\": {\"color\": \"white\"}}, \"type\": \"table\"}]}, \"layout\": {\"annotationdefaults\": {\"arrowhead\": 0, \"arrowwidth\": 1}, \"autotypenumbers\": \"strict\", \"coloraxis\": {\"colorbar\": {\"outlinewidth\": 1, \"tickcolor\": \"rgb(36,36,36)\", \"ticks\": \"outside\"}}, \"colorscale\": {\"diverging\": [[0.0, \"rgb(103,0,31)\"], [0.1, \"rgb(178,24,43)\"], [0.2, \"rgb(214,96,77)\"], [0.3, \"rgb(244,165,130)\"], [0.4, \"rgb(253,219,199)\"], [0.5, \"rgb(247,247,247)\"], [0.6, \"rgb(209,229,240)\"], [0.7, \"rgb(146,197,222)\"], [0.8, \"rgb(67,147,195)\"], [0.9, \"rgb(33,102,172)\"], [1.0, \"rgb(5,48,97)\"]], \"sequential\": [[0.0, \"#440154\"], [0.1111111111111111, \"#482878\"], [0.2222222222222222, \"#3e4989\"], [0.3333333333333333, \"#31688e\"], [0.4444444444444444, \"#26828e\"], [0.5555555555555556, \"#1f9e89\"], [0.6666666666666666, \"#35b779\"], [0.7777777777777778, \"#6ece58\"], [0.8888888888888888, \"#b5de2b\"], [1.0, \"#fde725\"]], \"sequentialminus\": [[0.0, \"#440154\"], [0.1111111111111111, \"#482878\"], [0.2222222222222222, \"#3e4989\"], [0.3333333333333333, \"#31688e\"], [0.4444444444444444, \"#26828e\"], [0.5555555555555556, \"#1f9e89\"], [0.6666666666666666, \"#35b779\"], [0.7777777777777778, \"#6ece58\"], [0.8888888888888888, \"#b5de2b\"], [1.0, \"#fde725\"]]}, \"colorway\": [\"#1F77B4\", \"#FF7F0E\", \"#2CA02C\", \"#D62728\", \"#9467BD\", \"#8C564B\", \"#E377C2\", \"#7F7F7F\", \"#BCBD22\", \"#17BECF\"], \"font\": {\"color\": \"rgb(36,36,36)\"}, \"geo\": {\"bgcolor\": \"white\", \"lakecolor\": \"white\", \"landcolor\": \"white\", \"showlakes\": true, \"showland\": true, \"subunitcolor\": \"white\"}, \"hoverlabel\": {\"align\": \"left\"}, \"hovermode\": \"closest\", \"mapbox\": {\"style\": \"light\"}, \"paper_bgcolor\": \"white\", \"plot_bgcolor\": \"white\", \"polar\": {\"angularaxis\": {\"gridcolor\": \"rgb(232,232,232)\", \"linecolor\": \"rgb(36,36,36)\", \"showgrid\": false, \"showline\": true, \"ticks\": \"outside\"}, \"bgcolor\": \"white\", \"radialaxis\": {\"gridcolor\": \"rgb(232,232,232)\", \"linecolor\": \"rgb(36,36,36)\", \"showgrid\": false, \"showline\": true, \"ticks\": \"outside\"}}, \"scene\": {\"xaxis\": {\"backgroundcolor\": \"white\", \"gridcolor\": \"rgb(232,232,232)\", \"gridwidth\": 2, \"linecolor\": \"rgb(36,36,36)\", \"showbackground\": true, \"showgrid\": false, \"showline\": true, \"ticks\": \"outside\", \"zeroline\": false, \"zerolinecolor\": \"rgb(36,36,36)\"}, \"yaxis\": {\"backgroundcolor\": \"white\", \"gridcolor\": \"rgb(232,232,232)\", \"gridwidth\": 2, \"linecolor\": \"rgb(36,36,36)\", \"showbackground\": true, \"showgrid\": false, \"showline\": true, \"ticks\": \"outside\", \"zeroline\": false, \"zerolinecolor\": \"rgb(36,36,36)\"}, \"zaxis\": {\"backgroundcolor\": \"white\", \"gridcolor\": \"rgb(232,232,232)\", \"gridwidth\": 2, \"linecolor\": \"rgb(36,36,36)\", \"showbackground\": true, \"showgrid\": false, \"showline\": true, \"ticks\": \"outside\", \"zeroline\": false, \"zerolinecolor\": \"rgb(36,36,36)\"}}, \"shapedefaults\": {\"fillcolor\": \"black\", \"line\": {\"width\": 0}, \"opacity\": 0.3}, \"ternary\": {\"aaxis\": {\"gridcolor\": \"rgb(232,232,232)\", \"linecolor\": \"rgb(36,36,36)\", \"showgrid\": false, \"showline\": true, \"ticks\": \"outside\"}, \"baxis\": {\"gridcolor\": \"rgb(232,232,232)\", \"linecolor\": \"rgb(36,36,36)\", \"showgrid\": false, \"showline\": true, \"ticks\": \"outside\"}, \"bgcolor\": \"white\", \"caxis\": {\"gridcolor\": \"rgb(232,232,232)\", \"linecolor\": \"rgb(36,36,36)\", \"showgrid\": false, \"showline\": true, \"ticks\": \"outside\"}}, \"title\": {\"x\": 0.05}, \"xaxis\": {\"automargin\": true, \"gridcolor\": \"rgb(232,232,232)\", \"linecolor\": \"rgb(36,36,36)\", \"showgrid\": false, \"showline\": true, \"ticks\": \"outside\", \"title\": {\"standoff\": 15}, \"zeroline\": false, \"zerolinecolor\": \"rgb(36,36,36)\"}, \"yaxis\": {\"automargin\": true, \"gridcolor\": \"rgb(232,232,232)\", \"linecolor\": \"rgb(36,36,36)\", \"showgrid\": false, \"showline\": true, \"ticks\": \"outside\", \"title\": {\"standoff\": 15}, \"zeroline\": false, \"zerolinecolor\": \"rgb(36,36,36)\"}}}, \"title\": {\"text\": \"Sales Distribution for the Top 5 Commodities\"}, \"xaxis\": {\"anchor\": \"y\", \"categoryarray\": [\"BEEF\", \"BEERS/ALES\", \"CHEESE\", \"FLUID MILK PRODUCTS\", \"SOFT DRINKS\"], \"categoryorder\": \"array\", \"domain\": [0.0, 1.0], \"title\": {\"text\": \"COMMODITY_DESC\"}}, \"yaxis\": {\"anchor\": \"x\", \"domain\": [0.0, 1.0], \"title\": {\"text\": \"SALES_VALUE\"}}},                        {\"responsive\": true}                    ).then(function(){\n",
       "                            \n",
       "var gd = document.getElementById('4ba70d31-28ac-480f-9067-1ffe8c1b4f7f');\n",
       "var x = new MutationObserver(function (mutations, observer) {{\n",
       "        var display = window.getComputedStyle(gd).display;\n",
       "        if (!display || display === 'none') {{\n",
       "            console.log([gd, 'removed!']);\n",
       "            Plotly.purge(gd);\n",
       "            observer.disconnect();\n",
       "        }}\n",
       "}});\n",
       "\n",
       "// Listen for the removal of the full notebook cells\n",
       "var notebookContainer = gd.closest('#notebook-container');\n",
       "if (notebookContainer) {{\n",
       "    x.observe(notebookContainer, {childList: true});\n",
       "}}\n",
       "\n",
       "// Listen for the clearing of the current output cell\n",
       "var outputEl = gd.closest('.output');\n",
       "if (outputEl) {{\n",
       "    x.observe(outputEl, {childList: true});\n",
       "}}\n",
       "\n",
       "                        })                };                });            </script>        </div>"
      ]
     },
     "metadata": {},
     "output_type": "display_data"
    }
   ],
   "source": [
    "fig = px.box(daily_sales_top5, \n",
    "              x = daily_sales_top5.COMMODITY_DESC, \n",
    "              y = daily_sales_top5.SALES_VALUE,\n",
    "             color = daily_sales_top5.COMMODITY_DESC,\n",
    "             title = 'Sales Distribution for the Top 5 Commodities',\n",
    "             template = 'simple_white')\n",
    "fig.show()"
   ]
  },
  {
   "cell_type": "markdown",
   "metadata": {},
   "source": [
    "### Chart 5: Bubble Chart: Sales, Quantity, and Number of Households Buying  "
   ]
  },
  {
   "cell_type": "code",
   "execution_count": 60,
   "metadata": {},
   "outputs": [],
   "source": [
    "# Do a summary with the following metrics: sales, quantity, number of households\n",
    "sales_agg = transaction_data.groupby(['COMMODITY_DESC']) \\\n",
    "            .agg({'SALES_VALUE':'sum', 'QUANTITY':'sum', 'household_key':pd.Series.nunique}) \\\n",
    "            .rename(columns = {'household_key':'HOUSEHOLDS'}) \\\n",
    "            .reset_index()"
   ]
  },
  {
   "cell_type": "code",
   "execution_count": 84,
   "metadata": {},
   "outputs": [
    {
     "data": {
      "application/vnd.plotly.v1+json": {
       "config": {
        "plotlyServerURL": "https://plot.ly"
       },
       "data": [
        {
         "hovertemplate": "<b>%{hovertext}</b><br><br>COMMODITY_DESC=ADULT INCONTINENCE<br>QUANTITY=%{x}<br>SALES_VALUE=%{y}<br>HOUSEHOLDS=%{marker.size}<extra></extra>",
         "hovertext": [
          "ADULT INCONTINENCE"
         ],
         "legendgroup": "ADULT INCONTINENCE",
         "marker": {
          "color": "#1F77B4",
          "size": [
           13
          ],
          "sizemode": "area",
          "sizeref": 0.3611111111111111,
          "symbol": "circle"
         },
         "mode": "markers",
         "name": "ADULT INCONTINENCE",
         "orientation": "v",
         "showlegend": true,
         "type": "scatter",
         "x": [
          27
         ],
         "xaxis": "x",
         "y": [
          211.22000000000008
         ],
         "yaxis": "y"
        },
        {
         "hovertemplate": "<b>%{hovertext}</b><br><br>COMMODITY_DESC=AIR CARE<br>QUANTITY=%{x}<br>SALES_VALUE=%{y}<br>HOUSEHOLDS=%{marker.size}<extra></extra>",
         "hovertext": [
          "AIR CARE"
         ],
         "legendgroup": "AIR CARE",
         "marker": {
          "color": "#FF7F0E",
          "size": [
           177
          ],
          "sizemode": "area",
          "sizeref": 0.3611111111111111,
          "symbol": "circle"
         },
         "mode": "markers",
         "name": "AIR CARE",
         "orientation": "v",
         "showlegend": true,
         "type": "scatter",
         "x": [
          415
         ],
         "xaxis": "x",
         "y": [
          967.1500000000023
         ],
         "yaxis": "y"
        },
        {
         "hovertemplate": "<b>%{hovertext}</b><br><br>COMMODITY_DESC=ANALGESICS<br>QUANTITY=%{x}<br>SALES_VALUE=%{y}<br>HOUSEHOLDS=%{marker.size}<extra></extra>",
         "hovertext": [
          "ANALGESICS"
         ],
         "legendgroup": "ANALGESICS",
         "marker": {
          "color": "#2CA02C",
          "size": [
           183
          ],
          "sizemode": "area",
          "sizeref": 0.3611111111111111,
          "symbol": "circle"
         },
         "mode": "markers",
         "name": "ANALGESICS",
         "orientation": "v",
         "showlegend": true,
         "type": "scatter",
         "x": [
          295
         ],
         "xaxis": "x",
         "y": [
          1296.3700000000013
         ],
         "yaxis": "y"
        },
        {
         "hovertemplate": "<b>%{hovertext}</b><br><br>COMMODITY_DESC=ANTACIDS<br>QUANTITY=%{x}<br>SALES_VALUE=%{y}<br>HOUSEHOLDS=%{marker.size}<extra></extra>",
         "hovertext": [
          "ANTACIDS"
         ],
         "legendgroup": "ANTACIDS",
         "marker": {
          "color": "#D62728",
          "size": [
           83
          ],
          "sizemode": "area",
          "sizeref": 0.3611111111111111,
          "symbol": "circle"
         },
         "mode": "markers",
         "name": "ANTACIDS",
         "orientation": "v",
         "showlegend": true,
         "type": "scatter",
         "x": [
          145
         ],
         "xaxis": "x",
         "y": [
          752.4800000000006
         ],
         "yaxis": "y"
        },
        {
         "hovertemplate": "<b>%{hovertext}</b><br><br>COMMODITY_DESC=APPAREL<br>QUANTITY=%{x}<br>SALES_VALUE=%{y}<br>HOUSEHOLDS=%{marker.size}<extra></extra>",
         "hovertext": [
          "APPAREL"
         ],
         "legendgroup": "APPAREL",
         "marker": {
          "color": "#9467BD",
          "size": [
           34
          ],
          "sizemode": "area",
          "sizeref": 0.3611111111111111,
          "symbol": "circle"
         },
         "mode": "markers",
         "name": "APPAREL",
         "orientation": "v",
         "showlegend": true,
         "type": "scatter",
         "x": [
          61
         ],
         "xaxis": "x",
         "y": [
          228.40000000000006
         ],
         "yaxis": "y"
        },
        {
         "hovertemplate": "<b>%{hovertext}</b><br><br>COMMODITY_DESC=APPLES<br>QUANTITY=%{x}<br>SALES_VALUE=%{y}<br>HOUSEHOLDS=%{marker.size}<extra></extra>",
         "hovertext": [
          "APPLES"
         ],
         "legendgroup": "APPLES",
         "marker": {
          "color": "#8C564B",
          "size": [
           421
          ],
          "sizemode": "area",
          "sizeref": 0.3611111111111111,
          "symbol": "circle"
         },
         "mode": "markers",
         "name": "APPLES",
         "orientation": "v",
         "showlegend": true,
         "type": "scatter",
         "x": [
          822
         ],
         "xaxis": "x",
         "y": [
          1972.850000000003
         ],
         "yaxis": "y"
        },
        {
         "hovertemplate": "<b>%{hovertext}</b><br><br>COMMODITY_DESC=AUDIO/VIDEO PRODUCTS<br>QUANTITY=%{x}<br>SALES_VALUE=%{y}<br>HOUSEHOLDS=%{marker.size}<extra></extra>",
         "hovertext": [
          "AUDIO/VIDEO PRODUCTS"
         ],
         "legendgroup": "AUDIO/VIDEO PRODUCTS",
         "marker": {
          "color": "#E377C2",
          "size": [
           32
          ],
          "sizemode": "area",
          "sizeref": 0.3611111111111111,
          "symbol": "circle"
         },
         "mode": "markers",
         "name": "AUDIO/VIDEO PRODUCTS",
         "orientation": "v",
         "showlegend": true,
         "type": "scatter",
         "x": [
          50
         ],
         "xaxis": "x",
         "y": [
          612.5200000000003
         ],
         "yaxis": "y"
        },
        {
         "hovertemplate": "<b>%{hovertext}</b><br><br>COMMODITY_DESC=AUTOMOTIVE PRODUCTS<br>QUANTITY=%{x}<br>SALES_VALUE=%{y}<br>HOUSEHOLDS=%{marker.size}<extra></extra>",
         "hovertext": [
          "AUTOMOTIVE PRODUCTS"
         ],
         "legendgroup": "AUTOMOTIVE PRODUCTS",
         "marker": {
          "color": "#7F7F7F",
          "size": [
           64
          ],
          "sizemode": "area",
          "sizeref": 0.3611111111111111,
          "symbol": "circle"
         },
         "mode": "markers",
         "name": "AUTOMOTIVE PRODUCTS",
         "orientation": "v",
         "showlegend": true,
         "type": "scatter",
         "x": [
          105
         ],
         "xaxis": "x",
         "y": [
          345.18000000000023
         ],
         "yaxis": "y"
        },
        {
         "hovertemplate": "<b>%{hovertext}</b><br><br>COMMODITY_DESC=BABY FOODS<br>QUANTITY=%{x}<br>SALES_VALUE=%{y}<br>HOUSEHOLDS=%{marker.size}<extra></extra>",
         "hovertext": [
          "BABY FOODS"
         ],
         "legendgroup": "BABY FOODS",
         "marker": {
          "color": "#BCBD22",
          "size": [
           107
          ],
          "sizemode": "area",
          "sizeref": 0.3611111111111111,
          "symbol": "circle"
         },
         "mode": "markers",
         "name": "BABY FOODS",
         "orientation": "v",
         "showlegend": true,
         "type": "scatter",
         "x": [
          2018
         ],
         "xaxis": "x",
         "y": [
          1358.1099999999994
         ],
         "yaxis": "y"
        },
        {
         "hovertemplate": "<b>%{hovertext}</b><br><br>COMMODITY_DESC=BABY HBC<br>QUANTITY=%{x}<br>SALES_VALUE=%{y}<br>HOUSEHOLDS=%{marker.size}<extra></extra>",
         "hovertext": [
          "BABY HBC"
         ],
         "legendgroup": "BABY HBC",
         "marker": {
          "color": "#17BECF",
          "size": [
           168
          ],
          "sizemode": "area",
          "sizeref": 0.3611111111111111,
          "symbol": "circle"
         },
         "mode": "markers",
         "name": "BABY HBC",
         "orientation": "v",
         "showlegend": true,
         "type": "scatter",
         "x": [
          308
         ],
         "xaxis": "x",
         "y": [
          986.8600000000009
         ],
         "yaxis": "y"
        },
        {
         "hovertemplate": "<b>%{hovertext}</b><br><br>COMMODITY_DESC=BABYFOOD<br>QUANTITY=%{x}<br>SALES_VALUE=%{y}<br>HOUSEHOLDS=%{marker.size}<extra></extra>",
         "hovertext": [
          "BABYFOOD"
         ],
         "legendgroup": "BABYFOOD",
         "marker": {
          "color": "#1F77B4",
          "size": [
           5
          ],
          "sizemode": "area",
          "sizeref": 0.3611111111111111,
          "symbol": "circle"
         },
         "mode": "markers",
         "name": "BABYFOOD",
         "orientation": "v",
         "showlegend": true,
         "type": "scatter",
         "x": [
          42
         ],
         "xaxis": "x",
         "y": [
          32.03
         ],
         "yaxis": "y"
        },
        {
         "hovertemplate": "<b>%{hovertext}</b><br><br>COMMODITY_DESC=BACON<br>QUANTITY=%{x}<br>SALES_VALUE=%{y}<br>HOUSEHOLDS=%{marker.size}<extra></extra>",
         "hovertext": [
          "BACON"
         ],
         "legendgroup": "BACON",
         "marker": {
          "color": "#FF7F0E",
          "size": [
           430
          ],
          "sizemode": "area",
          "sizeref": 0.3611111111111111,
          "symbol": "circle"
         },
         "mode": "markers",
         "name": "BACON",
         "orientation": "v",
         "showlegend": true,
         "type": "scatter",
         "x": [
          968
         ],
         "xaxis": "x",
         "y": [
          2928.00999999999
         ],
         "yaxis": "y"
        },
        {
         "hovertemplate": "<b>%{hovertext}</b><br><br>COMMODITY_DESC=BAG SNACKS<br>QUANTITY=%{x}<br>SALES_VALUE=%{y}<br>HOUSEHOLDS=%{marker.size}<extra></extra>",
         "hovertext": [
          "BAG SNACKS"
         ],
         "legendgroup": "BAG SNACKS",
         "marker": {
          "color": "#2CA02C",
          "size": [
           1078
          ],
          "sizemode": "area",
          "sizeref": 0.3611111111111111,
          "symbol": "circle"
         },
         "mode": "markers",
         "name": "BAG SNACKS",
         "orientation": "v",
         "showlegend": true,
         "type": "scatter",
         "x": [
          5220
         ],
         "xaxis": "x",
         "y": [
          9384.609999999964
         ],
         "yaxis": "y"
        },
        {
         "hovertemplate": "<b>%{hovertext}</b><br><br>COMMODITY_DESC=BAKED BREAD/BUNS/ROLLS<br>QUANTITY=%{x}<br>SALES_VALUE=%{y}<br>HOUSEHOLDS=%{marker.size}<extra></extra>",
         "hovertext": [
          "BAKED BREAD/BUNS/ROLLS"
         ],
         "legendgroup": "BAKED BREAD/BUNS/ROLLS",
         "marker": {
          "color": "#D62728",
          "size": [
           1287
          ],
          "sizemode": "area",
          "sizeref": 0.3611111111111111,
          "symbol": "circle"
         },
         "mode": "markers",
         "name": "BAKED BREAD/BUNS/ROLLS",
         "orientation": "v",
         "showlegend": true,
         "type": "scatter",
         "x": [
          6162
         ],
         "xaxis": "x",
         "y": [
          8904.77999999984
         ],
         "yaxis": "y"
        },
        {
         "hovertemplate": "<b>%{hovertext}</b><br><br>COMMODITY_DESC=BAKED SWEET GOODS<br>QUANTITY=%{x}<br>SALES_VALUE=%{y}<br>HOUSEHOLDS=%{marker.size}<extra></extra>",
         "hovertext": [
          "BAKED SWEET GOODS"
         ],
         "legendgroup": "BAKED SWEET GOODS",
         "marker": {
          "color": "#9467BD",
          "size": [
           582
          ],
          "sizemode": "area",
          "sizeref": 0.3611111111111111,
          "symbol": "circle"
         },
         "mode": "markers",
         "name": "BAKED SWEET GOODS",
         "orientation": "v",
         "showlegend": true,
         "type": "scatter",
         "x": [
          1794
         ],
         "xaxis": "x",
         "y": [
          3170.429999999981
         ],
         "yaxis": "y"
        },
        {
         "hovertemplate": "<b>%{hovertext}</b><br><br>COMMODITY_DESC=BAKERY PARTY TRAYS<br>QUANTITY=%{x}<br>SALES_VALUE=%{y}<br>HOUSEHOLDS=%{marker.size}<extra></extra>",
         "hovertext": [
          "BAKERY PARTY TRAYS"
         ],
         "legendgroup": "BAKERY PARTY TRAYS",
         "marker": {
          "color": "#8C564B",
          "size": [
           2
          ],
          "sizemode": "area",
          "sizeref": 0.3611111111111111,
          "symbol": "circle"
         },
         "mode": "markers",
         "name": "BAKERY PARTY TRAYS",
         "orientation": "v",
         "showlegend": true,
         "type": "scatter",
         "x": [
          2
         ],
         "xaxis": "x",
         "y": [
          5.38
         ],
         "yaxis": "y"
        },
        {
         "hovertemplate": "<b>%{hovertext}</b><br><br>COMMODITY_DESC=BAKING<br>QUANTITY=%{x}<br>SALES_VALUE=%{y}<br>HOUSEHOLDS=%{marker.size}<extra></extra>",
         "hovertext": [
          "BAKING"
         ],
         "legendgroup": "BAKING",
         "marker": {
          "color": "#E377C2",
          "size": [
           8
          ],
          "sizemode": "area",
          "sizeref": 0.3611111111111111,
          "symbol": "circle"
         },
         "mode": "markers",
         "name": "BAKING",
         "orientation": "v",
         "showlegend": true,
         "type": "scatter",
         "x": [
          11
         ],
         "xaxis": "x",
         "y": [
          23.39
         ],
         "yaxis": "y"
        },
        {
         "hovertemplate": "<b>%{hovertext}</b><br><br>COMMODITY_DESC=BAKING MIXES<br>QUANTITY=%{x}<br>SALES_VALUE=%{y}<br>HOUSEHOLDS=%{marker.size}<extra></extra>",
         "hovertext": [
          "BAKING MIXES"
         ],
         "legendgroup": "BAKING MIXES",
         "marker": {
          "color": "#7F7F7F",
          "size": [
           376
          ],
          "sizemode": "area",
          "sizeref": 0.3611111111111111,
          "symbol": "circle"
         },
         "mode": "markers",
         "name": "BAKING MIXES",
         "orientation": "v",
         "showlegend": true,
         "type": "scatter",
         "x": [
          1234
         ],
         "xaxis": "x",
         "y": [
          1677.6100000000067
         ],
         "yaxis": "y"
        },
        {
         "hovertemplate": "<b>%{hovertext}</b><br><br>COMMODITY_DESC=BAKING NEEDS<br>QUANTITY=%{x}<br>SALES_VALUE=%{y}<br>HOUSEHOLDS=%{marker.size}<extra></extra>",
         "hovertext": [
          "BAKING NEEDS"
         ],
         "legendgroup": "BAKING NEEDS",
         "marker": {
          "color": "#BCBD22",
          "size": [
           324
          ],
          "sizemode": "area",
          "sizeref": 0.3611111111111111,
          "symbol": "circle"
         },
         "mode": "markers",
         "name": "BAKING NEEDS",
         "orientation": "v",
         "showlegend": true,
         "type": "scatter",
         "x": [
          771
         ],
         "xaxis": "x",
         "y": [
          1292.8100000000027
         ],
         "yaxis": "y"
        },
        {
         "hovertemplate": "<b>%{hovertext}</b><br><br>COMMODITY_DESC=BATH<br>QUANTITY=%{x}<br>SALES_VALUE=%{y}<br>HOUSEHOLDS=%{marker.size}<extra></extra>",
         "hovertext": [
          "BATH"
         ],
         "legendgroup": "BATH",
         "marker": {
          "color": "#17BECF",
          "size": [
           66
          ],
          "sizemode": "area",
          "sizeref": 0.3611111111111111,
          "symbol": "circle"
         },
         "mode": "markers",
         "name": "BATH",
         "orientation": "v",
         "showlegend": true,
         "type": "scatter",
         "x": [
          109
         ],
         "xaxis": "x",
         "y": [
          323.11000000000024
         ],
         "yaxis": "y"
        },
        {
         "hovertemplate": "<b>%{hovertext}</b><br><br>COMMODITY_DESC=BATH TISSUES<br>QUANTITY=%{x}<br>SALES_VALUE=%{y}<br>HOUSEHOLDS=%{marker.size}<extra></extra>",
         "hovertext": [
          "BATH TISSUES"
         ],
         "legendgroup": "BATH TISSUES",
         "marker": {
          "color": "#1F77B4",
          "size": [
           510
          ],
          "sizemode": "area",
          "sizeref": 0.3611111111111111,
          "symbol": "circle"
         },
         "mode": "markers",
         "name": "BATH TISSUES",
         "orientation": "v",
         "showlegend": true,
         "type": "scatter",
         "x": [
          1017
         ],
         "xaxis": "x",
         "y": [
          3563.1099999999647
         ],
         "yaxis": "y"
        },
        {
         "hovertemplate": "<b>%{hovertext}</b><br><br>COMMODITY_DESC=BATTERIES<br>QUANTITY=%{x}<br>SALES_VALUE=%{y}<br>HOUSEHOLDS=%{marker.size}<extra></extra>",
         "hovertext": [
          "BATTERIES"
         ],
         "legendgroup": "BATTERIES",
         "marker": {
          "color": "#FF7F0E",
          "size": [
           111
          ],
          "sizemode": "area",
          "sizeref": 0.3611111111111111,
          "symbol": "circle"
         },
         "mode": "markers",
         "name": "BATTERIES",
         "orientation": "v",
         "showlegend": true,
         "type": "scatter",
         "x": [
          173
         ],
         "xaxis": "x",
         "y": [
          677.8000000000002
         ],
         "yaxis": "y"
        },
        {
         "hovertemplate": "<b>%{hovertext}</b><br><br>COMMODITY_DESC=BEANS - CANNED GLASS & MW<br>QUANTITY=%{x}<br>SALES_VALUE=%{y}<br>HOUSEHOLDS=%{marker.size}<extra></extra>",
         "hovertext": [
          "BEANS - CANNED GLASS & MW"
         ],
         "legendgroup": "BEANS - CANNED GLASS & MW",
         "marker": {
          "color": "#2CA02C",
          "size": [
           425
          ],
          "sizemode": "area",
          "sizeref": 0.3611111111111111,
          "symbol": "circle"
         },
         "mode": "markers",
         "name": "BEANS - CANNED GLASS & MW",
         "orientation": "v",
         "showlegend": true,
         "type": "scatter",
         "x": [
          1365
         ],
         "xaxis": "x",
         "y": [
          1212.2100000000003
         ],
         "yaxis": "y"
        },
        {
         "hovertemplate": "<b>%{hovertext}</b><br><br>COMMODITY_DESC=BEEF<br>QUANTITY=%{x}<br>SALES_VALUE=%{y}<br>HOUSEHOLDS=%{marker.size}<extra></extra>",
         "hovertext": [
          "BEEF"
         ],
         "legendgroup": "BEEF",
         "marker": {
          "color": "#D62728",
          "size": [
           962
          ],
          "sizemode": "area",
          "sizeref": 0.3611111111111111,
          "symbol": "circle"
         },
         "mode": "markers",
         "name": "BEEF",
         "orientation": "v",
         "showlegend": true,
         "type": "scatter",
         "x": [
          4172
         ],
         "xaxis": "x",
         "y": [
          21298.490000000013
         ],
         "yaxis": "y"
        },
        {
         "hovertemplate": "<b>%{hovertext}</b><br><br>COMMODITY_DESC=BEERS/ALES<br>QUANTITY=%{x}<br>SALES_VALUE=%{y}<br>HOUSEHOLDS=%{marker.size}<extra></extra>",
         "hovertext": [
          "BEERS/ALES"
         ],
         "legendgroup": "BEERS/ALES",
         "marker": {
          "color": "#9467BD",
          "size": [
           481
          ],
          "sizemode": "area",
          "sizeref": 0.3611111111111111,
          "symbol": "circle"
         },
         "mode": "markers",
         "name": "BEERS/ALES",
         "orientation": "v",
         "showlegend": true,
         "type": "scatter",
         "x": [
          1418
         ],
         "xaxis": "x",
         "y": [
          10497.359999999802
         ],
         "yaxis": "y"
        },
        {
         "hovertemplate": "<b>%{hovertext}</b><br><br>COMMODITY_DESC=BERRIES<br>QUANTITY=%{x}<br>SALES_VALUE=%{y}<br>HOUSEHOLDS=%{marker.size}<extra></extra>",
         "hovertext": [
          "BERRIES"
         ],
         "legendgroup": "BERRIES",
         "marker": {
          "color": "#8C564B",
          "size": [
           468
          ],
          "sizemode": "area",
          "sizeref": 0.3611111111111111,
          "symbol": "circle"
         },
         "mode": "markers",
         "name": "BERRIES",
         "orientation": "v",
         "showlegend": true,
         "type": "scatter",
         "x": [
          1227
         ],
         "xaxis": "x",
         "y": [
          2590.519999999987
         ],
         "yaxis": "y"
        },
        {
         "hovertemplate": "<b>%{hovertext}</b><br><br>COMMODITY_DESC=BEVERAGE<br>QUANTITY=%{x}<br>SALES_VALUE=%{y}<br>HOUSEHOLDS=%{marker.size}<extra></extra>",
         "hovertext": [
          "BEVERAGE"
         ],
         "legendgroup": "BEVERAGE",
         "marker": {
          "color": "#E377C2",
          "size": [
           28
          ],
          "sizemode": "area",
          "sizeref": 0.3611111111111111,
          "symbol": "circle"
         },
         "mode": "markers",
         "name": "BEVERAGE",
         "orientation": "v",
         "showlegend": true,
         "type": "scatter",
         "x": [
          44
         ],
         "xaxis": "x",
         "y": [
          93.84000000000003
         ],
         "yaxis": "y"
        },
        {
         "hovertemplate": "<b>%{hovertext}</b><br><br>COMMODITY_DESC=BIRD SEED<br>QUANTITY=%{x}<br>SALES_VALUE=%{y}<br>HOUSEHOLDS=%{marker.size}<extra></extra>",
         "hovertext": [
          "BIRD SEED"
         ],
         "legendgroup": "BIRD SEED",
         "marker": {
          "color": "#7F7F7F",
          "size": [
           8
          ],
          "sizemode": "area",
          "sizeref": 0.3611111111111111,
          "symbol": "circle"
         },
         "mode": "markers",
         "name": "BIRD SEED",
         "orientation": "v",
         "showlegend": true,
         "type": "scatter",
         "x": [
          12
         ],
         "xaxis": "x",
         "y": [
          43.48
         ],
         "yaxis": "y"
        },
        {
         "hovertemplate": "<b>%{hovertext}</b><br><br>COMMODITY_DESC=BLEACH<br>QUANTITY=%{x}<br>SALES_VALUE=%{y}<br>HOUSEHOLDS=%{marker.size}<extra></extra>",
         "hovertext": [
          "BLEACH"
         ],
         "legendgroup": "BLEACH",
         "marker": {
          "color": "#BCBD22",
          "size": [
           196
          ],
          "sizemode": "area",
          "sizeref": 0.3611111111111111,
          "symbol": "circle"
         },
         "mode": "markers",
         "name": "BLEACH",
         "orientation": "v",
         "showlegend": true,
         "type": "scatter",
         "x": [
          285
         ],
         "xaxis": "x",
         "y": [
          534.5600000000004
         ],
         "yaxis": "y"
        },
        {
         "hovertemplate": "<b>%{hovertext}</b><br><br>COMMODITY_DESC=BOOKSTORE<br>QUANTITY=%{x}<br>SALES_VALUE=%{y}<br>HOUSEHOLDS=%{marker.size}<extra></extra>",
         "hovertext": [
          "BOOKSTORE"
         ],
         "legendgroup": "BOOKSTORE",
         "marker": {
          "color": "#17BECF",
          "size": [
           72
          ],
          "sizemode": "area",
          "sizeref": 0.3611111111111111,
          "symbol": "circle"
         },
         "mode": "markers",
         "name": "BOOKSTORE",
         "orientation": "v",
         "showlegend": true,
         "type": "scatter",
         "x": [
          114
         ],
         "xaxis": "x",
         "y": [
          943.0200000000007
         ],
         "yaxis": "y"
        },
        {
         "hovertemplate": "<b>%{hovertext}</b><br><br>COMMODITY_DESC=BOTTLE DEPOSITS<br>QUANTITY=%{x}<br>SALES_VALUE=%{y}<br>HOUSEHOLDS=%{marker.size}<extra></extra>",
         "hovertext": [
          "BOTTLE DEPOSITS"
         ],
         "legendgroup": "BOTTLE DEPOSITS",
         "marker": {
          "color": "#1F77B4",
          "size": [
           8
          ],
          "sizemode": "area",
          "sizeref": 0.3611111111111111,
          "symbol": "circle"
         },
         "mode": "markers",
         "name": "BOTTLE DEPOSITS",
         "orientation": "v",
         "showlegend": true,
         "type": "scatter",
         "x": [
          30
         ],
         "xaxis": "x",
         "y": [
          18.599999999999994
         ],
         "yaxis": "y"
        },
        {
         "hovertemplate": "<b>%{hovertext}</b><br><br>COMMODITY_DESC=BREAD<br>QUANTITY=%{x}<br>SALES_VALUE=%{y}<br>HOUSEHOLDS=%{marker.size}<extra></extra>",
         "hovertext": [
          "BREAD"
         ],
         "legendgroup": "BREAD",
         "marker": {
          "color": "#FF7F0E",
          "size": [
           242
          ],
          "sizemode": "area",
          "sizeref": 0.3611111111111111,
          "symbol": "circle"
         },
         "mode": "markers",
         "name": "BREAD",
         "orientation": "v",
         "showlegend": true,
         "type": "scatter",
         "x": [
          497
         ],
         "xaxis": "x",
         "y": [
          852.7400000000005
         ],
         "yaxis": "y"
        },
        {
         "hovertemplate": "<b>%{hovertext}</b><br><br>COMMODITY_DESC=BREAKFAST SAUSAGE/SANDWICHES<br>QUANTITY=%{x}<br>SALES_VALUE=%{y}<br>HOUSEHOLDS=%{marker.size}<extra></extra>",
         "hovertext": [
          "BREAKFAST SAUSAGE/SANDWICHES"
         ],
         "legendgroup": "BREAKFAST SAUSAGE/SANDWICHES",
         "marker": {
          "color": "#2CA02C",
          "size": [
           386
          ],
          "sizemode": "area",
          "sizeref": 0.3611111111111111,
          "symbol": "circle"
         },
         "mode": "markers",
         "name": "BREAKFAST SAUSAGE/SANDWICHES",
         "orientation": "v",
         "showlegend": true,
         "type": "scatter",
         "x": [
          941
         ],
         "xaxis": "x",
         "y": [
          2715.04999999999
         ],
         "yaxis": "y"
        },
        {
         "hovertemplate": "<b>%{hovertext}</b><br><br>COMMODITY_DESC=BREAKFAST SWEETS<br>QUANTITY=%{x}<br>SALES_VALUE=%{y}<br>HOUSEHOLDS=%{marker.size}<extra></extra>",
         "hovertext": [
          "BREAKFAST SWEETS"
         ],
         "legendgroup": "BREAKFAST SWEETS",
         "marker": {
          "color": "#D62728",
          "size": [
           339
          ],
          "sizemode": "area",
          "sizeref": 0.3611111111111111,
          "symbol": "circle"
         },
         "mode": "markers",
         "name": "BREAKFAST SWEETS",
         "orientation": "v",
         "showlegend": true,
         "type": "scatter",
         "x": [
          1063
         ],
         "xaxis": "x",
         "y": [
          1397.2200000000025
         ],
         "yaxis": "y"
        },
        {
         "hovertemplate": "<b>%{hovertext}</b><br><br>COMMODITY_DESC=BROCCOLI/CAULIFLOWER<br>QUANTITY=%{x}<br>SALES_VALUE=%{y}<br>HOUSEHOLDS=%{marker.size}<extra></extra>",
         "hovertext": [
          "BROCCOLI/CAULIFLOWER"
         ],
         "legendgroup": "BROCCOLI/CAULIFLOWER",
         "marker": {
          "color": "#9467BD",
          "size": [
           192
          ],
          "sizemode": "area",
          "sizeref": 0.3611111111111111,
          "symbol": "circle"
         },
         "mode": "markers",
         "name": "BROCCOLI/CAULIFLOWER",
         "orientation": "v",
         "showlegend": true,
         "type": "scatter",
         "x": [
          374
         ],
         "xaxis": "x",
         "y": [
          588.4300000000003
         ],
         "yaxis": "y"
        },
        {
         "hovertemplate": "<b>%{hovertext}</b><br><br>COMMODITY_DESC=BROOMS AND MOPS<br>QUANTITY=%{x}<br>SALES_VALUE=%{y}<br>HOUSEHOLDS=%{marker.size}<extra></extra>",
         "hovertext": [
          "BROOMS AND MOPS"
         ],
         "legendgroup": "BROOMS AND MOPS",
         "marker": {
          "color": "#8C564B",
          "size": [
           173
          ],
          "sizemode": "area",
          "sizeref": 0.3611111111111111,
          "symbol": "circle"
         },
         "mode": "markers",
         "name": "BROOMS AND MOPS",
         "orientation": "v",
         "showlegend": true,
         "type": "scatter",
         "x": [
          305
         ],
         "xaxis": "x",
         "y": [
          782.0100000000002
         ],
         "yaxis": "y"
        },
        {
         "hovertemplate": "<b>%{hovertext}</b><br><br>COMMODITY_DESC=BUTTER<br>QUANTITY=%{x}<br>SALES_VALUE=%{y}<br>HOUSEHOLDS=%{marker.size}<extra></extra>",
         "hovertext": [
          "BUTTER"
         ],
         "legendgroup": "BUTTER",
         "marker": {
          "color": "#E377C2",
          "size": [
           170
          ],
          "sizemode": "area",
          "sizeref": 0.3611111111111111,
          "symbol": "circle"
         },
         "mode": "markers",
         "name": "BUTTER",
         "orientation": "v",
         "showlegend": true,
         "type": "scatter",
         "x": [
          284
         ],
         "xaxis": "x",
         "y": [
          856.7300000000017
         ],
         "yaxis": "y"
        },
        {
         "hovertemplate": "<b>%{hovertext}</b><br><br>COMMODITY_DESC=CAKES<br>QUANTITY=%{x}<br>SALES_VALUE=%{y}<br>HOUSEHOLDS=%{marker.size}<extra></extra>",
         "hovertext": [
          "CAKES"
         ],
         "legendgroup": "CAKES",
         "marker": {
          "color": "#7F7F7F",
          "size": [
           228
          ],
          "sizemode": "area",
          "sizeref": 0.3611111111111111,
          "symbol": "circle"
         },
         "mode": "markers",
         "name": "CAKES",
         "orientation": "v",
         "showlegend": true,
         "type": "scatter",
         "x": [
          317
         ],
         "xaxis": "x",
         "y": [
          2466.7399999999943
         ],
         "yaxis": "y"
        },
        {
         "hovertemplate": "<b>%{hovertext}</b><br><br>COMMODITY_DESC=CANDLES/ACCESSORIES<br>QUANTITY=%{x}<br>SALES_VALUE=%{y}<br>HOUSEHOLDS=%{marker.size}<extra></extra>",
         "hovertext": [
          "CANDLES/ACCESSORIES"
         ],
         "legendgroup": "CANDLES/ACCESSORIES",
         "marker": {
          "color": "#BCBD22",
          "size": [
           61
          ],
          "sizemode": "area",
          "sizeref": 0.3611111111111111,
          "symbol": "circle"
         },
         "mode": "markers",
         "name": "CANDLES/ACCESSORIES",
         "orientation": "v",
         "showlegend": true,
         "type": "scatter",
         "x": [
          170
         ],
         "xaxis": "x",
         "y": [
          325.47000000000014
         ],
         "yaxis": "y"
        },
        {
         "hovertemplate": "<b>%{hovertext}</b><br><br>COMMODITY_DESC=CANDY - CHECKLANE<br>QUANTITY=%{x}<br>SALES_VALUE=%{y}<br>HOUSEHOLDS=%{marker.size}<extra></extra>",
         "hovertext": [
          "CANDY - CHECKLANE"
         ],
         "legendgroup": "CANDY - CHECKLANE",
         "marker": {
          "color": "#17BECF",
          "size": [
           710
          ],
          "sizemode": "area",
          "sizeref": 0.3611111111111111,
          "symbol": "circle"
         },
         "mode": "markers",
         "name": "CANDY - CHECKLANE",
         "orientation": "v",
         "showlegend": true,
         "type": "scatter",
         "x": [
          4448
         ],
         "xaxis": "x",
         "y": [
          2010.3799999999908
         ],
         "yaxis": "y"
        },
        {
         "hovertemplate": "<b>%{hovertext}</b><br><br>COMMODITY_DESC=CANDY - PACKAGED<br>QUANTITY=%{x}<br>SALES_VALUE=%{y}<br>HOUSEHOLDS=%{marker.size}<extra></extra>",
         "hovertext": [
          "CANDY - PACKAGED"
         ],
         "legendgroup": "CANDY - PACKAGED",
         "marker": {
          "color": "#1F77B4",
          "size": [
           620
          ],
          "sizemode": "area",
          "sizeref": 0.3611111111111111,
          "symbol": "circle"
         },
         "mode": "markers",
         "name": "CANDY - PACKAGED",
         "orientation": "v",
         "showlegend": true,
         "type": "scatter",
         "x": [
          2237
         ],
         "xaxis": "x",
         "y": [
          3643.9699999999725
         ],
         "yaxis": "y"
        },
        {
         "hovertemplate": "<b>%{hovertext}</b><br><br>COMMODITY_DESC=CANNED JUICES<br>QUANTITY=%{x}<br>SALES_VALUE=%{y}<br>HOUSEHOLDS=%{marker.size}<extra></extra>",
         "hovertext": [
          "CANNED JUICES"
         ],
         "legendgroup": "CANNED JUICES",
         "marker": {
          "color": "#FF7F0E",
          "size": [
           634
          ],
          "sizemode": "area",
          "sizeref": 0.3611111111111111,
          "symbol": "circle"
         },
         "mode": "markers",
         "name": "CANNED JUICES",
         "orientation": "v",
         "showlegend": true,
         "type": "scatter",
         "x": [
          2312
         ],
         "xaxis": "x",
         "y": [
          4691.939999999988
         ],
         "yaxis": "y"
        },
        {
         "hovertemplate": "<b>%{hovertext}</b><br><br>COMMODITY_DESC=CANNED MILK<br>QUANTITY=%{x}<br>SALES_VALUE=%{y}<br>HOUSEHOLDS=%{marker.size}<extra></extra>",
         "hovertext": [
          "CANNED MILK"
         ],
         "legendgroup": "CANNED MILK",
         "marker": {
          "color": "#2CA02C",
          "size": [
           73
          ],
          "sizemode": "area",
          "sizeref": 0.3611111111111111,
          "symbol": "circle"
         },
         "mode": "markers",
         "name": "CANNED MILK",
         "orientation": "v",
         "showlegend": true,
         "type": "scatter",
         "x": [
          139
         ],
         "xaxis": "x",
         "y": [
          175.77999999999994
         ],
         "yaxis": "y"
        },
        {
         "hovertemplate": "<b>%{hovertext}</b><br><br>COMMODITY_DESC=CARROTS<br>QUANTITY=%{x}<br>SALES_VALUE=%{y}<br>HOUSEHOLDS=%{marker.size}<extra></extra>",
         "hovertext": [
          "CARROTS"
         ],
         "legendgroup": "CARROTS",
         "marker": {
          "color": "#D62728",
          "size": [
           339
          ],
          "sizemode": "area",
          "sizeref": 0.3611111111111111,
          "symbol": "circle"
         },
         "mode": "markers",
         "name": "CARROTS",
         "orientation": "v",
         "showlegend": true,
         "type": "scatter",
         "x": [
          502
         ],
         "xaxis": "x",
         "y": [
          880.5100000000014
         ],
         "yaxis": "y"
        },
        {
         "hovertemplate": "<b>%{hovertext}</b><br><br>COMMODITY_DESC=CAT FOOD<br>QUANTITY=%{x}<br>SALES_VALUE=%{y}<br>HOUSEHOLDS=%{marker.size}<extra></extra>",
         "hovertext": [
          "CAT FOOD"
         ],
         "legendgroup": "CAT FOOD",
         "marker": {
          "color": "#9467BD",
          "size": [
           163
          ],
          "sizemode": "area",
          "sizeref": 0.3611111111111111,
          "symbol": "circle"
         },
         "mode": "markers",
         "name": "CAT FOOD",
         "orientation": "v",
         "showlegend": true,
         "type": "scatter",
         "x": [
          1815
         ],
         "xaxis": "x",
         "y": [
          1755.219999999997
         ],
         "yaxis": "y"
        },
        {
         "hovertemplate": "<b>%{hovertext}</b><br><br>COMMODITY_DESC=CAT LITTER<br>QUANTITY=%{x}<br>SALES_VALUE=%{y}<br>HOUSEHOLDS=%{marker.size}<extra></extra>",
         "hovertext": [
          "CAT LITTER"
         ],
         "legendgroup": "CAT LITTER",
         "marker": {
          "color": "#8C564B",
          "size": [
           102
          ],
          "sizemode": "area",
          "sizeref": 0.3611111111111111,
          "symbol": "circle"
         },
         "mode": "markers",
         "name": "CAT LITTER",
         "orientation": "v",
         "showlegend": true,
         "type": "scatter",
         "x": [
          206
         ],
         "xaxis": "x",
         "y": [
          815.7500000000007
         ],
         "yaxis": "y"
        },
        {
         "hovertemplate": "<b>%{hovertext}</b><br><br>COMMODITY_DESC=CEREAL/BREAKFAST<br>QUANTITY=%{x}<br>SALES_VALUE=%{y}<br>HOUSEHOLDS=%{marker.size}<extra></extra>",
         "hovertext": [
          "CEREAL/BREAKFAST"
         ],
         "legendgroup": "CEREAL/BREAKFAST",
         "marker": {
          "color": "#E377C2",
          "size": [
           49
          ],
          "sizemode": "area",
          "sizeref": 0.3611111111111111,
          "symbol": "circle"
         },
         "mode": "markers",
         "name": "CEREAL/BREAKFAST",
         "orientation": "v",
         "showlegend": true,
         "type": "scatter",
         "x": [
          109
         ],
         "xaxis": "x",
         "y": [
          387.2600000000003
         ],
         "yaxis": "y"
        },
        {
         "hovertemplate": "<b>%{hovertext}</b><br><br>COMMODITY_DESC=CHARCOAL AND LIGHTER FLUID<br>QUANTITY=%{x}<br>SALES_VALUE=%{y}<br>HOUSEHOLDS=%{marker.size}<extra></extra>",
         "hovertext": [
          "CHARCOAL AND LIGHTER FLUID"
         ],
         "legendgroup": "CHARCOAL AND LIGHTER FLUID",
         "marker": {
          "color": "#7F7F7F",
          "size": [
           137
          ],
          "sizemode": "area",
          "sizeref": 0.3611111111111111,
          "symbol": "circle"
         },
         "mode": "markers",
         "name": "CHARCOAL AND LIGHTER FLUID",
         "orientation": "v",
         "showlegend": true,
         "type": "scatter",
         "x": [
          213
         ],
         "xaxis": "x",
         "y": [
          865.1100000000017
         ],
         "yaxis": "y"
        },
        {
         "hovertemplate": "<b>%{hovertext}</b><br><br>COMMODITY_DESC=CHEESE<br>QUANTITY=%{x}<br>SALES_VALUE=%{y}<br>HOUSEHOLDS=%{marker.size}<extra></extra>",
         "hovertext": [
          "CHEESE"
         ],
         "legendgroup": "CHEESE",
         "marker": {
          "color": "#BCBD22",
          "size": [
           1114
          ],
          "sizemode": "area",
          "sizeref": 0.3611111111111111,
          "symbol": "circle"
         },
         "mode": "markers",
         "name": "CHEESE",
         "orientation": "v",
         "showlegend": true,
         "type": "scatter",
         "x": [
          5197
         ],
         "xaxis": "x",
         "y": [
          11016.969999999848
         ],
         "yaxis": "y"
        },
        {
         "hovertemplate": "<b>%{hovertext}</b><br><br>COMMODITY_DESC=CHEESES<br>QUANTITY=%{x}<br>SALES_VALUE=%{y}<br>HOUSEHOLDS=%{marker.size}<extra></extra>",
         "hovertext": [
          "CHEESES"
         ],
         "legendgroup": "CHEESES",
         "marker": {
          "color": "#17BECF",
          "size": [
           354
          ],
          "sizemode": "area",
          "sizeref": 0.3611111111111111,
          "symbol": "circle"
         },
         "mode": "markers",
         "name": "CHEESES",
         "orientation": "v",
         "showlegend": true,
         "type": "scatter",
         "x": [
          809
         ],
         "xaxis": "x",
         "y": [
          2913.5899999999815
         ],
         "yaxis": "y"
        },
        {
         "hovertemplate": "<b>%{hovertext}</b><br><br>COMMODITY_DESC=CHICKEN<br>QUANTITY=%{x}<br>SALES_VALUE=%{y}<br>HOUSEHOLDS=%{marker.size}<extra></extra>",
         "hovertext": [
          "CHICKEN"
         ],
         "legendgroup": "CHICKEN",
         "marker": {
          "color": "#1F77B4",
          "size": [
           581
          ],
          "sizemode": "area",
          "sizeref": 0.3611111111111111,
          "symbol": "circle"
         },
         "mode": "markers",
         "name": "CHICKEN",
         "orientation": "v",
         "showlegend": true,
         "type": "scatter",
         "x": [
          1675
         ],
         "xaxis": "x",
         "y": [
          6379.409999999986
         ],
         "yaxis": "y"
        },
        {
         "hovertemplate": "<b>%{hovertext}</b><br><br>COMMODITY_DESC=CHICKEN/POULTRY<br>QUANTITY=%{x}<br>SALES_VALUE=%{y}<br>HOUSEHOLDS=%{marker.size}<extra></extra>",
         "hovertext": [
          "CHICKEN/POULTRY"
         ],
         "legendgroup": "CHICKEN/POULTRY",
         "marker": {
          "color": "#FF7F0E",
          "size": [
           236
          ],
          "sizemode": "area",
          "sizeref": 0.3611111111111111,
          "symbol": "circle"
         },
         "mode": "markers",
         "name": "CHICKEN/POULTRY",
         "orientation": "v",
         "showlegend": true,
         "type": "scatter",
         "x": [
          505
         ],
         "xaxis": "x",
         "y": [
          2474.8099999999977
         ],
         "yaxis": "y"
        },
        {
         "hovertemplate": "<b>%{hovertext}</b><br><br>COMMODITY_DESC=CHIPS&SNACKS<br>QUANTITY=%{x}<br>SALES_VALUE=%{y}<br>HOUSEHOLDS=%{marker.size}<extra></extra>",
         "hovertext": [
          "CHIPS&SNACKS"
         ],
         "legendgroup": "CHIPS&SNACKS",
         "marker": {
          "color": "#2CA02C",
          "size": [
           73
          ],
          "sizemode": "area",
          "sizeref": 0.3611111111111111,
          "symbol": "circle"
         },
         "mode": "markers",
         "name": "CHIPS&SNACKS",
         "orientation": "v",
         "showlegend": true,
         "type": "scatter",
         "x": [
          138
         ],
         "xaxis": "x",
         "y": [
          364.34000000000043
         ],
         "yaxis": "y"
        },
        {
         "hovertemplate": "<b>%{hovertext}</b><br><br>COMMODITY_DESC=CHRISTMAS  SEASONAL<br>QUANTITY=%{x}<br>SALES_VALUE=%{y}<br>HOUSEHOLDS=%{marker.size}<extra></extra>",
         "hovertext": [
          "CHRISTMAS  SEASONAL"
         ],
         "legendgroup": "CHRISTMAS  SEASONAL",
         "marker": {
          "color": "#D62728",
          "size": [
           4
          ],
          "sizemode": "area",
          "sizeref": 0.3611111111111111,
          "symbol": "circle"
         },
         "mode": "markers",
         "name": "CHRISTMAS  SEASONAL",
         "orientation": "v",
         "showlegend": true,
         "type": "scatter",
         "x": [
          4
         ],
         "xaxis": "x",
         "y": [
          2.68
         ],
         "yaxis": "y"
        },
        {
         "hovertemplate": "<b>%{hovertext}</b><br><br>COMMODITY_DESC=CIGARETTES<br>QUANTITY=%{x}<br>SALES_VALUE=%{y}<br>HOUSEHOLDS=%{marker.size}<extra></extra>",
         "hovertext": [
          "CIGARETTES"
         ],
         "legendgroup": "CIGARETTES",
         "marker": {
          "color": "#9467BD",
          "size": [
           281
          ],
          "sizemode": "area",
          "sizeref": 0.3611111111111111,
          "symbol": "circle"
         },
         "mode": "markers",
         "name": "CIGARETTES",
         "orientation": "v",
         "showlegend": true,
         "type": "scatter",
         "x": [
          1118
         ],
         "xaxis": "x",
         "y": [
          6252.6399999999985
         ],
         "yaxis": "y"
        },
        {
         "hovertemplate": "<b>%{hovertext}</b><br><br>COMMODITY_DESC=CIGARS<br>QUANTITY=%{x}<br>SALES_VALUE=%{y}<br>HOUSEHOLDS=%{marker.size}<extra></extra>",
         "hovertext": [
          "CIGARS"
         ],
         "legendgroup": "CIGARS",
         "marker": {
          "color": "#8C564B",
          "size": [
           11
          ],
          "sizemode": "area",
          "sizeref": 0.3611111111111111,
          "symbol": "circle"
         },
         "mode": "markers",
         "name": "CIGARS",
         "orientation": "v",
         "showlegend": true,
         "type": "scatter",
         "x": [
          30
         ],
         "xaxis": "x",
         "y": [
          85.42999999999999
         ],
         "yaxis": "y"
        },
        {
         "hovertemplate": "<b>%{hovertext}</b><br><br>COMMODITY_DESC=CITRUS<br>QUANTITY=%{x}<br>SALES_VALUE=%{y}<br>HOUSEHOLDS=%{marker.size}<extra></extra>",
         "hovertext": [
          "CITRUS"
         ],
         "legendgroup": "CITRUS",
         "marker": {
          "color": "#E377C2",
          "size": [
           361
          ],
          "sizemode": "area",
          "sizeref": 0.3611111111111111,
          "symbol": "circle"
         },
         "mode": "markers",
         "name": "CITRUS",
         "orientation": "v",
         "showlegend": true,
         "type": "scatter",
         "x": [
          1390
         ],
         "xaxis": "x",
         "y": [
          1215.1700000000033
         ],
         "yaxis": "y"
        },
        {
         "hovertemplate": "<b>%{hovertext}</b><br><br>COMMODITY_DESC=COCOA MIXES<br>QUANTITY=%{x}<br>SALES_VALUE=%{y}<br>HOUSEHOLDS=%{marker.size}<extra></extra>",
         "hovertext": [
          "COCOA MIXES"
         ],
         "legendgroup": "COCOA MIXES",
         "marker": {
          "color": "#7F7F7F",
          "size": [
           167
          ],
          "sizemode": "area",
          "sizeref": 0.3611111111111111,
          "symbol": "circle"
         },
         "mode": "markers",
         "name": "COCOA MIXES",
         "orientation": "v",
         "showlegend": true,
         "type": "scatter",
         "x": [
          235
         ],
         "xaxis": "x",
         "y": [
          542.1600000000009
         ],
         "yaxis": "y"
        },
        {
         "hovertemplate": "<b>%{hovertext}</b><br><br>COMMODITY_DESC=COFFEE<br>QUANTITY=%{x}<br>SALES_VALUE=%{y}<br>HOUSEHOLDS=%{marker.size}<extra></extra>",
         "hovertext": [
          "COFFEE"
         ],
         "legendgroup": "COFFEE",
         "marker": {
          "color": "#BCBD22",
          "size": [
           396
          ],
          "sizemode": "area",
          "sizeref": 0.3611111111111111,
          "symbol": "circle"
         },
         "mode": "markers",
         "name": "COFFEE",
         "orientation": "v",
         "showlegend": true,
         "type": "scatter",
         "x": [
          855
         ],
         "xaxis": "x",
         "y": [
          3490.11999999998
         ],
         "yaxis": "y"
        },
        {
         "hovertemplate": "<b>%{hovertext}</b><br><br>COMMODITY_DESC=COFFEE FILTERS<br>QUANTITY=%{x}<br>SALES_VALUE=%{y}<br>HOUSEHOLDS=%{marker.size}<extra></extra>",
         "hovertext": [
          "COFFEE FILTERS"
         ],
         "legendgroup": "COFFEE FILTERS",
         "marker": {
          "color": "#17BECF",
          "size": [
           100
          ],
          "sizemode": "area",
          "sizeref": 0.3611111111111111,
          "symbol": "circle"
         },
         "mode": "markers",
         "name": "COFFEE FILTERS",
         "orientation": "v",
         "showlegend": true,
         "type": "scatter",
         "x": [
          115
         ],
         "xaxis": "x",
         "y": [
          239.82
         ],
         "yaxis": "y"
        },
        {
         "hovertemplate": "<b>%{hovertext}</b><br><br>COMMODITY_DESC=COFFEE SHOP SWEET GOODS&RETAIL<br>QUANTITY=%{x}<br>SALES_VALUE=%{y}<br>HOUSEHOLDS=%{marker.size}<extra></extra>",
         "hovertext": [
          "COFFEE SHOP SWEET GOODS&RETAIL"
         ],
         "legendgroup": "COFFEE SHOP SWEET GOODS&RETAIL",
         "marker": {
          "color": "#1F77B4",
          "size": [
           3
          ],
          "sizemode": "area",
          "sizeref": 0.3611111111111111,
          "symbol": "circle"
         },
         "mode": "markers",
         "name": "COFFEE SHOP SWEET GOODS&RETAIL",
         "orientation": "v",
         "showlegend": true,
         "type": "scatter",
         "x": [
          2
         ],
         "xaxis": "x",
         "y": [
          3.9
         ],
         "yaxis": "y"
        },
        {
         "hovertemplate": "<b>%{hovertext}</b><br><br>COMMODITY_DESC=COLD AND FLU<br>QUANTITY=%{x}<br>SALES_VALUE=%{y}<br>HOUSEHOLDS=%{marker.size}<extra></extra>",
         "hovertext": [
          "COLD AND FLU"
         ],
         "legendgroup": "COLD AND FLU",
         "marker": {
          "color": "#FF7F0E",
          "size": [
           141
          ],
          "sizemode": "area",
          "sizeref": 0.3611111111111111,
          "symbol": "circle"
         },
         "mode": "markers",
         "name": "COLD AND FLU",
         "orientation": "v",
         "showlegend": true,
         "type": "scatter",
         "x": [
          225
         ],
         "xaxis": "x",
         "y": [
          926.6100000000014
         ],
         "yaxis": "y"
        },
        {
         "hovertemplate": "<b>%{hovertext}</b><br><br>COMMODITY_DESC=COLD CEREAL<br>QUANTITY=%{x}<br>SALES_VALUE=%{y}<br>HOUSEHOLDS=%{marker.size}<extra></extra>",
         "hovertext": [
          "COLD CEREAL"
         ],
         "legendgroup": "COLD CEREAL",
         "marker": {
          "color": "#2CA02C",
          "size": [
           790
          ],
          "sizemode": "area",
          "sizeref": 0.3611111111111111,
          "symbol": "circle"
         },
         "mode": "markers",
         "name": "COLD CEREAL",
         "orientation": "v",
         "showlegend": true,
         "type": "scatter",
         "x": [
          2482
         ],
         "xaxis": "x",
         "y": [
          6704.7599999999065
         ],
         "yaxis": "y"
        },
        {
         "hovertemplate": "<b>%{hovertext}</b><br><br>COMMODITY_DESC=CONDIMENTS<br>QUANTITY=%{x}<br>SALES_VALUE=%{y}<br>HOUSEHOLDS=%{marker.size}<extra></extra>",
         "hovertext": [
          "CONDIMENTS"
         ],
         "legendgroup": "CONDIMENTS",
         "marker": {
          "color": "#D62728",
          "size": [
           19
          ],
          "sizemode": "area",
          "sizeref": 0.3611111111111111,
          "symbol": "circle"
         },
         "mode": "markers",
         "name": "CONDIMENTS",
         "orientation": "v",
         "showlegend": true,
         "type": "scatter",
         "x": [
          29
         ],
         "xaxis": "x",
         "y": [
          97.28
         ],
         "yaxis": "y"
        },
        {
         "hovertemplate": "<b>%{hovertext}</b><br><br>COMMODITY_DESC=CONDIMENTS/SAUCES<br>QUANTITY=%{x}<br>SALES_VALUE=%{y}<br>HOUSEHOLDS=%{marker.size}<extra></extra>",
         "hovertext": [
          "CONDIMENTS/SAUCES"
         ],
         "legendgroup": "CONDIMENTS/SAUCES",
         "marker": {
          "color": "#9467BD",
          "size": [
           738
          ],
          "sizemode": "area",
          "sizeref": 0.3611111111111111,
          "symbol": "circle"
         },
         "mode": "markers",
         "name": "CONDIMENTS/SAUCES",
         "orientation": "v",
         "showlegend": true,
         "type": "scatter",
         "x": [
          2131
         ],
         "xaxis": "x",
         "y": [
          3446.569999999974
         ],
         "yaxis": "y"
        },
        {
         "hovertemplate": "<b>%{hovertext}</b><br><br>COMMODITY_DESC=CONTINUITIES<br>QUANTITY=%{x}<br>SALES_VALUE=%{y}<br>HOUSEHOLDS=%{marker.size}<extra></extra>",
         "hovertext": [
          "CONTINUITIES"
         ],
         "legendgroup": "CONTINUITIES",
         "marker": {
          "color": "#8C564B",
          "size": [
           8
          ],
          "sizemode": "area",
          "sizeref": 0.3611111111111111,
          "symbol": "circle"
         },
         "mode": "markers",
         "name": "CONTINUITIES",
         "orientation": "v",
         "showlegend": true,
         "type": "scatter",
         "x": [
          12
         ],
         "xaxis": "x",
         "y": [
          39.730000000000004
         ],
         "yaxis": "y"
        },
        {
         "hovertemplate": "<b>%{hovertext}</b><br><br>COMMODITY_DESC=CONVENIENT BRKFST/WHLSM SNACKS<br>QUANTITY=%{x}<br>SALES_VALUE=%{y}<br>HOUSEHOLDS=%{marker.size}<extra></extra>",
         "hovertext": [
          "CONVENIENT BRKFST/WHLSM SNACKS"
         ],
         "legendgroup": "CONVENIENT BRKFST/WHLSM SNACKS",
         "marker": {
          "color": "#E377C2",
          "size": [
           477
          ],
          "sizemode": "area",
          "sizeref": 0.3611111111111111,
          "symbol": "circle"
         },
         "mode": "markers",
         "name": "CONVENIENT BRKFST/WHLSM SNACKS",
         "orientation": "v",
         "showlegend": true,
         "type": "scatter",
         "x": [
          1627
         ],
         "xaxis": "x",
         "y": [
          3362.7899999999913
         ],
         "yaxis": "y"
        },
        {
         "hovertemplate": "<b>%{hovertext}</b><br><br>COMMODITY_DESC=COOKIES<br>QUANTITY=%{x}<br>SALES_VALUE=%{y}<br>HOUSEHOLDS=%{marker.size}<extra></extra>",
         "hovertext": [
          "COOKIES"
         ],
         "legendgroup": "COOKIES",
         "marker": {
          "color": "#7F7F7F",
          "size": [
           210
          ],
          "sizemode": "area",
          "sizeref": 0.3611111111111111,
          "symbol": "circle"
         },
         "mode": "markers",
         "name": "COOKIES",
         "orientation": "v",
         "showlegend": true,
         "type": "scatter",
         "x": [
          417
         ],
         "xaxis": "x",
         "y": [
          1065.980000000001
         ],
         "yaxis": "y"
        },
        {
         "hovertemplate": "<b>%{hovertext}</b><br><br>COMMODITY_DESC=COOKIES/CONES<br>QUANTITY=%{x}<br>SALES_VALUE=%{y}<br>HOUSEHOLDS=%{marker.size}<extra></extra>",
         "hovertext": [
          "COOKIES/CONES"
         ],
         "legendgroup": "COOKIES/CONES",
         "marker": {
          "color": "#BCBD22",
          "size": [
           656
          ],
          "sizemode": "area",
          "sizeref": 0.3611111111111111,
          "symbol": "circle"
         },
         "mode": "markers",
         "name": "COOKIES/CONES",
         "orientation": "v",
         "showlegend": true,
         "type": "scatter",
         "x": [
          1800
         ],
         "xaxis": "x",
         "y": [
          3790.899999999984
         ],
         "yaxis": "y"
        },
        {
         "hovertemplate": "<b>%{hovertext}</b><br><br>COMMODITY_DESC=COOKWARE & BAKEWARE<br>QUANTITY=%{x}<br>SALES_VALUE=%{y}<br>HOUSEHOLDS=%{marker.size}<extra></extra>",
         "hovertext": [
          "COOKWARE & BAKEWARE"
         ],
         "legendgroup": "COOKWARE & BAKEWARE",
         "marker": {
          "color": "#17BECF",
          "size": [
           45
          ],
          "sizemode": "area",
          "sizeref": 0.3611111111111111,
          "symbol": "circle"
         },
         "mode": "markers",
         "name": "COOKWARE & BAKEWARE",
         "orientation": "v",
         "showlegend": true,
         "type": "scatter",
         "x": [
          75
         ],
         "xaxis": "x",
         "y": [
          345.98000000000013
         ],
         "yaxis": "y"
        },
        {
         "hovertemplate": "<b>%{hovertext}</b><br><br>COMMODITY_DESC=CORN<br>QUANTITY=%{x}<br>SALES_VALUE=%{y}<br>HOUSEHOLDS=%{marker.size}<extra></extra>",
         "hovertext": [
          "CORN"
         ],
         "legendgroup": "CORN",
         "marker": {
          "color": "#1F77B4",
          "size": [
           250
          ],
          "sizemode": "area",
          "sizeref": 0.3611111111111111,
          "symbol": "circle"
         },
         "mode": "markers",
         "name": "CORN",
         "orientation": "v",
         "showlegend": true,
         "type": "scatter",
         "x": [
          1706
         ],
         "xaxis": "x",
         "y": [
          805.51
         ],
         "yaxis": "y"
        },
        {
         "hovertemplate": "<b>%{hovertext}</b><br><br>COMMODITY_DESC=COSMETIC ACCESSORIES<br>QUANTITY=%{x}<br>SALES_VALUE=%{y}<br>HOUSEHOLDS=%{marker.size}<extra></extra>",
         "hovertext": [
          "COSMETIC ACCESSORIES"
         ],
         "legendgroup": "COSMETIC ACCESSORIES",
         "marker": {
          "color": "#FF7F0E",
          "size": [
           19
          ],
          "sizemode": "area",
          "sizeref": 0.3611111111111111,
          "symbol": "circle"
         },
         "mode": "markers",
         "name": "COSMETIC ACCESSORIES",
         "orientation": "v",
         "showlegend": true,
         "type": "scatter",
         "x": [
          24
         ],
         "xaxis": "x",
         "y": [
          120.45999999999998
         ],
         "yaxis": "y"
        },
        {
         "hovertemplate": "<b>%{hovertext}</b><br><br>COMMODITY_DESC=COUPON<br>QUANTITY=%{x}<br>SALES_VALUE=%{y}<br>HOUSEHOLDS=%{marker.size}<extra></extra>",
         "hovertext": [
          "COUPON"
         ],
         "legendgroup": "COUPON",
         "marker": {
          "color": "#2CA02C",
          "size": [
           6
          ],
          "sizemode": "area",
          "sizeref": 0.3611111111111111,
          "symbol": "circle"
         },
         "mode": "markers",
         "name": "COUPON",
         "orientation": "v",
         "showlegend": true,
         "type": "scatter",
         "x": [
          6
         ],
         "xaxis": "x",
         "y": [
          44.42
         ],
         "yaxis": "y"
        },
        {
         "hovertemplate": "<b>%{hovertext}</b><br><br>COMMODITY_DESC=COUPONS/STORE & MFG<br>QUANTITY=%{x}<br>SALES_VALUE=%{y}<br>HOUSEHOLDS=%{marker.size}<extra></extra>",
         "hovertext": [
          "COUPONS/STORE & MFG"
         ],
         "legendgroup": "COUPONS/STORE & MFG",
         "marker": {
          "color": "#D62728",
          "size": [
           40
          ],
          "sizemode": "area",
          "sizeref": 0.3611111111111111,
          "symbol": "circle"
         },
         "mode": "markers",
         "name": "COUPONS/STORE & MFG",
         "orientation": "v",
         "showlegend": true,
         "type": "scatter",
         "x": [
          54
         ],
         "xaxis": "x",
         "y": [
          27.25
         ],
         "yaxis": "y"
        },
        {
         "hovertemplate": "<b>%{hovertext}</b><br><br>COMMODITY_DESC=CRACKERS/MISC BKD FD<br>QUANTITY=%{x}<br>SALES_VALUE=%{y}<br>HOUSEHOLDS=%{marker.size}<extra></extra>",
         "hovertext": [
          "CRACKERS/MISC BKD FD"
         ],
         "legendgroup": "CRACKERS/MISC BKD FD",
         "marker": {
          "color": "#9467BD",
          "size": [
           726
          ],
          "sizemode": "area",
          "sizeref": 0.3611111111111111,
          "symbol": "circle"
         },
         "mode": "markers",
         "name": "CRACKERS/MISC BKD FD",
         "orientation": "v",
         "showlegend": true,
         "type": "scatter",
         "x": [
          1846
         ],
         "xaxis": "x",
         "y": [
          3752.0199999999672
         ],
         "yaxis": "y"
        },
        {
         "hovertemplate": "<b>%{hovertext}</b><br><br>COMMODITY_DESC=DELI MEATS<br>QUANTITY=%{x}<br>SALES_VALUE=%{y}<br>HOUSEHOLDS=%{marker.size}<extra></extra>",
         "hovertext": [
          "DELI MEATS"
         ],
         "legendgroup": "DELI MEATS",
         "marker": {
          "color": "#8C564B",
          "size": [
           519
          ],
          "sizemode": "area",
          "sizeref": 0.3611111111111111,
          "symbol": "circle"
         },
         "mode": "markers",
         "name": "DELI MEATS",
         "orientation": "v",
         "showlegend": true,
         "type": "scatter",
         "x": [
          1709
         ],
         "xaxis": "x",
         "y": [
          6843.939999999996
         ],
         "yaxis": "y"
        },
        {
         "hovertemplate": "<b>%{hovertext}</b><br><br>COMMODITY_DESC=DELI SPECIALTIES (RETAIL PK)<br>QUANTITY=%{x}<br>SALES_VALUE=%{y}<br>HOUSEHOLDS=%{marker.size}<extra></extra>",
         "hovertext": [
          "DELI SPECIALTIES (RETAIL PK)"
         ],
         "legendgroup": "DELI SPECIALTIES (RETAIL PK)",
         "marker": {
          "color": "#E377C2",
          "size": [
           36
          ],
          "sizemode": "area",
          "sizeref": 0.3611111111111111,
          "symbol": "circle"
         },
         "mode": "markers",
         "name": "DELI SPECIALTIES (RETAIL PK)",
         "orientation": "v",
         "showlegend": true,
         "type": "scatter",
         "x": [
          48
         ],
         "xaxis": "x",
         "y": [
          152.39
         ],
         "yaxis": "y"
        },
        {
         "hovertemplate": "<b>%{hovertext}</b><br><br>COMMODITY_DESC=DELI SUPPLIES<br>QUANTITY=%{x}<br>SALES_VALUE=%{y}<br>HOUSEHOLDS=%{marker.size}<extra></extra>",
         "hovertext": [
          "DELI SUPPLIES"
         ],
         "legendgroup": "DELI SUPPLIES",
         "marker": {
          "color": "#7F7F7F",
          "size": [
           44
          ],
          "sizemode": "area",
          "sizeref": 0.3611111111111111,
          "symbol": "circle"
         },
         "mode": "markers",
         "name": "DELI SUPPLIES",
         "orientation": "v",
         "showlegend": true,
         "type": "scatter",
         "x": [
          59
         ],
         "xaxis": "x",
         "y": [
          154.95999999999998
         ],
         "yaxis": "y"
        },
        {
         "hovertemplate": "<b>%{hovertext}</b><br><br>COMMODITY_DESC=DEODORANTS<br>QUANTITY=%{x}<br>SALES_VALUE=%{y}<br>HOUSEHOLDS=%{marker.size}<extra></extra>",
         "hovertext": [
          "DEODORANTS"
         ],
         "legendgroup": "DEODORANTS",
         "marker": {
          "color": "#BCBD22",
          "size": [
           254
          ],
          "sizemode": "area",
          "sizeref": 0.3611111111111111,
          "symbol": "circle"
         },
         "mode": "markers",
         "name": "DEODORANTS",
         "orientation": "v",
         "showlegend": true,
         "type": "scatter",
         "x": [
          394
         ],
         "xaxis": "x",
         "y": [
          1072.8900000000021
         ],
         "yaxis": "y"
        },
        {
         "hovertemplate": "<b>%{hovertext}</b><br><br>COMMODITY_DESC=DIAPERS & DISPOSABLES<br>QUANTITY=%{x}<br>SALES_VALUE=%{y}<br>HOUSEHOLDS=%{marker.size}<extra></extra>",
         "hovertext": [
          "DIAPERS & DISPOSABLES"
         ],
         "legendgroup": "DIAPERS & DISPOSABLES",
         "marker": {
          "color": "#17BECF",
          "size": [
           156
          ],
          "sizemode": "area",
          "sizeref": 0.3611111111111111,
          "symbol": "circle"
         },
         "mode": "markers",
         "name": "DIAPERS & DISPOSABLES",
         "orientation": "v",
         "showlegend": true,
         "type": "scatter",
         "x": [
          341
         ],
         "xaxis": "x",
         "y": [
          3644.239999999982
         ],
         "yaxis": "y"
        },
        {
         "hovertemplate": "<b>%{hovertext}</b><br><br>COMMODITY_DESC=DIETARY AID PRODUCTS<br>QUANTITY=%{x}<br>SALES_VALUE=%{y}<br>HOUSEHOLDS=%{marker.size}<extra></extra>",
         "hovertext": [
          "DIETARY AID PRODUCTS"
         ],
         "legendgroup": "DIETARY AID PRODUCTS",
         "marker": {
          "color": "#1F77B4",
          "size": [
           72
          ],
          "sizemode": "area",
          "sizeref": 0.3611111111111111,
          "symbol": "circle"
         },
         "mode": "markers",
         "name": "DIETARY AID PRODUCTS",
         "orientation": "v",
         "showlegend": true,
         "type": "scatter",
         "x": [
          313
         ],
         "xaxis": "x",
         "y": [
          1014.1800000000012
         ],
         "yaxis": "y"
        },
        {
         "hovertemplate": "<b>%{hovertext}</b><br><br>COMMODITY_DESC=DINNER MXS:DRY<br>QUANTITY=%{x}<br>SALES_VALUE=%{y}<br>HOUSEHOLDS=%{marker.size}<extra></extra>",
         "hovertext": [
          "DINNER MXS:DRY"
         ],
         "legendgroup": "DINNER MXS:DRY",
         "marker": {
          "color": "#FF7F0E",
          "size": [
           467
          ],
          "sizemode": "area",
          "sizeref": 0.3611111111111111,
          "symbol": "circle"
         },
         "mode": "markers",
         "name": "DINNER MXS:DRY",
         "orientation": "v",
         "showlegend": true,
         "type": "scatter",
         "x": [
          1717
         ],
         "xaxis": "x",
         "y": [
          2750.8100000000045
         ],
         "yaxis": "y"
        },
        {
         "hovertemplate": "<b>%{hovertext}</b><br><br>COMMODITY_DESC=DINNER SAUSAGE<br>QUANTITY=%{x}<br>SALES_VALUE=%{y}<br>HOUSEHOLDS=%{marker.size}<extra></extra>",
         "hovertext": [
          "DINNER SAUSAGE"
         ],
         "legendgroup": "DINNER SAUSAGE",
         "marker": {
          "color": "#2CA02C",
          "size": [
           501
          ],
          "sizemode": "area",
          "sizeref": 0.3611111111111111,
          "symbol": "circle"
         },
         "mode": "markers",
         "name": "DINNER SAUSAGE",
         "orientation": "v",
         "showlegend": true,
         "type": "scatter",
         "x": [
          1341
         ],
         "xaxis": "x",
         "y": [
          3581.839999999976
         ],
         "yaxis": "y"
        },
        {
         "hovertemplate": "<b>%{hovertext}</b><br><br>COMMODITY_DESC=DISHWASH DETERGENTS<br>QUANTITY=%{x}<br>SALES_VALUE=%{y}<br>HOUSEHOLDS=%{marker.size}<extra></extra>",
         "hovertext": [
          "DISHWASH DETERGENTS"
         ],
         "legendgroup": "DISHWASH DETERGENTS",
         "marker": {
          "color": "#D62728",
          "size": [
           292
          ],
          "sizemode": "area",
          "sizeref": 0.3611111111111111,
          "symbol": "circle"
         },
         "mode": "markers",
         "name": "DISHWASH DETERGENTS",
         "orientation": "v",
         "showlegend": true,
         "type": "scatter",
         "x": [
          439
         ],
         "xaxis": "x",
         "y": [
          1033.430000000001
         ],
         "yaxis": "y"
        },
        {
         "hovertemplate": "<b>%{hovertext}</b><br><br>COMMODITY_DESC=DISPOSIBLE FOILWARE<br>QUANTITY=%{x}<br>SALES_VALUE=%{y}<br>HOUSEHOLDS=%{marker.size}<extra></extra>",
         "hovertext": [
          "DISPOSIBLE FOILWARE"
         ],
         "legendgroup": "DISPOSIBLE FOILWARE",
         "marker": {
          "color": "#9467BD",
          "size": [
           46
          ],
          "sizemode": "area",
          "sizeref": 0.3611111111111111,
          "symbol": "circle"
         },
         "mode": "markers",
         "name": "DISPOSIBLE FOILWARE",
         "orientation": "v",
         "showlegend": true,
         "type": "scatter",
         "x": [
          60
         ],
         "xaxis": "x",
         "y": [
          144.81000000000003
         ],
         "yaxis": "y"
        },
        {
         "hovertemplate": "<b>%{hovertext}</b><br><br>COMMODITY_DESC=DOG FOODS<br>QUANTITY=%{x}<br>SALES_VALUE=%{y}<br>HOUSEHOLDS=%{marker.size}<extra></extra>",
         "hovertext": [
          "DOG FOODS"
         ],
         "legendgroup": "DOG FOODS",
         "marker": {
          "color": "#8C564B",
          "size": [
           209
          ],
          "sizemode": "area",
          "sizeref": 0.3611111111111111,
          "symbol": "circle"
         },
         "mode": "markers",
         "name": "DOG FOODS",
         "orientation": "v",
         "showlegend": true,
         "type": "scatter",
         "x": [
          968
         ],
         "xaxis": "x",
         "y": [
          2839.10999999999
         ],
         "yaxis": "y"
        },
        {
         "hovertemplate": "<b>%{hovertext}</b><br><br>COMMODITY_DESC=DOLLAR VALUE PRODUCTS<br>QUANTITY=%{x}<br>SALES_VALUE=%{y}<br>HOUSEHOLDS=%{marker.size}<extra></extra>",
         "hovertext": [
          "DOLLAR VALUE PRODUCTS"
         ],
         "legendgroup": "DOLLAR VALUE PRODUCTS",
         "marker": {
          "color": "#E377C2",
          "size": [
           1
          ],
          "sizemode": "area",
          "sizeref": 0.3611111111111111,
          "symbol": "circle"
         },
         "mode": "markers",
         "name": "DOLLAR VALUE PRODUCTS",
         "orientation": "v",
         "showlegend": true,
         "type": "scatter",
         "x": [
          1
         ],
         "xaxis": "x",
         "y": [
          1
         ],
         "yaxis": "y"
        },
        {
         "hovertemplate": "<b>%{hovertext}</b><br><br>COMMODITY_DESC=DOMESTIC GOODS<br>QUANTITY=%{x}<br>SALES_VALUE=%{y}<br>HOUSEHOLDS=%{marker.size}<extra></extra>",
         "hovertext": [
          "DOMESTIC GOODS"
         ],
         "legendgroup": "DOMESTIC GOODS",
         "marker": {
          "color": "#7F7F7F",
          "size": [
           38
          ],
          "sizemode": "area",
          "sizeref": 0.3611111111111111,
          "symbol": "circle"
         },
         "mode": "markers",
         "name": "DOMESTIC GOODS",
         "orientation": "v",
         "showlegend": true,
         "type": "scatter",
         "x": [
          73
         ],
         "xaxis": "x",
         "y": [
          203.72999999999996
         ],
         "yaxis": "y"
        },
        {
         "hovertemplate": "<b>%{hovertext}</b><br><br>COMMODITY_DESC=DOMESTIC WINE<br>QUANTITY=%{x}<br>SALES_VALUE=%{y}<br>HOUSEHOLDS=%{marker.size}<extra></extra>",
         "hovertext": [
          "DOMESTIC WINE"
         ],
         "legendgroup": "DOMESTIC WINE",
         "marker": {
          "color": "#BCBD22",
          "size": [
           118
          ],
          "sizemode": "area",
          "sizeref": 0.3611111111111111,
          "symbol": "circle"
         },
         "mode": "markers",
         "name": "DOMESTIC WINE",
         "orientation": "v",
         "showlegend": true,
         "type": "scatter",
         "x": [
          303
         ],
         "xaxis": "x",
         "y": [
          2576.94999999999
         ],
         "yaxis": "y"
        },
        {
         "hovertemplate": "<b>%{hovertext}</b><br><br>COMMODITY_DESC=DRIED FRUIT<br>QUANTITY=%{x}<br>SALES_VALUE=%{y}<br>HOUSEHOLDS=%{marker.size}<extra></extra>",
         "hovertext": [
          "DRIED FRUIT"
         ],
         "legendgroup": "DRIED FRUIT",
         "marker": {
          "color": "#17BECF",
          "size": [
           113
          ],
          "sizemode": "area",
          "sizeref": 0.3611111111111111,
          "symbol": "circle"
         },
         "mode": "markers",
         "name": "DRIED FRUIT",
         "orientation": "v",
         "showlegend": true,
         "type": "scatter",
         "x": [
          176
         ],
         "xaxis": "x",
         "y": [
          440.37000000000035
         ],
         "yaxis": "y"
        },
        {
         "hovertemplate": "<b>%{hovertext}</b><br><br>COMMODITY_DESC=DRY BN/VEG/POTATO/RICE<br>QUANTITY=%{x}<br>SALES_VALUE=%{y}<br>HOUSEHOLDS=%{marker.size}<extra></extra>",
         "hovertext": [
          "DRY BN/VEG/POTATO/RICE"
         ],
         "legendgroup": "DRY BN/VEG/POTATO/RICE",
         "marker": {
          "color": "#1F77B4",
          "size": [
           517
          ],
          "sizemode": "area",
          "sizeref": 0.3611111111111111,
          "symbol": "circle"
         },
         "mode": "markers",
         "name": "DRY BN/VEG/POTATO/RICE",
         "orientation": "v",
         "showlegend": true,
         "type": "scatter",
         "x": [
          1621
         ],
         "xaxis": "x",
         "y": [
          2145.2100000000128
         ],
         "yaxis": "y"
        },
        {
         "hovertemplate": "<b>%{hovertext}</b><br><br>COMMODITY_DESC=DRY MIX DESSERTS<br>QUANTITY=%{x}<br>SALES_VALUE=%{y}<br>HOUSEHOLDS=%{marker.size}<extra></extra>",
         "hovertext": [
          "DRY MIX DESSERTS"
         ],
         "legendgroup": "DRY MIX DESSERTS",
         "marker": {
          "color": "#FF7F0E",
          "size": [
           203
          ],
          "sizemode": "area",
          "sizeref": 0.3611111111111111,
          "symbol": "circle"
         },
         "mode": "markers",
         "name": "DRY MIX DESSERTS",
         "orientation": "v",
         "showlegend": true,
         "type": "scatter",
         "x": [
          690
         ],
         "xaxis": "x",
         "y": [
          597.9900000000001
         ],
         "yaxis": "y"
        },
        {
         "hovertemplate": "<b>%{hovertext}</b><br><br>COMMODITY_DESC=DRY NOODLES/PASTA<br>QUANTITY=%{x}<br>SALES_VALUE=%{y}<br>HOUSEHOLDS=%{marker.size}<extra></extra>",
         "hovertext": [
          "DRY NOODLES/PASTA"
         ],
         "legendgroup": "DRY NOODLES/PASTA",
         "marker": {
          "color": "#2CA02C",
          "size": [
           515
          ],
          "sizemode": "area",
          "sizeref": 0.3611111111111111,
          "symbol": "circle"
         },
         "mode": "markers",
         "name": "DRY NOODLES/PASTA",
         "orientation": "v",
         "showlegend": true,
         "type": "scatter",
         "x": [
          1233
         ],
         "xaxis": "x",
         "y": [
          1259.1000000000065
         ],
         "yaxis": "y"
        },
        {
         "hovertemplate": "<b>%{hovertext}</b><br><br>COMMODITY_DESC=DRY SAUCES/GRAVY<br>QUANTITY=%{x}<br>SALES_VALUE=%{y}<br>HOUSEHOLDS=%{marker.size}<extra></extra>",
         "hovertext": [
          "DRY SAUCES/GRAVY"
         ],
         "legendgroup": "DRY SAUCES/GRAVY",
         "marker": {
          "color": "#D62728",
          "size": [
           212
          ],
          "sizemode": "area",
          "sizeref": 0.3611111111111111,
          "symbol": "circle"
         },
         "mode": "markers",
         "name": "DRY SAUCES/GRAVY",
         "orientation": "v",
         "showlegend": true,
         "type": "scatter",
         "x": [
          539
         ],
         "xaxis": "x",
         "y": [
          534.3300000000004
         ],
         "yaxis": "y"
        },
        {
         "hovertemplate": "<b>%{hovertext}</b><br><br>COMMODITY_DESC=DRY TEA/COFFEE/COCO MIX<br>QUANTITY=%{x}<br>SALES_VALUE=%{y}<br>HOUSEHOLDS=%{marker.size}<extra></extra>",
         "hovertext": [
          "DRY TEA/COFFEE/COCO MIX"
         ],
         "legendgroup": "DRY TEA/COFFEE/COCO MIX",
         "marker": {
          "color": "#9467BD",
          "size": [
           5
          ],
          "sizemode": "area",
          "sizeref": 0.3611111111111111,
          "symbol": "circle"
         },
         "mode": "markers",
         "name": "DRY TEA/COFFEE/COCO MIX",
         "orientation": "v",
         "showlegend": true,
         "type": "scatter",
         "x": [
          9
         ],
         "xaxis": "x",
         "y": [
          29.620000000000005
         ],
         "yaxis": "y"
        },
        {
         "hovertemplate": "<b>%{hovertext}</b><br><br>COMMODITY_DESC=EASTER<br>QUANTITY=%{x}<br>SALES_VALUE=%{y}<br>HOUSEHOLDS=%{marker.size}<extra></extra>",
         "hovertext": [
          "EASTER"
         ],
         "legendgroup": "EASTER",
         "marker": {
          "color": "#8C564B",
          "size": [
           25
          ],
          "sizemode": "area",
          "sizeref": 0.3611111111111111,
          "symbol": "circle"
         },
         "mode": "markers",
         "name": "EASTER",
         "orientation": "v",
         "showlegend": true,
         "type": "scatter",
         "x": [
          68
         ],
         "xaxis": "x",
         "y": [
          100.05999999999997
         ],
         "yaxis": "y"
        },
        {
         "hovertemplate": "<b>%{hovertext}</b><br><br>COMMODITY_DESC=EGGS<br>QUANTITY=%{x}<br>SALES_VALUE=%{y}<br>HOUSEHOLDS=%{marker.size}<extra></extra>",
         "hovertext": [
          "EGGS"
         ],
         "legendgroup": "EGGS",
         "marker": {
          "color": "#E377C2",
          "size": [
           813
          ],
          "sizemode": "area",
          "sizeref": 0.3611111111111111,
          "symbol": "circle"
         },
         "mode": "markers",
         "name": "EGGS",
         "orientation": "v",
         "showlegend": true,
         "type": "scatter",
         "x": [
          1796
         ],
         "xaxis": "x",
         "y": [
          2219.9900000000052
         ],
         "yaxis": "y"
        },
        {
         "hovertemplate": "<b>%{hovertext}</b><br><br>COMMODITY_DESC=ELECTRICAL SUPPPLIES<br>QUANTITY=%{x}<br>SALES_VALUE=%{y}<br>HOUSEHOLDS=%{marker.size}<extra></extra>",
         "hovertext": [
          "ELECTRICAL SUPPPLIES"
         ],
         "legendgroup": "ELECTRICAL SUPPPLIES",
         "marker": {
          "color": "#7F7F7F",
          "size": [
           121
          ],
          "sizemode": "area",
          "sizeref": 0.3611111111111111,
          "symbol": "circle"
         },
         "mode": "markers",
         "name": "ELECTRICAL SUPPPLIES",
         "orientation": "v",
         "showlegend": true,
         "type": "scatter",
         "x": [
          209
         ],
         "xaxis": "x",
         "y": [
          590.9600000000005
         ],
         "yaxis": "y"
        },
        {
         "hovertemplate": "<b>%{hovertext}</b><br><br>COMMODITY_DESC=ETHNIC PERSONAL CARE<br>QUANTITY=%{x}<br>SALES_VALUE=%{y}<br>HOUSEHOLDS=%{marker.size}<extra></extra>",
         "hovertext": [
          "ETHNIC PERSONAL CARE"
         ],
         "legendgroup": "ETHNIC PERSONAL CARE",
         "marker": {
          "color": "#BCBD22",
          "size": [
           23
          ],
          "sizemode": "area",
          "sizeref": 0.3611111111111111,
          "symbol": "circle"
         },
         "mode": "markers",
         "name": "ETHNIC PERSONAL CARE",
         "orientation": "v",
         "showlegend": true,
         "type": "scatter",
         "x": [
          29
         ],
         "xaxis": "x",
         "y": [
          89.80999999999999
         ],
         "yaxis": "y"
        },
        {
         "hovertemplate": "<b>%{hovertext}</b><br><br>COMMODITY_DESC=EXOTIC GAME/FOWL<br>QUANTITY=%{x}<br>SALES_VALUE=%{y}<br>HOUSEHOLDS=%{marker.size}<extra></extra>",
         "hovertext": [
          "EXOTIC GAME/FOWL"
         ],
         "legendgroup": "EXOTIC GAME/FOWL",
         "marker": {
          "color": "#17BECF",
          "size": [
           5
          ],
          "sizemode": "area",
          "sizeref": 0.3611111111111111,
          "symbol": "circle"
         },
         "mode": "markers",
         "name": "EXOTIC GAME/FOWL",
         "orientation": "v",
         "showlegend": true,
         "type": "scatter",
         "x": [
          5
         ],
         "xaxis": "x",
         "y": [
          32.55
         ],
         "yaxis": "y"
        },
        {
         "hovertemplate": "<b>%{hovertext}</b><br><br>COMMODITY_DESC=EYE AND EAR CARE PRODUCTS<br>QUANTITY=%{x}<br>SALES_VALUE=%{y}<br>HOUSEHOLDS=%{marker.size}<extra></extra>",
         "hovertext": [
          "EYE AND EAR CARE PRODUCTS"
         ],
         "legendgroup": "EYE AND EAR CARE PRODUCTS",
         "marker": {
          "color": "#1F77B4",
          "size": [
           69
          ],
          "sizemode": "area",
          "sizeref": 0.3611111111111111,
          "symbol": "circle"
         },
         "mode": "markers",
         "name": "EYE AND EAR CARE PRODUCTS",
         "orientation": "v",
         "showlegend": true,
         "type": "scatter",
         "x": [
          97
         ],
         "xaxis": "x",
         "y": [
          506.6900000000003
         ],
         "yaxis": "y"
        },
        {
         "hovertemplate": "<b>%{hovertext}</b><br><br>COMMODITY_DESC=FACIAL TISS/DNR NAPKIN<br>QUANTITY=%{x}<br>SALES_VALUE=%{y}<br>HOUSEHOLDS=%{marker.size}<extra></extra>",
         "hovertext": [
          "FACIAL TISS/DNR NAPKIN"
         ],
         "legendgroup": "FACIAL TISS/DNR NAPKIN",
         "marker": {
          "color": "#FF7F0E",
          "size": [
           249
          ],
          "sizemode": "area",
          "sizeref": 0.3611111111111111,
          "symbol": "circle"
         },
         "mode": "markers",
         "name": "FACIAL TISS/DNR NAPKIN",
         "orientation": "v",
         "showlegend": true,
         "type": "scatter",
         "x": [
          571
         ],
         "xaxis": "x",
         "y": [
          911.9100000000011
         ],
         "yaxis": "y"
        },
        {
         "hovertemplate": "<b>%{hovertext}</b><br><br>COMMODITY_DESC=FALL AND WINTER SEASONAL<br>QUANTITY=%{x}<br>SALES_VALUE=%{y}<br>HOUSEHOLDS=%{marker.size}<extra></extra>",
         "hovertext": [
          "FALL AND WINTER SEASONAL"
         ],
         "legendgroup": "FALL AND WINTER SEASONAL",
         "marker": {
          "color": "#2CA02C",
          "size": [
           17
          ],
          "sizemode": "area",
          "sizeref": 0.3611111111111111,
          "symbol": "circle"
         },
         "mode": "markers",
         "name": "FALL AND WINTER SEASONAL",
         "orientation": "v",
         "showlegend": true,
         "type": "scatter",
         "x": [
          29
         ],
         "xaxis": "x",
         "y": [
          59.959999999999994
         ],
         "yaxis": "y"
        },
        {
         "hovertemplate": "<b>%{hovertext}</b><br><br>COMMODITY_DESC=FAMILY PLANNING<br>QUANTITY=%{x}<br>SALES_VALUE=%{y}<br>HOUSEHOLDS=%{marker.size}<extra></extra>",
         "hovertext": [
          "FAMILY PLANNING"
         ],
         "legendgroup": "FAMILY PLANNING",
         "marker": {
          "color": "#D62728",
          "size": [
           40
          ],
          "sizemode": "area",
          "sizeref": 0.3611111111111111,
          "symbol": "circle"
         },
         "mode": "markers",
         "name": "FAMILY PLANNING",
         "orientation": "v",
         "showlegend": true,
         "type": "scatter",
         "x": [
          44
         ],
         "xaxis": "x",
         "y": [
          337.15999999999997
         ],
         "yaxis": "y"
        },
        {
         "hovertemplate": "<b>%{hovertext}</b><br><br>COMMODITY_DESC=FD WRAPS/BAGS/TRSH BG<br>QUANTITY=%{x}<br>SALES_VALUE=%{y}<br>HOUSEHOLDS=%{marker.size}<extra></extra>",
         "hovertext": [
          "FD WRAPS/BAGS/TRSH BG"
         ],
         "legendgroup": "FD WRAPS/BAGS/TRSH BG",
         "marker": {
          "color": "#9467BD",
          "size": [
           471
          ],
          "sizemode": "area",
          "sizeref": 0.3611111111111111,
          "symbol": "circle"
         },
         "mode": "markers",
         "name": "FD WRAPS/BAGS/TRSH BG",
         "orientation": "v",
         "showlegend": true,
         "type": "scatter",
         "x": [
          945
         ],
         "xaxis": "x",
         "y": [
          2441.0599999999977
         ],
         "yaxis": "y"
        },
        {
         "hovertemplate": "<b>%{hovertext}</b><br><br>COMMODITY_DESC=FEMININE HYGIENE<br>QUANTITY=%{x}<br>SALES_VALUE=%{y}<br>HOUSEHOLDS=%{marker.size}<extra></extra>",
         "hovertext": [
          "FEMININE HYGIENE"
         ],
         "legendgroup": "FEMININE HYGIENE",
         "marker": {
          "color": "#8C564B",
          "size": [
           203
          ],
          "sizemode": "area",
          "sizeref": 0.3611111111111111,
          "symbol": "circle"
         },
         "mode": "markers",
         "name": "FEMININE HYGIENE",
         "orientation": "v",
         "showlegend": true,
         "type": "scatter",
         "x": [
          321
         ],
         "xaxis": "x",
         "y": [
          1134.3799999999994
         ],
         "yaxis": "y"
        },
        {
         "hovertemplate": "<b>%{hovertext}</b><br><br>COMMODITY_DESC=FILM AND CAMERA PRODUCTS<br>QUANTITY=%{x}<br>SALES_VALUE=%{y}<br>HOUSEHOLDS=%{marker.size}<extra></extra>",
         "hovertext": [
          "FILM AND CAMERA PRODUCTS"
         ],
         "legendgroup": "FILM AND CAMERA PRODUCTS",
         "marker": {
          "color": "#E377C2",
          "size": [
           81
          ],
          "sizemode": "area",
          "sizeref": 0.3611111111111111,
          "symbol": "circle"
         },
         "mode": "markers",
         "name": "FILM AND CAMERA PRODUCTS",
         "orientation": "v",
         "showlegend": true,
         "type": "scatter",
         "x": [
          129
         ],
         "xaxis": "x",
         "y": [
          712.2100000000006
         ],
         "yaxis": "y"
        },
        {
         "hovertemplate": "<b>%{hovertext}</b><br><br>COMMODITY_DESC=FIREWORKS<br>QUANTITY=%{x}<br>SALES_VALUE=%{y}<br>HOUSEHOLDS=%{marker.size}<extra></extra>",
         "hovertext": [
          "FIREWORKS"
         ],
         "legendgroup": "FIREWORKS",
         "marker": {
          "color": "#7F7F7F",
          "size": [
           24
          ],
          "sizemode": "area",
          "sizeref": 0.3611111111111111,
          "symbol": "circle"
         },
         "mode": "markers",
         "name": "FIREWORKS",
         "orientation": "v",
         "showlegend": true,
         "type": "scatter",
         "x": [
          41
         ],
         "xaxis": "x",
         "y": [
          91.57
         ],
         "yaxis": "y"
        },
        {
         "hovertemplate": "<b>%{hovertext}</b><br><br>COMMODITY_DESC=FIRST AID PRODUCTS<br>QUANTITY=%{x}<br>SALES_VALUE=%{y}<br>HOUSEHOLDS=%{marker.size}<extra></extra>",
         "hovertext": [
          "FIRST AID PRODUCTS"
         ],
         "legendgroup": "FIRST AID PRODUCTS",
         "marker": {
          "color": "#BCBD22",
          "size": [
           149
          ],
          "sizemode": "area",
          "sizeref": 0.3611111111111111,
          "symbol": "circle"
         },
         "mode": "markers",
         "name": "FIRST AID PRODUCTS",
         "orientation": "v",
         "showlegend": true,
         "type": "scatter",
         "x": [
          240
         ],
         "xaxis": "x",
         "y": [
          829.940000000001
         ],
         "yaxis": "y"
        },
        {
         "hovertemplate": "<b>%{hovertext}</b><br><br>COMMODITY_DESC=FITNESS&DIET<br>QUANTITY=%{x}<br>SALES_VALUE=%{y}<br>HOUSEHOLDS=%{marker.size}<extra></extra>",
         "hovertext": [
          "FITNESS&DIET"
         ],
         "legendgroup": "FITNESS&DIET",
         "marker": {
          "color": "#17BECF",
          "size": [
           56
          ],
          "sizemode": "area",
          "sizeref": 0.3611111111111111,
          "symbol": "circle"
         },
         "mode": "markers",
         "name": "FITNESS&DIET",
         "orientation": "v",
         "showlegend": true,
         "type": "scatter",
         "x": [
          263
         ],
         "xaxis": "x",
         "y": [
          372.1800000000002
         ],
         "yaxis": "y"
        },
        {
         "hovertemplate": "<b>%{hovertext}</b><br><br>COMMODITY_DESC=FLORAL BALLOONS<br>QUANTITY=%{x}<br>SALES_VALUE=%{y}<br>HOUSEHOLDS=%{marker.size}<extra></extra>",
         "hovertext": [
          "FLORAL BALLOONS"
         ],
         "legendgroup": "FLORAL BALLOONS",
         "marker": {
          "color": "#1F77B4",
          "size": [
           20
          ],
          "sizemode": "area",
          "sizeref": 0.3611111111111111,
          "symbol": "circle"
         },
         "mode": "markers",
         "name": "FLORAL BALLOONS",
         "orientation": "v",
         "showlegend": true,
         "type": "scatter",
         "x": [
          33
         ],
         "xaxis": "x",
         "y": [
          196.70000000000005
         ],
         "yaxis": "y"
        },
        {
         "hovertemplate": "<b>%{hovertext}</b><br><br>COMMODITY_DESC=FLORAL- HARD GOODS<br>QUANTITY=%{x}<br>SALES_VALUE=%{y}<br>HOUSEHOLDS=%{marker.size}<extra></extra>",
         "hovertext": [
          "FLORAL- HARD GOODS"
         ],
         "legendgroup": "FLORAL- HARD GOODS",
         "marker": {
          "color": "#FF7F0E",
          "size": [
           11
          ],
          "sizemode": "area",
          "sizeref": 0.3611111111111111,
          "symbol": "circle"
         },
         "mode": "markers",
         "name": "FLORAL- HARD GOODS",
         "orientation": "v",
         "showlegend": true,
         "type": "scatter",
         "x": [
          14
         ],
         "xaxis": "x",
         "y": [
          71.93
         ],
         "yaxis": "y"
        },
        {
         "hovertemplate": "<b>%{hovertext}</b><br><br>COMMODITY_DESC=FLORAL-ACCESSORIES<br>QUANTITY=%{x}<br>SALES_VALUE=%{y}<br>HOUSEHOLDS=%{marker.size}<extra></extra>",
         "hovertext": [
          "FLORAL-ACCESSORIES"
         ],
         "legendgroup": "FLORAL-ACCESSORIES",
         "marker": {
          "color": "#2CA02C",
          "size": [
           4
          ],
          "sizemode": "area",
          "sizeref": 0.3611111111111111,
          "symbol": "circle"
         },
         "mode": "markers",
         "name": "FLORAL-ACCESSORIES",
         "orientation": "v",
         "showlegend": true,
         "type": "scatter",
         "x": [
          8
         ],
         "xaxis": "x",
         "y": [
          40.45
         ],
         "yaxis": "y"
        },
        {
         "hovertemplate": "<b>%{hovertext}</b><br><br>COMMODITY_DESC=FLORAL-FLOWERING PLANTS<br>QUANTITY=%{x}<br>SALES_VALUE=%{y}<br>HOUSEHOLDS=%{marker.size}<extra></extra>",
         "hovertext": [
          "FLORAL-FLOWERING PLANTS"
         ],
         "legendgroup": "FLORAL-FLOWERING PLANTS",
         "marker": {
          "color": "#D62728",
          "size": [
           25
          ],
          "sizemode": "area",
          "sizeref": 0.3611111111111111,
          "symbol": "circle"
         },
         "mode": "markers",
         "name": "FLORAL-FLOWERING PLANTS",
         "orientation": "v",
         "showlegend": true,
         "type": "scatter",
         "x": [
          26
         ],
         "xaxis": "x",
         "y": [
          224.76000000000005
         ],
         "yaxis": "y"
        },
        {
         "hovertemplate": "<b>%{hovertext}</b><br><br>COMMODITY_DESC=FLORAL-FOLIAGE PLANTS<br>QUANTITY=%{x}<br>SALES_VALUE=%{y}<br>HOUSEHOLDS=%{marker.size}<extra></extra>",
         "hovertext": [
          "FLORAL-FOLIAGE PLANTS"
         ],
         "legendgroup": "FLORAL-FOLIAGE PLANTS",
         "marker": {
          "color": "#9467BD",
          "size": [
           20
          ],
          "sizemode": "area",
          "sizeref": 0.3611111111111111,
          "symbol": "circle"
         },
         "mode": "markers",
         "name": "FLORAL-FOLIAGE PLANTS",
         "orientation": "v",
         "showlegend": true,
         "type": "scatter",
         "x": [
          41
         ],
         "xaxis": "x",
         "y": [
          240.78
         ],
         "yaxis": "y"
        },
        {
         "hovertemplate": "<b>%{hovertext}</b><br><br>COMMODITY_DESC=FLORAL-FRESH CUT<br>QUANTITY=%{x}<br>SALES_VALUE=%{y}<br>HOUSEHOLDS=%{marker.size}<extra></extra>",
         "hovertext": [
          "FLORAL-FRESH CUT"
         ],
         "legendgroup": "FLORAL-FRESH CUT",
         "marker": {
          "color": "#8C564B",
          "size": [
           129
          ],
          "sizemode": "area",
          "sizeref": 0.3611111111111111,
          "symbol": "circle"
         },
         "mode": "markers",
         "name": "FLORAL-FRESH CUT",
         "orientation": "v",
         "showlegend": true,
         "type": "scatter",
         "x": [
          269
         ],
         "xaxis": "x",
         "y": [
          1378.5100000000002
         ],
         "yaxis": "y"
        },
        {
         "hovertemplate": "<b>%{hovertext}</b><br><br>COMMODITY_DESC=FLOUR & MEALS<br>QUANTITY=%{x}<br>SALES_VALUE=%{y}<br>HOUSEHOLDS=%{marker.size}<extra></extra>",
         "hovertext": [
          "FLOUR & MEALS"
         ],
         "legendgroup": "FLOUR & MEALS",
         "marker": {
          "color": "#E377C2",
          "size": [
           145
          ],
          "sizemode": "area",
          "sizeref": 0.3611111111111111,
          "symbol": "circle"
         },
         "mode": "markers",
         "name": "FLOUR & MEALS",
         "orientation": "v",
         "showlegend": true,
         "type": "scatter",
         "x": [
          186
         ],
         "xaxis": "x",
         "y": [
          332.3300000000005
         ],
         "yaxis": "y"
        },
        {
         "hovertemplate": "<b>%{hovertext}</b><br><br>COMMODITY_DESC=FLUID MILK PRODUCTS<br>QUANTITY=%{x}<br>SALES_VALUE=%{y}<br>HOUSEHOLDS=%{marker.size}<extra></extra>",
         "hovertext": [
          "FLUID MILK PRODUCTS"
         ],
         "legendgroup": "FLUID MILK PRODUCTS",
         "marker": {
          "color": "#7F7F7F",
          "size": [
           1300
          ],
          "sizemode": "area",
          "sizeref": 0.3611111111111111,
          "symbol": "circle"
         },
         "mode": "markers",
         "name": "FLUID MILK PRODUCTS",
         "orientation": "v",
         "showlegend": true,
         "type": "scatter",
         "x": [
          6731
         ],
         "xaxis": "x",
         "y": [
          11476.069999999847
         ],
         "yaxis": "y"
        },
        {
         "hovertemplate": "<b>%{hovertext}</b><br><br>COMMODITY_DESC=FOOT CARE PRODUCTS<br>QUANTITY=%{x}<br>SALES_VALUE=%{y}<br>HOUSEHOLDS=%{marker.size}<extra></extra>",
         "hovertext": [
          "FOOT CARE PRODUCTS"
         ],
         "legendgroup": "FOOT CARE PRODUCTS",
         "marker": {
          "color": "#BCBD22",
          "size": [
           42
          ],
          "sizemode": "area",
          "sizeref": 0.3611111111111111,
          "symbol": "circle"
         },
         "mode": "markers",
         "name": "FOOT CARE PRODUCTS",
         "orientation": "v",
         "showlegend": true,
         "type": "scatter",
         "x": [
          51
         ],
         "xaxis": "x",
         "y": [
          340.4000000000002
         ],
         "yaxis": "y"
        },
        {
         "hovertemplate": "<b>%{hovertext}</b><br><br>COMMODITY_DESC=FRAGRANCES<br>QUANTITY=%{x}<br>SALES_VALUE=%{y}<br>HOUSEHOLDS=%{marker.size}<extra></extra>",
         "hovertext": [
          "FRAGRANCES"
         ],
         "legendgroup": "FRAGRANCES",
         "marker": {
          "color": "#17BECF",
          "size": [
           8
          ],
          "sizemode": "area",
          "sizeref": 0.3611111111111111,
          "symbol": "circle"
         },
         "mode": "markers",
         "name": "FRAGRANCES",
         "orientation": "v",
         "showlegend": true,
         "type": "scatter",
         "x": [
          8
         ],
         "xaxis": "x",
         "y": [
          119.53
         ],
         "yaxis": "y"
        },
        {
         "hovertemplate": "<b>%{hovertext}</b><br><br>COMMODITY_DESC=FROZEN<br>QUANTITY=%{x}<br>SALES_VALUE=%{y}<br>HOUSEHOLDS=%{marker.size}<extra></extra>",
         "hovertext": [
          "FROZEN"
         ],
         "legendgroup": "FROZEN",
         "marker": {
          "color": "#1F77B4",
          "size": [
           58
          ],
          "sizemode": "area",
          "sizeref": 0.3611111111111111,
          "symbol": "circle"
         },
         "mode": "markers",
         "name": "FROZEN",
         "orientation": "v",
         "showlegend": true,
         "type": "scatter",
         "x": [
          198
         ],
         "xaxis": "x",
         "y": [
          588.5200000000002
         ],
         "yaxis": "y"
        },
        {
         "hovertemplate": "<b>%{hovertext}</b><br><br>COMMODITY_DESC=FROZEN - BOXED(GROCERY)<br>QUANTITY=%{x}<br>SALES_VALUE=%{y}<br>HOUSEHOLDS=%{marker.size}<extra></extra>",
         "hovertext": [
          "FROZEN - BOXED(GROCERY)"
         ],
         "legendgroup": "FROZEN - BOXED(GROCERY)",
         "marker": {
          "color": "#FF7F0E",
          "size": [
           39
          ],
          "sizemode": "area",
          "sizeref": 0.3611111111111111,
          "symbol": "circle"
         },
         "mode": "markers",
         "name": "FROZEN - BOXED(GROCERY)",
         "orientation": "v",
         "showlegend": true,
         "type": "scatter",
         "x": [
          45
         ],
         "xaxis": "x",
         "y": [
          231.68000000000015
         ],
         "yaxis": "y"
        },
        {
         "hovertemplate": "<b>%{hovertext}</b><br><br>COMMODITY_DESC=FROZEN BREAD/DOUGH<br>QUANTITY=%{x}<br>SALES_VALUE=%{y}<br>HOUSEHOLDS=%{marker.size}<extra></extra>",
         "hovertext": [
          "FROZEN BREAD/DOUGH"
         ],
         "legendgroup": "FROZEN BREAD/DOUGH",
         "marker": {
          "color": "#2CA02C",
          "size": [
           292
          ],
          "sizemode": "area",
          "sizeref": 0.3611111111111111,
          "symbol": "circle"
         },
         "mode": "markers",
         "name": "FROZEN BREAD/DOUGH",
         "orientation": "v",
         "showlegend": true,
         "type": "scatter",
         "x": [
          514
         ],
         "xaxis": "x",
         "y": [
          1018.7800000000002
         ],
         "yaxis": "y"
        },
        {
         "hovertemplate": "<b>%{hovertext}</b><br><br>COMMODITY_DESC=FROZEN CHICKEN<br>QUANTITY=%{x}<br>SALES_VALUE=%{y}<br>HOUSEHOLDS=%{marker.size}<extra></extra>",
         "hovertext": [
          "FROZEN CHICKEN"
         ],
         "legendgroup": "FROZEN CHICKEN",
         "marker": {
          "color": "#D62728",
          "size": [
           7
          ],
          "sizemode": "area",
          "sizeref": 0.3611111111111111,
          "symbol": "circle"
         },
         "mode": "markers",
         "name": "FROZEN CHICKEN",
         "orientation": "v",
         "showlegend": true,
         "type": "scatter",
         "x": [
          8
         ],
         "xaxis": "x",
         "y": [
          87.91999999999999
         ],
         "yaxis": "y"
        },
        {
         "hovertemplate": "<b>%{hovertext}</b><br><br>COMMODITY_DESC=FROZEN MEAT<br>QUANTITY=%{x}<br>SALES_VALUE=%{y}<br>HOUSEHOLDS=%{marker.size}<extra></extra>",
         "hovertext": [
          "FROZEN MEAT"
         ],
         "legendgroup": "FROZEN MEAT",
         "marker": {
          "color": "#9467BD",
          "size": [
           355
          ],
          "sizemode": "area",
          "sizeref": 0.3611111111111111,
          "symbol": "circle"
         },
         "mode": "markers",
         "name": "FROZEN MEAT",
         "orientation": "v",
         "showlegend": true,
         "type": "scatter",
         "x": [
          779
         ],
         "xaxis": "x",
         "y": [
          2744.7199999999857
         ],
         "yaxis": "y"
        },
        {
         "hovertemplate": "<b>%{hovertext}</b><br><br>COMMODITY_DESC=FROZEN PIE/DESSERTS<br>QUANTITY=%{x}<br>SALES_VALUE=%{y}<br>HOUSEHOLDS=%{marker.size}<extra></extra>",
         "hovertext": [
          "FROZEN PIE/DESSERTS"
         ],
         "legendgroup": "FROZEN PIE/DESSERTS",
         "marker": {
          "color": "#8C564B",
          "size": [
           225
          ],
          "sizemode": "area",
          "sizeref": 0.3611111111111111,
          "symbol": "circle"
         },
         "mode": "markers",
         "name": "FROZEN PIE/DESSERTS",
         "orientation": "v",
         "showlegend": true,
         "type": "scatter",
         "x": [
          397
         ],
         "xaxis": "x",
         "y": [
          857.3500000000016
         ],
         "yaxis": "y"
        },
        {
         "hovertemplate": "<b>%{hovertext}</b><br><br>COMMODITY_DESC=FROZEN PIZZA<br>QUANTITY=%{x}<br>SALES_VALUE=%{y}<br>HOUSEHOLDS=%{marker.size}<extra></extra>",
         "hovertext": [
          "FROZEN PIZZA"
         ],
         "legendgroup": "FROZEN PIZZA",
         "marker": {
          "color": "#E377C2",
          "size": [
           696
          ],
          "sizemode": "area",
          "sizeref": 0.3611111111111111,
          "symbol": "circle"
         },
         "mode": "markers",
         "name": "FROZEN PIZZA",
         "orientation": "v",
         "showlegend": true,
         "type": "scatter",
         "x": [
          3861
         ],
         "xaxis": "x",
         "y": [
          8507.499999999922
         ],
         "yaxis": "y"
        },
        {
         "hovertemplate": "<b>%{hovertext}</b><br><br>COMMODITY_DESC=FRUIT - SHELF STABLE<br>QUANTITY=%{x}<br>SALES_VALUE=%{y}<br>HOUSEHOLDS=%{marker.size}<extra></extra>",
         "hovertext": [
          "FRUIT - SHELF STABLE"
         ],
         "legendgroup": "FRUIT - SHELF STABLE",
         "marker": {
          "color": "#7F7F7F",
          "size": [
           464
          ],
          "sizemode": "area",
          "sizeref": 0.3611111111111111,
          "symbol": "circle"
         },
         "mode": "markers",
         "name": "FRUIT - SHELF STABLE",
         "orientation": "v",
         "showlegend": true,
         "type": "scatter",
         "x": [
          1759
         ],
         "xaxis": "x",
         "y": [
          2350.2099999999964
         ],
         "yaxis": "y"
        },
        {
         "hovertemplate": "<b>%{hovertext}</b><br><br>COMMODITY_DESC=FRZN BREAKFAST FOODS<br>QUANTITY=%{x}<br>SALES_VALUE=%{y}<br>HOUSEHOLDS=%{marker.size}<extra></extra>",
         "hovertext": [
          "FRZN BREAKFAST FOODS"
         ],
         "legendgroup": "FRZN BREAKFAST FOODS",
         "marker": {
          "color": "#BCBD22",
          "size": [
           252
          ],
          "sizemode": "area",
          "sizeref": 0.3611111111111111,
          "symbol": "circle"
         },
         "mode": "markers",
         "name": "FRZN BREAKFAST FOODS",
         "orientation": "v",
         "showlegend": true,
         "type": "scatter",
         "x": [
          725
         ],
         "xaxis": "x",
         "y": [
          1382.220000000004
         ],
         "yaxis": "y"
        },
        {
         "hovertemplate": "<b>%{hovertext}</b><br><br>COMMODITY_DESC=FRZN FRUITS<br>QUANTITY=%{x}<br>SALES_VALUE=%{y}<br>HOUSEHOLDS=%{marker.size}<extra></extra>",
         "hovertext": [
          "FRZN FRUITS"
         ],
         "legendgroup": "FRZN FRUITS",
         "marker": {
          "color": "#17BECF",
          "size": [
           45
          ],
          "sizemode": "area",
          "sizeref": 0.3611111111111111,
          "symbol": "circle"
         },
         "mode": "markers",
         "name": "FRZN FRUITS",
         "orientation": "v",
         "showlegend": true,
         "type": "scatter",
         "x": [
          115
         ],
         "xaxis": "x",
         "y": [
          314.81000000000006
         ],
         "yaxis": "y"
        },
        {
         "hovertemplate": "<b>%{hovertext}</b><br><br>COMMODITY_DESC=FRZN ICE<br>QUANTITY=%{x}<br>SALES_VALUE=%{y}<br>HOUSEHOLDS=%{marker.size}<extra></extra>",
         "hovertext": [
          "FRZN ICE"
         ],
         "legendgroup": "FRZN ICE",
         "marker": {
          "color": "#1F77B4",
          "size": [
           153
          ],
          "sizemode": "area",
          "sizeref": 0.3611111111111111,
          "symbol": "circle"
         },
         "mode": "markers",
         "name": "FRZN ICE",
         "orientation": "v",
         "showlegend": true,
         "type": "scatter",
         "x": [
          287
         ],
         "xaxis": "x",
         "y": [
          655.5300000000013
         ],
         "yaxis": "y"
        },
        {
         "hovertemplate": "<b>%{hovertext}</b><br><br>COMMODITY_DESC=FRZN JCE CONC/DRNKS<br>QUANTITY=%{x}<br>SALES_VALUE=%{y}<br>HOUSEHOLDS=%{marker.size}<extra></extra>",
         "hovertext": [
          "FRZN JCE CONC/DRNKS"
         ],
         "legendgroup": "FRZN JCE CONC/DRNKS",
         "marker": {
          "color": "#FF7F0E",
          "size": [
           75
          ],
          "sizemode": "area",
          "sizeref": 0.3611111111111111,
          "symbol": "circle"
         },
         "mode": "markers",
         "name": "FRZN JCE CONC/DRNKS",
         "orientation": "v",
         "showlegend": true,
         "type": "scatter",
         "x": [
          277
         ],
         "xaxis": "x",
         "y": [
          307.61
         ],
         "yaxis": "y"
        },
        {
         "hovertemplate": "<b>%{hovertext}</b><br><br>COMMODITY_DESC=FRZN MEAT/MEAT DINNERS<br>QUANTITY=%{x}<br>SALES_VALUE=%{y}<br>HOUSEHOLDS=%{marker.size}<extra></extra>",
         "hovertext": [
          "FRZN MEAT/MEAT DINNERS"
         ],
         "legendgroup": "FRZN MEAT/MEAT DINNERS",
         "marker": {
          "color": "#2CA02C",
          "size": [
           682
          ],
          "sizemode": "area",
          "sizeref": 0.3611111111111111,
          "symbol": "circle"
         },
         "mode": "markers",
         "name": "FRZN MEAT/MEAT DINNERS",
         "orientation": "v",
         "showlegend": true,
         "type": "scatter",
         "x": [
          4652
         ],
         "xaxis": "x",
         "y": [
          9166.579999999938
         ],
         "yaxis": "y"
        },
        {
         "hovertemplate": "<b>%{hovertext}</b><br><br>COMMODITY_DESC=FRZN NOVELTIES/WTR ICE<br>QUANTITY=%{x}<br>SALES_VALUE=%{y}<br>HOUSEHOLDS=%{marker.size}<extra></extra>",
         "hovertext": [
          "FRZN NOVELTIES/WTR ICE"
         ],
         "legendgroup": "FRZN NOVELTIES/WTR ICE",
         "marker": {
          "color": "#D62728",
          "size": [
           480
          ],
          "sizemode": "area",
          "sizeref": 0.3611111111111111,
          "symbol": "circle"
         },
         "mode": "markers",
         "name": "FRZN NOVELTIES/WTR ICE",
         "orientation": "v",
         "showlegend": true,
         "type": "scatter",
         "x": [
          1334
         ],
         "xaxis": "x",
         "y": [
          3361.8299999999886
         ],
         "yaxis": "y"
        },
        {
         "hovertemplate": "<b>%{hovertext}</b><br><br>COMMODITY_DESC=FRZN POTATOES<br>QUANTITY=%{x}<br>SALES_VALUE=%{y}<br>HOUSEHOLDS=%{marker.size}<extra></extra>",
         "hovertext": [
          "FRZN POTATOES"
         ],
         "legendgroup": "FRZN POTATOES",
         "marker": {
          "color": "#9467BD",
          "size": [
           288
          ],
          "sizemode": "area",
          "sizeref": 0.3611111111111111,
          "symbol": "circle"
         },
         "mode": "markers",
         "name": "FRZN POTATOES",
         "orientation": "v",
         "showlegend": true,
         "type": "scatter",
         "x": [
          577
         ],
         "xaxis": "x",
         "y": [
          1082.930000000001
         ],
         "yaxis": "y"
        },
        {
         "hovertemplate": "<b>%{hovertext}</b><br><br>COMMODITY_DESC=FRZN SEAFOOD<br>QUANTITY=%{x}<br>SALES_VALUE=%{y}<br>HOUSEHOLDS=%{marker.size}<extra></extra>",
         "hovertext": [
          "FRZN SEAFOOD"
         ],
         "legendgroup": "FRZN SEAFOOD",
         "marker": {
          "color": "#8C564B",
          "size": [
           4
          ],
          "sizemode": "area",
          "sizeref": 0.3611111111111111,
          "symbol": "circle"
         },
         "mode": "markers",
         "name": "FRZN SEAFOOD",
         "orientation": "v",
         "showlegend": true,
         "type": "scatter",
         "x": [
          5
         ],
         "xaxis": "x",
         "y": [
          17.950000000000003
         ],
         "yaxis": "y"
        },
        {
         "hovertemplate": "<b>%{hovertext}</b><br><br>COMMODITY_DESC=FRZN VEGETABLE/VEG DSH<br>QUANTITY=%{x}<br>SALES_VALUE=%{y}<br>HOUSEHOLDS=%{marker.size}<extra></extra>",
         "hovertext": [
          "FRZN VEGETABLE/VEG DSH"
         ],
         "legendgroup": "FRZN VEGETABLE/VEG DSH",
         "marker": {
          "color": "#E377C2",
          "size": [
           378
          ],
          "sizemode": "area",
          "sizeref": 0.3611111111111111,
          "symbol": "circle"
         },
         "mode": "markers",
         "name": "FRZN VEGETABLE/VEG DSH",
         "orientation": "v",
         "showlegend": true,
         "type": "scatter",
         "x": [
          1474
         ],
         "xaxis": "x",
         "y": [
          1871.7800000000025
         ],
         "yaxis": "y"
        },
        {
         "hovertemplate": "<b>%{hovertext}</b><br><br>COMMODITY_DESC=FUEL<br>QUANTITY=%{x}<br>SALES_VALUE=%{y}<br>HOUSEHOLDS=%{marker.size}<extra></extra>",
         "hovertext": [
          "FUEL"
         ],
         "legendgroup": "FUEL",
         "marker": {
          "color": "#7F7F7F",
          "size": [
           23
          ],
          "sizemode": "area",
          "sizeref": 0.3611111111111111,
          "symbol": "circle"
         },
         "mode": "markers",
         "name": "FUEL",
         "orientation": "v",
         "showlegend": true,
         "type": "scatter",
         "x": [
          52
         ],
         "xaxis": "x",
         "y": [
          631.84
         ],
         "yaxis": "y"
        },
        {
         "hovertemplate": "<b>%{hovertext}</b><br><br>COMMODITY_DESC=GARDEN CENTER<br>QUANTITY=%{x}<br>SALES_VALUE=%{y}<br>HOUSEHOLDS=%{marker.size}<extra></extra>",
         "hovertext": [
          "GARDEN CENTER"
         ],
         "legendgroup": "GARDEN CENTER",
         "marker": {
          "color": "#BCBD22",
          "size": [
           67
          ],
          "sizemode": "area",
          "sizeref": 0.3611111111111111,
          "symbol": "circle"
         },
         "mode": "markers",
         "name": "GARDEN CENTER",
         "orientation": "v",
         "showlegend": true,
         "type": "scatter",
         "x": [
          186
         ],
         "xaxis": "x",
         "y": [
          1021.7400000000007
         ],
         "yaxis": "y"
        },
        {
         "hovertemplate": "<b>%{hovertext}</b><br><br>COMMODITY_DESC=GLASSES/VISION AIDS<br>QUANTITY=%{x}<br>SALES_VALUE=%{y}<br>HOUSEHOLDS=%{marker.size}<extra></extra>",
         "hovertext": [
          "GLASSES/VISION AIDS"
         ],
         "legendgroup": "GLASSES/VISION AIDS",
         "marker": {
          "color": "#17BECF",
          "size": [
           6
          ],
          "sizemode": "area",
          "sizeref": 0.3611111111111111,
          "symbol": "circle"
         },
         "mode": "markers",
         "name": "GLASSES/VISION AIDS",
         "orientation": "v",
         "showlegend": true,
         "type": "scatter",
         "x": [
          8
         ],
         "xaxis": "x",
         "y": [
          58.84000000000001
         ],
         "yaxis": "y"
        },
        {
         "hovertemplate": "<b>%{hovertext}</b><br><br>COMMODITY_DESC=GLASSWARE & DINNERWARE<br>QUANTITY=%{x}<br>SALES_VALUE=%{y}<br>HOUSEHOLDS=%{marker.size}<extra></extra>",
         "hovertext": [
          "GLASSWARE & DINNERWARE"
         ],
         "legendgroup": "GLASSWARE & DINNERWARE",
         "marker": {
          "color": "#1F77B4",
          "size": [
           11
          ],
          "sizemode": "area",
          "sizeref": 0.3611111111111111,
          "symbol": "circle"
         },
         "mode": "markers",
         "name": "GLASSWARE & DINNERWARE",
         "orientation": "v",
         "showlegend": true,
         "type": "scatter",
         "x": [
          13
         ],
         "xaxis": "x",
         "y": [
          45.27000000000001
         ],
         "yaxis": "y"
        },
        {
         "hovertemplate": "<b>%{hovertext}</b><br><br>COMMODITY_DESC=GRAPES<br>QUANTITY=%{x}<br>SALES_VALUE=%{y}<br>HOUSEHOLDS=%{marker.size}<extra></extra>",
         "hovertext": [
          "GRAPES"
         ],
         "legendgroup": "GRAPES",
         "marker": {
          "color": "#FF7F0E",
          "size": [
           406
          ],
          "sizemode": "area",
          "sizeref": 0.3611111111111111,
          "symbol": "circle"
         },
         "mode": "markers",
         "name": "GRAPES",
         "orientation": "v",
         "showlegend": true,
         "type": "scatter",
         "x": [
          643
         ],
         "xaxis": "x",
         "y": [
          1959.8699999999997
         ],
         "yaxis": "y"
        },
        {
         "hovertemplate": "<b>%{hovertext}</b><br><br>COMMODITY_DESC=GREETING CARDS/WRAP/PARTY SPLY<br>QUANTITY=%{x}<br>SALES_VALUE=%{y}<br>HOUSEHOLDS=%{marker.size}<extra></extra>",
         "hovertext": [
          "GREETING CARDS/WRAP/PARTY SPLY"
         ],
         "legendgroup": "GREETING CARDS/WRAP/PARTY SPLY",
         "marker": {
          "color": "#2CA02C",
          "size": [
           374
          ],
          "sizemode": "area",
          "sizeref": 0.3611111111111111,
          "symbol": "circle"
         },
         "mode": "markers",
         "name": "GREETING CARDS/WRAP/PARTY SPLY",
         "orientation": "v",
         "showlegend": true,
         "type": "scatter",
         "x": [
          1046
         ],
         "xaxis": "x",
         "y": [
          2582.1199999999735
         ],
         "yaxis": "y"
        },
        {
         "hovertemplate": "<b>%{hovertext}</b><br><br>COMMODITY_DESC=HAIR CARE ACCESSORIES<br>QUANTITY=%{x}<br>SALES_VALUE=%{y}<br>HOUSEHOLDS=%{marker.size}<extra></extra>",
         "hovertext": [
          "HAIR CARE ACCESSORIES"
         ],
         "legendgroup": "HAIR CARE ACCESSORIES",
         "marker": {
          "color": "#D62728",
          "size": [
           72
          ],
          "sizemode": "area",
          "sizeref": 0.3611111111111111,
          "symbol": "circle"
         },
         "mode": "markers",
         "name": "HAIR CARE ACCESSORIES",
         "orientation": "v",
         "showlegend": true,
         "type": "scatter",
         "x": [
          106
         ],
         "xaxis": "x",
         "y": [
          290.86000000000024
         ],
         "yaxis": "y"
        },
        {
         "hovertemplate": "<b>%{hovertext}</b><br><br>COMMODITY_DESC=HAIR CARE PRODUCTS<br>QUANTITY=%{x}<br>SALES_VALUE=%{y}<br>HOUSEHOLDS=%{marker.size}<extra></extra>",
         "hovertext": [
          "HAIR CARE PRODUCTS"
         ],
         "legendgroup": "HAIR CARE PRODUCTS",
         "marker": {
          "color": "#9467BD",
          "size": [
           326
          ],
          "sizemode": "area",
          "sizeref": 0.3611111111111111,
          "symbol": "circle"
         },
         "mode": "markers",
         "name": "HAIR CARE PRODUCTS",
         "orientation": "v",
         "showlegend": true,
         "type": "scatter",
         "x": [
          711
         ],
         "xaxis": "x",
         "y": [
          2529.689999999998
         ],
         "yaxis": "y"
        },
        {
         "hovertemplate": "<b>%{hovertext}</b><br><br>COMMODITY_DESC=HALLOWEEN<br>QUANTITY=%{x}<br>SALES_VALUE=%{y}<br>HOUSEHOLDS=%{marker.size}<extra></extra>",
         "hovertext": [
          "HALLOWEEN"
         ],
         "legendgroup": "HALLOWEEN",
         "marker": {
          "color": "#8C564B",
          "size": [
           1
          ],
          "sizemode": "area",
          "sizeref": 0.3611111111111111,
          "symbol": "circle"
         },
         "mode": "markers",
         "name": "HALLOWEEN",
         "orientation": "v",
         "showlegend": true,
         "type": "scatter",
         "x": [
          1
         ],
         "xaxis": "x",
         "y": [
          0.25
         ],
         "yaxis": "y"
        },
        {
         "hovertemplate": "<b>%{hovertext}</b><br><br>COMMODITY_DESC=HAND/BODY/FACIAL PRODUCTS<br>QUANTITY=%{x}<br>SALES_VALUE=%{y}<br>HOUSEHOLDS=%{marker.size}<extra></extra>",
         "hovertext": [
          "HAND/BODY/FACIAL PRODUCTS"
         ],
         "legendgroup": "HAND/BODY/FACIAL PRODUCTS",
         "marker": {
          "color": "#E377C2",
          "size": [
           147
          ],
          "sizemode": "area",
          "sizeref": 0.3611111111111111,
          "symbol": "circle"
         },
         "mode": "markers",
         "name": "HAND/BODY/FACIAL PRODUCTS",
         "orientation": "v",
         "showlegend": true,
         "type": "scatter",
         "x": [
          211
         ],
         "xaxis": "x",
         "y": [
          1301.720000000001
         ],
         "yaxis": "y"
        },
        {
         "hovertemplate": "<b>%{hovertext}</b><br><br>COMMODITY_DESC=HARDWARE SUPPLIES<br>QUANTITY=%{x}<br>SALES_VALUE=%{y}<br>HOUSEHOLDS=%{marker.size}<extra></extra>",
         "hovertext": [
          "HARDWARE SUPPLIES"
         ],
         "legendgroup": "HARDWARE SUPPLIES",
         "marker": {
          "color": "#7F7F7F",
          "size": [
           56
          ],
          "sizemode": "area",
          "sizeref": 0.3611111111111111,
          "symbol": "circle"
         },
         "mode": "markers",
         "name": "HARDWARE SUPPLIES",
         "orientation": "v",
         "showlegend": true,
         "type": "scatter",
         "x": [
          100
         ],
         "xaxis": "x",
         "y": [
          312.87000000000023
         ],
         "yaxis": "y"
        },
        {
         "hovertemplate": "<b>%{hovertext}</b><br><br>COMMODITY_DESC=HEAT/SERVE<br>QUANTITY=%{x}<br>SALES_VALUE=%{y}<br>HOUSEHOLDS=%{marker.size}<extra></extra>",
         "hovertext": [
          "HEAT/SERVE"
         ],
         "legendgroup": "HEAT/SERVE",
         "marker": {
          "color": "#BCBD22",
          "size": [
           217
          ],
          "sizemode": "area",
          "sizeref": 0.3611111111111111,
          "symbol": "circle"
         },
         "mode": "markers",
         "name": "HEAT/SERVE",
         "orientation": "v",
         "showlegend": true,
         "type": "scatter",
         "x": [
          439
         ],
         "xaxis": "x",
         "y": [
          1648.7400000000023
         ],
         "yaxis": "y"
        },
        {
         "hovertemplate": "<b>%{hovertext}</b><br><br>COMMODITY_DESC=HERBS<br>QUANTITY=%{x}<br>SALES_VALUE=%{y}<br>HOUSEHOLDS=%{marker.size}<extra></extra>",
         "hovertext": [
          "HERBS"
         ],
         "legendgroup": "HERBS",
         "marker": {
          "color": "#17BECF",
          "size": [
           138
          ],
          "sizemode": "area",
          "sizeref": 0.3611111111111111,
          "symbol": "circle"
         },
         "mode": "markers",
         "name": "HERBS",
         "orientation": "v",
         "showlegend": true,
         "type": "scatter",
         "x": [
          248
         ],
         "xaxis": "x",
         "y": [
          336.39000000000067
         ],
         "yaxis": "y"
        },
        {
         "hovertemplate": "<b>%{hovertext}</b><br><br>COMMODITY_DESC=HISPANIC<br>QUANTITY=%{x}<br>SALES_VALUE=%{y}<br>HOUSEHOLDS=%{marker.size}<extra></extra>",
         "hovertext": [
          "HISPANIC"
         ],
         "legendgroup": "HISPANIC",
         "marker": {
          "color": "#1F77B4",
          "size": [
           509
          ],
          "sizemode": "area",
          "sizeref": 0.3611111111111111,
          "symbol": "circle"
         },
         "mode": "markers",
         "name": "HISPANIC",
         "orientation": "v",
         "showlegend": true,
         "type": "scatter",
         "x": [
          1880
         ],
         "xaxis": "x",
         "y": [
          2830.569999999987
         ],
         "yaxis": "y"
        },
        {
         "hovertemplate": "<b>%{hovertext}</b><br><br>COMMODITY_DESC=HOME FREEZING & CANNING SUPPLY<br>QUANTITY=%{x}<br>SALES_VALUE=%{y}<br>HOUSEHOLDS=%{marker.size}<extra></extra>",
         "hovertext": [
          "HOME FREEZING & CANNING SUPPLY"
         ],
         "legendgroup": "HOME FREEZING & CANNING SUPPLY",
         "marker": {
          "color": "#FF7F0E",
          "size": [
           3
          ],
          "sizemode": "area",
          "sizeref": 0.3611111111111111,
          "symbol": "circle"
         },
         "mode": "markers",
         "name": "HOME FREEZING & CANNING SUPPLY",
         "orientation": "v",
         "showlegend": true,
         "type": "scatter",
         "x": [
          4
         ],
         "xaxis": "x",
         "y": [
          9.76
         ],
         "yaxis": "y"
        },
        {
         "hovertemplate": "<b>%{hovertext}</b><br><br>COMMODITY_DESC=HOME FURNISHINGS<br>QUANTITY=%{x}<br>SALES_VALUE=%{y}<br>HOUSEHOLDS=%{marker.size}<extra></extra>",
         "hovertext": [
          "HOME FURNISHINGS"
         ],
         "legendgroup": "HOME FURNISHINGS",
         "marker": {
          "color": "#2CA02C",
          "size": [
           6
          ],
          "sizemode": "area",
          "sizeref": 0.3611111111111111,
          "symbol": "circle"
         },
         "mode": "markers",
         "name": "HOME FURNISHINGS",
         "orientation": "v",
         "showlegend": true,
         "type": "scatter",
         "x": [
          8
         ],
         "xaxis": "x",
         "y": [
          93.91999999999999
         ],
         "yaxis": "y"
        },
        {
         "hovertemplate": "<b>%{hovertext}</b><br><br>COMMODITY_DESC=HOSIERY/SOCKS<br>QUANTITY=%{x}<br>SALES_VALUE=%{y}<br>HOUSEHOLDS=%{marker.size}<extra></extra>",
         "hovertext": [
          "HOSIERY/SOCKS"
         ],
         "legendgroup": "HOSIERY/SOCKS",
         "marker": {
          "color": "#D62728",
          "size": [
           39
          ],
          "sizemode": "area",
          "sizeref": 0.3611111111111111,
          "symbol": "circle"
         },
         "mode": "markers",
         "name": "HOSIERY/SOCKS",
         "orientation": "v",
         "showlegend": true,
         "type": "scatter",
         "x": [
          72
         ],
         "xaxis": "x",
         "y": [
          235.66
         ],
         "yaxis": "y"
        },
        {
         "hovertemplate": "<b>%{hovertext}</b><br><br>COMMODITY_DESC=HOT CEREAL<br>QUANTITY=%{x}<br>SALES_VALUE=%{y}<br>HOUSEHOLDS=%{marker.size}<extra></extra>",
         "hovertext": [
          "HOT CEREAL"
         ],
         "legendgroup": "HOT CEREAL",
         "marker": {
          "color": "#9467BD",
          "size": [
           182
          ],
          "sizemode": "area",
          "sizeref": 0.3611111111111111,
          "symbol": "circle"
         },
         "mode": "markers",
         "name": "HOT CEREAL",
         "orientation": "v",
         "showlegend": true,
         "type": "scatter",
         "x": [
          345
         ],
         "xaxis": "x",
         "y": [
          771.6100000000013
         ],
         "yaxis": "y"
        },
        {
         "hovertemplate": "<b>%{hovertext}</b><br><br>COMMODITY_DESC=HOT DOGS<br>QUANTITY=%{x}<br>SALES_VALUE=%{y}<br>HOUSEHOLDS=%{marker.size}<extra></extra>",
         "hovertext": [
          "HOT DOGS"
         ],
         "legendgroup": "HOT DOGS",
         "marker": {
          "color": "#8C564B",
          "size": [
           553
          ],
          "sizemode": "area",
          "sizeref": 0.3611111111111111,
          "symbol": "circle"
         },
         "mode": "markers",
         "name": "HOT DOGS",
         "orientation": "v",
         "showlegend": true,
         "type": "scatter",
         "x": [
          1448
         ],
         "xaxis": "x",
         "y": [
          2747.7599999999857
         ],
         "yaxis": "y"
        },
        {
         "hovertemplate": "<b>%{hovertext}</b><br><br>COMMODITY_DESC=HOUSEHOLD CLEANG NEEDS<br>QUANTITY=%{x}<br>SALES_VALUE=%{y}<br>HOUSEHOLDS=%{marker.size}<extra></extra>",
         "hovertext": [
          "HOUSEHOLD CLEANG NEEDS"
         ],
         "legendgroup": "HOUSEHOLD CLEANG NEEDS",
         "marker": {
          "color": "#E377C2",
          "size": [
           307
          ],
          "sizemode": "area",
          "sizeref": 0.3611111111111111,
          "symbol": "circle"
         },
         "mode": "markers",
         "name": "HOUSEHOLD CLEANG NEEDS",
         "orientation": "v",
         "showlegend": true,
         "type": "scatter",
         "x": [
          745
         ],
         "xaxis": "x",
         "y": [
          2413.7199999999984
         ],
         "yaxis": "y"
        },
        {
         "hovertemplate": "<b>%{hovertext}</b><br><br>COMMODITY_DESC=ICE CREAM/MILK/SHERBTS<br>QUANTITY=%{x}<br>SALES_VALUE=%{y}<br>HOUSEHOLDS=%{marker.size}<extra></extra>",
         "hovertext": [
          "ICE CREAM/MILK/SHERBTS"
         ],
         "legendgroup": "ICE CREAM/MILK/SHERBTS",
         "marker": {
          "color": "#7F7F7F",
          "size": [
           728
          ],
          "sizemode": "area",
          "sizeref": 0.3611111111111111,
          "symbol": "circle"
         },
         "mode": "markers",
         "name": "ICE CREAM/MILK/SHERBTS",
         "orientation": "v",
         "showlegend": true,
         "type": "scatter",
         "x": [
          2085
         ],
         "xaxis": "x",
         "y": [
          5472.289999999968
         ],
         "yaxis": "y"
        },
        {
         "hovertemplate": "<b>%{hovertext}</b><br><br>COMMODITY_DESC=IMPORTED WINE<br>QUANTITY=%{x}<br>SALES_VALUE=%{y}<br>HOUSEHOLDS=%{marker.size}<extra></extra>",
         "hovertext": [
          "IMPORTED WINE"
         ],
         "legendgroup": "IMPORTED WINE",
         "marker": {
          "color": "#BCBD22",
          "size": [
           58
          ],
          "sizemode": "area",
          "sizeref": 0.3611111111111111,
          "symbol": "circle"
         },
         "mode": "markers",
         "name": "IMPORTED WINE",
         "orientation": "v",
         "showlegend": true,
         "type": "scatter",
         "x": [
          193
         ],
         "xaxis": "x",
         "y": [
          1799.5700000000015
         ],
         "yaxis": "y"
        },
        {
         "hovertemplate": "<b>%{hovertext}</b><br><br>COMMODITY_DESC=IN-STORE PHOTOFINISHING<br>QUANTITY=%{x}<br>SALES_VALUE=%{y}<br>HOUSEHOLDS=%{marker.size}<extra></extra>",
         "hovertext": [
          "IN-STORE PHOTOFINISHING"
         ],
         "legendgroup": "IN-STORE PHOTOFINISHING",
         "marker": {
          "color": "#17BECF",
          "size": [
           27
          ],
          "sizemode": "area",
          "sizeref": 0.3611111111111111,
          "symbol": "circle"
         },
         "mode": "markers",
         "name": "IN-STORE PHOTOFINISHING",
         "orientation": "v",
         "showlegend": true,
         "type": "scatter",
         "x": [
          88
         ],
         "xaxis": "x",
         "y": [
          524.8499999999999
         ],
         "yaxis": "y"
        },
        {
         "hovertemplate": "<b>%{hovertext}</b><br><br>COMMODITY_DESC=INFANT CARE PRODUCTS<br>QUANTITY=%{x}<br>SALES_VALUE=%{y}<br>HOUSEHOLDS=%{marker.size}<extra></extra>",
         "hovertext": [
          "INFANT CARE PRODUCTS"
         ],
         "legendgroup": "INFANT CARE PRODUCTS",
         "marker": {
          "color": "#1F77B4",
          "size": [
           63
          ],
          "sizemode": "area",
          "sizeref": 0.3611111111111111,
          "symbol": "circle"
         },
         "mode": "markers",
         "name": "INFANT CARE PRODUCTS",
         "orientation": "v",
         "showlegend": true,
         "type": "scatter",
         "x": [
          108
         ],
         "xaxis": "x",
         "y": [
          418.34000000000015
         ],
         "yaxis": "y"
        },
        {
         "hovertemplate": "<b>%{hovertext}</b><br><br>COMMODITY_DESC=INFANT FORMULA<br>QUANTITY=%{x}<br>SALES_VALUE=%{y}<br>HOUSEHOLDS=%{marker.size}<extra></extra>",
         "hovertext": [
          "INFANT FORMULA"
         ],
         "legendgroup": "INFANT FORMULA",
         "marker": {
          "color": "#FF7F0E",
          "size": [
           80
          ],
          "sizemode": "area",
          "sizeref": 0.3611111111111111,
          "symbol": "circle"
         },
         "mode": "markers",
         "name": "INFANT FORMULA",
         "orientation": "v",
         "showlegend": true,
         "type": "scatter",
         "x": [
          398
         ],
         "xaxis": "x",
         "y": [
          3130.2100000000005
         ],
         "yaxis": "y"
        },
        {
         "hovertemplate": "<b>%{hovertext}</b><br><br>COMMODITY_DESC=INSECTICIDES<br>QUANTITY=%{x}<br>SALES_VALUE=%{y}<br>HOUSEHOLDS=%{marker.size}<extra></extra>",
         "hovertext": [
          "INSECTICIDES"
         ],
         "legendgroup": "INSECTICIDES",
         "marker": {
          "color": "#2CA02C",
          "size": [
           71
          ],
          "sizemode": "area",
          "sizeref": 0.3611111111111111,
          "symbol": "circle"
         },
         "mode": "markers",
         "name": "INSECTICIDES",
         "orientation": "v",
         "showlegend": true,
         "type": "scatter",
         "x": [
          98
         ],
         "xaxis": "x",
         "y": [
          370.81000000000034
         ],
         "yaxis": "y"
        },
        {
         "hovertemplate": "<b>%{hovertext}</b><br><br>COMMODITY_DESC=IRONING AND CHEMICALS<br>QUANTITY=%{x}<br>SALES_VALUE=%{y}<br>HOUSEHOLDS=%{marker.size}<extra></extra>",
         "hovertext": [
          "IRONING AND CHEMICALS"
         ],
         "legendgroup": "IRONING AND CHEMICALS",
         "marker": {
          "color": "#D62728",
          "size": [
           26
          ],
          "sizemode": "area",
          "sizeref": 0.3611111111111111,
          "symbol": "circle"
         },
         "mode": "markers",
         "name": "IRONING AND CHEMICALS",
         "orientation": "v",
         "showlegend": true,
         "type": "scatter",
         "x": [
          50
         ],
         "xaxis": "x",
         "y": [
          355.1100000000001
         ],
         "yaxis": "y"
        },
        {
         "hovertemplate": "<b>%{hovertext}</b><br><br>COMMODITY_DESC=ISOTONIC DRINKS<br>QUANTITY=%{x}<br>SALES_VALUE=%{y}<br>HOUSEHOLDS=%{marker.size}<extra></extra>",
         "hovertext": [
          "ISOTONIC DRINKS"
         ],
         "legendgroup": "ISOTONIC DRINKS",
         "marker": {
          "color": "#9467BD",
          "size": [
           243
          ],
          "sizemode": "area",
          "sizeref": 0.3611111111111111,
          "symbol": "circle"
         },
         "mode": "markers",
         "name": "ISOTONIC DRINKS",
         "orientation": "v",
         "showlegend": true,
         "type": "scatter",
         "x": [
          1012
         ],
         "xaxis": "x",
         "y": [
          2126.4499999999975
         ],
         "yaxis": "y"
        },
        {
         "hovertemplate": "<b>%{hovertext}</b><br><br>COMMODITY_DESC=J-HOOKS<br>QUANTITY=%{x}<br>SALES_VALUE=%{y}<br>HOUSEHOLDS=%{marker.size}<extra></extra>",
         "hovertext": [
          "J-HOOKS"
         ],
         "legendgroup": "J-HOOKS",
         "marker": {
          "color": "#8C564B",
          "size": [
           37
          ],
          "sizemode": "area",
          "sizeref": 0.3611111111111111,
          "symbol": "circle"
         },
         "mode": "markers",
         "name": "J-HOOKS",
         "orientation": "v",
         "showlegend": true,
         "type": "scatter",
         "x": [
          54
         ],
         "xaxis": "x",
         "y": [
          157.87000000000003
         ],
         "yaxis": "y"
        },
        {
         "hovertemplate": "<b>%{hovertext}</b><br><br>COMMODITY_DESC=JUICE<br>QUANTITY=%{x}<br>SALES_VALUE=%{y}<br>HOUSEHOLDS=%{marker.size}<extra></extra>",
         "hovertext": [
          "JUICE"
         ],
         "legendgroup": "JUICE",
         "marker": {
          "color": "#E377C2",
          "size": [
           45
          ],
          "sizemode": "area",
          "sizeref": 0.3611111111111111,
          "symbol": "circle"
         },
         "mode": "markers",
         "name": "JUICE",
         "orientation": "v",
         "showlegend": true,
         "type": "scatter",
         "x": [
          127
         ],
         "xaxis": "x",
         "y": [
          297.84000000000003
         ],
         "yaxis": "y"
        },
        {
         "hovertemplate": "<b>%{hovertext}</b><br><br>COMMODITY_DESC=KITCHEN GADGETS<br>QUANTITY=%{x}<br>SALES_VALUE=%{y}<br>HOUSEHOLDS=%{marker.size}<extra></extra>",
         "hovertext": [
          "KITCHEN GADGETS"
         ],
         "legendgroup": "KITCHEN GADGETS",
         "marker": {
          "color": "#7F7F7F",
          "size": [
           142
          ],
          "sizemode": "area",
          "sizeref": 0.3611111111111111,
          "symbol": "circle"
         },
         "mode": "markers",
         "name": "KITCHEN GADGETS",
         "orientation": "v",
         "showlegend": true,
         "type": "scatter",
         "x": [
          212
         ],
         "xaxis": "x",
         "y": [
          522.6200000000003
         ],
         "yaxis": "y"
        },
        {
         "hovertemplate": "<b>%{hovertext}</b><br><br>COMMODITY_DESC=LAMB<br>QUANTITY=%{x}<br>SALES_VALUE=%{y}<br>HOUSEHOLDS=%{marker.size}<extra></extra>",
         "hovertext": [
          "LAMB"
         ],
         "legendgroup": "LAMB",
         "marker": {
          "color": "#BCBD22",
          "size": [
           8
          ],
          "sizemode": "area",
          "sizeref": 0.3611111111111111,
          "symbol": "circle"
         },
         "mode": "markers",
         "name": "LAMB",
         "orientation": "v",
         "showlegend": true,
         "type": "scatter",
         "x": [
          20
         ],
         "xaxis": "x",
         "y": [
          70.44999999999999
         ],
         "yaxis": "y"
        },
        {
         "hovertemplate": "<b>%{hovertext}</b><br><br>COMMODITY_DESC=LAUNDRY ADDITIVES<br>QUANTITY=%{x}<br>SALES_VALUE=%{y}<br>HOUSEHOLDS=%{marker.size}<extra></extra>",
         "hovertext": [
          "LAUNDRY ADDITIVES"
         ],
         "legendgroup": "LAUNDRY ADDITIVES",
         "marker": {
          "color": "#17BECF",
          "size": [
           226
          ],
          "sizemode": "area",
          "sizeref": 0.3611111111111111,
          "symbol": "circle"
         },
         "mode": "markers",
         "name": "LAUNDRY ADDITIVES",
         "orientation": "v",
         "showlegend": true,
         "type": "scatter",
         "x": [
          342
         ],
         "xaxis": "x",
         "y": [
          1283.000000000002
         ],
         "yaxis": "y"
        },
        {
         "hovertemplate": "<b>%{hovertext}</b><br><br>COMMODITY_DESC=LAUNDRY DETERGENTS<br>QUANTITY=%{x}<br>SALES_VALUE=%{y}<br>HOUSEHOLDS=%{marker.size}<extra></extra>",
         "hovertext": [
          "LAUNDRY DETERGENTS"
         ],
         "legendgroup": "LAUNDRY DETERGENTS",
         "marker": {
          "color": "#1F77B4",
          "size": [
           386
          ],
          "sizemode": "area",
          "sizeref": 0.3611111111111111,
          "symbol": "circle"
         },
         "mode": "markers",
         "name": "LAUNDRY DETERGENTS",
         "orientation": "v",
         "showlegend": true,
         "type": "scatter",
         "x": [
          613
         ],
         "xaxis": "x",
         "y": [
          3476.8899999999694
         ],
         "yaxis": "y"
        },
        {
         "hovertemplate": "<b>%{hovertext}</b><br><br>COMMODITY_DESC=LAWN AND GARDEN SHOP<br>QUANTITY=%{x}<br>SALES_VALUE=%{y}<br>HOUSEHOLDS=%{marker.size}<extra></extra>",
         "hovertext": [
          "LAWN AND GARDEN SHOP"
         ],
         "legendgroup": "LAWN AND GARDEN SHOP",
         "marker": {
          "color": "#FF7F0E",
          "size": [
           33
          ],
          "sizemode": "area",
          "sizeref": 0.3611111111111111,
          "symbol": "circle"
         },
         "mode": "markers",
         "name": "LAWN AND GARDEN SHOP",
         "orientation": "v",
         "showlegend": true,
         "type": "scatter",
         "x": [
          72
         ],
         "xaxis": "x",
         "y": [
          559.3500000000001
         ],
         "yaxis": "y"
        },
        {
         "hovertemplate": "<b>%{hovertext}</b><br><br>COMMODITY_DESC=LAXATIVES<br>QUANTITY=%{x}<br>SALES_VALUE=%{y}<br>HOUSEHOLDS=%{marker.size}<extra></extra>",
         "hovertext": [
          "LAXATIVES"
         ],
         "legendgroup": "LAXATIVES",
         "marker": {
          "color": "#2CA02C",
          "size": [
           58
          ],
          "sizemode": "area",
          "sizeref": 0.3611111111111111,
          "symbol": "circle"
         },
         "mode": "markers",
         "name": "LAXATIVES",
         "orientation": "v",
         "showlegend": true,
         "type": "scatter",
         "x": [
          120
         ],
         "xaxis": "x",
         "y": [
          589.0000000000002
         ],
         "yaxis": "y"
        },
        {
         "hovertemplate": "<b>%{hovertext}</b><br><br>COMMODITY_DESC=LIQUOR<br>QUANTITY=%{x}<br>SALES_VALUE=%{y}<br>HOUSEHOLDS=%{marker.size}<extra></extra>",
         "hovertext": [
          "LIQUOR"
         ],
         "legendgroup": "LIQUOR",
         "marker": {
          "color": "#D62728",
          "size": [
           97
          ],
          "sizemode": "area",
          "sizeref": 0.3611111111111111,
          "symbol": "circle"
         },
         "mode": "markers",
         "name": "LIQUOR",
         "orientation": "v",
         "showlegend": true,
         "type": "scatter",
         "x": [
          201
         ],
         "xaxis": "x",
         "y": [
          1684.2500000000023
         ],
         "yaxis": "y"
        },
        {
         "hovertemplate": "<b>%{hovertext}</b><br><br>COMMODITY_DESC=LONG DISTANCE CALLING CARDS<br>QUANTITY=%{x}<br>SALES_VALUE=%{y}<br>HOUSEHOLDS=%{marker.size}<extra></extra>",
         "hovertext": [
          "LONG DISTANCE CALLING CARDS"
         ],
         "legendgroup": "LONG DISTANCE CALLING CARDS",
         "marker": {
          "color": "#9467BD",
          "size": [
           3
          ],
          "sizemode": "area",
          "sizeref": 0.3611111111111111,
          "symbol": "circle"
         },
         "mode": "markers",
         "name": "LONG DISTANCE CALLING CARDS",
         "orientation": "v",
         "showlegend": true,
         "type": "scatter",
         "x": [
          3
         ],
         "xaxis": "x",
         "y": [
          41.4
         ],
         "yaxis": "y"
        },
        {
         "hovertemplate": "<b>%{hovertext}</b><br><br>COMMODITY_DESC=LUNCHMEAT<br>QUANTITY=%{x}<br>SALES_VALUE=%{y}<br>HOUSEHOLDS=%{marker.size}<extra></extra>",
         "hovertext": [
          "LUNCHMEAT"
         ],
         "legendgroup": "LUNCHMEAT",
         "marker": {
          "color": "#8C564B",
          "size": [
           739
          ],
          "sizemode": "area",
          "sizeref": 0.3611111111111111,
          "symbol": "circle"
         },
         "mode": "markers",
         "name": "LUNCHMEAT",
         "orientation": "v",
         "showlegend": true,
         "type": "scatter",
         "x": [
          2874
         ],
         "xaxis": "x",
         "y": [
          5931.4699999999275
         ],
         "yaxis": "y"
        },
        {
         "hovertemplate": "<b>%{hovertext}</b><br><br>COMMODITY_DESC=MAGAZINE<br>QUANTITY=%{x}<br>SALES_VALUE=%{y}<br>HOUSEHOLDS=%{marker.size}<extra></extra>",
         "hovertext": [
          "MAGAZINE"
         ],
         "legendgroup": "MAGAZINE",
         "marker": {
          "color": "#E377C2",
          "size": [
           256
          ],
          "sizemode": "area",
          "sizeref": 0.3611111111111111,
          "symbol": "circle"
         },
         "mode": "markers",
         "name": "MAGAZINE",
         "orientation": "v",
         "showlegend": true,
         "type": "scatter",
         "x": [
          512
         ],
         "xaxis": "x",
         "y": [
          1764.4200000000044
         ],
         "yaxis": "y"
        },
        {
         "hovertemplate": "<b>%{hovertext}</b><br><br>COMMODITY_DESC=MAKEUP AND TREATMENT<br>QUANTITY=%{x}<br>SALES_VALUE=%{y}<br>HOUSEHOLDS=%{marker.size}<extra></extra>",
         "hovertext": [
          "MAKEUP AND TREATMENT"
         ],
         "legendgroup": "MAKEUP AND TREATMENT",
         "marker": {
          "color": "#7F7F7F",
          "size": [
           170
          ],
          "sizemode": "area",
          "sizeref": 0.3611111111111111,
          "symbol": "circle"
         },
         "mode": "markers",
         "name": "MAKEUP AND TREATMENT",
         "orientation": "v",
         "showlegend": true,
         "type": "scatter",
         "x": [
          381
         ],
         "xaxis": "x",
         "y": [
          1299.7600000000018
         ],
         "yaxis": "y"
        },
        {
         "hovertemplate": "<b>%{hovertext}</b><br><br>COMMODITY_DESC=MARGARINES<br>QUANTITY=%{x}<br>SALES_VALUE=%{y}<br>HOUSEHOLDS=%{marker.size}<extra></extra>",
         "hovertext": [
          "MARGARINES"
         ],
         "legendgroup": "MARGARINES",
         "marker": {
          "color": "#BCBD22",
          "size": [
           546
          ],
          "sizemode": "area",
          "sizeref": 0.3611111111111111,
          "symbol": "circle"
         },
         "mode": "markers",
         "name": "MARGARINES",
         "orientation": "v",
         "showlegend": true,
         "type": "scatter",
         "x": [
          1013
         ],
         "xaxis": "x",
         "y": [
          1293.1500000000046
         ],
         "yaxis": "y"
        },
        {
         "hovertemplate": "<b>%{hovertext}</b><br><br>COMMODITY_DESC=MEAT - MISC<br>QUANTITY=%{x}<br>SALES_VALUE=%{y}<br>HOUSEHOLDS=%{marker.size}<extra></extra>",
         "hovertext": [
          "MEAT - MISC"
         ],
         "legendgroup": "MEAT - MISC",
         "marker": {
          "color": "#17BECF",
          "size": [
           404
          ],
          "sizemode": "area",
          "sizeref": 0.3611111111111111,
          "symbol": "circle"
         },
         "mode": "markers",
         "name": "MEAT - MISC",
         "orientation": "v",
         "showlegend": true,
         "type": "scatter",
         "x": [
          750
         ],
         "xaxis": "x",
         "y": [
          4695.649999999938
         ],
         "yaxis": "y"
        },
        {
         "hovertemplate": "<b>%{hovertext}</b><br><br>COMMODITY_DESC=MEAT - SHELF STABLE<br>QUANTITY=%{x}<br>SALES_VALUE=%{y}<br>HOUSEHOLDS=%{marker.size}<extra></extra>",
         "hovertext": [
          "MEAT - SHELF STABLE"
         ],
         "legendgroup": "MEAT - SHELF STABLE",
         "marker": {
          "color": "#1F77B4",
          "size": [
           460
          ],
          "sizemode": "area",
          "sizeref": 0.3611111111111111,
          "symbol": "circle"
         },
         "mode": "markers",
         "name": "MEAT - SHELF STABLE",
         "orientation": "v",
         "showlegend": true,
         "type": "scatter",
         "x": [
          2479
         ],
         "xaxis": "x",
         "y": [
          3015.64999999999
         ],
         "yaxis": "y"
        },
        {
         "hovertemplate": "<b>%{hovertext}</b><br><br>COMMODITY_DESC=MEAT SUPPLIES<br>QUANTITY=%{x}<br>SALES_VALUE=%{y}<br>HOUSEHOLDS=%{marker.size}<extra></extra>",
         "hovertext": [
          "MEAT SUPPLIES"
         ],
         "legendgroup": "MEAT SUPPLIES",
         "marker": {
          "color": "#FF7F0E",
          "size": [
           2
          ],
          "sizemode": "area",
          "sizeref": 0.3611111111111111,
          "symbol": "circle"
         },
         "mode": "markers",
         "name": "MEAT SUPPLIES",
         "orientation": "v",
         "showlegend": true,
         "type": "scatter",
         "x": [
          2
         ],
         "xaxis": "x",
         "y": [
          5.0600000000000005
         ],
         "yaxis": "y"
        },
        {
         "hovertemplate": "<b>%{hovertext}</b><br><br>COMMODITY_DESC=MELONS<br>QUANTITY=%{x}<br>SALES_VALUE=%{y}<br>HOUSEHOLDS=%{marker.size}<extra></extra>",
         "hovertext": [
          "MELONS"
         ],
         "legendgroup": "MELONS",
         "marker": {
          "color": "#2CA02C",
          "size": [
           275
          ],
          "sizemode": "area",
          "sizeref": 0.3611111111111111,
          "symbol": "circle"
         },
         "mode": "markers",
         "name": "MELONS",
         "orientation": "v",
         "showlegend": true,
         "type": "scatter",
         "x": [
          456
         ],
         "xaxis": "x",
         "y": [
          1199.7500000000023
         ],
         "yaxis": "y"
        },
        {
         "hovertemplate": "<b>%{hovertext}</b><br><br>COMMODITY_DESC=MILK BY-PRODUCTS<br>QUANTITY=%{x}<br>SALES_VALUE=%{y}<br>HOUSEHOLDS=%{marker.size}<extra></extra>",
         "hovertext": [
          "MILK BY-PRODUCTS"
         ],
         "legendgroup": "MILK BY-PRODUCTS",
         "marker": {
          "color": "#D62728",
          "size": [
           648
          ],
          "sizemode": "area",
          "sizeref": 0.3611111111111111,
          "symbol": "circle"
         },
         "mode": "markers",
         "name": "MILK BY-PRODUCTS",
         "orientation": "v",
         "showlegend": true,
         "type": "scatter",
         "x": [
          1653
         ],
         "xaxis": "x",
         "y": [
          2572.4200000000073
         ],
         "yaxis": "y"
        },
        {
         "hovertemplate": "<b>%{hovertext}</b><br><br>COMMODITY_DESC=MISC WINE<br>QUANTITY=%{x}<br>SALES_VALUE=%{y}<br>HOUSEHOLDS=%{marker.size}<extra></extra>",
         "hovertext": [
          "MISC WINE"
         ],
         "legendgroup": "MISC WINE",
         "marker": {
          "color": "#9467BD",
          "size": [
           73
          ],
          "sizemode": "area",
          "sizeref": 0.3611111111111111,
          "symbol": "circle"
         },
         "mode": "markers",
         "name": "MISC WINE",
         "orientation": "v",
         "showlegend": true,
         "type": "scatter",
         "x": [
          107
         ],
         "xaxis": "x",
         "y": [
          566.9400000000004
         ],
         "yaxis": "y"
        },
        {
         "hovertemplate": "<b>%{hovertext}</b><br><br>COMMODITY_DESC=MISC. DAIRY<br>QUANTITY=%{x}<br>SALES_VALUE=%{y}<br>HOUSEHOLDS=%{marker.size}<extra></extra>",
         "hovertext": [
          "MISC. DAIRY"
         ],
         "legendgroup": "MISC. DAIRY",
         "marker": {
          "color": "#8C564B",
          "size": [
           322
          ],
          "sizemode": "area",
          "sizeref": 0.3611111111111111,
          "symbol": "circle"
         },
         "mode": "markers",
         "name": "MISC. DAIRY",
         "orientation": "v",
         "showlegend": true,
         "type": "scatter",
         "x": [
          727
         ],
         "xaxis": "x",
         "y": [
          1561.3300000000027
         ],
         "yaxis": "y"
        },
        {
         "hovertemplate": "<b>%{hovertext}</b><br><br>COMMODITY_DESC=MISCELLANEOUS<br>QUANTITY=%{x}<br>SALES_VALUE=%{y}<br>HOUSEHOLDS=%{marker.size}<extra></extra>",
         "hovertext": [
          "MISCELLANEOUS"
         ],
         "legendgroup": "MISCELLANEOUS",
         "marker": {
          "color": "#E377C2",
          "size": [
           106
          ],
          "sizemode": "area",
          "sizeref": 0.3611111111111111,
          "symbol": "circle"
         },
         "mode": "markers",
         "name": "MISCELLANEOUS",
         "orientation": "v",
         "showlegend": true,
         "type": "scatter",
         "x": [
          167
         ],
         "xaxis": "x",
         "y": [
          379.34000000000015
         ],
         "yaxis": "y"
        },
        {
         "hovertemplate": "<b>%{hovertext}</b><br><br>COMMODITY_DESC=MISCELLANEOUS HBC<br>QUANTITY=%{x}<br>SALES_VALUE=%{y}<br>HOUSEHOLDS=%{marker.size}<extra></extra>",
         "hovertext": [
          "MISCELLANEOUS HBC"
         ],
         "legendgroup": "MISCELLANEOUS HBC",
         "marker": {
          "color": "#7F7F7F",
          "size": [
           6
          ],
          "sizemode": "area",
          "sizeref": 0.3611111111111111,
          "symbol": "circle"
         },
         "mode": "markers",
         "name": "MISCELLANEOUS HBC",
         "orientation": "v",
         "showlegend": true,
         "type": "scatter",
         "x": [
          8
         ],
         "xaxis": "x",
         "y": [
          23.92
         ],
         "yaxis": "y"
        },
        {
         "hovertemplate": "<b>%{hovertext}</b><br><br>COMMODITY_DESC=MOLASSES/SYRUP/PANCAKE MIXS<br>QUANTITY=%{x}<br>SALES_VALUE=%{y}<br>HOUSEHOLDS=%{marker.size}<extra></extra>",
         "hovertext": [
          "MOLASSES/SYRUP/PANCAKE MIXS"
         ],
         "legendgroup": "MOLASSES/SYRUP/PANCAKE MIXS",
         "marker": {
          "color": "#BCBD22",
          "size": [
           219
          ],
          "sizemode": "area",
          "sizeref": 0.3611111111111111,
          "symbol": "circle"
         },
         "mode": "markers",
         "name": "MOLASSES/SYRUP/PANCAKE MIXS",
         "orientation": "v",
         "showlegend": true,
         "type": "scatter",
         "x": [
          380
         ],
         "xaxis": "x",
         "y": [
          837.6000000000017
         ],
         "yaxis": "y"
        },
        {
         "hovertemplate": "<b>%{hovertext}</b><br><br>COMMODITY_DESC=MUSHROOMS<br>QUANTITY=%{x}<br>SALES_VALUE=%{y}<br>HOUSEHOLDS=%{marker.size}<extra></extra>",
         "hovertext": [
          "MUSHROOMS"
         ],
         "legendgroup": "MUSHROOMS",
         "marker": {
          "color": "#17BECF",
          "size": [
           197
          ],
          "sizemode": "area",
          "sizeref": 0.3611111111111111,
          "symbol": "circle"
         },
         "mode": "markers",
         "name": "MUSHROOMS",
         "orientation": "v",
         "showlegend": true,
         "type": "scatter",
         "x": [
          342
         ],
         "xaxis": "x",
         "y": [
          735.2500000000007
         ],
         "yaxis": "y"
        },
        {
         "hovertemplate": "<b>%{hovertext}</b><br><br>COMMODITY_DESC=NATURAL HBC<br>QUANTITY=%{x}<br>SALES_VALUE=%{y}<br>HOUSEHOLDS=%{marker.size}<extra></extra>",
         "hovertext": [
          "NATURAL HBC"
         ],
         "legendgroup": "NATURAL HBC",
         "marker": {
          "color": "#1F77B4",
          "size": [
           3
          ],
          "sizemode": "area",
          "sizeref": 0.3611111111111111,
          "symbol": "circle"
         },
         "mode": "markers",
         "name": "NATURAL HBC",
         "orientation": "v",
         "showlegend": true,
         "type": "scatter",
         "x": [
          5
         ],
         "xaxis": "x",
         "y": [
          35.15
         ],
         "yaxis": "y"
        },
        {
         "hovertemplate": "<b>%{hovertext}</b><br><br>COMMODITY_DESC=NEWSPAPER<br>QUANTITY=%{x}<br>SALES_VALUE=%{y}<br>HOUSEHOLDS=%{marker.size}<extra></extra>",
         "hovertext": [
          "NEWSPAPER"
         ],
         "legendgroup": "NEWSPAPER",
         "marker": {
          "color": "#FF7F0E",
          "size": [
           126
          ],
          "sizemode": "area",
          "sizeref": 0.3611111111111111,
          "symbol": "circle"
         },
         "mode": "markers",
         "name": "NEWSPAPER",
         "orientation": "v",
         "showlegend": true,
         "type": "scatter",
         "x": [
          248
         ],
         "xaxis": "x",
         "y": [
          284.65
         ],
         "yaxis": "y"
        },
        {
         "hovertemplate": "<b>%{hovertext}</b><br><br>COMMODITY_DESC=NO COMMODITY DESCRIPTION<br>QUANTITY=%{x}<br>SALES_VALUE=%{y}<br>HOUSEHOLDS=%{marker.size}<extra></extra>",
         "hovertext": [
          "NO COMMODITY DESCRIPTION"
         ],
         "legendgroup": "NO COMMODITY DESCRIPTION",
         "marker": {
          "color": "#2CA02C",
          "size": [
           81
          ],
          "sizemode": "area",
          "sizeref": 0.3611111111111111,
          "symbol": "circle"
         },
         "mode": "markers",
         "name": "NO COMMODITY DESCRIPTION",
         "orientation": "v",
         "showlegend": true,
         "type": "scatter",
         "x": [
          111
         ],
         "xaxis": "x",
         "y": [
          749.3100000000003
         ],
         "yaxis": "y"
        },
        {
         "hovertemplate": "<b>%{hovertext}</b><br><br>COMMODITY_DESC=NON EDIBLE PRODUCTS<br>QUANTITY=%{x}<br>SALES_VALUE=%{y}<br>HOUSEHOLDS=%{marker.size}<extra></extra>",
         "hovertext": [
          "NON EDIBLE PRODUCTS"
         ],
         "legendgroup": "NON EDIBLE PRODUCTS",
         "marker": {
          "color": "#D62728",
          "size": [
           1
          ],
          "sizemode": "area",
          "sizeref": 0.3611111111111111,
          "symbol": "circle"
         },
         "mode": "markers",
         "name": "NON EDIBLE PRODUCTS",
         "orientation": "v",
         "showlegend": true,
         "type": "scatter",
         "x": [
          1
         ],
         "xaxis": "x",
         "y": [
          3.89
         ],
         "yaxis": "y"
        },
        {
         "hovertemplate": "<b>%{hovertext}</b><br><br>COMMODITY_DESC=NON-DAIRY BEVERAGES<br>QUANTITY=%{x}<br>SALES_VALUE=%{y}<br>HOUSEHOLDS=%{marker.size}<extra></extra>",
         "hovertext": [
          "NON-DAIRY BEVERAGES"
         ],
         "legendgroup": "NON-DAIRY BEVERAGES",
         "marker": {
          "color": "#9467BD",
          "size": [
           15
          ],
          "sizemode": "area",
          "sizeref": 0.3611111111111111,
          "symbol": "circle"
         },
         "mode": "markers",
         "name": "NON-DAIRY BEVERAGES",
         "orientation": "v",
         "showlegend": true,
         "type": "scatter",
         "x": [
          31
         ],
         "xaxis": "x",
         "y": [
          76.38000000000001
         ],
         "yaxis": "y"
        },
        {
         "hovertemplate": "<b>%{hovertext}</b><br><br>COMMODITY_DESC=NUTS<br>QUANTITY=%{x}<br>SALES_VALUE=%{y}<br>HOUSEHOLDS=%{marker.size}<extra></extra>",
         "hovertext": [
          "NUTS"
         ],
         "legendgroup": "NUTS",
         "marker": {
          "color": "#8C564B",
          "size": [
           64
          ],
          "sizemode": "area",
          "sizeref": 0.3611111111111111,
          "symbol": "circle"
         },
         "mode": "markers",
         "name": "NUTS",
         "orientation": "v",
         "showlegend": true,
         "type": "scatter",
         "x": [
          98
         ],
         "xaxis": "x",
         "y": [
          378.8300000000004
         ],
         "yaxis": "y"
        },
        {
         "hovertemplate": "<b>%{hovertext}</b><br><br>COMMODITY_DESC=OLIVES<br>QUANTITY=%{x}<br>SALES_VALUE=%{y}<br>HOUSEHOLDS=%{marker.size}<extra></extra>",
         "hovertext": [
          "OLIVES"
         ],
         "legendgroup": "OLIVES",
         "marker": {
          "color": "#E377C2",
          "size": [
           139
          ],
          "sizemode": "area",
          "sizeref": 0.3611111111111111,
          "symbol": "circle"
         },
         "mode": "markers",
         "name": "OLIVES",
         "orientation": "v",
         "showlegend": true,
         "type": "scatter",
         "x": [
          214
         ],
         "xaxis": "x",
         "y": [
          313.78000000000026
         ],
         "yaxis": "y"
        },
        {
         "hovertemplate": "<b>%{hovertext}</b><br><br>COMMODITY_DESC=ONIONS<br>QUANTITY=%{x}<br>SALES_VALUE=%{y}<br>HOUSEHOLDS=%{marker.size}<extra></extra>",
         "hovertext": [
          "ONIONS"
         ],
         "legendgroup": "ONIONS",
         "marker": {
          "color": "#7F7F7F",
          "size": [
           546
          ],
          "sizemode": "area",
          "sizeref": 0.3611111111111111,
          "symbol": "circle"
         },
         "mode": "markers",
         "name": "ONIONS",
         "orientation": "v",
         "showlegend": true,
         "type": "scatter",
         "x": [
          1155
         ],
         "xaxis": "x",
         "y": [
          1336.2900000000054
         ],
         "yaxis": "y"
        },
        {
         "hovertemplate": "<b>%{hovertext}</b><br><br>COMMODITY_DESC=ORAL HYGIENE PRODUCTS<br>QUANTITY=%{x}<br>SALES_VALUE=%{y}<br>HOUSEHOLDS=%{marker.size}<extra></extra>",
         "hovertext": [
          "ORAL HYGIENE PRODUCTS"
         ],
         "legendgroup": "ORAL HYGIENE PRODUCTS",
         "marker": {
          "color": "#BCBD22",
          "size": [
           331
          ],
          "sizemode": "area",
          "sizeref": 0.3611111111111111,
          "symbol": "circle"
         },
         "mode": "markers",
         "name": "ORAL HYGIENE PRODUCTS",
         "orientation": "v",
         "showlegend": true,
         "type": "scatter",
         "x": [
          669
         ],
         "xaxis": "x",
         "y": [
          2135.080000000002
         ],
         "yaxis": "y"
        },
        {
         "hovertemplate": "<b>%{hovertext}</b><br><br>COMMODITY_DESC=ORGANICS FRUIT & VEGETABLES<br>QUANTITY=%{x}<br>SALES_VALUE=%{y}<br>HOUSEHOLDS=%{marker.size}<extra></extra>",
         "hovertext": [
          "ORGANICS FRUIT & VEGETABLES"
         ],
         "legendgroup": "ORGANICS FRUIT & VEGETABLES",
         "marker": {
          "color": "#17BECF",
          "size": [
           185
          ],
          "sizemode": "area",
          "sizeref": 0.3611111111111111,
          "symbol": "circle"
         },
         "mode": "markers",
         "name": "ORGANICS FRUIT & VEGETABLES",
         "orientation": "v",
         "showlegend": true,
         "type": "scatter",
         "x": [
          343
         ],
         "xaxis": "x",
         "y": [
          853.6600000000016
         ],
         "yaxis": "y"
        },
        {
         "hovertemplate": "<b>%{hovertext}</b><br><br>COMMODITY_DESC=OVERNIGHT PHOTOFINISHING<br>QUANTITY=%{x}<br>SALES_VALUE=%{y}<br>HOUSEHOLDS=%{marker.size}<extra></extra>",
         "hovertext": [
          "OVERNIGHT PHOTOFINISHING"
         ],
         "legendgroup": "OVERNIGHT PHOTOFINISHING",
         "marker": {
          "color": "#1F77B4",
          "size": [
           10
          ],
          "sizemode": "area",
          "sizeref": 0.3611111111111111,
          "symbol": "circle"
         },
         "mode": "markers",
         "name": "OVERNIGHT PHOTOFINISHING",
         "orientation": "v",
         "showlegend": true,
         "type": "scatter",
         "x": [
          19
         ],
         "xaxis": "x",
         "y": [
          104.79999999999998
         ],
         "yaxis": "y"
        },
        {
         "hovertemplate": "<b>%{hovertext}</b><br><br>COMMODITY_DESC=PACKAGED NATURAL SNACKS<br>QUANTITY=%{x}<br>SALES_VALUE=%{y}<br>HOUSEHOLDS=%{marker.size}<extra></extra>",
         "hovertext": [
          "PACKAGED NATURAL SNACKS"
         ],
         "legendgroup": "PACKAGED NATURAL SNACKS",
         "marker": {
          "color": "#FF7F0E",
          "size": [
           15
          ],
          "sizemode": "area",
          "sizeref": 0.3611111111111111,
          "symbol": "circle"
         },
         "mode": "markers",
         "name": "PACKAGED NATURAL SNACKS",
         "orientation": "v",
         "showlegend": true,
         "type": "scatter",
         "x": [
          19
         ],
         "xaxis": "x",
         "y": [
          32.489999999999995
         ],
         "yaxis": "y"
        },
        {
         "hovertemplate": "<b>%{hovertext}</b><br><br>COMMODITY_DESC=PAPER HOUSEWARES<br>QUANTITY=%{x}<br>SALES_VALUE=%{y}<br>HOUSEHOLDS=%{marker.size}<extra></extra>",
         "hovertext": [
          "PAPER HOUSEWARES"
         ],
         "legendgroup": "PAPER HOUSEWARES",
         "marker": {
          "color": "#2CA02C",
          "size": [
           356
          ],
          "sizemode": "area",
          "sizeref": 0.3611111111111111,
          "symbol": "circle"
         },
         "mode": "markers",
         "name": "PAPER HOUSEWARES",
         "orientation": "v",
         "showlegend": true,
         "type": "scatter",
         "x": [
          827
         ],
         "xaxis": "x",
         "y": [
          1621.1300000000033
         ],
         "yaxis": "y"
        },
        {
         "hovertemplate": "<b>%{hovertext}</b><br><br>COMMODITY_DESC=PAPER TOWELS<br>QUANTITY=%{x}<br>SALES_VALUE=%{y}<br>HOUSEHOLDS=%{marker.size}<extra></extra>",
         "hovertext": [
          "PAPER TOWELS"
         ],
         "legendgroup": "PAPER TOWELS",
         "marker": {
          "color": "#D62728",
          "size": [
           378
          ],
          "sizemode": "area",
          "sizeref": 0.3611111111111111,
          "symbol": "circle"
         },
         "mode": "markers",
         "name": "PAPER TOWELS",
         "orientation": "v",
         "showlegend": true,
         "type": "scatter",
         "x": [
          803
         ],
         "xaxis": "x",
         "y": [
          1734.0500000000077
         ],
         "yaxis": "y"
        },
        {
         "hovertemplate": "<b>%{hovertext}</b><br><br>COMMODITY_DESC=PARTY TRAYS<br>QUANTITY=%{x}<br>SALES_VALUE=%{y}<br>HOUSEHOLDS=%{marker.size}<extra></extra>",
         "hovertext": [
          "PARTY TRAYS"
         ],
         "legendgroup": "PARTY TRAYS",
         "marker": {
          "color": "#9467BD",
          "size": [
           13
          ],
          "sizemode": "area",
          "sizeref": 0.3611111111111111,
          "symbol": "circle"
         },
         "mode": "markers",
         "name": "PARTY TRAYS",
         "orientation": "v",
         "showlegend": true,
         "type": "scatter",
         "x": [
          17
         ],
         "xaxis": "x",
         "y": [
          340.1500000000001
         ],
         "yaxis": "y"
        },
        {
         "hovertemplate": "<b>%{hovertext}</b><br><br>COMMODITY_DESC=PASTA SAUCE<br>QUANTITY=%{x}<br>SALES_VALUE=%{y}<br>HOUSEHOLDS=%{marker.size}<extra></extra>",
         "hovertext": [
          "PASTA SAUCE"
         ],
         "legendgroup": "PASTA SAUCE",
         "marker": {
          "color": "#8C564B",
          "size": [
           467
          ],
          "sizemode": "area",
          "sizeref": 0.3611111111111111,
          "symbol": "circle"
         },
         "mode": "markers",
         "name": "PASTA SAUCE",
         "orientation": "v",
         "showlegend": true,
         "type": "scatter",
         "x": [
          1150
         ],
         "xaxis": "x",
         "y": [
          1864.0299999999982
         ],
         "yaxis": "y"
        },
        {
         "hovertemplate": "<b>%{hovertext}</b><br><br>COMMODITY_DESC=PEARS<br>QUANTITY=%{x}<br>SALES_VALUE=%{y}<br>HOUSEHOLDS=%{marker.size}<extra></extra>",
         "hovertext": [
          "PEARS"
         ],
         "legendgroup": "PEARS",
         "marker": {
          "color": "#E377C2",
          "size": [
           72
          ],
          "sizemode": "area",
          "sizeref": 0.3611111111111111,
          "symbol": "circle"
         },
         "mode": "markers",
         "name": "PEARS",
         "orientation": "v",
         "showlegend": true,
         "type": "scatter",
         "x": [
          87
         ],
         "xaxis": "x",
         "y": [
          182.21
         ],
         "yaxis": "y"
        },
        {
         "hovertemplate": "<b>%{hovertext}</b><br><br>COMMODITY_DESC=PEPPERS-ALL<br>QUANTITY=%{x}<br>SALES_VALUE=%{y}<br>HOUSEHOLDS=%{marker.size}<extra></extra>",
         "hovertext": [
          "PEPPERS-ALL"
         ],
         "legendgroup": "PEPPERS-ALL",
         "marker": {
          "color": "#7F7F7F",
          "size": [
           349
          ],
          "sizemode": "area",
          "sizeref": 0.3611111111111111,
          "symbol": "circle"
         },
         "mode": "markers",
         "name": "PEPPERS-ALL",
         "orientation": "v",
         "showlegend": true,
         "type": "scatter",
         "x": [
          831
         ],
         "xaxis": "x",
         "y": [
          1051.7700000000007
         ],
         "yaxis": "y"
        },
        {
         "hovertemplate": "<b>%{hovertext}</b><br><br>COMMODITY_DESC=PERSONAL CARE APPLIANCES<br>QUANTITY=%{x}<br>SALES_VALUE=%{y}<br>HOUSEHOLDS=%{marker.size}<extra></extra>",
         "hovertext": [
          "PERSONAL CARE APPLIANCES"
         ],
         "legendgroup": "PERSONAL CARE APPLIANCES",
         "marker": {
          "color": "#BCBD22",
          "size": [
           11
          ],
          "sizemode": "area",
          "sizeref": 0.3611111111111111,
          "symbol": "circle"
         },
         "mode": "markers",
         "name": "PERSONAL CARE APPLIANCES",
         "orientation": "v",
         "showlegend": true,
         "type": "scatter",
         "x": [
          11
         ],
         "xaxis": "x",
         "y": [
          162.69000000000003
         ],
         "yaxis": "y"
        },
        {
         "hovertemplate": "<b>%{hovertext}</b><br><br>COMMODITY_DESC=PET CARE SUPPLIES<br>QUANTITY=%{x}<br>SALES_VALUE=%{y}<br>HOUSEHOLDS=%{marker.size}<extra></extra>",
         "hovertext": [
          "PET CARE SUPPLIES"
         ],
         "legendgroup": "PET CARE SUPPLIES",
         "marker": {
          "color": "#17BECF",
          "size": [
           118
          ],
          "sizemode": "area",
          "sizeref": 0.3611111111111111,
          "symbol": "circle"
         },
         "mode": "markers",
         "name": "PET CARE SUPPLIES",
         "orientation": "v",
         "showlegend": true,
         "type": "scatter",
         "x": [
          217
         ],
         "xaxis": "x",
         "y": [
          769.8300000000006
         ],
         "yaxis": "y"
        },
        {
         "hovertemplate": "<b>%{hovertext}</b><br><br>COMMODITY_DESC=PICKLE/RELISH/PKLD VEG<br>QUANTITY=%{x}<br>SALES_VALUE=%{y}<br>HOUSEHOLDS=%{marker.size}<extra></extra>",
         "hovertext": [
          "PICKLE/RELISH/PKLD VEG"
         ],
         "legendgroup": "PICKLE/RELISH/PKLD VEG",
         "marker": {
          "color": "#1F77B4",
          "size": [
           299
          ],
          "sizemode": "area",
          "sizeref": 0.3611111111111111,
          "symbol": "circle"
         },
         "mode": "markers",
         "name": "PICKLE/RELISH/PKLD VEG",
         "orientation": "v",
         "showlegend": true,
         "type": "scatter",
         "x": [
          506
         ],
         "xaxis": "x",
         "y": [
          990.2500000000016
         ],
         "yaxis": "y"
        },
        {
         "hovertemplate": "<b>%{hovertext}</b><br><br>COMMODITY_DESC=PIES<br>QUANTITY=%{x}<br>SALES_VALUE=%{y}<br>HOUSEHOLDS=%{marker.size}<extra></extra>",
         "hovertext": [
          "PIES"
         ],
         "legendgroup": "PIES",
         "marker": {
          "color": "#FF7F0E",
          "size": [
           92
          ],
          "sizemode": "area",
          "sizeref": 0.3611111111111111,
          "symbol": "circle"
         },
         "mode": "markers",
         "name": "PIES",
         "orientation": "v",
         "showlegend": true,
         "type": "scatter",
         "x": [
          145
         ],
         "xaxis": "x",
         "y": [
          567.6600000000009
         ],
         "yaxis": "y"
        },
        {
         "hovertemplate": "<b>%{hovertext}</b><br><br>COMMODITY_DESC=PLASTIC HOUSEWARES<br>QUANTITY=%{x}<br>SALES_VALUE=%{y}<br>HOUSEHOLDS=%{marker.size}<extra></extra>",
         "hovertext": [
          "PLASTIC HOUSEWARES"
         ],
         "legendgroup": "PLASTIC HOUSEWARES",
         "marker": {
          "color": "#2CA02C",
          "size": [
           134
          ],
          "sizemode": "area",
          "sizeref": 0.3611111111111111,
          "symbol": "circle"
         },
         "mode": "markers",
         "name": "PLASTIC HOUSEWARES",
         "orientation": "v",
         "showlegend": true,
         "type": "scatter",
         "x": [
          253
         ],
         "xaxis": "x",
         "y": [
          551.3800000000003
         ],
         "yaxis": "y"
        },
        {
         "hovertemplate": "<b>%{hovertext}</b><br><br>COMMODITY_DESC=PNT BTR/JELLY/JAMS<br>QUANTITY=%{x}<br>SALES_VALUE=%{y}<br>HOUSEHOLDS=%{marker.size}<extra></extra>",
         "hovertext": [
          "PNT BTR/JELLY/JAMS"
         ],
         "legendgroup": "PNT BTR/JELLY/JAMS",
         "marker": {
          "color": "#D62728",
          "size": [
           444
          ],
          "sizemode": "area",
          "sizeref": 0.3611111111111111,
          "symbol": "circle"
         },
         "mode": "markers",
         "name": "PNT BTR/JELLY/JAMS",
         "orientation": "v",
         "showlegend": true,
         "type": "scatter",
         "x": [
          922
         ],
         "xaxis": "x",
         "y": [
          2156.020000000004
         ],
         "yaxis": "y"
        },
        {
         "hovertemplate": "<b>%{hovertext}</b><br><br>COMMODITY_DESC=POPCORN<br>QUANTITY=%{x}<br>SALES_VALUE=%{y}<br>HOUSEHOLDS=%{marker.size}<extra></extra>",
         "hovertext": [
          "POPCORN"
         ],
         "legendgroup": "POPCORN",
         "marker": {
          "color": "#9467BD",
          "size": [
           160
          ],
          "sizemode": "area",
          "sizeref": 0.3611111111111111,
          "symbol": "circle"
         },
         "mode": "markers",
         "name": "POPCORN",
         "orientation": "v",
         "showlegend": true,
         "type": "scatter",
         "x": [
          248
         ],
         "xaxis": "x",
         "y": [
          573.9300000000009
         ],
         "yaxis": "y"
        },
        {
         "hovertemplate": "<b>%{hovertext}</b><br><br>COMMODITY_DESC=PORK<br>QUANTITY=%{x}<br>SALES_VALUE=%{y}<br>HOUSEHOLDS=%{marker.size}<extra></extra>",
         "hovertext": [
          "PORK"
         ],
         "legendgroup": "PORK",
         "marker": {
          "color": "#8C564B",
          "size": [
           498
          ],
          "sizemode": "area",
          "sizeref": 0.3611111111111111,
          "symbol": "circle"
         },
         "mode": "markers",
         "name": "PORK",
         "orientation": "v",
         "showlegend": true,
         "type": "scatter",
         "x": [
          1146
         ],
         "xaxis": "x",
         "y": [
          5741.709999999993
         ],
         "yaxis": "y"
        },
        {
         "hovertemplate": "<b>%{hovertext}</b><br><br>COMMODITY_DESC=PORTABLE ELECTRIC APPLIANCES<br>QUANTITY=%{x}<br>SALES_VALUE=%{y}<br>HOUSEHOLDS=%{marker.size}<extra></extra>",
         "hovertext": [
          "PORTABLE ELECTRIC APPLIANCES"
         ],
         "legendgroup": "PORTABLE ELECTRIC APPLIANCES",
         "marker": {
          "color": "#E377C2",
          "size": [
           4
          ],
          "sizemode": "area",
          "sizeref": 0.3611111111111111,
          "symbol": "circle"
         },
         "mode": "markers",
         "name": "PORTABLE ELECTRIC APPLIANCES",
         "orientation": "v",
         "showlegend": true,
         "type": "scatter",
         "x": [
          4
         ],
         "xaxis": "x",
         "y": [
          39.96
         ],
         "yaxis": "y"
        },
        {
         "hovertemplate": "<b>%{hovertext}</b><br><br>COMMODITY_DESC=POTATOES<br>QUANTITY=%{x}<br>SALES_VALUE=%{y}<br>HOUSEHOLDS=%{marker.size}<extra></extra>",
         "hovertext": [
          "POTATOES"
         ],
         "legendgroup": "POTATOES",
         "marker": {
          "color": "#7F7F7F",
          "size": [
           533
          ],
          "sizemode": "area",
          "sizeref": 0.3611111111111111,
          "symbol": "circle"
         },
         "mode": "markers",
         "name": "POTATOES",
         "orientation": "v",
         "showlegend": true,
         "type": "scatter",
         "x": [
          1024
         ],
         "xaxis": "x",
         "y": [
          1928.9800000000032
         ],
         "yaxis": "y"
        },
        {
         "hovertemplate": "<b>%{hovertext}</b><br><br>COMMODITY_DESC=PREPAID WIRELESS&ACCESSORIES<br>QUANTITY=%{x}<br>SALES_VALUE=%{y}<br>HOUSEHOLDS=%{marker.size}<extra></extra>",
         "hovertext": [
          "PREPAID WIRELESS&ACCESSORIES"
         ],
         "legendgroup": "PREPAID WIRELESS&ACCESSORIES",
         "marker": {
          "color": "#BCBD22",
          "size": [
           42
          ],
          "sizemode": "area",
          "sizeref": 0.3611111111111111,
          "symbol": "circle"
         },
         "mode": "markers",
         "name": "PREPAID WIRELESS&ACCESSORIES",
         "orientation": "v",
         "showlegend": true,
         "type": "scatter",
         "x": [
          88
         ],
         "xaxis": "x",
         "y": [
          1511.8400000000001
         ],
         "yaxis": "y"
        },
        {
         "hovertemplate": "<b>%{hovertext}</b><br><br>COMMODITY_DESC=PREPARED FOOD<br>QUANTITY=%{x}<br>SALES_VALUE=%{y}<br>HOUSEHOLDS=%{marker.size}<extra></extra>",
         "hovertext": [
          "PREPARED FOOD"
         ],
         "legendgroup": "PREPARED FOOD",
         "marker": {
          "color": "#17BECF",
          "size": [
           159
          ],
          "sizemode": "area",
          "sizeref": 0.3611111111111111,
          "symbol": "circle"
         },
         "mode": "markers",
         "name": "PREPARED FOOD",
         "orientation": "v",
         "showlegend": true,
         "type": "scatter",
         "x": [
          353
         ],
         "xaxis": "x",
         "y": [
          1205.1899999999996
         ],
         "yaxis": "y"
        },
        {
         "hovertemplate": "<b>%{hovertext}</b><br><br>COMMODITY_DESC=PREPARED/PKGD FOODS<br>QUANTITY=%{x}<br>SALES_VALUE=%{y}<br>HOUSEHOLDS=%{marker.size}<extra></extra>",
         "hovertext": [
          "PREPARED/PKGD FOODS"
         ],
         "legendgroup": "PREPARED/PKGD FOODS",
         "marker": {
          "color": "#1F77B4",
          "size": [
           19
          ],
          "sizemode": "area",
          "sizeref": 0.3611111111111111,
          "symbol": "circle"
         },
         "mode": "markers",
         "name": "PREPARED/PKGD FOODS",
         "orientation": "v",
         "showlegend": true,
         "type": "scatter",
         "x": [
          55
         ],
         "xaxis": "x",
         "y": [
          124.75000000000001
         ],
         "yaxis": "y"
        },
        {
         "hovertemplate": "<b>%{hovertext}</b><br><br>COMMODITY_DESC=PROCESSED<br>QUANTITY=%{x}<br>SALES_VALUE=%{y}<br>HOUSEHOLDS=%{marker.size}<extra></extra>",
         "hovertext": [
          "PROCESSED"
         ],
         "legendgroup": "PROCESSED",
         "marker": {
          "color": "#FF7F0E",
          "size": [
           194
          ],
          "sizemode": "area",
          "sizeref": 0.3611111111111111,
          "symbol": "circle"
         },
         "mode": "markers",
         "name": "PROCESSED",
         "orientation": "v",
         "showlegend": true,
         "type": "scatter",
         "x": [
          300
         ],
         "xaxis": "x",
         "y": [
          767.900000000001
         ],
         "yaxis": "y"
        },
        {
         "hovertemplate": "<b>%{hovertext}</b><br><br>COMMODITY_DESC=PROD SUPPLIES<br>QUANTITY=%{x}<br>SALES_VALUE=%{y}<br>HOUSEHOLDS=%{marker.size}<extra></extra>",
         "hovertext": [
          "PROD SUPPLIES"
         ],
         "legendgroup": "PROD SUPPLIES",
         "marker": {
          "color": "#2CA02C",
          "size": [
           5
          ],
          "sizemode": "area",
          "sizeref": 0.3611111111111111,
          "symbol": "circle"
         },
         "mode": "markers",
         "name": "PROD SUPPLIES",
         "orientation": "v",
         "showlegend": true,
         "type": "scatter",
         "x": [
          4
         ],
         "xaxis": "x",
         "y": [
          42.2
         ],
         "yaxis": "y"
        },
        {
         "hovertemplate": "<b>%{hovertext}</b><br><br>COMMODITY_DESC=PROPANE<br>QUANTITY=%{x}<br>SALES_VALUE=%{y}<br>HOUSEHOLDS=%{marker.size}<extra></extra>",
         "hovertext": [
          "PROPANE"
         ],
         "legendgroup": "PROPANE",
         "marker": {
          "color": "#D62728",
          "size": [
           7
          ],
          "sizemode": "area",
          "sizeref": 0.3611111111111111,
          "symbol": "circle"
         },
         "mode": "markers",
         "name": "PROPANE",
         "orientation": "v",
         "showlegend": true,
         "type": "scatter",
         "x": [
          8
         ],
         "xaxis": "x",
         "y": [
          153.92
         ],
         "yaxis": "y"
        },
        {
         "hovertemplate": "<b>%{hovertext}</b><br><br>COMMODITY_DESC=PWDR/CRYSTL DRNK MX<br>QUANTITY=%{x}<br>SALES_VALUE=%{y}<br>HOUSEHOLDS=%{marker.size}<extra></extra>",
         "hovertext": [
          "PWDR/CRYSTL DRNK MX"
         ],
         "legendgroup": "PWDR/CRYSTL DRNK MX",
         "marker": {
          "color": "#9467BD",
          "size": [
           280
          ],
          "sizemode": "area",
          "sizeref": 0.3611111111111111,
          "symbol": "circle"
         },
         "mode": "markers",
         "name": "PWDR/CRYSTL DRNK MX",
         "orientation": "v",
         "showlegend": true,
         "type": "scatter",
         "x": [
          2148
         ],
         "xaxis": "x",
         "y": [
          1164.050000000002
         ],
         "yaxis": "y"
        },
        {
         "hovertemplate": "<b>%{hovertext}</b><br><br>COMMODITY_DESC=QUICK SERVICE<br>QUANTITY=%{x}<br>SALES_VALUE=%{y}<br>HOUSEHOLDS=%{marker.size}<extra></extra>",
         "hovertext": [
          "QUICK SERVICE"
         ],
         "legendgroup": "QUICK SERVICE",
         "marker": {
          "color": "#8C564B",
          "size": [
           6
          ],
          "sizemode": "area",
          "sizeref": 0.3611111111111111,
          "symbol": "circle"
         },
         "mode": "markers",
         "name": "QUICK SERVICE",
         "orientation": "v",
         "showlegend": true,
         "type": "scatter",
         "x": [
          7
         ],
         "xaxis": "x",
         "y": [
          38.050000000000004
         ],
         "yaxis": "y"
        },
        {
         "hovertemplate": "<b>%{hovertext}</b><br><br>COMMODITY_DESC=REFRGRATD DOUGH PRODUCTS<br>QUANTITY=%{x}<br>SALES_VALUE=%{y}<br>HOUSEHOLDS=%{marker.size}<extra></extra>",
         "hovertext": [
          "REFRGRATD DOUGH PRODUCTS"
         ],
         "legendgroup": "REFRGRATD DOUGH PRODUCTS",
         "marker": {
          "color": "#E377C2",
          "size": [
           420
          ],
          "sizemode": "area",
          "sizeref": 0.3611111111111111,
          "symbol": "circle"
         },
         "mode": "markers",
         "name": "REFRGRATD DOUGH PRODUCTS",
         "orientation": "v",
         "showlegend": true,
         "type": "scatter",
         "x": [
          1236
         ],
         "xaxis": "x",
         "y": [
          2165.3700000000026
         ],
         "yaxis": "y"
        },
        {
         "hovertemplate": "<b>%{hovertext}</b><br><br>COMMODITY_DESC=REFRGRATD JUICES/DRNKS<br>QUANTITY=%{x}<br>SALES_VALUE=%{y}<br>HOUSEHOLDS=%{marker.size}<extra></extra>",
         "hovertext": [
          "REFRGRATD JUICES/DRNKS"
         ],
         "legendgroup": "REFRGRATD JUICES/DRNKS",
         "marker": {
          "color": "#7F7F7F",
          "size": [
           773
          ],
          "sizemode": "area",
          "sizeref": 0.3611111111111111,
          "symbol": "circle"
         },
         "mode": "markers",
         "name": "REFRGRATD JUICES/DRNKS",
         "orientation": "v",
         "showlegend": true,
         "type": "scatter",
         "x": [
          2650
         ],
         "xaxis": "x",
         "y": [
          4534.27999999994
         ],
         "yaxis": "y"
        },
        {
         "hovertemplate": "<b>%{hovertext}</b><br><br>COMMODITY_DESC=REFRIGERATED<br>QUANTITY=%{x}<br>SALES_VALUE=%{y}<br>HOUSEHOLDS=%{marker.size}<extra></extra>",
         "hovertext": [
          "REFRIGERATED"
         ],
         "legendgroup": "REFRIGERATED",
         "marker": {
          "color": "#BCBD22",
          "size": [
           144
          ],
          "sizemode": "area",
          "sizeref": 0.3611111111111111,
          "symbol": "circle"
         },
         "mode": "markers",
         "name": "REFRIGERATED",
         "orientation": "v",
         "showlegend": true,
         "type": "scatter",
         "x": [
          615
         ],
         "xaxis": "x",
         "y": [
          1319.7800000000018
         ],
         "yaxis": "y"
        },
        {
         "hovertemplate": "<b>%{hovertext}</b><br><br>COMMODITY_DESC=RESTRICTED DIET<br>QUANTITY=%{x}<br>SALES_VALUE=%{y}<br>HOUSEHOLDS=%{marker.size}<extra></extra>",
         "hovertext": [
          "RESTRICTED DIET"
         ],
         "legendgroup": "RESTRICTED DIET",
         "marker": {
          "color": "#17BECF",
          "size": [
           2
          ],
          "sizemode": "area",
          "sizeref": 0.3611111111111111,
          "symbol": "circle"
         },
         "mode": "markers",
         "name": "RESTRICTED DIET",
         "orientation": "v",
         "showlegend": true,
         "type": "scatter",
         "x": [
          2
         ],
         "xaxis": "x",
         "y": [
          6.28
         ],
         "yaxis": "y"
        },
        {
         "hovertemplate": "<b>%{hovertext}</b><br><br>COMMODITY_DESC=RICE CAKES<br>QUANTITY=%{x}<br>SALES_VALUE=%{y}<br>HOUSEHOLDS=%{marker.size}<extra></extra>",
         "hovertext": [
          "RICE CAKES"
         ],
         "legendgroup": "RICE CAKES",
         "marker": {
          "color": "#1F77B4",
          "size": [
           37
          ],
          "sizemode": "area",
          "sizeref": 0.3611111111111111,
          "symbol": "circle"
         },
         "mode": "markers",
         "name": "RICE CAKES",
         "orientation": "v",
         "showlegend": true,
         "type": "scatter",
         "x": [
          79
         ],
         "xaxis": "x",
         "y": [
          179.82999999999996
         ],
         "yaxis": "y"
        },
        {
         "hovertemplate": "<b>%{hovertext}</b><br><br>COMMODITY_DESC=ROLLS<br>QUANTITY=%{x}<br>SALES_VALUE=%{y}<br>HOUSEHOLDS=%{marker.size}<extra></extra>",
         "hovertext": [
          "ROLLS"
         ],
         "legendgroup": "ROLLS",
         "marker": {
          "color": "#FF7F0E",
          "size": [
           201
          ],
          "sizemode": "area",
          "sizeref": 0.3611111111111111,
          "symbol": "circle"
         },
         "mode": "markers",
         "name": "ROLLS",
         "orientation": "v",
         "showlegend": true,
         "type": "scatter",
         "x": [
          520
         ],
         "xaxis": "x",
         "y": [
          652.8100000000014
         ],
         "yaxis": "y"
        },
        {
         "hovertemplate": "<b>%{hovertext}</b><br><br>COMMODITY_DESC=ROSES<br>QUANTITY=%{x}<br>SALES_VALUE=%{y}<br>HOUSEHOLDS=%{marker.size}<extra></extra>",
         "hovertext": [
          "ROSES"
         ],
         "legendgroup": "ROSES",
         "marker": {
          "color": "#2CA02C",
          "size": [
           34
          ],
          "sizemode": "area",
          "sizeref": 0.3611111111111111,
          "symbol": "circle"
         },
         "mode": "markers",
         "name": "ROSES",
         "orientation": "v",
         "showlegend": true,
         "type": "scatter",
         "x": [
          42
         ],
         "xaxis": "x",
         "y": [
          497.69000000000017
         ],
         "yaxis": "y"
        },
        {
         "hovertemplate": "<b>%{hovertext}</b><br><br>COMMODITY_DESC=RW FRESH PROCESSED MEAT<br>QUANTITY=%{x}<br>SALES_VALUE=%{y}<br>HOUSEHOLDS=%{marker.size}<extra></extra>",
         "hovertext": [
          "RW FRESH PROCESSED MEAT"
         ],
         "legendgroup": "RW FRESH PROCESSED MEAT",
         "marker": {
          "color": "#D62728",
          "size": [
           2
          ],
          "sizemode": "area",
          "sizeref": 0.3611111111111111,
          "symbol": "circle"
         },
         "mode": "markers",
         "name": "RW FRESH PROCESSED MEAT",
         "orientation": "v",
         "showlegend": true,
         "type": "scatter",
         "x": [
          3
         ],
         "xaxis": "x",
         "y": [
          3.79
         ],
         "yaxis": "y"
        },
        {
         "hovertemplate": "<b>%{hovertext}</b><br><br>COMMODITY_DESC=SALAD BAR<br>QUANTITY=%{x}<br>SALES_VALUE=%{y}<br>HOUSEHOLDS=%{marker.size}<extra></extra>",
         "hovertext": [
          "SALAD BAR"
         ],
         "legendgroup": "SALAD BAR",
         "marker": {
          "color": "#9467BD",
          "size": [
           281
          ],
          "sizemode": "area",
          "sizeref": 0.3611111111111111,
          "symbol": "circle"
         },
         "mode": "markers",
         "name": "SALAD BAR",
         "orientation": "v",
         "showlegend": true,
         "type": "scatter",
         "x": [
          773
         ],
         "xaxis": "x",
         "y": [
          2358.3199999999956
         ],
         "yaxis": "y"
        },
        {
         "hovertemplate": "<b>%{hovertext}</b><br><br>COMMODITY_DESC=SALAD MIX<br>QUANTITY=%{x}<br>SALES_VALUE=%{y}<br>HOUSEHOLDS=%{marker.size}<extra></extra>",
         "hovertext": [
          "SALAD MIX"
         ],
         "legendgroup": "SALAD MIX",
         "marker": {
          "color": "#8C564B",
          "size": [
           495
          ],
          "sizemode": "area",
          "sizeref": 0.3611111111111111,
          "symbol": "circle"
         },
         "mode": "markers",
         "name": "SALAD MIX",
         "orientation": "v",
         "showlegend": true,
         "type": "scatter",
         "x": [
          1169
         ],
         "xaxis": "x",
         "y": [
          2637.399999999995
         ],
         "yaxis": "y"
        },
        {
         "hovertemplate": "<b>%{hovertext}</b><br><br>COMMODITY_DESC=SALADS/DIPS<br>QUANTITY=%{x}<br>SALES_VALUE=%{y}<br>HOUSEHOLDS=%{marker.size}<extra></extra>",
         "hovertext": [
          "SALADS/DIPS"
         ],
         "legendgroup": "SALADS/DIPS",
         "marker": {
          "color": "#E377C2",
          "size": [
           296
          ],
          "sizemode": "area",
          "sizeref": 0.3611111111111111,
          "symbol": "circle"
         },
         "mode": "markers",
         "name": "SALADS/DIPS",
         "orientation": "v",
         "showlegend": true,
         "type": "scatter",
         "x": [
          599
         ],
         "xaxis": "x",
         "y": [
          1755.4200000000028
         ],
         "yaxis": "y"
        },
        {
         "hovertemplate": "<b>%{hovertext}</b><br><br>COMMODITY_DESC=SALD DRSNG/SNDWCH SPRD<br>QUANTITY=%{x}<br>SALES_VALUE=%{y}<br>HOUSEHOLDS=%{marker.size}<extra></extra>",
         "hovertext": [
          "SALD DRSNG/SNDWCH SPRD"
         ],
         "legendgroup": "SALD DRSNG/SNDWCH SPRD",
         "marker": {
          "color": "#7F7F7F",
          "size": [
           722
          ],
          "sizemode": "area",
          "sizeref": 0.3611111111111111,
          "symbol": "circle"
         },
         "mode": "markers",
         "name": "SALD DRSNG/SNDWCH SPRD",
         "orientation": "v",
         "showlegend": true,
         "type": "scatter",
         "x": [
          1680
         ],
         "xaxis": "x",
         "y": [
          3399.099999999989
         ],
         "yaxis": "y"
        },
        {
         "hovertemplate": "<b>%{hovertext}</b><br><br>COMMODITY_DESC=SANDWICHES<br>QUANTITY=%{x}<br>SALES_VALUE=%{y}<br>HOUSEHOLDS=%{marker.size}<extra></extra>",
         "hovertext": [
          "SANDWICHES"
         ],
         "legendgroup": "SANDWICHES",
         "marker": {
          "color": "#BCBD22",
          "size": [
           39
          ],
          "sizemode": "area",
          "sizeref": 0.3611111111111111,
          "symbol": "circle"
         },
         "mode": "markers",
         "name": "SANDWICHES",
         "orientation": "v",
         "showlegend": true,
         "type": "scatter",
         "x": [
          88
         ],
         "xaxis": "x",
         "y": [
          304.62000000000023
         ],
         "yaxis": "y"
        },
        {
         "hovertemplate": "<b>%{hovertext}</b><br><br>COMMODITY_DESC=SEAFOOD - FROZEN<br>QUANTITY=%{x}<br>SALES_VALUE=%{y}<br>HOUSEHOLDS=%{marker.size}<extra></extra>",
         "hovertext": [
          "SEAFOOD - FROZEN"
         ],
         "legendgroup": "SEAFOOD - FROZEN",
         "marker": {
          "color": "#17BECF",
          "size": [
           307
          ],
          "sizemode": "area",
          "sizeref": 0.3611111111111111,
          "symbol": "circle"
         },
         "mode": "markers",
         "name": "SEAFOOD - FROZEN",
         "orientation": "v",
         "showlegend": true,
         "type": "scatter",
         "x": [
          602
         ],
         "xaxis": "x",
         "y": [
          3291.0499999999874
         ],
         "yaxis": "y"
        },
        {
         "hovertemplate": "<b>%{hovertext}</b><br><br>COMMODITY_DESC=SEAFOOD - MISC<br>QUANTITY=%{x}<br>SALES_VALUE=%{y}<br>HOUSEHOLDS=%{marker.size}<extra></extra>",
         "hovertext": [
          "SEAFOOD - MISC"
         ],
         "legendgroup": "SEAFOOD - MISC",
         "marker": {
          "color": "#1F77B4",
          "size": [
           65
          ],
          "sizemode": "area",
          "sizeref": 0.3611111111111111,
          "symbol": "circle"
         },
         "mode": "markers",
         "name": "SEAFOOD - MISC",
         "orientation": "v",
         "showlegend": true,
         "type": "scatter",
         "x": [
          79
         ],
         "xaxis": "x",
         "y": [
          136.32000000000002
         ],
         "yaxis": "y"
        },
        {
         "hovertemplate": "<b>%{hovertext}</b><br><br>COMMODITY_DESC=SEAFOOD - SHELF STABLE<br>QUANTITY=%{x}<br>SALES_VALUE=%{y}<br>HOUSEHOLDS=%{marker.size}<extra></extra>",
         "hovertext": [
          "SEAFOOD - SHELF STABLE"
         ],
         "legendgroup": "SEAFOOD - SHELF STABLE",
         "marker": {
          "color": "#FF7F0E",
          "size": [
           319
          ],
          "sizemode": "area",
          "sizeref": 0.3611111111111111,
          "symbol": "circle"
         },
         "mode": "markers",
         "name": "SEAFOOD - SHELF STABLE",
         "orientation": "v",
         "showlegend": true,
         "type": "scatter",
         "x": [
          1313
         ],
         "xaxis": "x",
         "y": [
          1521.870000000001
         ],
         "yaxis": "y"
        },
        {
         "hovertemplate": "<b>%{hovertext}</b><br><br>COMMODITY_DESC=SEAFOOD-FRESH<br>QUANTITY=%{x}<br>SALES_VALUE=%{y}<br>HOUSEHOLDS=%{marker.size}<extra></extra>",
         "hovertext": [
          "SEAFOOD-FRESH"
         ],
         "legendgroup": "SEAFOOD-FRESH",
         "marker": {
          "color": "#2CA02C",
          "size": [
           166
          ],
          "sizemode": "area",
          "sizeref": 0.3611111111111111,
          "symbol": "circle"
         },
         "mode": "markers",
         "name": "SEAFOOD-FRESH",
         "orientation": "v",
         "showlegend": true,
         "type": "scatter",
         "x": [
          342
         ],
         "xaxis": "x",
         "y": [
          1599.9700000000005
         ],
         "yaxis": "y"
        },
        {
         "hovertemplate": "<b>%{hovertext}</b><br><br>COMMODITY_DESC=SERVICE BEVERAGE<br>QUANTITY=%{x}<br>SALES_VALUE=%{y}<br>HOUSEHOLDS=%{marker.size}<extra></extra>",
         "hovertext": [
          "SERVICE BEVERAGE"
         ],
         "legendgroup": "SERVICE BEVERAGE",
         "marker": {
          "color": "#D62728",
          "size": [
           18
          ],
          "sizemode": "area",
          "sizeref": 0.3611111111111111,
          "symbol": "circle"
         },
         "mode": "markers",
         "name": "SERVICE BEVERAGE",
         "orientation": "v",
         "showlegend": true,
         "type": "scatter",
         "x": [
          49
         ],
         "xaxis": "x",
         "y": [
          46.91
         ],
         "yaxis": "y"
        },
        {
         "hovertemplate": "<b>%{hovertext}</b><br><br>COMMODITY_DESC=SEWING<br>QUANTITY=%{x}<br>SALES_VALUE=%{y}<br>HOUSEHOLDS=%{marker.size}<extra></extra>",
         "hovertext": [
          "SEWING"
         ],
         "legendgroup": "SEWING",
         "marker": {
          "color": "#9467BD",
          "size": [
           5
          ],
          "sizemode": "area",
          "sizeref": 0.3611111111111111,
          "symbol": "circle"
         },
         "mode": "markers",
         "name": "SEWING",
         "orientation": "v",
         "showlegend": true,
         "type": "scatter",
         "x": [
          8
         ],
         "xaxis": "x",
         "y": [
          54.04
         ],
         "yaxis": "y"
        },
        {
         "hovertemplate": "<b>%{hovertext}</b><br><br>COMMODITY_DESC=SHAVING CARE PRODUCTS<br>QUANTITY=%{x}<br>SALES_VALUE=%{y}<br>HOUSEHOLDS=%{marker.size}<extra></extra>",
         "hovertext": [
          "SHAVING CARE PRODUCTS"
         ],
         "legendgroup": "SHAVING CARE PRODUCTS",
         "marker": {
          "color": "#8C564B",
          "size": [
           163
          ],
          "sizemode": "area",
          "sizeref": 0.3611111111111111,
          "symbol": "circle"
         },
         "mode": "markers",
         "name": "SHAVING CARE PRODUCTS",
         "orientation": "v",
         "showlegend": true,
         "type": "scatter",
         "x": [
          260
         ],
         "xaxis": "x",
         "y": [
          1379.3100000000009
         ],
         "yaxis": "y"
        },
        {
         "hovertemplate": "<b>%{hovertext}</b><br><br>COMMODITY_DESC=SHOE CARE<br>QUANTITY=%{x}<br>SALES_VALUE=%{y}<br>HOUSEHOLDS=%{marker.size}<extra></extra>",
         "hovertext": [
          "SHOE CARE"
         ],
         "legendgroup": "SHOE CARE",
         "marker": {
          "color": "#E377C2",
          "size": [
           14
          ],
          "sizemode": "area",
          "sizeref": 0.3611111111111111,
          "symbol": "circle"
         },
         "mode": "markers",
         "name": "SHOE CARE",
         "orientation": "v",
         "showlegend": true,
         "type": "scatter",
         "x": [
          15
         ],
         "xaxis": "x",
         "y": [
          38.8
         ],
         "yaxis": "y"
        },
        {
         "hovertemplate": "<b>%{hovertext}</b><br><br>COMMODITY_DESC=SHORTENING/OIL<br>QUANTITY=%{x}<br>SALES_VALUE=%{y}<br>HOUSEHOLDS=%{marker.size}<extra></extra>",
         "hovertext": [
          "SHORTENING/OIL"
         ],
         "legendgroup": "SHORTENING/OIL",
         "marker": {
          "color": "#7F7F7F",
          "size": [
           368
          ],
          "sizemode": "area",
          "sizeref": 0.3611111111111111,
          "symbol": "circle"
         },
         "mode": "markers",
         "name": "SHORTENING/OIL",
         "orientation": "v",
         "showlegend": true,
         "type": "scatter",
         "x": [
          573
         ],
         "xaxis": "x",
         "y": [
          1606.650000000004
         ],
         "yaxis": "y"
        },
        {
         "hovertemplate": "<b>%{hovertext}</b><br><br>COMMODITY_DESC=SINUS AND ALLERGY<br>QUANTITY=%{x}<br>SALES_VALUE=%{y}<br>HOUSEHOLDS=%{marker.size}<extra></extra>",
         "hovertext": [
          "SINUS AND ALLERGY"
         ],
         "legendgroup": "SINUS AND ALLERGY",
         "marker": {
          "color": "#BCBD22",
          "size": [
           97
          ],
          "sizemode": "area",
          "sizeref": 0.3611111111111111,
          "symbol": "circle"
         },
         "mode": "markers",
         "name": "SINUS AND ALLERGY",
         "orientation": "v",
         "showlegend": true,
         "type": "scatter",
         "x": [
          127
         ],
         "xaxis": "x",
         "y": [
          838.7900000000009
         ],
         "yaxis": "y"
        },
        {
         "hovertemplate": "<b>%{hovertext}</b><br><br>COMMODITY_DESC=SMOKED MEATS<br>QUANTITY=%{x}<br>SALES_VALUE=%{y}<br>HOUSEHOLDS=%{marker.size}<extra></extra>",
         "hovertext": [
          "SMOKED MEATS"
         ],
         "legendgroup": "SMOKED MEATS",
         "marker": {
          "color": "#17BECF",
          "size": [
           140
          ],
          "sizemode": "area",
          "sizeref": 0.3611111111111111,
          "symbol": "circle"
         },
         "mode": "markers",
         "name": "SMOKED MEATS",
         "orientation": "v",
         "showlegend": true,
         "type": "scatter",
         "x": [
          211
         ],
         "xaxis": "x",
         "y": [
          1058.1700000000008
         ],
         "yaxis": "y"
        },
        {
         "hovertemplate": "<b>%{hovertext}</b><br><br>COMMODITY_DESC=SMOKING CESSATIONS<br>QUANTITY=%{x}<br>SALES_VALUE=%{y}<br>HOUSEHOLDS=%{marker.size}<extra></extra>",
         "hovertext": [
          "SMOKING CESSATIONS"
         ],
         "legendgroup": "SMOKING CESSATIONS",
         "marker": {
          "color": "#1F77B4",
          "size": [
           3
          ],
          "sizemode": "area",
          "sizeref": 0.3611111111111111,
          "symbol": "circle"
         },
         "mode": "markers",
         "name": "SMOKING CESSATIONS",
         "orientation": "v",
         "showlegend": true,
         "type": "scatter",
         "x": [
          11
         ],
         "xaxis": "x",
         "y": [
          391.17
         ],
         "yaxis": "y"
        },
        {
         "hovertemplate": "<b>%{hovertext}</b><br><br>COMMODITY_DESC=SNACK NUTS<br>QUANTITY=%{x}<br>SALES_VALUE=%{y}<br>HOUSEHOLDS=%{marker.size}<extra></extra>",
         "hovertext": [
          "SNACK NUTS"
         ],
         "legendgroup": "SNACK NUTS",
         "marker": {
          "color": "#FF7F0E",
          "size": [
           201
          ],
          "sizemode": "area",
          "sizeref": 0.3611111111111111,
          "symbol": "circle"
         },
         "mode": "markers",
         "name": "SNACK NUTS",
         "orientation": "v",
         "showlegend": true,
         "type": "scatter",
         "x": [
          396
         ],
         "xaxis": "x",
         "y": [
          1023.5400000000006
         ],
         "yaxis": "y"
        },
        {
         "hovertemplate": "<b>%{hovertext}</b><br><br>COMMODITY_DESC=SNACKS<br>QUANTITY=%{x}<br>SALES_VALUE=%{y}<br>HOUSEHOLDS=%{marker.size}<extra></extra>",
         "hovertext": [
          "SNACKS"
         ],
         "legendgroup": "SNACKS",
         "marker": {
          "color": "#2CA02C",
          "size": [
           51
          ],
          "sizemode": "area",
          "sizeref": 0.3611111111111111,
          "symbol": "circle"
         },
         "mode": "markers",
         "name": "SNACKS",
         "orientation": "v",
         "showlegend": true,
         "type": "scatter",
         "x": [
          86
         ],
         "xaxis": "x",
         "y": [
          211.98000000000008
         ],
         "yaxis": "y"
        },
        {
         "hovertemplate": "<b>%{hovertext}</b><br><br>COMMODITY_DESC=SNKS/CKYS/CRKR/CNDY<br>QUANTITY=%{x}<br>SALES_VALUE=%{y}<br>HOUSEHOLDS=%{marker.size}<extra></extra>",
         "hovertext": [
          "SNKS/CKYS/CRKR/CNDY"
         ],
         "legendgroup": "SNKS/CKYS/CRKR/CNDY",
         "marker": {
          "color": "#D62728",
          "size": [
           30
          ],
          "sizemode": "area",
          "sizeref": 0.3611111111111111,
          "symbol": "circle"
         },
         "mode": "markers",
         "name": "SNKS/CKYS/CRKR/CNDY",
         "orientation": "v",
         "showlegend": true,
         "type": "scatter",
         "x": [
          207
         ],
         "xaxis": "x",
         "y": [
          198.94000000000005
         ],
         "yaxis": "y"
        },
        {
         "hovertemplate": "<b>%{hovertext}</b><br><br>COMMODITY_DESC=SOAP - LIQUID & BAR<br>QUANTITY=%{x}<br>SALES_VALUE=%{y}<br>HOUSEHOLDS=%{marker.size}<extra></extra>",
         "hovertext": [
          "SOAP - LIQUID & BAR"
         ],
         "legendgroup": "SOAP - LIQUID & BAR",
         "marker": {
          "color": "#9467BD",
          "size": [
           271
          ],
          "sizemode": "area",
          "sizeref": 0.3611111111111111,
          "symbol": "circle"
         },
         "mode": "markers",
         "name": "SOAP - LIQUID & BAR",
         "orientation": "v",
         "showlegend": true,
         "type": "scatter",
         "x": [
          498
         ],
         "xaxis": "x",
         "y": [
          1402.9900000000007
         ],
         "yaxis": "y"
        },
        {
         "hovertemplate": "<b>%{hovertext}</b><br><br>COMMODITY_DESC=SOFT DRINKS<br>QUANTITY=%{x}<br>SALES_VALUE=%{y}<br>HOUSEHOLDS=%{marker.size}<extra></extra>",
         "hovertext": [
          "SOFT DRINKS"
         ],
         "legendgroup": "SOFT DRINKS",
         "marker": {
          "color": "#8C564B",
          "size": [
           1283
          ],
          "sizemode": "area",
          "sizeref": 0.3611111111111111,
          "symbol": "circle"
         },
         "mode": "markers",
         "name": "SOFT DRINKS",
         "orientation": "v",
         "showlegend": true,
         "type": "scatter",
         "x": [
          10734
         ],
         "xaxis": "x",
         "y": [
          22295.210000001112
         ],
         "yaxis": "y"
        },
        {
         "hovertemplate": "<b>%{hovertext}</b><br><br>COMMODITY_DESC=SOUP<br>QUANTITY=%{x}<br>SALES_VALUE=%{y}<br>HOUSEHOLDS=%{marker.size}<extra></extra>",
         "hovertext": [
          "SOUP"
         ],
         "legendgroup": "SOUP",
         "marker": {
          "color": "#E377C2",
          "size": [
           617
          ],
          "sizemode": "area",
          "sizeref": 0.3611111111111111,
          "symbol": "circle"
         },
         "mode": "markers",
         "name": "SOUP",
         "orientation": "v",
         "showlegend": true,
         "type": "scatter",
         "x": [
          4156
         ],
         "xaxis": "x",
         "y": [
          3753.2600000000025
         ],
         "yaxis": "y"
        },
        {
         "hovertemplate": "<b>%{hovertext}</b><br><br>COMMODITY_DESC=SPICES & EXTRACTS<br>QUANTITY=%{x}<br>SALES_VALUE=%{y}<br>HOUSEHOLDS=%{marker.size}<extra></extra>",
         "hovertext": [
          "SPICES & EXTRACTS"
         ],
         "legendgroup": "SPICES & EXTRACTS",
         "marker": {
          "color": "#7F7F7F",
          "size": [
           398
          ],
          "sizemode": "area",
          "sizeref": 0.3611111111111111,
          "symbol": "circle"
         },
         "mode": "markers",
         "name": "SPICES & EXTRACTS",
         "orientation": "v",
         "showlegend": true,
         "type": "scatter",
         "x": [
          831
         ],
         "xaxis": "x",
         "y": [
          1633.7699999999998
         ],
         "yaxis": "y"
        },
        {
         "hovertemplate": "<b>%{hovertext}</b><br><br>COMMODITY_DESC=SPORTS MEMORABLILIA<br>QUANTITY=%{x}<br>SALES_VALUE=%{y}<br>HOUSEHOLDS=%{marker.size}<extra></extra>",
         "hovertext": [
          "SPORTS MEMORABLILIA"
         ],
         "legendgroup": "SPORTS MEMORABLILIA",
         "marker": {
          "color": "#BCBD22",
          "size": [
           10
          ],
          "sizemode": "area",
          "sizeref": 0.3611111111111111,
          "symbol": "circle"
         },
         "mode": "markers",
         "name": "SPORTS MEMORABLILIA",
         "orientation": "v",
         "showlegend": true,
         "type": "scatter",
         "x": [
          11
         ],
         "xaxis": "x",
         "y": [
          15.6
         ],
         "yaxis": "y"
        },
        {
         "hovertemplate": "<b>%{hovertext}</b><br><br>COMMODITY_DESC=SPRING/SUMMER SEASONAL<br>QUANTITY=%{x}<br>SALES_VALUE=%{y}<br>HOUSEHOLDS=%{marker.size}<extra></extra>",
         "hovertext": [
          "SPRING/SUMMER SEASONAL"
         ],
         "legendgroup": "SPRING/SUMMER SEASONAL",
         "marker": {
          "color": "#17BECF",
          "size": [
           171
          ],
          "sizemode": "area",
          "sizeref": 0.3611111111111111,
          "symbol": "circle"
         },
         "mode": "markers",
         "name": "SPRING/SUMMER SEASONAL",
         "orientation": "v",
         "showlegend": true,
         "type": "scatter",
         "x": [
          328
         ],
         "xaxis": "x",
         "y": [
          2262.730000000001
         ],
         "yaxis": "y"
        },
        {
         "hovertemplate": "<b>%{hovertext}</b><br><br>COMMODITY_DESC=SQUASH<br>QUANTITY=%{x}<br>SALES_VALUE=%{y}<br>HOUSEHOLDS=%{marker.size}<extra></extra>",
         "hovertext": [
          "SQUASH"
         ],
         "legendgroup": "SQUASH",
         "marker": {
          "color": "#1F77B4",
          "size": [
           85
          ],
          "sizemode": "area",
          "sizeref": 0.3611111111111111,
          "symbol": "circle"
         },
         "mode": "markers",
         "name": "SQUASH",
         "orientation": "v",
         "showlegend": true,
         "type": "scatter",
         "x": [
          112
         ],
         "xaxis": "x",
         "y": [
          180.05999999999995
         ],
         "yaxis": "y"
        },
        {
         "hovertemplate": "<b>%{hovertext}</b><br><br>COMMODITY_DESC=STATIONERY & SCHOOL SUPPLIES<br>QUANTITY=%{x}<br>SALES_VALUE=%{y}<br>HOUSEHOLDS=%{marker.size}<extra></extra>",
         "hovertext": [
          "STATIONERY & SCHOOL SUPPLIES"
         ],
         "legendgroup": "STATIONERY & SCHOOL SUPPLIES",
         "marker": {
          "color": "#FF7F0E",
          "size": [
           156
          ],
          "sizemode": "area",
          "sizeref": 0.3611111111111111,
          "symbol": "circle"
         },
         "mode": "markers",
         "name": "STATIONERY & SCHOOL SUPPLIES",
         "orientation": "v",
         "showlegend": true,
         "type": "scatter",
         "x": [
          326
         ],
         "xaxis": "x",
         "y": [
          789.930000000001
         ],
         "yaxis": "y"
        },
        {
         "hovertemplate": "<b>%{hovertext}</b><br><br>COMMODITY_DESC=STONE FRUIT<br>QUANTITY=%{x}<br>SALES_VALUE=%{y}<br>HOUSEHOLDS=%{marker.size}<extra></extra>",
         "hovertext": [
          "STONE FRUIT"
         ],
         "legendgroup": "STONE FRUIT",
         "marker": {
          "color": "#2CA02C",
          "size": [
           321
          ],
          "sizemode": "area",
          "sizeref": 0.3611111111111111,
          "symbol": "circle"
         },
         "mode": "markers",
         "name": "STONE FRUIT",
         "orientation": "v",
         "showlegend": true,
         "type": "scatter",
         "x": [
          571
         ],
         "xaxis": "x",
         "y": [
          1468.0000000000002
         ],
         "yaxis": "y"
        },
        {
         "hovertemplate": "<b>%{hovertext}</b><br><br>COMMODITY_DESC=SUGARS/SWEETNERS<br>QUANTITY=%{x}<br>SALES_VALUE=%{y}<br>HOUSEHOLDS=%{marker.size}<extra></extra>",
         "hovertext": [
          "SUGARS/SWEETNERS"
         ],
         "legendgroup": "SUGARS/SWEETNERS",
         "marker": {
          "color": "#D62728",
          "size": [
           411
          ],
          "sizemode": "area",
          "sizeref": 0.3611111111111111,
          "symbol": "circle"
         },
         "mode": "markers",
         "name": "SUGARS/SWEETNERS",
         "orientation": "v",
         "showlegend": true,
         "type": "scatter",
         "x": [
          717
         ],
         "xaxis": "x",
         "y": [
          1462.5500000000075
         ],
         "yaxis": "y"
        },
        {
         "hovertemplate": "<b>%{hovertext}</b><br><br>COMMODITY_DESC=SUNTAN<br>QUANTITY=%{x}<br>SALES_VALUE=%{y}<br>HOUSEHOLDS=%{marker.size}<extra></extra>",
         "hovertext": [
          "SUNTAN"
         ],
         "legendgroup": "SUNTAN",
         "marker": {
          "color": "#9467BD",
          "size": [
           63
          ],
          "sizemode": "area",
          "sizeref": 0.3611111111111111,
          "symbol": "circle"
         },
         "mode": "markers",
         "name": "SUNTAN",
         "orientation": "v",
         "showlegend": true,
         "type": "scatter",
         "x": [
          80
         ],
         "xaxis": "x",
         "y": [
          511.72000000000037
         ],
         "yaxis": "y"
        },
        {
         "hovertemplate": "<b>%{hovertext}</b><br><br>COMMODITY_DESC=SUSHI<br>QUANTITY=%{x}<br>SALES_VALUE=%{y}<br>HOUSEHOLDS=%{marker.size}<extra></extra>",
         "hovertext": [
          "SUSHI"
         ],
         "legendgroup": "SUSHI",
         "marker": {
          "color": "#8C564B",
          "size": [
           18
          ],
          "sizemode": "area",
          "sizeref": 0.3611111111111111,
          "symbol": "circle"
         },
         "mode": "markers",
         "name": "SUSHI",
         "orientation": "v",
         "showlegend": true,
         "type": "scatter",
         "x": [
          45
         ],
         "xaxis": "x",
         "y": [
          248.70000000000002
         ],
         "yaxis": "y"
        },
        {
         "hovertemplate": "<b>%{hovertext}</b><br><br>COMMODITY_DESC=SWEET GOODS & SNACKS<br>QUANTITY=%{x}<br>SALES_VALUE=%{y}<br>HOUSEHOLDS=%{marker.size}<extra></extra>",
         "hovertext": [
          "SWEET GOODS & SNACKS"
         ],
         "legendgroup": "SWEET GOODS & SNACKS",
         "marker": {
          "color": "#E377C2",
          "size": [
           95
          ],
          "sizemode": "area",
          "sizeref": 0.3611111111111111,
          "symbol": "circle"
         },
         "mode": "markers",
         "name": "SWEET GOODS & SNACKS",
         "orientation": "v",
         "showlegend": true,
         "type": "scatter",
         "x": [
          174
         ],
         "xaxis": "x",
         "y": [
          357.18000000000046
         ],
         "yaxis": "y"
        },
        {
         "hovertemplate": "<b>%{hovertext}</b><br><br>COMMODITY_DESC=SYRUPS/TOPPINGS<br>QUANTITY=%{x}<br>SALES_VALUE=%{y}<br>HOUSEHOLDS=%{marker.size}<extra></extra>",
         "hovertext": [
          "SYRUPS/TOPPINGS"
         ],
         "legendgroup": "SYRUPS/TOPPINGS",
         "marker": {
          "color": "#7F7F7F",
          "size": [
           76
          ],
          "sizemode": "area",
          "sizeref": 0.3611111111111111,
          "symbol": "circle"
         },
         "mode": "markers",
         "name": "SYRUPS/TOPPINGS",
         "orientation": "v",
         "showlegend": true,
         "type": "scatter",
         "x": [
          123
         ],
         "xaxis": "x",
         "y": [
          220.79999999999973
         ],
         "yaxis": "y"
        },
        {
         "hovertemplate": "<b>%{hovertext}</b><br><br>COMMODITY_DESC=TEAS<br>QUANTITY=%{x}<br>SALES_VALUE=%{y}<br>HOUSEHOLDS=%{marker.size}<extra></extra>",
         "hovertext": [
          "TEAS"
         ],
         "legendgroup": "TEAS",
         "marker": {
          "color": "#BCBD22",
          "size": [
           186
          ],
          "sizemode": "area",
          "sizeref": 0.3611111111111111,
          "symbol": "circle"
         },
         "mode": "markers",
         "name": "TEAS",
         "orientation": "v",
         "showlegend": true,
         "type": "scatter",
         "x": [
          296
         ],
         "xaxis": "x",
         "y": [
          808.8700000000006
         ],
         "yaxis": "y"
        },
        {
         "hovertemplate": "<b>%{hovertext}</b><br><br>COMMODITY_DESC=TICKETS<br>QUANTITY=%{x}<br>SALES_VALUE=%{y}<br>HOUSEHOLDS=%{marker.size}<extra></extra>",
         "hovertext": [
          "TICKETS"
         ],
         "legendgroup": "TICKETS",
         "marker": {
          "color": "#17BECF",
          "size": [
           29
          ],
          "sizemode": "area",
          "sizeref": 0.3611111111111111,
          "symbol": "circle"
         },
         "mode": "markers",
         "name": "TICKETS",
         "orientation": "v",
         "showlegend": true,
         "type": "scatter",
         "x": [
          41
         ],
         "xaxis": "x",
         "y": [
          322.58
         ],
         "yaxis": "y"
        },
        {
         "hovertemplate": "<b>%{hovertext}</b><br><br>COMMODITY_DESC=TOBACCO OTHER<br>QUANTITY=%{x}<br>SALES_VALUE=%{y}<br>HOUSEHOLDS=%{marker.size}<extra></extra>",
         "hovertext": [
          "TOBACCO OTHER"
         ],
         "legendgroup": "TOBACCO OTHER",
         "marker": {
          "color": "#1F77B4",
          "size": [
           48
          ],
          "sizemode": "area",
          "sizeref": 0.3611111111111111,
          "symbol": "circle"
         },
         "mode": "markers",
         "name": "TOBACCO OTHER",
         "orientation": "v",
         "showlegend": true,
         "type": "scatter",
         "x": [
          70
         ],
         "xaxis": "x",
         "y": [
          219.98
         ],
         "yaxis": "y"
        },
        {
         "hovertemplate": "<b>%{hovertext}</b><br><br>COMMODITY_DESC=TOMATOES<br>QUANTITY=%{x}<br>SALES_VALUE=%{y}<br>HOUSEHOLDS=%{marker.size}<extra></extra>",
         "hovertext": [
          "TOMATOES"
         ],
         "legendgroup": "TOMATOES",
         "marker": {
          "color": "#FF7F0E",
          "size": [
           601
          ],
          "sizemode": "area",
          "sizeref": 0.3611111111111111,
          "symbol": "circle"
         },
         "mode": "markers",
         "name": "TOMATOES",
         "orientation": "v",
         "showlegend": true,
         "type": "scatter",
         "x": [
          1209
         ],
         "xaxis": "x",
         "y": [
          2966.109999999997
         ],
         "yaxis": "y"
        },
        {
         "hovertemplate": "<b>%{hovertext}</b><br><br>COMMODITY_DESC=TOYS AND GAMES<br>QUANTITY=%{x}<br>SALES_VALUE=%{y}<br>HOUSEHOLDS=%{marker.size}<extra></extra>",
         "hovertext": [
          "TOYS AND GAMES"
         ],
         "legendgroup": "TOYS AND GAMES",
         "marker": {
          "color": "#2CA02C",
          "size": [
           118
          ],
          "sizemode": "area",
          "sizeref": 0.3611111111111111,
          "symbol": "circle"
         },
         "mode": "markers",
         "name": "TOYS AND GAMES",
         "orientation": "v",
         "showlegend": true,
         "type": "scatter",
         "x": [
          202
         ],
         "xaxis": "x",
         "y": [
          740.6300000000009
         ],
         "yaxis": "y"
        },
        {
         "hovertemplate": "<b>%{hovertext}</b><br><br>COMMODITY_DESC=TROPICAL FRUIT<br>QUANTITY=%{x}<br>SALES_VALUE=%{y}<br>HOUSEHOLDS=%{marker.size}<extra></extra>",
         "hovertext": [
          "TROPICAL FRUIT"
         ],
         "legendgroup": "TROPICAL FRUIT",
         "marker": {
          "color": "#D62728",
          "size": [
           844
          ],
          "sizemode": "area",
          "sizeref": 0.3611111111111111,
          "symbol": "circle"
         },
         "mode": "markers",
         "name": "TROPICAL FRUIT",
         "orientation": "v",
         "showlegend": true,
         "type": "scatter",
         "x": [
          2590
         ],
         "xaxis": "x",
         "y": [
          2602.129999999976
         ],
         "yaxis": "y"
        },
        {
         "hovertemplate": "<b>%{hovertext}</b><br><br>COMMODITY_DESC=TURKEY<br>QUANTITY=%{x}<br>SALES_VALUE=%{y}<br>HOUSEHOLDS=%{marker.size}<extra></extra>",
         "hovertext": [
          "TURKEY"
         ],
         "legendgroup": "TURKEY",
         "marker": {
          "color": "#9467BD",
          "size": [
           82
          ],
          "sizemode": "area",
          "sizeref": 0.3611111111111111,
          "symbol": "circle"
         },
         "mode": "markers",
         "name": "TURKEY",
         "orientation": "v",
         "showlegend": true,
         "type": "scatter",
         "x": [
          185
         ],
         "xaxis": "x",
         "y": [
          559.1200000000002
         ],
         "yaxis": "y"
        },
        {
         "hovertemplate": "<b>%{hovertext}</b><br><br>COMMODITY_DESC=UNKNOWN<br>QUANTITY=%{x}<br>SALES_VALUE=%{y}<br>HOUSEHOLDS=%{marker.size}<extra></extra>",
         "hovertext": [
          "UNKNOWN"
         ],
         "legendgroup": "UNKNOWN",
         "marker": {
          "color": "#8C564B",
          "size": [
           36
          ],
          "sizemode": "area",
          "sizeref": 0.3611111111111111,
          "symbol": "circle"
         },
         "mode": "markers",
         "name": "UNKNOWN",
         "orientation": "v",
         "showlegend": true,
         "type": "scatter",
         "x": [
          96
         ],
         "xaxis": "x",
         "y": [
          337.53000000000014
         ],
         "yaxis": "y"
        },
        {
         "hovertemplate": "<b>%{hovertext}</b><br><br>COMMODITY_DESC=VALENTINE<br>QUANTITY=%{x}<br>SALES_VALUE=%{y}<br>HOUSEHOLDS=%{marker.size}<extra></extra>",
         "hovertext": [
          "VALENTINE"
         ],
         "legendgroup": "VALENTINE",
         "marker": {
          "color": "#E377C2",
          "size": [
           3
          ],
          "sizemode": "area",
          "sizeref": 0.3611111111111111,
          "symbol": "circle"
         },
         "mode": "markers",
         "name": "VALENTINE",
         "orientation": "v",
         "showlegend": true,
         "type": "scatter",
         "x": [
          3
         ],
         "xaxis": "x",
         "y": [
          3.7199999999999998
         ],
         "yaxis": "y"
        },
        {
         "hovertemplate": "<b>%{hovertext}</b><br><br>COMMODITY_DESC=VALUE ADDED FRUIT<br>QUANTITY=%{x}<br>SALES_VALUE=%{y}<br>HOUSEHOLDS=%{marker.size}<extra></extra>",
         "hovertext": [
          "VALUE ADDED FRUIT"
         ],
         "legendgroup": "VALUE ADDED FRUIT",
         "marker": {
          "color": "#7F7F7F",
          "size": [
           301
          ],
          "sizemode": "area",
          "sizeref": 0.3611111111111111,
          "symbol": "circle"
         },
         "mode": "markers",
         "name": "VALUE ADDED FRUIT",
         "orientation": "v",
         "showlegend": true,
         "type": "scatter",
         "x": [
          659
         ],
         "xaxis": "x",
         "y": [
          1818.580000000001
         ],
         "yaxis": "y"
        },
        {
         "hovertemplate": "<b>%{hovertext}</b><br><br>COMMODITY_DESC=VALUE ADDED VEGETABLES<br>QUANTITY=%{x}<br>SALES_VALUE=%{y}<br>HOUSEHOLDS=%{marker.size}<extra></extra>",
         "hovertext": [
          "VALUE ADDED VEGETABLES"
         ],
         "legendgroup": "VALUE ADDED VEGETABLES",
         "marker": {
          "color": "#BCBD22",
          "size": [
           96
          ],
          "sizemode": "area",
          "sizeref": 0.3611111111111111,
          "symbol": "circle"
         },
         "mode": "markers",
         "name": "VALUE ADDED VEGETABLES",
         "orientation": "v",
         "showlegend": true,
         "type": "scatter",
         "x": [
          151
         ],
         "xaxis": "x",
         "y": [
          475.1800000000007
         ],
         "yaxis": "y"
        },
        {
         "hovertemplate": "<b>%{hovertext}</b><br><br>COMMODITY_DESC=VEAL<br>QUANTITY=%{x}<br>SALES_VALUE=%{y}<br>HOUSEHOLDS=%{marker.size}<extra></extra>",
         "hovertext": [
          "VEAL"
         ],
         "legendgroup": "VEAL",
         "marker": {
          "color": "#17BECF",
          "size": [
           8
          ],
          "sizemode": "area",
          "sizeref": 0.3611111111111111,
          "symbol": "circle"
         },
         "mode": "markers",
         "name": "VEAL",
         "orientation": "v",
         "showlegend": true,
         "type": "scatter",
         "x": [
          14
         ],
         "xaxis": "x",
         "y": [
          54.45
         ],
         "yaxis": "y"
        },
        {
         "hovertemplate": "<b>%{hovertext}</b><br><br>COMMODITY_DESC=VEGETABLES - ALL OTHERS<br>QUANTITY=%{x}<br>SALES_VALUE=%{y}<br>HOUSEHOLDS=%{marker.size}<extra></extra>",
         "hovertext": [
          "VEGETABLES - ALL OTHERS"
         ],
         "legendgroup": "VEGETABLES - ALL OTHERS",
         "marker": {
          "color": "#1F77B4",
          "size": [
           528
          ],
          "sizemode": "area",
          "sizeref": 0.3611111111111111,
          "symbol": "circle"
         },
         "mode": "markers",
         "name": "VEGETABLES - ALL OTHERS",
         "orientation": "v",
         "showlegend": true,
         "type": "scatter",
         "x": [
          1497
         ],
         "xaxis": "x",
         "y": [
          1861.5600000000036
         ],
         "yaxis": "y"
        },
        {
         "hovertemplate": "<b>%{hovertext}</b><br><br>COMMODITY_DESC=VEGETABLES - SHELF STABLE<br>QUANTITY=%{x}<br>SALES_VALUE=%{y}<br>HOUSEHOLDS=%{marker.size}<extra></extra>",
         "hovertext": [
          "VEGETABLES - SHELF STABLE"
         ],
         "legendgroup": "VEGETABLES - SHELF STABLE",
         "marker": {
          "color": "#FF7F0E",
          "size": [
           653
          ],
          "sizemode": "area",
          "sizeref": 0.3611111111111111,
          "symbol": "circle"
         },
         "mode": "markers",
         "name": "VEGETABLES - SHELF STABLE",
         "orientation": "v",
         "showlegend": true,
         "type": "scatter",
         "x": [
          3970
         ],
         "xaxis": "x",
         "y": [
          2853.979999999998
         ],
         "yaxis": "y"
        },
        {
         "hovertemplate": "<b>%{hovertext}</b><br><br>COMMODITY_DESC=VEGETABLES SALAD<br>QUANTITY=%{x}<br>SALES_VALUE=%{y}<br>HOUSEHOLDS=%{marker.size}<extra></extra>",
         "hovertext": [
          "VEGETABLES SALAD"
         ],
         "legendgroup": "VEGETABLES SALAD",
         "marker": {
          "color": "#2CA02C",
          "size": [
           442
          ],
          "sizemode": "area",
          "sizeref": 0.3611111111111111,
          "symbol": "circle"
         },
         "mode": "markers",
         "name": "VEGETABLES SALAD",
         "orientation": "v",
         "showlegend": true,
         "type": "scatter",
         "x": [
          847
         ],
         "xaxis": "x",
         "y": [
          988.6800000000061
         ],
         "yaxis": "y"
        },
        {
         "hovertemplate": "<b>%{hovertext}</b><br><br>COMMODITY_DESC=VITAMINS<br>QUANTITY=%{x}<br>SALES_VALUE=%{y}<br>HOUSEHOLDS=%{marker.size}<extra></extra>",
         "hovertext": [
          "VITAMINS"
         ],
         "legendgroup": "VITAMINS",
         "marker": {
          "color": "#D62728",
          "size": [
           78
          ],
          "sizemode": "area",
          "sizeref": 0.3611111111111111,
          "symbol": "circle"
         },
         "mode": "markers",
         "name": "VITAMINS",
         "orientation": "v",
         "showlegend": true,
         "type": "scatter",
         "x": [
          120
         ],
         "xaxis": "x",
         "y": [
          860.0700000000006
         ],
         "yaxis": "y"
        },
        {
         "hovertemplate": "<b>%{hovertext}</b><br><br>COMMODITY_DESC=WAREHOUSE SNACKS<br>QUANTITY=%{x}<br>SALES_VALUE=%{y}<br>HOUSEHOLDS=%{marker.size}<extra></extra>",
         "hovertext": [
          "WAREHOUSE SNACKS"
         ],
         "legendgroup": "WAREHOUSE SNACKS",
         "marker": {
          "color": "#9467BD",
          "size": [
           265
          ],
          "sizemode": "area",
          "sizeref": 0.3611111111111111,
          "symbol": "circle"
         },
         "mode": "markers",
         "name": "WAREHOUSE SNACKS",
         "orientation": "v",
         "showlegend": true,
         "type": "scatter",
         "x": [
          611
         ],
         "xaxis": "x",
         "y": [
          954.3499999999999
         ],
         "yaxis": "y"
        },
        {
         "hovertemplate": "<b>%{hovertext}</b><br><br>COMMODITY_DESC=WATCHES/CALCULATORS/LOBBY<br>QUANTITY=%{x}<br>SALES_VALUE=%{y}<br>HOUSEHOLDS=%{marker.size}<extra></extra>",
         "hovertext": [
          "WATCHES/CALCULATORS/LOBBY"
         ],
         "legendgroup": "WATCHES/CALCULATORS/LOBBY",
         "marker": {
          "color": "#8C564B",
          "size": [
           2
          ],
          "sizemode": "area",
          "sizeref": 0.3611111111111111,
          "symbol": "circle"
         },
         "mode": "markers",
         "name": "WATCHES/CALCULATORS/LOBBY",
         "orientation": "v",
         "showlegend": true,
         "type": "scatter",
         "x": [
          2
         ],
         "xaxis": "x",
         "y": [
          6.98
         ],
         "yaxis": "y"
        },
        {
         "hovertemplate": "<b>%{hovertext}</b><br><br>COMMODITY_DESC=WATER<br>QUANTITY=%{x}<br>SALES_VALUE=%{y}<br>HOUSEHOLDS=%{marker.size}<extra></extra>",
         "hovertext": [
          "WATER"
         ],
         "legendgroup": "WATER",
         "marker": {
          "color": "#E377C2",
          "size": [
           68
          ],
          "sizemode": "area",
          "sizeref": 0.3611111111111111,
          "symbol": "circle"
         },
         "mode": "markers",
         "name": "WATER",
         "orientation": "v",
         "showlegend": true,
         "type": "scatter",
         "x": [
          215
         ],
         "xaxis": "x",
         "y": [
          223.80000000000007
         ],
         "yaxis": "y"
        },
        {
         "hovertemplate": "<b>%{hovertext}</b><br><br>COMMODITY_DESC=WATER - CARBONATED/FLVRD DRINK<br>QUANTITY=%{x}<br>SALES_VALUE=%{y}<br>HOUSEHOLDS=%{marker.size}<extra></extra>",
         "hovertext": [
          "WATER - CARBONATED/FLVRD DRINK"
         ],
         "legendgroup": "WATER - CARBONATED/FLVRD DRINK",
         "marker": {
          "color": "#7F7F7F",
          "size": [
           590
          ],
          "sizemode": "area",
          "sizeref": 0.3611111111111111,
          "symbol": "circle"
         },
         "mode": "markers",
         "name": "WATER - CARBONATED/FLVRD DRINK",
         "orientation": "v",
         "showlegend": true,
         "type": "scatter",
         "x": [
          2038
         ],
         "xaxis": "x",
         "y": [
          4692.359999999936
         ],
         "yaxis": "y"
        },
        {
         "hovertemplate": "<b>%{hovertext}</b><br><br>COMMODITY_DESC=YOGURT<br>QUANTITY=%{x}<br>SALES_VALUE=%{y}<br>HOUSEHOLDS=%{marker.size}<extra></extra>",
         "hovertext": [
          "YOGURT"
         ],
         "legendgroup": "YOGURT",
         "marker": {
          "color": "#BCBD22",
          "size": [
           517
          ],
          "sizemode": "area",
          "sizeref": 0.3611111111111111,
          "symbol": "circle"
         },
         "mode": "markers",
         "name": "YOGURT",
         "orientation": "v",
         "showlegend": true,
         "type": "scatter",
         "x": [
          4618
         ],
         "xaxis": "x",
         "y": [
          3480.520000000022
         ],
         "yaxis": "y"
        }
       ],
       "layout": {
        "annotations": [
         {
          "showarrow": false,
          "text": "Sizes of the bubbles represent the number of households buying the product",
          "x": -0.04,
          "xref": "paper",
          "y": 1.11,
          "yref": "paper"
         }
        ],
        "legend": {
         "itemsizing": "constant",
         "title": {
          "text": "COMMODITY_DESC"
         },
         "tracegroupgap": 0
        },
        "showlegend": false,
        "template": {
         "data": {
          "bar": [
           {
            "error_x": {
             "color": "rgb(36,36,36)"
            },
            "error_y": {
             "color": "rgb(36,36,36)"
            },
            "marker": {
             "line": {
              "color": "white",
              "width": 0.5
             }
            },
            "type": "bar"
           }
          ],
          "barpolar": [
           {
            "marker": {
             "line": {
              "color": "white",
              "width": 0.5
             }
            },
            "type": "barpolar"
           }
          ],
          "carpet": [
           {
            "aaxis": {
             "endlinecolor": "rgb(36,36,36)",
             "gridcolor": "white",
             "linecolor": "white",
             "minorgridcolor": "white",
             "startlinecolor": "rgb(36,36,36)"
            },
            "baxis": {
             "endlinecolor": "rgb(36,36,36)",
             "gridcolor": "white",
             "linecolor": "white",
             "minorgridcolor": "white",
             "startlinecolor": "rgb(36,36,36)"
            },
            "type": "carpet"
           }
          ],
          "choropleth": [
           {
            "colorbar": {
             "outlinewidth": 1,
             "tickcolor": "rgb(36,36,36)",
             "ticks": "outside"
            },
            "type": "choropleth"
           }
          ],
          "contour": [
           {
            "colorbar": {
             "outlinewidth": 1,
             "tickcolor": "rgb(36,36,36)",
             "ticks": "outside"
            },
            "colorscale": [
             [
              0,
              "#440154"
             ],
             [
              0.1111111111111111,
              "#482878"
             ],
             [
              0.2222222222222222,
              "#3e4989"
             ],
             [
              0.3333333333333333,
              "#31688e"
             ],
             [
              0.4444444444444444,
              "#26828e"
             ],
             [
              0.5555555555555556,
              "#1f9e89"
             ],
             [
              0.6666666666666666,
              "#35b779"
             ],
             [
              0.7777777777777778,
              "#6ece58"
             ],
             [
              0.8888888888888888,
              "#b5de2b"
             ],
             [
              1,
              "#fde725"
             ]
            ],
            "type": "contour"
           }
          ],
          "contourcarpet": [
           {
            "colorbar": {
             "outlinewidth": 1,
             "tickcolor": "rgb(36,36,36)",
             "ticks": "outside"
            },
            "type": "contourcarpet"
           }
          ],
          "heatmap": [
           {
            "colorbar": {
             "outlinewidth": 1,
             "tickcolor": "rgb(36,36,36)",
             "ticks": "outside"
            },
            "colorscale": [
             [
              0,
              "#440154"
             ],
             [
              0.1111111111111111,
              "#482878"
             ],
             [
              0.2222222222222222,
              "#3e4989"
             ],
             [
              0.3333333333333333,
              "#31688e"
             ],
             [
              0.4444444444444444,
              "#26828e"
             ],
             [
              0.5555555555555556,
              "#1f9e89"
             ],
             [
              0.6666666666666666,
              "#35b779"
             ],
             [
              0.7777777777777778,
              "#6ece58"
             ],
             [
              0.8888888888888888,
              "#b5de2b"
             ],
             [
              1,
              "#fde725"
             ]
            ],
            "type": "heatmap"
           }
          ],
          "heatmapgl": [
           {
            "colorbar": {
             "outlinewidth": 1,
             "tickcolor": "rgb(36,36,36)",
             "ticks": "outside"
            },
            "colorscale": [
             [
              0,
              "#440154"
             ],
             [
              0.1111111111111111,
              "#482878"
             ],
             [
              0.2222222222222222,
              "#3e4989"
             ],
             [
              0.3333333333333333,
              "#31688e"
             ],
             [
              0.4444444444444444,
              "#26828e"
             ],
             [
              0.5555555555555556,
              "#1f9e89"
             ],
             [
              0.6666666666666666,
              "#35b779"
             ],
             [
              0.7777777777777778,
              "#6ece58"
             ],
             [
              0.8888888888888888,
              "#b5de2b"
             ],
             [
              1,
              "#fde725"
             ]
            ],
            "type": "heatmapgl"
           }
          ],
          "histogram": [
           {
            "marker": {
             "line": {
              "color": "white",
              "width": 0.6
             }
            },
            "type": "histogram"
           }
          ],
          "histogram2d": [
           {
            "colorbar": {
             "outlinewidth": 1,
             "tickcolor": "rgb(36,36,36)",
             "ticks": "outside"
            },
            "colorscale": [
             [
              0,
              "#440154"
             ],
             [
              0.1111111111111111,
              "#482878"
             ],
             [
              0.2222222222222222,
              "#3e4989"
             ],
             [
              0.3333333333333333,
              "#31688e"
             ],
             [
              0.4444444444444444,
              "#26828e"
             ],
             [
              0.5555555555555556,
              "#1f9e89"
             ],
             [
              0.6666666666666666,
              "#35b779"
             ],
             [
              0.7777777777777778,
              "#6ece58"
             ],
             [
              0.8888888888888888,
              "#b5de2b"
             ],
             [
              1,
              "#fde725"
             ]
            ],
            "type": "histogram2d"
           }
          ],
          "histogram2dcontour": [
           {
            "colorbar": {
             "outlinewidth": 1,
             "tickcolor": "rgb(36,36,36)",
             "ticks": "outside"
            },
            "colorscale": [
             [
              0,
              "#440154"
             ],
             [
              0.1111111111111111,
              "#482878"
             ],
             [
              0.2222222222222222,
              "#3e4989"
             ],
             [
              0.3333333333333333,
              "#31688e"
             ],
             [
              0.4444444444444444,
              "#26828e"
             ],
             [
              0.5555555555555556,
              "#1f9e89"
             ],
             [
              0.6666666666666666,
              "#35b779"
             ],
             [
              0.7777777777777778,
              "#6ece58"
             ],
             [
              0.8888888888888888,
              "#b5de2b"
             ],
             [
              1,
              "#fde725"
             ]
            ],
            "type": "histogram2dcontour"
           }
          ],
          "mesh3d": [
           {
            "colorbar": {
             "outlinewidth": 1,
             "tickcolor": "rgb(36,36,36)",
             "ticks": "outside"
            },
            "type": "mesh3d"
           }
          ],
          "parcoords": [
           {
            "line": {
             "colorbar": {
              "outlinewidth": 1,
              "tickcolor": "rgb(36,36,36)",
              "ticks": "outside"
             }
            },
            "type": "parcoords"
           }
          ],
          "pie": [
           {
            "automargin": true,
            "type": "pie"
           }
          ],
          "scatter": [
           {
            "marker": {
             "colorbar": {
              "outlinewidth": 1,
              "tickcolor": "rgb(36,36,36)",
              "ticks": "outside"
             }
            },
            "type": "scatter"
           }
          ],
          "scatter3d": [
           {
            "line": {
             "colorbar": {
              "outlinewidth": 1,
              "tickcolor": "rgb(36,36,36)",
              "ticks": "outside"
             }
            },
            "marker": {
             "colorbar": {
              "outlinewidth": 1,
              "tickcolor": "rgb(36,36,36)",
              "ticks": "outside"
             }
            },
            "type": "scatter3d"
           }
          ],
          "scattercarpet": [
           {
            "marker": {
             "colorbar": {
              "outlinewidth": 1,
              "tickcolor": "rgb(36,36,36)",
              "ticks": "outside"
             }
            },
            "type": "scattercarpet"
           }
          ],
          "scattergeo": [
           {
            "marker": {
             "colorbar": {
              "outlinewidth": 1,
              "tickcolor": "rgb(36,36,36)",
              "ticks": "outside"
             }
            },
            "type": "scattergeo"
           }
          ],
          "scattergl": [
           {
            "marker": {
             "colorbar": {
              "outlinewidth": 1,
              "tickcolor": "rgb(36,36,36)",
              "ticks": "outside"
             }
            },
            "type": "scattergl"
           }
          ],
          "scattermapbox": [
           {
            "marker": {
             "colorbar": {
              "outlinewidth": 1,
              "tickcolor": "rgb(36,36,36)",
              "ticks": "outside"
             }
            },
            "type": "scattermapbox"
           }
          ],
          "scatterpolar": [
           {
            "marker": {
             "colorbar": {
              "outlinewidth": 1,
              "tickcolor": "rgb(36,36,36)",
              "ticks": "outside"
             }
            },
            "type": "scatterpolar"
           }
          ],
          "scatterpolargl": [
           {
            "marker": {
             "colorbar": {
              "outlinewidth": 1,
              "tickcolor": "rgb(36,36,36)",
              "ticks": "outside"
             }
            },
            "type": "scatterpolargl"
           }
          ],
          "scatterternary": [
           {
            "marker": {
             "colorbar": {
              "outlinewidth": 1,
              "tickcolor": "rgb(36,36,36)",
              "ticks": "outside"
             }
            },
            "type": "scatterternary"
           }
          ],
          "surface": [
           {
            "colorbar": {
             "outlinewidth": 1,
             "tickcolor": "rgb(36,36,36)",
             "ticks": "outside"
            },
            "colorscale": [
             [
              0,
              "#440154"
             ],
             [
              0.1111111111111111,
              "#482878"
             ],
             [
              0.2222222222222222,
              "#3e4989"
             ],
             [
              0.3333333333333333,
              "#31688e"
             ],
             [
              0.4444444444444444,
              "#26828e"
             ],
             [
              0.5555555555555556,
              "#1f9e89"
             ],
             [
              0.6666666666666666,
              "#35b779"
             ],
             [
              0.7777777777777778,
              "#6ece58"
             ],
             [
              0.8888888888888888,
              "#b5de2b"
             ],
             [
              1,
              "#fde725"
             ]
            ],
            "type": "surface"
           }
          ],
          "table": [
           {
            "cells": {
             "fill": {
              "color": "rgb(237,237,237)"
             },
             "line": {
              "color": "white"
             }
            },
            "header": {
             "fill": {
              "color": "rgb(217,217,217)"
             },
             "line": {
              "color": "white"
             }
            },
            "type": "table"
           }
          ]
         },
         "layout": {
          "annotationdefaults": {
           "arrowhead": 0,
           "arrowwidth": 1
          },
          "autotypenumbers": "strict",
          "coloraxis": {
           "colorbar": {
            "outlinewidth": 1,
            "tickcolor": "rgb(36,36,36)",
            "ticks": "outside"
           }
          },
          "colorscale": {
           "diverging": [
            [
             0,
             "rgb(103,0,31)"
            ],
            [
             0.1,
             "rgb(178,24,43)"
            ],
            [
             0.2,
             "rgb(214,96,77)"
            ],
            [
             0.3,
             "rgb(244,165,130)"
            ],
            [
             0.4,
             "rgb(253,219,199)"
            ],
            [
             0.5,
             "rgb(247,247,247)"
            ],
            [
             0.6,
             "rgb(209,229,240)"
            ],
            [
             0.7,
             "rgb(146,197,222)"
            ],
            [
             0.8,
             "rgb(67,147,195)"
            ],
            [
             0.9,
             "rgb(33,102,172)"
            ],
            [
             1,
             "rgb(5,48,97)"
            ]
           ],
           "sequential": [
            [
             0,
             "#440154"
            ],
            [
             0.1111111111111111,
             "#482878"
            ],
            [
             0.2222222222222222,
             "#3e4989"
            ],
            [
             0.3333333333333333,
             "#31688e"
            ],
            [
             0.4444444444444444,
             "#26828e"
            ],
            [
             0.5555555555555556,
             "#1f9e89"
            ],
            [
             0.6666666666666666,
             "#35b779"
            ],
            [
             0.7777777777777778,
             "#6ece58"
            ],
            [
             0.8888888888888888,
             "#b5de2b"
            ],
            [
             1,
             "#fde725"
            ]
           ],
           "sequentialminus": [
            [
             0,
             "#440154"
            ],
            [
             0.1111111111111111,
             "#482878"
            ],
            [
             0.2222222222222222,
             "#3e4989"
            ],
            [
             0.3333333333333333,
             "#31688e"
            ],
            [
             0.4444444444444444,
             "#26828e"
            ],
            [
             0.5555555555555556,
             "#1f9e89"
            ],
            [
             0.6666666666666666,
             "#35b779"
            ],
            [
             0.7777777777777778,
             "#6ece58"
            ],
            [
             0.8888888888888888,
             "#b5de2b"
            ],
            [
             1,
             "#fde725"
            ]
           ]
          },
          "colorway": [
           "#1F77B4",
           "#FF7F0E",
           "#2CA02C",
           "#D62728",
           "#9467BD",
           "#8C564B",
           "#E377C2",
           "#7F7F7F",
           "#BCBD22",
           "#17BECF"
          ],
          "font": {
           "color": "rgb(36,36,36)"
          },
          "geo": {
           "bgcolor": "white",
           "lakecolor": "white",
           "landcolor": "white",
           "showlakes": true,
           "showland": true,
           "subunitcolor": "white"
          },
          "hoverlabel": {
           "align": "left"
          },
          "hovermode": "closest",
          "mapbox": {
           "style": "light"
          },
          "paper_bgcolor": "white",
          "plot_bgcolor": "white",
          "polar": {
           "angularaxis": {
            "gridcolor": "rgb(232,232,232)",
            "linecolor": "rgb(36,36,36)",
            "showgrid": false,
            "showline": true,
            "ticks": "outside"
           },
           "bgcolor": "white",
           "radialaxis": {
            "gridcolor": "rgb(232,232,232)",
            "linecolor": "rgb(36,36,36)",
            "showgrid": false,
            "showline": true,
            "ticks": "outside"
           }
          },
          "scene": {
           "xaxis": {
            "backgroundcolor": "white",
            "gridcolor": "rgb(232,232,232)",
            "gridwidth": 2,
            "linecolor": "rgb(36,36,36)",
            "showbackground": true,
            "showgrid": false,
            "showline": true,
            "ticks": "outside",
            "zeroline": false,
            "zerolinecolor": "rgb(36,36,36)"
           },
           "yaxis": {
            "backgroundcolor": "white",
            "gridcolor": "rgb(232,232,232)",
            "gridwidth": 2,
            "linecolor": "rgb(36,36,36)",
            "showbackground": true,
            "showgrid": false,
            "showline": true,
            "ticks": "outside",
            "zeroline": false,
            "zerolinecolor": "rgb(36,36,36)"
           },
           "zaxis": {
            "backgroundcolor": "white",
            "gridcolor": "rgb(232,232,232)",
            "gridwidth": 2,
            "linecolor": "rgb(36,36,36)",
            "showbackground": true,
            "showgrid": false,
            "showline": true,
            "ticks": "outside",
            "zeroline": false,
            "zerolinecolor": "rgb(36,36,36)"
           }
          },
          "shapedefaults": {
           "fillcolor": "black",
           "line": {
            "width": 0
           },
           "opacity": 0.3
          },
          "ternary": {
           "aaxis": {
            "gridcolor": "rgb(232,232,232)",
            "linecolor": "rgb(36,36,36)",
            "showgrid": false,
            "showline": true,
            "ticks": "outside"
           },
           "baxis": {
            "gridcolor": "rgb(232,232,232)",
            "linecolor": "rgb(36,36,36)",
            "showgrid": false,
            "showline": true,
            "ticks": "outside"
           },
           "bgcolor": "white",
           "caxis": {
            "gridcolor": "rgb(232,232,232)",
            "linecolor": "rgb(36,36,36)",
            "showgrid": false,
            "showline": true,
            "ticks": "outside"
           }
          },
          "title": {
           "x": 0.05
          },
          "xaxis": {
           "automargin": true,
           "gridcolor": "rgb(232,232,232)",
           "linecolor": "rgb(36,36,36)",
           "showgrid": false,
           "showline": true,
           "ticks": "outside",
           "title": {
            "standoff": 15
           },
           "zeroline": false,
           "zerolinecolor": "rgb(36,36,36)"
          },
          "yaxis": {
           "automargin": true,
           "gridcolor": "rgb(232,232,232)",
           "linecolor": "rgb(36,36,36)",
           "showgrid": false,
           "showline": true,
           "ticks": "outside",
           "title": {
            "standoff": 15
           },
           "zeroline": false,
           "zerolinecolor": "rgb(36,36,36)"
          }
         }
        },
        "title": {
         "text": "Sales, Volume, and Household Counts for Various Consumer Commodities"
        },
        "xaxis": {
         "anchor": "y",
         "domain": [
          0,
          1
         ],
         "title": {
          "text": "QUANTITY"
         }
        },
        "yaxis": {
         "anchor": "x",
         "domain": [
          0,
          1
         ],
         "title": {
          "text": "SALES_VALUE"
         }
        }
       }
      },
      "text/html": [
       "<div>                            <div id=\"a9d53cf6-e8d0-4567-bbfa-3bb3943e3166\" class=\"plotly-graph-div\" style=\"height:525px; width:100%;\"></div>            <script type=\"text/javascript\">                require([\"plotly\"], function(Plotly) {                    window.PLOTLYENV=window.PLOTLYENV || {};                                    if (document.getElementById(\"a9d53cf6-e8d0-4567-bbfa-3bb3943e3166\")) {                    Plotly.newPlot(                        \"a9d53cf6-e8d0-4567-bbfa-3bb3943e3166\",                        [{\"hovertemplate\": \"<b>%{hovertext}</b><br><br>COMMODITY_DESC=ADULT INCONTINENCE<br>QUANTITY=%{x}<br>SALES_VALUE=%{y}<br>HOUSEHOLDS=%{marker.size}<extra></extra>\", \"hovertext\": [\"ADULT INCONTINENCE\"], \"legendgroup\": \"ADULT INCONTINENCE\", \"marker\": {\"color\": \"#1F77B4\", \"size\": [13], \"sizemode\": \"area\", \"sizeref\": 0.3611111111111111, \"symbol\": \"circle\"}, \"mode\": \"markers\", \"name\": \"ADULT INCONTINENCE\", \"orientation\": \"v\", \"showlegend\": true, \"type\": \"scatter\", \"x\": [27], \"xaxis\": \"x\", \"y\": [211.22000000000008], \"yaxis\": \"y\"}, {\"hovertemplate\": \"<b>%{hovertext}</b><br><br>COMMODITY_DESC=AIR CARE<br>QUANTITY=%{x}<br>SALES_VALUE=%{y}<br>HOUSEHOLDS=%{marker.size}<extra></extra>\", \"hovertext\": [\"AIR CARE\"], \"legendgroup\": \"AIR CARE\", \"marker\": {\"color\": \"#FF7F0E\", \"size\": [177], \"sizemode\": \"area\", \"sizeref\": 0.3611111111111111, \"symbol\": \"circle\"}, \"mode\": \"markers\", \"name\": \"AIR CARE\", \"orientation\": \"v\", \"showlegend\": true, \"type\": \"scatter\", \"x\": [415], \"xaxis\": \"x\", \"y\": [967.1500000000023], \"yaxis\": \"y\"}, {\"hovertemplate\": \"<b>%{hovertext}</b><br><br>COMMODITY_DESC=ANALGESICS<br>QUANTITY=%{x}<br>SALES_VALUE=%{y}<br>HOUSEHOLDS=%{marker.size}<extra></extra>\", \"hovertext\": [\"ANALGESICS\"], \"legendgroup\": \"ANALGESICS\", \"marker\": {\"color\": \"#2CA02C\", \"size\": [183], \"sizemode\": \"area\", \"sizeref\": 0.3611111111111111, \"symbol\": \"circle\"}, \"mode\": \"markers\", \"name\": \"ANALGESICS\", \"orientation\": \"v\", \"showlegend\": true, \"type\": \"scatter\", \"x\": [295], \"xaxis\": \"x\", \"y\": [1296.3700000000013], \"yaxis\": \"y\"}, {\"hovertemplate\": \"<b>%{hovertext}</b><br><br>COMMODITY_DESC=ANTACIDS<br>QUANTITY=%{x}<br>SALES_VALUE=%{y}<br>HOUSEHOLDS=%{marker.size}<extra></extra>\", \"hovertext\": [\"ANTACIDS\"], \"legendgroup\": \"ANTACIDS\", \"marker\": {\"color\": \"#D62728\", \"size\": [83], \"sizemode\": \"area\", \"sizeref\": 0.3611111111111111, \"symbol\": \"circle\"}, \"mode\": \"markers\", \"name\": \"ANTACIDS\", \"orientation\": \"v\", \"showlegend\": true, \"type\": \"scatter\", \"x\": [145], \"xaxis\": \"x\", \"y\": [752.4800000000006], \"yaxis\": \"y\"}, {\"hovertemplate\": \"<b>%{hovertext}</b><br><br>COMMODITY_DESC=APPAREL<br>QUANTITY=%{x}<br>SALES_VALUE=%{y}<br>HOUSEHOLDS=%{marker.size}<extra></extra>\", \"hovertext\": [\"APPAREL\"], \"legendgroup\": \"APPAREL\", \"marker\": {\"color\": \"#9467BD\", \"size\": [34], \"sizemode\": \"area\", \"sizeref\": 0.3611111111111111, \"symbol\": \"circle\"}, \"mode\": \"markers\", \"name\": \"APPAREL\", \"orientation\": \"v\", \"showlegend\": true, \"type\": \"scatter\", \"x\": [61], \"xaxis\": \"x\", \"y\": [228.40000000000006], \"yaxis\": \"y\"}, {\"hovertemplate\": \"<b>%{hovertext}</b><br><br>COMMODITY_DESC=APPLES<br>QUANTITY=%{x}<br>SALES_VALUE=%{y}<br>HOUSEHOLDS=%{marker.size}<extra></extra>\", \"hovertext\": [\"APPLES\"], \"legendgroup\": \"APPLES\", \"marker\": {\"color\": \"#8C564B\", \"size\": [421], \"sizemode\": \"area\", \"sizeref\": 0.3611111111111111, \"symbol\": \"circle\"}, \"mode\": \"markers\", \"name\": \"APPLES\", \"orientation\": \"v\", \"showlegend\": true, \"type\": \"scatter\", \"x\": [822], \"xaxis\": \"x\", \"y\": [1972.850000000003], \"yaxis\": \"y\"}, {\"hovertemplate\": \"<b>%{hovertext}</b><br><br>COMMODITY_DESC=AUDIO/VIDEO PRODUCTS<br>QUANTITY=%{x}<br>SALES_VALUE=%{y}<br>HOUSEHOLDS=%{marker.size}<extra></extra>\", \"hovertext\": [\"AUDIO/VIDEO PRODUCTS\"], \"legendgroup\": \"AUDIO/VIDEO PRODUCTS\", \"marker\": {\"color\": \"#E377C2\", \"size\": [32], \"sizemode\": \"area\", \"sizeref\": 0.3611111111111111, \"symbol\": \"circle\"}, \"mode\": \"markers\", \"name\": \"AUDIO/VIDEO PRODUCTS\", \"orientation\": \"v\", \"showlegend\": true, \"type\": \"scatter\", \"x\": [50], \"xaxis\": \"x\", \"y\": [612.5200000000003], \"yaxis\": \"y\"}, {\"hovertemplate\": \"<b>%{hovertext}</b><br><br>COMMODITY_DESC=AUTOMOTIVE PRODUCTS<br>QUANTITY=%{x}<br>SALES_VALUE=%{y}<br>HOUSEHOLDS=%{marker.size}<extra></extra>\", \"hovertext\": [\"AUTOMOTIVE PRODUCTS\"], \"legendgroup\": \"AUTOMOTIVE PRODUCTS\", \"marker\": {\"color\": \"#7F7F7F\", \"size\": [64], \"sizemode\": \"area\", \"sizeref\": 0.3611111111111111, \"symbol\": \"circle\"}, \"mode\": \"markers\", \"name\": \"AUTOMOTIVE PRODUCTS\", \"orientation\": \"v\", \"showlegend\": true, \"type\": \"scatter\", \"x\": [105], \"xaxis\": \"x\", \"y\": [345.18000000000023], \"yaxis\": \"y\"}, {\"hovertemplate\": \"<b>%{hovertext}</b><br><br>COMMODITY_DESC=BABY FOODS<br>QUANTITY=%{x}<br>SALES_VALUE=%{y}<br>HOUSEHOLDS=%{marker.size}<extra></extra>\", \"hovertext\": [\"BABY FOODS\"], \"legendgroup\": \"BABY FOODS\", \"marker\": {\"color\": \"#BCBD22\", \"size\": [107], \"sizemode\": \"area\", \"sizeref\": 0.3611111111111111, \"symbol\": \"circle\"}, \"mode\": \"markers\", \"name\": \"BABY FOODS\", \"orientation\": \"v\", \"showlegend\": true, \"type\": \"scatter\", \"x\": [2018], \"xaxis\": \"x\", \"y\": [1358.1099999999994], \"yaxis\": \"y\"}, {\"hovertemplate\": \"<b>%{hovertext}</b><br><br>COMMODITY_DESC=BABY HBC<br>QUANTITY=%{x}<br>SALES_VALUE=%{y}<br>HOUSEHOLDS=%{marker.size}<extra></extra>\", \"hovertext\": [\"BABY HBC\"], \"legendgroup\": \"BABY HBC\", \"marker\": {\"color\": \"#17BECF\", \"size\": [168], \"sizemode\": \"area\", \"sizeref\": 0.3611111111111111, \"symbol\": \"circle\"}, \"mode\": \"markers\", \"name\": \"BABY HBC\", \"orientation\": \"v\", \"showlegend\": true, \"type\": \"scatter\", \"x\": [308], \"xaxis\": \"x\", \"y\": [986.8600000000009], \"yaxis\": \"y\"}, {\"hovertemplate\": \"<b>%{hovertext}</b><br><br>COMMODITY_DESC=BABYFOOD<br>QUANTITY=%{x}<br>SALES_VALUE=%{y}<br>HOUSEHOLDS=%{marker.size}<extra></extra>\", \"hovertext\": [\"BABYFOOD\"], \"legendgroup\": \"BABYFOOD\", \"marker\": {\"color\": \"#1F77B4\", \"size\": [5], \"sizemode\": \"area\", \"sizeref\": 0.3611111111111111, \"symbol\": \"circle\"}, \"mode\": \"markers\", \"name\": \"BABYFOOD\", \"orientation\": \"v\", \"showlegend\": true, \"type\": \"scatter\", \"x\": [42], \"xaxis\": \"x\", \"y\": [32.03], \"yaxis\": \"y\"}, {\"hovertemplate\": \"<b>%{hovertext}</b><br><br>COMMODITY_DESC=BACON<br>QUANTITY=%{x}<br>SALES_VALUE=%{y}<br>HOUSEHOLDS=%{marker.size}<extra></extra>\", \"hovertext\": [\"BACON\"], \"legendgroup\": \"BACON\", \"marker\": {\"color\": \"#FF7F0E\", \"size\": [430], \"sizemode\": \"area\", \"sizeref\": 0.3611111111111111, \"symbol\": \"circle\"}, \"mode\": \"markers\", \"name\": \"BACON\", \"orientation\": \"v\", \"showlegend\": true, \"type\": \"scatter\", \"x\": [968], \"xaxis\": \"x\", \"y\": [2928.00999999999], \"yaxis\": \"y\"}, {\"hovertemplate\": \"<b>%{hovertext}</b><br><br>COMMODITY_DESC=BAG SNACKS<br>QUANTITY=%{x}<br>SALES_VALUE=%{y}<br>HOUSEHOLDS=%{marker.size}<extra></extra>\", \"hovertext\": [\"BAG SNACKS\"], \"legendgroup\": \"BAG SNACKS\", \"marker\": {\"color\": \"#2CA02C\", \"size\": [1078], \"sizemode\": \"area\", \"sizeref\": 0.3611111111111111, \"symbol\": \"circle\"}, \"mode\": \"markers\", \"name\": \"BAG SNACKS\", \"orientation\": \"v\", \"showlegend\": true, \"type\": \"scatter\", \"x\": [5220], \"xaxis\": \"x\", \"y\": [9384.609999999964], \"yaxis\": \"y\"}, {\"hovertemplate\": \"<b>%{hovertext}</b><br><br>COMMODITY_DESC=BAKED BREAD/BUNS/ROLLS<br>QUANTITY=%{x}<br>SALES_VALUE=%{y}<br>HOUSEHOLDS=%{marker.size}<extra></extra>\", \"hovertext\": [\"BAKED BREAD/BUNS/ROLLS\"], \"legendgroup\": \"BAKED BREAD/BUNS/ROLLS\", \"marker\": {\"color\": \"#D62728\", \"size\": [1287], \"sizemode\": \"area\", \"sizeref\": 0.3611111111111111, \"symbol\": \"circle\"}, \"mode\": \"markers\", \"name\": \"BAKED BREAD/BUNS/ROLLS\", \"orientation\": \"v\", \"showlegend\": true, \"type\": \"scatter\", \"x\": [6162], \"xaxis\": \"x\", \"y\": [8904.77999999984], \"yaxis\": \"y\"}, {\"hovertemplate\": \"<b>%{hovertext}</b><br><br>COMMODITY_DESC=BAKED SWEET GOODS<br>QUANTITY=%{x}<br>SALES_VALUE=%{y}<br>HOUSEHOLDS=%{marker.size}<extra></extra>\", \"hovertext\": [\"BAKED SWEET GOODS\"], \"legendgroup\": \"BAKED SWEET GOODS\", \"marker\": {\"color\": \"#9467BD\", \"size\": [582], \"sizemode\": \"area\", \"sizeref\": 0.3611111111111111, \"symbol\": \"circle\"}, \"mode\": \"markers\", \"name\": \"BAKED SWEET GOODS\", \"orientation\": \"v\", \"showlegend\": true, \"type\": \"scatter\", \"x\": [1794], \"xaxis\": \"x\", \"y\": [3170.429999999981], \"yaxis\": \"y\"}, {\"hovertemplate\": \"<b>%{hovertext}</b><br><br>COMMODITY_DESC=BAKERY PARTY TRAYS<br>QUANTITY=%{x}<br>SALES_VALUE=%{y}<br>HOUSEHOLDS=%{marker.size}<extra></extra>\", \"hovertext\": [\"BAKERY PARTY TRAYS\"], \"legendgroup\": \"BAKERY PARTY TRAYS\", \"marker\": {\"color\": \"#8C564B\", \"size\": [2], \"sizemode\": \"area\", \"sizeref\": 0.3611111111111111, \"symbol\": \"circle\"}, \"mode\": \"markers\", \"name\": \"BAKERY PARTY TRAYS\", \"orientation\": \"v\", \"showlegend\": true, \"type\": \"scatter\", \"x\": [2], \"xaxis\": \"x\", \"y\": [5.38], \"yaxis\": \"y\"}, {\"hovertemplate\": \"<b>%{hovertext}</b><br><br>COMMODITY_DESC=BAKING<br>QUANTITY=%{x}<br>SALES_VALUE=%{y}<br>HOUSEHOLDS=%{marker.size}<extra></extra>\", \"hovertext\": [\"BAKING\"], \"legendgroup\": \"BAKING\", \"marker\": {\"color\": \"#E377C2\", \"size\": [8], \"sizemode\": \"area\", \"sizeref\": 0.3611111111111111, \"symbol\": \"circle\"}, \"mode\": \"markers\", \"name\": \"BAKING\", \"orientation\": \"v\", \"showlegend\": true, \"type\": \"scatter\", \"x\": [11], \"xaxis\": \"x\", \"y\": [23.39], \"yaxis\": \"y\"}, {\"hovertemplate\": \"<b>%{hovertext}</b><br><br>COMMODITY_DESC=BAKING MIXES<br>QUANTITY=%{x}<br>SALES_VALUE=%{y}<br>HOUSEHOLDS=%{marker.size}<extra></extra>\", \"hovertext\": [\"BAKING MIXES\"], \"legendgroup\": \"BAKING MIXES\", \"marker\": {\"color\": \"#7F7F7F\", \"size\": [376], \"sizemode\": \"area\", \"sizeref\": 0.3611111111111111, \"symbol\": \"circle\"}, \"mode\": \"markers\", \"name\": \"BAKING MIXES\", \"orientation\": \"v\", \"showlegend\": true, \"type\": \"scatter\", \"x\": [1234], \"xaxis\": \"x\", \"y\": [1677.6100000000067], \"yaxis\": \"y\"}, {\"hovertemplate\": \"<b>%{hovertext}</b><br><br>COMMODITY_DESC=BAKING NEEDS<br>QUANTITY=%{x}<br>SALES_VALUE=%{y}<br>HOUSEHOLDS=%{marker.size}<extra></extra>\", \"hovertext\": [\"BAKING NEEDS\"], \"legendgroup\": \"BAKING NEEDS\", \"marker\": {\"color\": \"#BCBD22\", \"size\": [324], \"sizemode\": \"area\", \"sizeref\": 0.3611111111111111, \"symbol\": \"circle\"}, \"mode\": \"markers\", \"name\": \"BAKING NEEDS\", \"orientation\": \"v\", \"showlegend\": true, \"type\": \"scatter\", \"x\": [771], \"xaxis\": \"x\", \"y\": [1292.8100000000027], \"yaxis\": \"y\"}, {\"hovertemplate\": \"<b>%{hovertext}</b><br><br>COMMODITY_DESC=BATH<br>QUANTITY=%{x}<br>SALES_VALUE=%{y}<br>HOUSEHOLDS=%{marker.size}<extra></extra>\", \"hovertext\": [\"BATH\"], \"legendgroup\": \"BATH\", \"marker\": {\"color\": \"#17BECF\", \"size\": [66], \"sizemode\": \"area\", \"sizeref\": 0.3611111111111111, \"symbol\": \"circle\"}, \"mode\": \"markers\", \"name\": \"BATH\", \"orientation\": \"v\", \"showlegend\": true, \"type\": \"scatter\", \"x\": [109], \"xaxis\": \"x\", \"y\": [323.11000000000024], \"yaxis\": \"y\"}, {\"hovertemplate\": \"<b>%{hovertext}</b><br><br>COMMODITY_DESC=BATH TISSUES<br>QUANTITY=%{x}<br>SALES_VALUE=%{y}<br>HOUSEHOLDS=%{marker.size}<extra></extra>\", \"hovertext\": [\"BATH TISSUES\"], \"legendgroup\": \"BATH TISSUES\", \"marker\": {\"color\": \"#1F77B4\", \"size\": [510], \"sizemode\": \"area\", \"sizeref\": 0.3611111111111111, \"symbol\": \"circle\"}, \"mode\": \"markers\", \"name\": \"BATH TISSUES\", \"orientation\": \"v\", \"showlegend\": true, \"type\": \"scatter\", \"x\": [1017], \"xaxis\": \"x\", \"y\": [3563.1099999999647], \"yaxis\": \"y\"}, {\"hovertemplate\": \"<b>%{hovertext}</b><br><br>COMMODITY_DESC=BATTERIES<br>QUANTITY=%{x}<br>SALES_VALUE=%{y}<br>HOUSEHOLDS=%{marker.size}<extra></extra>\", \"hovertext\": [\"BATTERIES\"], \"legendgroup\": \"BATTERIES\", \"marker\": {\"color\": \"#FF7F0E\", \"size\": [111], \"sizemode\": \"area\", \"sizeref\": 0.3611111111111111, \"symbol\": \"circle\"}, \"mode\": \"markers\", \"name\": \"BATTERIES\", \"orientation\": \"v\", \"showlegend\": true, \"type\": \"scatter\", \"x\": [173], \"xaxis\": \"x\", \"y\": [677.8000000000002], \"yaxis\": \"y\"}, {\"hovertemplate\": \"<b>%{hovertext}</b><br><br>COMMODITY_DESC=BEANS - CANNED GLASS & MW<br>QUANTITY=%{x}<br>SALES_VALUE=%{y}<br>HOUSEHOLDS=%{marker.size}<extra></extra>\", \"hovertext\": [\"BEANS - CANNED GLASS & MW\"], \"legendgroup\": \"BEANS - CANNED GLASS & MW\", \"marker\": {\"color\": \"#2CA02C\", \"size\": [425], \"sizemode\": \"area\", \"sizeref\": 0.3611111111111111, \"symbol\": \"circle\"}, \"mode\": \"markers\", \"name\": \"BEANS - CANNED GLASS & MW\", \"orientation\": \"v\", \"showlegend\": true, \"type\": \"scatter\", \"x\": [1365], \"xaxis\": \"x\", \"y\": [1212.2100000000003], \"yaxis\": \"y\"}, {\"hovertemplate\": \"<b>%{hovertext}</b><br><br>COMMODITY_DESC=BEEF<br>QUANTITY=%{x}<br>SALES_VALUE=%{y}<br>HOUSEHOLDS=%{marker.size}<extra></extra>\", \"hovertext\": [\"BEEF\"], \"legendgroup\": \"BEEF\", \"marker\": {\"color\": \"#D62728\", \"size\": [962], \"sizemode\": \"area\", \"sizeref\": 0.3611111111111111, \"symbol\": \"circle\"}, \"mode\": \"markers\", \"name\": \"BEEF\", \"orientation\": \"v\", \"showlegend\": true, \"type\": \"scatter\", \"x\": [4172], \"xaxis\": \"x\", \"y\": [21298.490000000013], \"yaxis\": \"y\"}, {\"hovertemplate\": \"<b>%{hovertext}</b><br><br>COMMODITY_DESC=BEERS/ALES<br>QUANTITY=%{x}<br>SALES_VALUE=%{y}<br>HOUSEHOLDS=%{marker.size}<extra></extra>\", \"hovertext\": [\"BEERS/ALES\"], \"legendgroup\": \"BEERS/ALES\", \"marker\": {\"color\": \"#9467BD\", \"size\": [481], \"sizemode\": \"area\", \"sizeref\": 0.3611111111111111, \"symbol\": \"circle\"}, \"mode\": \"markers\", \"name\": \"BEERS/ALES\", \"orientation\": \"v\", \"showlegend\": true, \"type\": \"scatter\", \"x\": [1418], \"xaxis\": \"x\", \"y\": [10497.359999999802], \"yaxis\": \"y\"}, {\"hovertemplate\": \"<b>%{hovertext}</b><br><br>COMMODITY_DESC=BERRIES<br>QUANTITY=%{x}<br>SALES_VALUE=%{y}<br>HOUSEHOLDS=%{marker.size}<extra></extra>\", \"hovertext\": [\"BERRIES\"], \"legendgroup\": \"BERRIES\", \"marker\": {\"color\": \"#8C564B\", \"size\": [468], \"sizemode\": \"area\", \"sizeref\": 0.3611111111111111, \"symbol\": \"circle\"}, \"mode\": \"markers\", \"name\": \"BERRIES\", \"orientation\": \"v\", \"showlegend\": true, \"type\": \"scatter\", \"x\": [1227], \"xaxis\": \"x\", \"y\": [2590.519999999987], \"yaxis\": \"y\"}, {\"hovertemplate\": \"<b>%{hovertext}</b><br><br>COMMODITY_DESC=BEVERAGE<br>QUANTITY=%{x}<br>SALES_VALUE=%{y}<br>HOUSEHOLDS=%{marker.size}<extra></extra>\", \"hovertext\": [\"BEVERAGE\"], \"legendgroup\": \"BEVERAGE\", \"marker\": {\"color\": \"#E377C2\", \"size\": [28], \"sizemode\": \"area\", \"sizeref\": 0.3611111111111111, \"symbol\": \"circle\"}, \"mode\": \"markers\", \"name\": \"BEVERAGE\", \"orientation\": \"v\", \"showlegend\": true, \"type\": \"scatter\", \"x\": [44], \"xaxis\": \"x\", \"y\": [93.84000000000003], \"yaxis\": \"y\"}, {\"hovertemplate\": \"<b>%{hovertext}</b><br><br>COMMODITY_DESC=BIRD SEED<br>QUANTITY=%{x}<br>SALES_VALUE=%{y}<br>HOUSEHOLDS=%{marker.size}<extra></extra>\", \"hovertext\": [\"BIRD SEED\"], \"legendgroup\": \"BIRD SEED\", \"marker\": {\"color\": \"#7F7F7F\", \"size\": [8], \"sizemode\": \"area\", \"sizeref\": 0.3611111111111111, \"symbol\": \"circle\"}, \"mode\": \"markers\", \"name\": \"BIRD SEED\", \"orientation\": \"v\", \"showlegend\": true, \"type\": \"scatter\", \"x\": [12], \"xaxis\": \"x\", \"y\": [43.48], \"yaxis\": \"y\"}, {\"hovertemplate\": \"<b>%{hovertext}</b><br><br>COMMODITY_DESC=BLEACH<br>QUANTITY=%{x}<br>SALES_VALUE=%{y}<br>HOUSEHOLDS=%{marker.size}<extra></extra>\", \"hovertext\": [\"BLEACH\"], \"legendgroup\": \"BLEACH\", \"marker\": {\"color\": \"#BCBD22\", \"size\": [196], \"sizemode\": \"area\", \"sizeref\": 0.3611111111111111, \"symbol\": \"circle\"}, \"mode\": \"markers\", \"name\": \"BLEACH\", \"orientation\": \"v\", \"showlegend\": true, \"type\": \"scatter\", \"x\": [285], \"xaxis\": \"x\", \"y\": [534.5600000000004], \"yaxis\": \"y\"}, {\"hovertemplate\": \"<b>%{hovertext}</b><br><br>COMMODITY_DESC=BOOKSTORE<br>QUANTITY=%{x}<br>SALES_VALUE=%{y}<br>HOUSEHOLDS=%{marker.size}<extra></extra>\", \"hovertext\": [\"BOOKSTORE\"], \"legendgroup\": \"BOOKSTORE\", \"marker\": {\"color\": \"#17BECF\", \"size\": [72], \"sizemode\": \"area\", \"sizeref\": 0.3611111111111111, \"symbol\": \"circle\"}, \"mode\": \"markers\", \"name\": \"BOOKSTORE\", \"orientation\": \"v\", \"showlegend\": true, \"type\": \"scatter\", \"x\": [114], \"xaxis\": \"x\", \"y\": [943.0200000000007], \"yaxis\": \"y\"}, {\"hovertemplate\": \"<b>%{hovertext}</b><br><br>COMMODITY_DESC=BOTTLE DEPOSITS<br>QUANTITY=%{x}<br>SALES_VALUE=%{y}<br>HOUSEHOLDS=%{marker.size}<extra></extra>\", \"hovertext\": [\"BOTTLE DEPOSITS\"], \"legendgroup\": \"BOTTLE DEPOSITS\", \"marker\": {\"color\": \"#1F77B4\", \"size\": [8], \"sizemode\": \"area\", \"sizeref\": 0.3611111111111111, \"symbol\": \"circle\"}, \"mode\": \"markers\", \"name\": \"BOTTLE DEPOSITS\", \"orientation\": \"v\", \"showlegend\": true, \"type\": \"scatter\", \"x\": [30], \"xaxis\": \"x\", \"y\": [18.599999999999994], \"yaxis\": \"y\"}, {\"hovertemplate\": \"<b>%{hovertext}</b><br><br>COMMODITY_DESC=BREAD<br>QUANTITY=%{x}<br>SALES_VALUE=%{y}<br>HOUSEHOLDS=%{marker.size}<extra></extra>\", \"hovertext\": [\"BREAD\"], \"legendgroup\": \"BREAD\", \"marker\": {\"color\": \"#FF7F0E\", \"size\": [242], \"sizemode\": \"area\", \"sizeref\": 0.3611111111111111, \"symbol\": \"circle\"}, \"mode\": \"markers\", \"name\": \"BREAD\", \"orientation\": \"v\", \"showlegend\": true, \"type\": \"scatter\", \"x\": [497], \"xaxis\": \"x\", \"y\": [852.7400000000005], \"yaxis\": \"y\"}, {\"hovertemplate\": \"<b>%{hovertext}</b><br><br>COMMODITY_DESC=BREAKFAST SAUSAGE/SANDWICHES<br>QUANTITY=%{x}<br>SALES_VALUE=%{y}<br>HOUSEHOLDS=%{marker.size}<extra></extra>\", \"hovertext\": [\"BREAKFAST SAUSAGE/SANDWICHES\"], \"legendgroup\": \"BREAKFAST SAUSAGE/SANDWICHES\", \"marker\": {\"color\": \"#2CA02C\", \"size\": [386], \"sizemode\": \"area\", \"sizeref\": 0.3611111111111111, \"symbol\": \"circle\"}, \"mode\": \"markers\", \"name\": \"BREAKFAST SAUSAGE/SANDWICHES\", \"orientation\": \"v\", \"showlegend\": true, \"type\": \"scatter\", \"x\": [941], \"xaxis\": \"x\", \"y\": [2715.04999999999], \"yaxis\": \"y\"}, {\"hovertemplate\": \"<b>%{hovertext}</b><br><br>COMMODITY_DESC=BREAKFAST SWEETS<br>QUANTITY=%{x}<br>SALES_VALUE=%{y}<br>HOUSEHOLDS=%{marker.size}<extra></extra>\", \"hovertext\": [\"BREAKFAST SWEETS\"], \"legendgroup\": \"BREAKFAST SWEETS\", \"marker\": {\"color\": \"#D62728\", \"size\": [339], \"sizemode\": \"area\", \"sizeref\": 0.3611111111111111, \"symbol\": \"circle\"}, \"mode\": \"markers\", \"name\": \"BREAKFAST SWEETS\", \"orientation\": \"v\", \"showlegend\": true, \"type\": \"scatter\", \"x\": [1063], \"xaxis\": \"x\", \"y\": [1397.2200000000025], \"yaxis\": \"y\"}, {\"hovertemplate\": \"<b>%{hovertext}</b><br><br>COMMODITY_DESC=BROCCOLI/CAULIFLOWER<br>QUANTITY=%{x}<br>SALES_VALUE=%{y}<br>HOUSEHOLDS=%{marker.size}<extra></extra>\", \"hovertext\": [\"BROCCOLI/CAULIFLOWER\"], \"legendgroup\": \"BROCCOLI/CAULIFLOWER\", \"marker\": {\"color\": \"#9467BD\", \"size\": [192], \"sizemode\": \"area\", \"sizeref\": 0.3611111111111111, \"symbol\": \"circle\"}, \"mode\": \"markers\", \"name\": \"BROCCOLI/CAULIFLOWER\", \"orientation\": \"v\", \"showlegend\": true, \"type\": \"scatter\", \"x\": [374], \"xaxis\": \"x\", \"y\": [588.4300000000003], \"yaxis\": \"y\"}, {\"hovertemplate\": \"<b>%{hovertext}</b><br><br>COMMODITY_DESC=BROOMS AND MOPS<br>QUANTITY=%{x}<br>SALES_VALUE=%{y}<br>HOUSEHOLDS=%{marker.size}<extra></extra>\", \"hovertext\": [\"BROOMS AND MOPS\"], \"legendgroup\": \"BROOMS AND MOPS\", \"marker\": {\"color\": \"#8C564B\", \"size\": [173], \"sizemode\": \"area\", \"sizeref\": 0.3611111111111111, \"symbol\": \"circle\"}, \"mode\": \"markers\", \"name\": \"BROOMS AND MOPS\", \"orientation\": \"v\", \"showlegend\": true, \"type\": \"scatter\", \"x\": [305], \"xaxis\": \"x\", \"y\": [782.0100000000002], \"yaxis\": \"y\"}, {\"hovertemplate\": \"<b>%{hovertext}</b><br><br>COMMODITY_DESC=BUTTER<br>QUANTITY=%{x}<br>SALES_VALUE=%{y}<br>HOUSEHOLDS=%{marker.size}<extra></extra>\", \"hovertext\": [\"BUTTER\"], \"legendgroup\": \"BUTTER\", \"marker\": {\"color\": \"#E377C2\", \"size\": [170], \"sizemode\": \"area\", \"sizeref\": 0.3611111111111111, \"symbol\": \"circle\"}, \"mode\": \"markers\", \"name\": \"BUTTER\", \"orientation\": \"v\", \"showlegend\": true, \"type\": \"scatter\", \"x\": [284], \"xaxis\": \"x\", \"y\": [856.7300000000017], \"yaxis\": \"y\"}, {\"hovertemplate\": \"<b>%{hovertext}</b><br><br>COMMODITY_DESC=CAKES<br>QUANTITY=%{x}<br>SALES_VALUE=%{y}<br>HOUSEHOLDS=%{marker.size}<extra></extra>\", \"hovertext\": [\"CAKES\"], \"legendgroup\": \"CAKES\", \"marker\": {\"color\": \"#7F7F7F\", \"size\": [228], \"sizemode\": \"area\", \"sizeref\": 0.3611111111111111, \"symbol\": \"circle\"}, \"mode\": \"markers\", \"name\": \"CAKES\", \"orientation\": \"v\", \"showlegend\": true, \"type\": \"scatter\", \"x\": [317], \"xaxis\": \"x\", \"y\": [2466.7399999999943], \"yaxis\": \"y\"}, {\"hovertemplate\": \"<b>%{hovertext}</b><br><br>COMMODITY_DESC=CANDLES/ACCESSORIES<br>QUANTITY=%{x}<br>SALES_VALUE=%{y}<br>HOUSEHOLDS=%{marker.size}<extra></extra>\", \"hovertext\": [\"CANDLES/ACCESSORIES\"], \"legendgroup\": \"CANDLES/ACCESSORIES\", \"marker\": {\"color\": \"#BCBD22\", \"size\": [61], \"sizemode\": \"area\", \"sizeref\": 0.3611111111111111, \"symbol\": \"circle\"}, \"mode\": \"markers\", \"name\": \"CANDLES/ACCESSORIES\", \"orientation\": \"v\", \"showlegend\": true, \"type\": \"scatter\", \"x\": [170], \"xaxis\": \"x\", \"y\": [325.47000000000014], \"yaxis\": \"y\"}, {\"hovertemplate\": \"<b>%{hovertext}</b><br><br>COMMODITY_DESC=CANDY - CHECKLANE<br>QUANTITY=%{x}<br>SALES_VALUE=%{y}<br>HOUSEHOLDS=%{marker.size}<extra></extra>\", \"hovertext\": [\"CANDY - CHECKLANE\"], \"legendgroup\": \"CANDY - CHECKLANE\", \"marker\": {\"color\": \"#17BECF\", \"size\": [710], \"sizemode\": \"area\", \"sizeref\": 0.3611111111111111, \"symbol\": \"circle\"}, \"mode\": \"markers\", \"name\": \"CANDY - CHECKLANE\", \"orientation\": \"v\", \"showlegend\": true, \"type\": \"scatter\", \"x\": [4448], \"xaxis\": \"x\", \"y\": [2010.3799999999908], \"yaxis\": \"y\"}, {\"hovertemplate\": \"<b>%{hovertext}</b><br><br>COMMODITY_DESC=CANDY - PACKAGED<br>QUANTITY=%{x}<br>SALES_VALUE=%{y}<br>HOUSEHOLDS=%{marker.size}<extra></extra>\", \"hovertext\": [\"CANDY - PACKAGED\"], \"legendgroup\": \"CANDY - PACKAGED\", \"marker\": {\"color\": \"#1F77B4\", \"size\": [620], \"sizemode\": \"area\", \"sizeref\": 0.3611111111111111, \"symbol\": \"circle\"}, \"mode\": \"markers\", \"name\": \"CANDY - PACKAGED\", \"orientation\": \"v\", \"showlegend\": true, \"type\": \"scatter\", \"x\": [2237], \"xaxis\": \"x\", \"y\": [3643.9699999999725], \"yaxis\": \"y\"}, {\"hovertemplate\": \"<b>%{hovertext}</b><br><br>COMMODITY_DESC=CANNED JUICES<br>QUANTITY=%{x}<br>SALES_VALUE=%{y}<br>HOUSEHOLDS=%{marker.size}<extra></extra>\", \"hovertext\": [\"CANNED JUICES\"], \"legendgroup\": \"CANNED JUICES\", \"marker\": {\"color\": \"#FF7F0E\", \"size\": [634], \"sizemode\": \"area\", \"sizeref\": 0.3611111111111111, \"symbol\": \"circle\"}, \"mode\": \"markers\", \"name\": \"CANNED JUICES\", \"orientation\": \"v\", \"showlegend\": true, \"type\": \"scatter\", \"x\": [2312], \"xaxis\": \"x\", \"y\": [4691.939999999988], \"yaxis\": \"y\"}, {\"hovertemplate\": \"<b>%{hovertext}</b><br><br>COMMODITY_DESC=CANNED MILK<br>QUANTITY=%{x}<br>SALES_VALUE=%{y}<br>HOUSEHOLDS=%{marker.size}<extra></extra>\", \"hovertext\": [\"CANNED MILK\"], \"legendgroup\": \"CANNED MILK\", \"marker\": {\"color\": \"#2CA02C\", \"size\": [73], \"sizemode\": \"area\", \"sizeref\": 0.3611111111111111, \"symbol\": \"circle\"}, \"mode\": \"markers\", \"name\": \"CANNED MILK\", \"orientation\": \"v\", \"showlegend\": true, \"type\": \"scatter\", \"x\": [139], \"xaxis\": \"x\", \"y\": [175.77999999999994], \"yaxis\": \"y\"}, {\"hovertemplate\": \"<b>%{hovertext}</b><br><br>COMMODITY_DESC=CARROTS<br>QUANTITY=%{x}<br>SALES_VALUE=%{y}<br>HOUSEHOLDS=%{marker.size}<extra></extra>\", \"hovertext\": [\"CARROTS\"], \"legendgroup\": \"CARROTS\", \"marker\": {\"color\": \"#D62728\", \"size\": [339], \"sizemode\": \"area\", \"sizeref\": 0.3611111111111111, \"symbol\": \"circle\"}, \"mode\": \"markers\", \"name\": \"CARROTS\", \"orientation\": \"v\", \"showlegend\": true, \"type\": \"scatter\", \"x\": [502], \"xaxis\": \"x\", \"y\": [880.5100000000014], \"yaxis\": \"y\"}, {\"hovertemplate\": \"<b>%{hovertext}</b><br><br>COMMODITY_DESC=CAT FOOD<br>QUANTITY=%{x}<br>SALES_VALUE=%{y}<br>HOUSEHOLDS=%{marker.size}<extra></extra>\", \"hovertext\": [\"CAT FOOD\"], \"legendgroup\": \"CAT FOOD\", \"marker\": {\"color\": \"#9467BD\", \"size\": [163], \"sizemode\": \"area\", \"sizeref\": 0.3611111111111111, \"symbol\": \"circle\"}, \"mode\": \"markers\", \"name\": \"CAT FOOD\", \"orientation\": \"v\", \"showlegend\": true, \"type\": \"scatter\", \"x\": [1815], \"xaxis\": \"x\", \"y\": [1755.219999999997], \"yaxis\": \"y\"}, {\"hovertemplate\": \"<b>%{hovertext}</b><br><br>COMMODITY_DESC=CAT LITTER<br>QUANTITY=%{x}<br>SALES_VALUE=%{y}<br>HOUSEHOLDS=%{marker.size}<extra></extra>\", \"hovertext\": [\"CAT LITTER\"], \"legendgroup\": \"CAT LITTER\", \"marker\": {\"color\": \"#8C564B\", \"size\": [102], \"sizemode\": \"area\", \"sizeref\": 0.3611111111111111, \"symbol\": \"circle\"}, \"mode\": \"markers\", \"name\": \"CAT LITTER\", \"orientation\": \"v\", \"showlegend\": true, \"type\": \"scatter\", \"x\": [206], \"xaxis\": \"x\", \"y\": [815.7500000000007], \"yaxis\": \"y\"}, {\"hovertemplate\": \"<b>%{hovertext}</b><br><br>COMMODITY_DESC=CEREAL/BREAKFAST<br>QUANTITY=%{x}<br>SALES_VALUE=%{y}<br>HOUSEHOLDS=%{marker.size}<extra></extra>\", \"hovertext\": [\"CEREAL/BREAKFAST\"], \"legendgroup\": \"CEREAL/BREAKFAST\", \"marker\": {\"color\": \"#E377C2\", \"size\": [49], \"sizemode\": \"area\", \"sizeref\": 0.3611111111111111, \"symbol\": \"circle\"}, \"mode\": \"markers\", \"name\": \"CEREAL/BREAKFAST\", \"orientation\": \"v\", \"showlegend\": true, \"type\": \"scatter\", \"x\": [109], \"xaxis\": \"x\", \"y\": [387.2600000000003], \"yaxis\": \"y\"}, {\"hovertemplate\": \"<b>%{hovertext}</b><br><br>COMMODITY_DESC=CHARCOAL AND LIGHTER FLUID<br>QUANTITY=%{x}<br>SALES_VALUE=%{y}<br>HOUSEHOLDS=%{marker.size}<extra></extra>\", \"hovertext\": [\"CHARCOAL AND LIGHTER FLUID\"], \"legendgroup\": \"CHARCOAL AND LIGHTER FLUID\", \"marker\": {\"color\": \"#7F7F7F\", \"size\": [137], \"sizemode\": \"area\", \"sizeref\": 0.3611111111111111, \"symbol\": \"circle\"}, \"mode\": \"markers\", \"name\": \"CHARCOAL AND LIGHTER FLUID\", \"orientation\": \"v\", \"showlegend\": true, \"type\": \"scatter\", \"x\": [213], \"xaxis\": \"x\", \"y\": [865.1100000000017], \"yaxis\": \"y\"}, {\"hovertemplate\": \"<b>%{hovertext}</b><br><br>COMMODITY_DESC=CHEESE<br>QUANTITY=%{x}<br>SALES_VALUE=%{y}<br>HOUSEHOLDS=%{marker.size}<extra></extra>\", \"hovertext\": [\"CHEESE\"], \"legendgroup\": \"CHEESE\", \"marker\": {\"color\": \"#BCBD22\", \"size\": [1114], \"sizemode\": \"area\", \"sizeref\": 0.3611111111111111, \"symbol\": \"circle\"}, \"mode\": \"markers\", \"name\": \"CHEESE\", \"orientation\": \"v\", \"showlegend\": true, \"type\": \"scatter\", \"x\": [5197], \"xaxis\": \"x\", \"y\": [11016.969999999848], \"yaxis\": \"y\"}, {\"hovertemplate\": \"<b>%{hovertext}</b><br><br>COMMODITY_DESC=CHEESES<br>QUANTITY=%{x}<br>SALES_VALUE=%{y}<br>HOUSEHOLDS=%{marker.size}<extra></extra>\", \"hovertext\": [\"CHEESES\"], \"legendgroup\": \"CHEESES\", \"marker\": {\"color\": \"#17BECF\", \"size\": [354], \"sizemode\": \"area\", \"sizeref\": 0.3611111111111111, \"symbol\": \"circle\"}, \"mode\": \"markers\", \"name\": \"CHEESES\", \"orientation\": \"v\", \"showlegend\": true, \"type\": \"scatter\", \"x\": [809], \"xaxis\": \"x\", \"y\": [2913.5899999999815], \"yaxis\": \"y\"}, {\"hovertemplate\": \"<b>%{hovertext}</b><br><br>COMMODITY_DESC=CHICKEN<br>QUANTITY=%{x}<br>SALES_VALUE=%{y}<br>HOUSEHOLDS=%{marker.size}<extra></extra>\", \"hovertext\": [\"CHICKEN\"], \"legendgroup\": \"CHICKEN\", \"marker\": {\"color\": \"#1F77B4\", \"size\": [581], \"sizemode\": \"area\", \"sizeref\": 0.3611111111111111, \"symbol\": \"circle\"}, \"mode\": \"markers\", \"name\": \"CHICKEN\", \"orientation\": \"v\", \"showlegend\": true, \"type\": \"scatter\", \"x\": [1675], \"xaxis\": \"x\", \"y\": [6379.409999999986], \"yaxis\": \"y\"}, {\"hovertemplate\": \"<b>%{hovertext}</b><br><br>COMMODITY_DESC=CHICKEN/POULTRY<br>QUANTITY=%{x}<br>SALES_VALUE=%{y}<br>HOUSEHOLDS=%{marker.size}<extra></extra>\", \"hovertext\": [\"CHICKEN/POULTRY\"], \"legendgroup\": \"CHICKEN/POULTRY\", \"marker\": {\"color\": \"#FF7F0E\", \"size\": [236], \"sizemode\": \"area\", \"sizeref\": 0.3611111111111111, \"symbol\": \"circle\"}, \"mode\": \"markers\", \"name\": \"CHICKEN/POULTRY\", \"orientation\": \"v\", \"showlegend\": true, \"type\": \"scatter\", \"x\": [505], \"xaxis\": \"x\", \"y\": [2474.8099999999977], \"yaxis\": \"y\"}, {\"hovertemplate\": \"<b>%{hovertext}</b><br><br>COMMODITY_DESC=CHIPS&SNACKS<br>QUANTITY=%{x}<br>SALES_VALUE=%{y}<br>HOUSEHOLDS=%{marker.size}<extra></extra>\", \"hovertext\": [\"CHIPS&SNACKS\"], \"legendgroup\": \"CHIPS&SNACKS\", \"marker\": {\"color\": \"#2CA02C\", \"size\": [73], \"sizemode\": \"area\", \"sizeref\": 0.3611111111111111, \"symbol\": \"circle\"}, \"mode\": \"markers\", \"name\": \"CHIPS&SNACKS\", \"orientation\": \"v\", \"showlegend\": true, \"type\": \"scatter\", \"x\": [138], \"xaxis\": \"x\", \"y\": [364.34000000000043], \"yaxis\": \"y\"}, {\"hovertemplate\": \"<b>%{hovertext}</b><br><br>COMMODITY_DESC=CHRISTMAS  SEASONAL<br>QUANTITY=%{x}<br>SALES_VALUE=%{y}<br>HOUSEHOLDS=%{marker.size}<extra></extra>\", \"hovertext\": [\"CHRISTMAS  SEASONAL\"], \"legendgroup\": \"CHRISTMAS  SEASONAL\", \"marker\": {\"color\": \"#D62728\", \"size\": [4], \"sizemode\": \"area\", \"sizeref\": 0.3611111111111111, \"symbol\": \"circle\"}, \"mode\": \"markers\", \"name\": \"CHRISTMAS  SEASONAL\", \"orientation\": \"v\", \"showlegend\": true, \"type\": \"scatter\", \"x\": [4], \"xaxis\": \"x\", \"y\": [2.68], \"yaxis\": \"y\"}, {\"hovertemplate\": \"<b>%{hovertext}</b><br><br>COMMODITY_DESC=CIGARETTES<br>QUANTITY=%{x}<br>SALES_VALUE=%{y}<br>HOUSEHOLDS=%{marker.size}<extra></extra>\", \"hovertext\": [\"CIGARETTES\"], \"legendgroup\": \"CIGARETTES\", \"marker\": {\"color\": \"#9467BD\", \"size\": [281], \"sizemode\": \"area\", \"sizeref\": 0.3611111111111111, \"symbol\": \"circle\"}, \"mode\": \"markers\", \"name\": \"CIGARETTES\", \"orientation\": \"v\", \"showlegend\": true, \"type\": \"scatter\", \"x\": [1118], \"xaxis\": \"x\", \"y\": [6252.6399999999985], \"yaxis\": \"y\"}, {\"hovertemplate\": \"<b>%{hovertext}</b><br><br>COMMODITY_DESC=CIGARS<br>QUANTITY=%{x}<br>SALES_VALUE=%{y}<br>HOUSEHOLDS=%{marker.size}<extra></extra>\", \"hovertext\": [\"CIGARS\"], \"legendgroup\": \"CIGARS\", \"marker\": {\"color\": \"#8C564B\", \"size\": [11], \"sizemode\": \"area\", \"sizeref\": 0.3611111111111111, \"symbol\": \"circle\"}, \"mode\": \"markers\", \"name\": \"CIGARS\", \"orientation\": \"v\", \"showlegend\": true, \"type\": \"scatter\", \"x\": [30], \"xaxis\": \"x\", \"y\": [85.42999999999999], \"yaxis\": \"y\"}, {\"hovertemplate\": \"<b>%{hovertext}</b><br><br>COMMODITY_DESC=CITRUS<br>QUANTITY=%{x}<br>SALES_VALUE=%{y}<br>HOUSEHOLDS=%{marker.size}<extra></extra>\", \"hovertext\": [\"CITRUS\"], \"legendgroup\": \"CITRUS\", \"marker\": {\"color\": \"#E377C2\", \"size\": [361], \"sizemode\": \"area\", \"sizeref\": 0.3611111111111111, \"symbol\": \"circle\"}, \"mode\": \"markers\", \"name\": \"CITRUS\", \"orientation\": \"v\", \"showlegend\": true, \"type\": \"scatter\", \"x\": [1390], \"xaxis\": \"x\", \"y\": [1215.1700000000033], \"yaxis\": \"y\"}, {\"hovertemplate\": \"<b>%{hovertext}</b><br><br>COMMODITY_DESC=COCOA MIXES<br>QUANTITY=%{x}<br>SALES_VALUE=%{y}<br>HOUSEHOLDS=%{marker.size}<extra></extra>\", \"hovertext\": [\"COCOA MIXES\"], \"legendgroup\": \"COCOA MIXES\", \"marker\": {\"color\": \"#7F7F7F\", \"size\": [167], \"sizemode\": \"area\", \"sizeref\": 0.3611111111111111, \"symbol\": \"circle\"}, \"mode\": \"markers\", \"name\": \"COCOA MIXES\", \"orientation\": \"v\", \"showlegend\": true, \"type\": \"scatter\", \"x\": [235], \"xaxis\": \"x\", \"y\": [542.1600000000009], \"yaxis\": \"y\"}, {\"hovertemplate\": \"<b>%{hovertext}</b><br><br>COMMODITY_DESC=COFFEE<br>QUANTITY=%{x}<br>SALES_VALUE=%{y}<br>HOUSEHOLDS=%{marker.size}<extra></extra>\", \"hovertext\": [\"COFFEE\"], \"legendgroup\": \"COFFEE\", \"marker\": {\"color\": \"#BCBD22\", \"size\": [396], \"sizemode\": \"area\", \"sizeref\": 0.3611111111111111, \"symbol\": \"circle\"}, \"mode\": \"markers\", \"name\": \"COFFEE\", \"orientation\": \"v\", \"showlegend\": true, \"type\": \"scatter\", \"x\": [855], \"xaxis\": \"x\", \"y\": [3490.11999999998], \"yaxis\": \"y\"}, {\"hovertemplate\": \"<b>%{hovertext}</b><br><br>COMMODITY_DESC=COFFEE FILTERS<br>QUANTITY=%{x}<br>SALES_VALUE=%{y}<br>HOUSEHOLDS=%{marker.size}<extra></extra>\", \"hovertext\": [\"COFFEE FILTERS\"], \"legendgroup\": \"COFFEE FILTERS\", \"marker\": {\"color\": \"#17BECF\", \"size\": [100], \"sizemode\": \"area\", \"sizeref\": 0.3611111111111111, \"symbol\": \"circle\"}, \"mode\": \"markers\", \"name\": \"COFFEE FILTERS\", \"orientation\": \"v\", \"showlegend\": true, \"type\": \"scatter\", \"x\": [115], \"xaxis\": \"x\", \"y\": [239.82], \"yaxis\": \"y\"}, {\"hovertemplate\": \"<b>%{hovertext}</b><br><br>COMMODITY_DESC=COFFEE SHOP SWEET GOODS&RETAIL<br>QUANTITY=%{x}<br>SALES_VALUE=%{y}<br>HOUSEHOLDS=%{marker.size}<extra></extra>\", \"hovertext\": [\"COFFEE SHOP SWEET GOODS&RETAIL\"], \"legendgroup\": \"COFFEE SHOP SWEET GOODS&RETAIL\", \"marker\": {\"color\": \"#1F77B4\", \"size\": [3], \"sizemode\": \"area\", \"sizeref\": 0.3611111111111111, \"symbol\": \"circle\"}, \"mode\": \"markers\", \"name\": \"COFFEE SHOP SWEET GOODS&RETAIL\", \"orientation\": \"v\", \"showlegend\": true, \"type\": \"scatter\", \"x\": [2], \"xaxis\": \"x\", \"y\": [3.9], \"yaxis\": \"y\"}, {\"hovertemplate\": \"<b>%{hovertext}</b><br><br>COMMODITY_DESC=COLD AND FLU<br>QUANTITY=%{x}<br>SALES_VALUE=%{y}<br>HOUSEHOLDS=%{marker.size}<extra></extra>\", \"hovertext\": [\"COLD AND FLU\"], \"legendgroup\": \"COLD AND FLU\", \"marker\": {\"color\": \"#FF7F0E\", \"size\": [141], \"sizemode\": \"area\", \"sizeref\": 0.3611111111111111, \"symbol\": \"circle\"}, \"mode\": \"markers\", \"name\": \"COLD AND FLU\", \"orientation\": \"v\", \"showlegend\": true, \"type\": \"scatter\", \"x\": [225], \"xaxis\": \"x\", \"y\": [926.6100000000014], \"yaxis\": \"y\"}, {\"hovertemplate\": \"<b>%{hovertext}</b><br><br>COMMODITY_DESC=COLD CEREAL<br>QUANTITY=%{x}<br>SALES_VALUE=%{y}<br>HOUSEHOLDS=%{marker.size}<extra></extra>\", \"hovertext\": [\"COLD CEREAL\"], \"legendgroup\": \"COLD CEREAL\", \"marker\": {\"color\": \"#2CA02C\", \"size\": [790], \"sizemode\": \"area\", \"sizeref\": 0.3611111111111111, \"symbol\": \"circle\"}, \"mode\": \"markers\", \"name\": \"COLD CEREAL\", \"orientation\": \"v\", \"showlegend\": true, \"type\": \"scatter\", \"x\": [2482], \"xaxis\": \"x\", \"y\": [6704.7599999999065], \"yaxis\": \"y\"}, {\"hovertemplate\": \"<b>%{hovertext}</b><br><br>COMMODITY_DESC=CONDIMENTS<br>QUANTITY=%{x}<br>SALES_VALUE=%{y}<br>HOUSEHOLDS=%{marker.size}<extra></extra>\", \"hovertext\": [\"CONDIMENTS\"], \"legendgroup\": \"CONDIMENTS\", \"marker\": {\"color\": \"#D62728\", \"size\": [19], \"sizemode\": \"area\", \"sizeref\": 0.3611111111111111, \"symbol\": \"circle\"}, \"mode\": \"markers\", \"name\": \"CONDIMENTS\", \"orientation\": \"v\", \"showlegend\": true, \"type\": \"scatter\", \"x\": [29], \"xaxis\": \"x\", \"y\": [97.28], \"yaxis\": \"y\"}, {\"hovertemplate\": \"<b>%{hovertext}</b><br><br>COMMODITY_DESC=CONDIMENTS/SAUCES<br>QUANTITY=%{x}<br>SALES_VALUE=%{y}<br>HOUSEHOLDS=%{marker.size}<extra></extra>\", \"hovertext\": [\"CONDIMENTS/SAUCES\"], \"legendgroup\": \"CONDIMENTS/SAUCES\", \"marker\": {\"color\": \"#9467BD\", \"size\": [738], \"sizemode\": \"area\", \"sizeref\": 0.3611111111111111, \"symbol\": \"circle\"}, \"mode\": \"markers\", \"name\": \"CONDIMENTS/SAUCES\", \"orientation\": \"v\", \"showlegend\": true, \"type\": \"scatter\", \"x\": [2131], \"xaxis\": \"x\", \"y\": [3446.569999999974], \"yaxis\": \"y\"}, {\"hovertemplate\": \"<b>%{hovertext}</b><br><br>COMMODITY_DESC=CONTINUITIES<br>QUANTITY=%{x}<br>SALES_VALUE=%{y}<br>HOUSEHOLDS=%{marker.size}<extra></extra>\", \"hovertext\": [\"CONTINUITIES\"], \"legendgroup\": \"CONTINUITIES\", \"marker\": {\"color\": \"#8C564B\", \"size\": [8], \"sizemode\": \"area\", \"sizeref\": 0.3611111111111111, \"symbol\": \"circle\"}, \"mode\": \"markers\", \"name\": \"CONTINUITIES\", \"orientation\": \"v\", \"showlegend\": true, \"type\": \"scatter\", \"x\": [12], \"xaxis\": \"x\", \"y\": [39.730000000000004], \"yaxis\": \"y\"}, {\"hovertemplate\": \"<b>%{hovertext}</b><br><br>COMMODITY_DESC=CONVENIENT BRKFST/WHLSM SNACKS<br>QUANTITY=%{x}<br>SALES_VALUE=%{y}<br>HOUSEHOLDS=%{marker.size}<extra></extra>\", \"hovertext\": [\"CONVENIENT BRKFST/WHLSM SNACKS\"], \"legendgroup\": \"CONVENIENT BRKFST/WHLSM SNACKS\", \"marker\": {\"color\": \"#E377C2\", \"size\": [477], \"sizemode\": \"area\", \"sizeref\": 0.3611111111111111, \"symbol\": \"circle\"}, \"mode\": \"markers\", \"name\": \"CONVENIENT BRKFST/WHLSM SNACKS\", \"orientation\": \"v\", \"showlegend\": true, \"type\": \"scatter\", \"x\": [1627], \"xaxis\": \"x\", \"y\": [3362.7899999999913], \"yaxis\": \"y\"}, {\"hovertemplate\": \"<b>%{hovertext}</b><br><br>COMMODITY_DESC=COOKIES<br>QUANTITY=%{x}<br>SALES_VALUE=%{y}<br>HOUSEHOLDS=%{marker.size}<extra></extra>\", \"hovertext\": [\"COOKIES\"], \"legendgroup\": \"COOKIES\", \"marker\": {\"color\": \"#7F7F7F\", \"size\": [210], \"sizemode\": \"area\", \"sizeref\": 0.3611111111111111, \"symbol\": \"circle\"}, \"mode\": \"markers\", \"name\": \"COOKIES\", \"orientation\": \"v\", \"showlegend\": true, \"type\": \"scatter\", \"x\": [417], \"xaxis\": \"x\", \"y\": [1065.980000000001], \"yaxis\": \"y\"}, {\"hovertemplate\": \"<b>%{hovertext}</b><br><br>COMMODITY_DESC=COOKIES/CONES<br>QUANTITY=%{x}<br>SALES_VALUE=%{y}<br>HOUSEHOLDS=%{marker.size}<extra></extra>\", \"hovertext\": [\"COOKIES/CONES\"], \"legendgroup\": \"COOKIES/CONES\", \"marker\": {\"color\": \"#BCBD22\", \"size\": [656], \"sizemode\": \"area\", \"sizeref\": 0.3611111111111111, \"symbol\": \"circle\"}, \"mode\": \"markers\", \"name\": \"COOKIES/CONES\", \"orientation\": \"v\", \"showlegend\": true, \"type\": \"scatter\", \"x\": [1800], \"xaxis\": \"x\", \"y\": [3790.899999999984], \"yaxis\": \"y\"}, {\"hovertemplate\": \"<b>%{hovertext}</b><br><br>COMMODITY_DESC=COOKWARE & BAKEWARE<br>QUANTITY=%{x}<br>SALES_VALUE=%{y}<br>HOUSEHOLDS=%{marker.size}<extra></extra>\", \"hovertext\": [\"COOKWARE & BAKEWARE\"], \"legendgroup\": \"COOKWARE & BAKEWARE\", \"marker\": {\"color\": \"#17BECF\", \"size\": [45], \"sizemode\": \"area\", \"sizeref\": 0.3611111111111111, \"symbol\": \"circle\"}, \"mode\": \"markers\", \"name\": \"COOKWARE & BAKEWARE\", \"orientation\": \"v\", \"showlegend\": true, \"type\": \"scatter\", \"x\": [75], \"xaxis\": \"x\", \"y\": [345.98000000000013], \"yaxis\": \"y\"}, {\"hovertemplate\": \"<b>%{hovertext}</b><br><br>COMMODITY_DESC=CORN<br>QUANTITY=%{x}<br>SALES_VALUE=%{y}<br>HOUSEHOLDS=%{marker.size}<extra></extra>\", \"hovertext\": [\"CORN\"], \"legendgroup\": \"CORN\", \"marker\": {\"color\": \"#1F77B4\", \"size\": [250], \"sizemode\": \"area\", \"sizeref\": 0.3611111111111111, \"symbol\": \"circle\"}, \"mode\": \"markers\", \"name\": \"CORN\", \"orientation\": \"v\", \"showlegend\": true, \"type\": \"scatter\", \"x\": [1706], \"xaxis\": \"x\", \"y\": [805.51], \"yaxis\": \"y\"}, {\"hovertemplate\": \"<b>%{hovertext}</b><br><br>COMMODITY_DESC=COSMETIC ACCESSORIES<br>QUANTITY=%{x}<br>SALES_VALUE=%{y}<br>HOUSEHOLDS=%{marker.size}<extra></extra>\", \"hovertext\": [\"COSMETIC ACCESSORIES\"], \"legendgroup\": \"COSMETIC ACCESSORIES\", \"marker\": {\"color\": \"#FF7F0E\", \"size\": [19], \"sizemode\": \"area\", \"sizeref\": 0.3611111111111111, \"symbol\": \"circle\"}, \"mode\": \"markers\", \"name\": \"COSMETIC ACCESSORIES\", \"orientation\": \"v\", \"showlegend\": true, \"type\": \"scatter\", \"x\": [24], \"xaxis\": \"x\", \"y\": [120.45999999999998], \"yaxis\": \"y\"}, {\"hovertemplate\": \"<b>%{hovertext}</b><br><br>COMMODITY_DESC=COUPON<br>QUANTITY=%{x}<br>SALES_VALUE=%{y}<br>HOUSEHOLDS=%{marker.size}<extra></extra>\", \"hovertext\": [\"COUPON\"], \"legendgroup\": \"COUPON\", \"marker\": {\"color\": \"#2CA02C\", \"size\": [6], \"sizemode\": \"area\", \"sizeref\": 0.3611111111111111, \"symbol\": \"circle\"}, \"mode\": \"markers\", \"name\": \"COUPON\", \"orientation\": \"v\", \"showlegend\": true, \"type\": \"scatter\", \"x\": [6], \"xaxis\": \"x\", \"y\": [44.42], \"yaxis\": \"y\"}, {\"hovertemplate\": \"<b>%{hovertext}</b><br><br>COMMODITY_DESC=COUPONS/STORE & MFG<br>QUANTITY=%{x}<br>SALES_VALUE=%{y}<br>HOUSEHOLDS=%{marker.size}<extra></extra>\", \"hovertext\": [\"COUPONS/STORE & MFG\"], \"legendgroup\": \"COUPONS/STORE & MFG\", \"marker\": {\"color\": \"#D62728\", \"size\": [40], \"sizemode\": \"area\", \"sizeref\": 0.3611111111111111, \"symbol\": \"circle\"}, \"mode\": \"markers\", \"name\": \"COUPONS/STORE & MFG\", \"orientation\": \"v\", \"showlegend\": true, \"type\": \"scatter\", \"x\": [54], \"xaxis\": \"x\", \"y\": [27.25], \"yaxis\": \"y\"}, {\"hovertemplate\": \"<b>%{hovertext}</b><br><br>COMMODITY_DESC=CRACKERS/MISC BKD FD<br>QUANTITY=%{x}<br>SALES_VALUE=%{y}<br>HOUSEHOLDS=%{marker.size}<extra></extra>\", \"hovertext\": [\"CRACKERS/MISC BKD FD\"], \"legendgroup\": \"CRACKERS/MISC BKD FD\", \"marker\": {\"color\": \"#9467BD\", \"size\": [726], \"sizemode\": \"area\", \"sizeref\": 0.3611111111111111, \"symbol\": \"circle\"}, \"mode\": \"markers\", \"name\": \"CRACKERS/MISC BKD FD\", \"orientation\": \"v\", \"showlegend\": true, \"type\": \"scatter\", \"x\": [1846], \"xaxis\": \"x\", \"y\": [3752.0199999999672], \"yaxis\": \"y\"}, {\"hovertemplate\": \"<b>%{hovertext}</b><br><br>COMMODITY_DESC=DELI MEATS<br>QUANTITY=%{x}<br>SALES_VALUE=%{y}<br>HOUSEHOLDS=%{marker.size}<extra></extra>\", \"hovertext\": [\"DELI MEATS\"], \"legendgroup\": \"DELI MEATS\", \"marker\": {\"color\": \"#8C564B\", \"size\": [519], \"sizemode\": \"area\", \"sizeref\": 0.3611111111111111, \"symbol\": \"circle\"}, \"mode\": \"markers\", \"name\": \"DELI MEATS\", \"orientation\": \"v\", \"showlegend\": true, \"type\": \"scatter\", \"x\": [1709], \"xaxis\": \"x\", \"y\": [6843.939999999996], \"yaxis\": \"y\"}, {\"hovertemplate\": \"<b>%{hovertext}</b><br><br>COMMODITY_DESC=DELI SPECIALTIES (RETAIL PK)<br>QUANTITY=%{x}<br>SALES_VALUE=%{y}<br>HOUSEHOLDS=%{marker.size}<extra></extra>\", \"hovertext\": [\"DELI SPECIALTIES (RETAIL PK)\"], \"legendgroup\": \"DELI SPECIALTIES (RETAIL PK)\", \"marker\": {\"color\": \"#E377C2\", \"size\": [36], \"sizemode\": \"area\", \"sizeref\": 0.3611111111111111, \"symbol\": \"circle\"}, \"mode\": \"markers\", \"name\": \"DELI SPECIALTIES (RETAIL PK)\", \"orientation\": \"v\", \"showlegend\": true, \"type\": \"scatter\", \"x\": [48], \"xaxis\": \"x\", \"y\": [152.39], \"yaxis\": \"y\"}, {\"hovertemplate\": \"<b>%{hovertext}</b><br><br>COMMODITY_DESC=DELI SUPPLIES<br>QUANTITY=%{x}<br>SALES_VALUE=%{y}<br>HOUSEHOLDS=%{marker.size}<extra></extra>\", \"hovertext\": [\"DELI SUPPLIES\"], \"legendgroup\": \"DELI SUPPLIES\", \"marker\": {\"color\": \"#7F7F7F\", \"size\": [44], \"sizemode\": \"area\", \"sizeref\": 0.3611111111111111, \"symbol\": \"circle\"}, \"mode\": \"markers\", \"name\": \"DELI SUPPLIES\", \"orientation\": \"v\", \"showlegend\": true, \"type\": \"scatter\", \"x\": [59], \"xaxis\": \"x\", \"y\": [154.95999999999998], \"yaxis\": \"y\"}, {\"hovertemplate\": \"<b>%{hovertext}</b><br><br>COMMODITY_DESC=DEODORANTS<br>QUANTITY=%{x}<br>SALES_VALUE=%{y}<br>HOUSEHOLDS=%{marker.size}<extra></extra>\", \"hovertext\": [\"DEODORANTS\"], \"legendgroup\": \"DEODORANTS\", \"marker\": {\"color\": \"#BCBD22\", \"size\": [254], \"sizemode\": \"area\", \"sizeref\": 0.3611111111111111, \"symbol\": \"circle\"}, \"mode\": \"markers\", \"name\": \"DEODORANTS\", \"orientation\": \"v\", \"showlegend\": true, \"type\": \"scatter\", \"x\": [394], \"xaxis\": \"x\", \"y\": [1072.8900000000021], \"yaxis\": \"y\"}, {\"hovertemplate\": \"<b>%{hovertext}</b><br><br>COMMODITY_DESC=DIAPERS & DISPOSABLES<br>QUANTITY=%{x}<br>SALES_VALUE=%{y}<br>HOUSEHOLDS=%{marker.size}<extra></extra>\", \"hovertext\": [\"DIAPERS & DISPOSABLES\"], \"legendgroup\": \"DIAPERS & DISPOSABLES\", \"marker\": {\"color\": \"#17BECF\", \"size\": [156], \"sizemode\": \"area\", \"sizeref\": 0.3611111111111111, \"symbol\": \"circle\"}, \"mode\": \"markers\", \"name\": \"DIAPERS & DISPOSABLES\", \"orientation\": \"v\", \"showlegend\": true, \"type\": \"scatter\", \"x\": [341], \"xaxis\": \"x\", \"y\": [3644.239999999982], \"yaxis\": \"y\"}, {\"hovertemplate\": \"<b>%{hovertext}</b><br><br>COMMODITY_DESC=DIETARY AID PRODUCTS<br>QUANTITY=%{x}<br>SALES_VALUE=%{y}<br>HOUSEHOLDS=%{marker.size}<extra></extra>\", \"hovertext\": [\"DIETARY AID PRODUCTS\"], \"legendgroup\": \"DIETARY AID PRODUCTS\", \"marker\": {\"color\": \"#1F77B4\", \"size\": [72], \"sizemode\": \"area\", \"sizeref\": 0.3611111111111111, \"symbol\": \"circle\"}, \"mode\": \"markers\", \"name\": \"DIETARY AID PRODUCTS\", \"orientation\": \"v\", \"showlegend\": true, \"type\": \"scatter\", \"x\": [313], \"xaxis\": \"x\", \"y\": [1014.1800000000012], \"yaxis\": \"y\"}, {\"hovertemplate\": \"<b>%{hovertext}</b><br><br>COMMODITY_DESC=DINNER MXS:DRY<br>QUANTITY=%{x}<br>SALES_VALUE=%{y}<br>HOUSEHOLDS=%{marker.size}<extra></extra>\", \"hovertext\": [\"DINNER MXS:DRY\"], \"legendgroup\": \"DINNER MXS:DRY\", \"marker\": {\"color\": \"#FF7F0E\", \"size\": [467], \"sizemode\": \"area\", \"sizeref\": 0.3611111111111111, \"symbol\": \"circle\"}, \"mode\": \"markers\", \"name\": \"DINNER MXS:DRY\", \"orientation\": \"v\", \"showlegend\": true, \"type\": \"scatter\", \"x\": [1717], \"xaxis\": \"x\", \"y\": [2750.8100000000045], \"yaxis\": \"y\"}, {\"hovertemplate\": \"<b>%{hovertext}</b><br><br>COMMODITY_DESC=DINNER SAUSAGE<br>QUANTITY=%{x}<br>SALES_VALUE=%{y}<br>HOUSEHOLDS=%{marker.size}<extra></extra>\", \"hovertext\": [\"DINNER SAUSAGE\"], \"legendgroup\": \"DINNER SAUSAGE\", \"marker\": {\"color\": \"#2CA02C\", \"size\": [501], \"sizemode\": \"area\", \"sizeref\": 0.3611111111111111, \"symbol\": \"circle\"}, \"mode\": \"markers\", \"name\": \"DINNER SAUSAGE\", \"orientation\": \"v\", \"showlegend\": true, \"type\": \"scatter\", \"x\": [1341], \"xaxis\": \"x\", \"y\": [3581.839999999976], \"yaxis\": \"y\"}, {\"hovertemplate\": \"<b>%{hovertext}</b><br><br>COMMODITY_DESC=DISHWASH DETERGENTS<br>QUANTITY=%{x}<br>SALES_VALUE=%{y}<br>HOUSEHOLDS=%{marker.size}<extra></extra>\", \"hovertext\": [\"DISHWASH DETERGENTS\"], \"legendgroup\": \"DISHWASH DETERGENTS\", \"marker\": {\"color\": \"#D62728\", \"size\": [292], \"sizemode\": \"area\", \"sizeref\": 0.3611111111111111, \"symbol\": \"circle\"}, \"mode\": \"markers\", \"name\": \"DISHWASH DETERGENTS\", \"orientation\": \"v\", \"showlegend\": true, \"type\": \"scatter\", \"x\": [439], \"xaxis\": \"x\", \"y\": [1033.430000000001], \"yaxis\": \"y\"}, {\"hovertemplate\": \"<b>%{hovertext}</b><br><br>COMMODITY_DESC=DISPOSIBLE FOILWARE<br>QUANTITY=%{x}<br>SALES_VALUE=%{y}<br>HOUSEHOLDS=%{marker.size}<extra></extra>\", \"hovertext\": [\"DISPOSIBLE FOILWARE\"], \"legendgroup\": \"DISPOSIBLE FOILWARE\", \"marker\": {\"color\": \"#9467BD\", \"size\": [46], \"sizemode\": \"area\", \"sizeref\": 0.3611111111111111, \"symbol\": \"circle\"}, \"mode\": \"markers\", \"name\": \"DISPOSIBLE FOILWARE\", \"orientation\": \"v\", \"showlegend\": true, \"type\": \"scatter\", \"x\": [60], \"xaxis\": \"x\", \"y\": [144.81000000000003], \"yaxis\": \"y\"}, {\"hovertemplate\": \"<b>%{hovertext}</b><br><br>COMMODITY_DESC=DOG FOODS<br>QUANTITY=%{x}<br>SALES_VALUE=%{y}<br>HOUSEHOLDS=%{marker.size}<extra></extra>\", \"hovertext\": [\"DOG FOODS\"], \"legendgroup\": \"DOG FOODS\", \"marker\": {\"color\": \"#8C564B\", \"size\": [209], \"sizemode\": \"area\", \"sizeref\": 0.3611111111111111, \"symbol\": \"circle\"}, \"mode\": \"markers\", \"name\": \"DOG FOODS\", \"orientation\": \"v\", \"showlegend\": true, \"type\": \"scatter\", \"x\": [968], \"xaxis\": \"x\", \"y\": [2839.10999999999], \"yaxis\": \"y\"}, {\"hovertemplate\": \"<b>%{hovertext}</b><br><br>COMMODITY_DESC=DOLLAR VALUE PRODUCTS<br>QUANTITY=%{x}<br>SALES_VALUE=%{y}<br>HOUSEHOLDS=%{marker.size}<extra></extra>\", \"hovertext\": [\"DOLLAR VALUE PRODUCTS\"], \"legendgroup\": \"DOLLAR VALUE PRODUCTS\", \"marker\": {\"color\": \"#E377C2\", \"size\": [1], \"sizemode\": \"area\", \"sizeref\": 0.3611111111111111, \"symbol\": \"circle\"}, \"mode\": \"markers\", \"name\": \"DOLLAR VALUE PRODUCTS\", \"orientation\": \"v\", \"showlegend\": true, \"type\": \"scatter\", \"x\": [1], \"xaxis\": \"x\", \"y\": [1.0], \"yaxis\": \"y\"}, {\"hovertemplate\": \"<b>%{hovertext}</b><br><br>COMMODITY_DESC=DOMESTIC GOODS<br>QUANTITY=%{x}<br>SALES_VALUE=%{y}<br>HOUSEHOLDS=%{marker.size}<extra></extra>\", \"hovertext\": [\"DOMESTIC GOODS\"], \"legendgroup\": \"DOMESTIC GOODS\", \"marker\": {\"color\": \"#7F7F7F\", \"size\": [38], \"sizemode\": \"area\", \"sizeref\": 0.3611111111111111, \"symbol\": \"circle\"}, \"mode\": \"markers\", \"name\": \"DOMESTIC GOODS\", \"orientation\": \"v\", \"showlegend\": true, \"type\": \"scatter\", \"x\": [73], \"xaxis\": \"x\", \"y\": [203.72999999999996], \"yaxis\": \"y\"}, {\"hovertemplate\": \"<b>%{hovertext}</b><br><br>COMMODITY_DESC=DOMESTIC WINE<br>QUANTITY=%{x}<br>SALES_VALUE=%{y}<br>HOUSEHOLDS=%{marker.size}<extra></extra>\", \"hovertext\": [\"DOMESTIC WINE\"], \"legendgroup\": \"DOMESTIC WINE\", \"marker\": {\"color\": \"#BCBD22\", \"size\": [118], \"sizemode\": \"area\", \"sizeref\": 0.3611111111111111, \"symbol\": \"circle\"}, \"mode\": \"markers\", \"name\": \"DOMESTIC WINE\", \"orientation\": \"v\", \"showlegend\": true, \"type\": \"scatter\", \"x\": [303], \"xaxis\": \"x\", \"y\": [2576.94999999999], \"yaxis\": \"y\"}, {\"hovertemplate\": \"<b>%{hovertext}</b><br><br>COMMODITY_DESC=DRIED FRUIT<br>QUANTITY=%{x}<br>SALES_VALUE=%{y}<br>HOUSEHOLDS=%{marker.size}<extra></extra>\", \"hovertext\": [\"DRIED FRUIT\"], \"legendgroup\": \"DRIED FRUIT\", \"marker\": {\"color\": \"#17BECF\", \"size\": [113], \"sizemode\": \"area\", \"sizeref\": 0.3611111111111111, \"symbol\": \"circle\"}, \"mode\": \"markers\", \"name\": \"DRIED FRUIT\", \"orientation\": \"v\", \"showlegend\": true, \"type\": \"scatter\", \"x\": [176], \"xaxis\": \"x\", \"y\": [440.37000000000035], \"yaxis\": \"y\"}, {\"hovertemplate\": \"<b>%{hovertext}</b><br><br>COMMODITY_DESC=DRY BN/VEG/POTATO/RICE<br>QUANTITY=%{x}<br>SALES_VALUE=%{y}<br>HOUSEHOLDS=%{marker.size}<extra></extra>\", \"hovertext\": [\"DRY BN/VEG/POTATO/RICE\"], \"legendgroup\": \"DRY BN/VEG/POTATO/RICE\", \"marker\": {\"color\": \"#1F77B4\", \"size\": [517], \"sizemode\": \"area\", \"sizeref\": 0.3611111111111111, \"symbol\": \"circle\"}, \"mode\": \"markers\", \"name\": \"DRY BN/VEG/POTATO/RICE\", \"orientation\": \"v\", \"showlegend\": true, \"type\": \"scatter\", \"x\": [1621], \"xaxis\": \"x\", \"y\": [2145.2100000000128], \"yaxis\": \"y\"}, {\"hovertemplate\": \"<b>%{hovertext}</b><br><br>COMMODITY_DESC=DRY MIX DESSERTS<br>QUANTITY=%{x}<br>SALES_VALUE=%{y}<br>HOUSEHOLDS=%{marker.size}<extra></extra>\", \"hovertext\": [\"DRY MIX DESSERTS\"], \"legendgroup\": \"DRY MIX DESSERTS\", \"marker\": {\"color\": \"#FF7F0E\", \"size\": [203], \"sizemode\": \"area\", \"sizeref\": 0.3611111111111111, \"symbol\": \"circle\"}, \"mode\": \"markers\", \"name\": \"DRY MIX DESSERTS\", \"orientation\": \"v\", \"showlegend\": true, \"type\": \"scatter\", \"x\": [690], \"xaxis\": \"x\", \"y\": [597.9900000000001], \"yaxis\": \"y\"}, {\"hovertemplate\": \"<b>%{hovertext}</b><br><br>COMMODITY_DESC=DRY NOODLES/PASTA<br>QUANTITY=%{x}<br>SALES_VALUE=%{y}<br>HOUSEHOLDS=%{marker.size}<extra></extra>\", \"hovertext\": [\"DRY NOODLES/PASTA\"], \"legendgroup\": \"DRY NOODLES/PASTA\", \"marker\": {\"color\": \"#2CA02C\", \"size\": [515], \"sizemode\": \"area\", \"sizeref\": 0.3611111111111111, \"symbol\": \"circle\"}, \"mode\": \"markers\", \"name\": \"DRY NOODLES/PASTA\", \"orientation\": \"v\", \"showlegend\": true, \"type\": \"scatter\", \"x\": [1233], \"xaxis\": \"x\", \"y\": [1259.1000000000065], \"yaxis\": \"y\"}, {\"hovertemplate\": \"<b>%{hovertext}</b><br><br>COMMODITY_DESC=DRY SAUCES/GRAVY<br>QUANTITY=%{x}<br>SALES_VALUE=%{y}<br>HOUSEHOLDS=%{marker.size}<extra></extra>\", \"hovertext\": [\"DRY SAUCES/GRAVY\"], \"legendgroup\": \"DRY SAUCES/GRAVY\", \"marker\": {\"color\": \"#D62728\", \"size\": [212], \"sizemode\": \"area\", \"sizeref\": 0.3611111111111111, \"symbol\": \"circle\"}, \"mode\": \"markers\", \"name\": \"DRY SAUCES/GRAVY\", \"orientation\": \"v\", \"showlegend\": true, \"type\": \"scatter\", \"x\": [539], \"xaxis\": \"x\", \"y\": [534.3300000000004], \"yaxis\": \"y\"}, {\"hovertemplate\": \"<b>%{hovertext}</b><br><br>COMMODITY_DESC=DRY TEA/COFFEE/COCO MIX<br>QUANTITY=%{x}<br>SALES_VALUE=%{y}<br>HOUSEHOLDS=%{marker.size}<extra></extra>\", \"hovertext\": [\"DRY TEA/COFFEE/COCO MIX\"], \"legendgroup\": \"DRY TEA/COFFEE/COCO MIX\", \"marker\": {\"color\": \"#9467BD\", \"size\": [5], \"sizemode\": \"area\", \"sizeref\": 0.3611111111111111, \"symbol\": \"circle\"}, \"mode\": \"markers\", \"name\": \"DRY TEA/COFFEE/COCO MIX\", \"orientation\": \"v\", \"showlegend\": true, \"type\": \"scatter\", \"x\": [9], \"xaxis\": \"x\", \"y\": [29.620000000000005], \"yaxis\": \"y\"}, {\"hovertemplate\": \"<b>%{hovertext}</b><br><br>COMMODITY_DESC=EASTER<br>QUANTITY=%{x}<br>SALES_VALUE=%{y}<br>HOUSEHOLDS=%{marker.size}<extra></extra>\", \"hovertext\": [\"EASTER\"], \"legendgroup\": \"EASTER\", \"marker\": {\"color\": \"#8C564B\", \"size\": [25], \"sizemode\": \"area\", \"sizeref\": 0.3611111111111111, \"symbol\": \"circle\"}, \"mode\": \"markers\", \"name\": \"EASTER\", \"orientation\": \"v\", \"showlegend\": true, \"type\": \"scatter\", \"x\": [68], \"xaxis\": \"x\", \"y\": [100.05999999999997], \"yaxis\": \"y\"}, {\"hovertemplate\": \"<b>%{hovertext}</b><br><br>COMMODITY_DESC=EGGS<br>QUANTITY=%{x}<br>SALES_VALUE=%{y}<br>HOUSEHOLDS=%{marker.size}<extra></extra>\", \"hovertext\": [\"EGGS\"], \"legendgroup\": \"EGGS\", \"marker\": {\"color\": \"#E377C2\", \"size\": [813], \"sizemode\": \"area\", \"sizeref\": 0.3611111111111111, \"symbol\": \"circle\"}, \"mode\": \"markers\", \"name\": \"EGGS\", \"orientation\": \"v\", \"showlegend\": true, \"type\": \"scatter\", \"x\": [1796], \"xaxis\": \"x\", \"y\": [2219.9900000000052], \"yaxis\": \"y\"}, {\"hovertemplate\": \"<b>%{hovertext}</b><br><br>COMMODITY_DESC=ELECTRICAL SUPPPLIES<br>QUANTITY=%{x}<br>SALES_VALUE=%{y}<br>HOUSEHOLDS=%{marker.size}<extra></extra>\", \"hovertext\": [\"ELECTRICAL SUPPPLIES\"], \"legendgroup\": \"ELECTRICAL SUPPPLIES\", \"marker\": {\"color\": \"#7F7F7F\", \"size\": [121], \"sizemode\": \"area\", \"sizeref\": 0.3611111111111111, \"symbol\": \"circle\"}, \"mode\": \"markers\", \"name\": \"ELECTRICAL SUPPPLIES\", \"orientation\": \"v\", \"showlegend\": true, \"type\": \"scatter\", \"x\": [209], \"xaxis\": \"x\", \"y\": [590.9600000000005], \"yaxis\": \"y\"}, {\"hovertemplate\": \"<b>%{hovertext}</b><br><br>COMMODITY_DESC=ETHNIC PERSONAL CARE<br>QUANTITY=%{x}<br>SALES_VALUE=%{y}<br>HOUSEHOLDS=%{marker.size}<extra></extra>\", \"hovertext\": [\"ETHNIC PERSONAL CARE\"], \"legendgroup\": \"ETHNIC PERSONAL CARE\", \"marker\": {\"color\": \"#BCBD22\", \"size\": [23], \"sizemode\": \"area\", \"sizeref\": 0.3611111111111111, \"symbol\": \"circle\"}, \"mode\": \"markers\", \"name\": \"ETHNIC PERSONAL CARE\", \"orientation\": \"v\", \"showlegend\": true, \"type\": \"scatter\", \"x\": [29], \"xaxis\": \"x\", \"y\": [89.80999999999999], \"yaxis\": \"y\"}, {\"hovertemplate\": \"<b>%{hovertext}</b><br><br>COMMODITY_DESC=EXOTIC GAME/FOWL<br>QUANTITY=%{x}<br>SALES_VALUE=%{y}<br>HOUSEHOLDS=%{marker.size}<extra></extra>\", \"hovertext\": [\"EXOTIC GAME/FOWL\"], \"legendgroup\": \"EXOTIC GAME/FOWL\", \"marker\": {\"color\": \"#17BECF\", \"size\": [5], \"sizemode\": \"area\", \"sizeref\": 0.3611111111111111, \"symbol\": \"circle\"}, \"mode\": \"markers\", \"name\": \"EXOTIC GAME/FOWL\", \"orientation\": \"v\", \"showlegend\": true, \"type\": \"scatter\", \"x\": [5], \"xaxis\": \"x\", \"y\": [32.55], \"yaxis\": \"y\"}, {\"hovertemplate\": \"<b>%{hovertext}</b><br><br>COMMODITY_DESC=EYE AND EAR CARE PRODUCTS<br>QUANTITY=%{x}<br>SALES_VALUE=%{y}<br>HOUSEHOLDS=%{marker.size}<extra></extra>\", \"hovertext\": [\"EYE AND EAR CARE PRODUCTS\"], \"legendgroup\": \"EYE AND EAR CARE PRODUCTS\", \"marker\": {\"color\": \"#1F77B4\", \"size\": [69], \"sizemode\": \"area\", \"sizeref\": 0.3611111111111111, \"symbol\": \"circle\"}, \"mode\": \"markers\", \"name\": \"EYE AND EAR CARE PRODUCTS\", \"orientation\": \"v\", \"showlegend\": true, \"type\": \"scatter\", \"x\": [97], \"xaxis\": \"x\", \"y\": [506.6900000000003], \"yaxis\": \"y\"}, {\"hovertemplate\": \"<b>%{hovertext}</b><br><br>COMMODITY_DESC=FACIAL TISS/DNR NAPKIN<br>QUANTITY=%{x}<br>SALES_VALUE=%{y}<br>HOUSEHOLDS=%{marker.size}<extra></extra>\", \"hovertext\": [\"FACIAL TISS/DNR NAPKIN\"], \"legendgroup\": \"FACIAL TISS/DNR NAPKIN\", \"marker\": {\"color\": \"#FF7F0E\", \"size\": [249], \"sizemode\": \"area\", \"sizeref\": 0.3611111111111111, \"symbol\": \"circle\"}, \"mode\": \"markers\", \"name\": \"FACIAL TISS/DNR NAPKIN\", \"orientation\": \"v\", \"showlegend\": true, \"type\": \"scatter\", \"x\": [571], \"xaxis\": \"x\", \"y\": [911.9100000000011], \"yaxis\": \"y\"}, {\"hovertemplate\": \"<b>%{hovertext}</b><br><br>COMMODITY_DESC=FALL AND WINTER SEASONAL<br>QUANTITY=%{x}<br>SALES_VALUE=%{y}<br>HOUSEHOLDS=%{marker.size}<extra></extra>\", \"hovertext\": [\"FALL AND WINTER SEASONAL\"], \"legendgroup\": \"FALL AND WINTER SEASONAL\", \"marker\": {\"color\": \"#2CA02C\", \"size\": [17], \"sizemode\": \"area\", \"sizeref\": 0.3611111111111111, \"symbol\": \"circle\"}, \"mode\": \"markers\", \"name\": \"FALL AND WINTER SEASONAL\", \"orientation\": \"v\", \"showlegend\": true, \"type\": \"scatter\", \"x\": [29], \"xaxis\": \"x\", \"y\": [59.959999999999994], \"yaxis\": \"y\"}, {\"hovertemplate\": \"<b>%{hovertext}</b><br><br>COMMODITY_DESC=FAMILY PLANNING<br>QUANTITY=%{x}<br>SALES_VALUE=%{y}<br>HOUSEHOLDS=%{marker.size}<extra></extra>\", \"hovertext\": [\"FAMILY PLANNING\"], \"legendgroup\": \"FAMILY PLANNING\", \"marker\": {\"color\": \"#D62728\", \"size\": [40], \"sizemode\": \"area\", \"sizeref\": 0.3611111111111111, \"symbol\": \"circle\"}, \"mode\": \"markers\", \"name\": \"FAMILY PLANNING\", \"orientation\": \"v\", \"showlegend\": true, \"type\": \"scatter\", \"x\": [44], \"xaxis\": \"x\", \"y\": [337.15999999999997], \"yaxis\": \"y\"}, {\"hovertemplate\": \"<b>%{hovertext}</b><br><br>COMMODITY_DESC=FD WRAPS/BAGS/TRSH BG<br>QUANTITY=%{x}<br>SALES_VALUE=%{y}<br>HOUSEHOLDS=%{marker.size}<extra></extra>\", \"hovertext\": [\"FD WRAPS/BAGS/TRSH BG\"], \"legendgroup\": \"FD WRAPS/BAGS/TRSH BG\", \"marker\": {\"color\": \"#9467BD\", \"size\": [471], \"sizemode\": \"area\", \"sizeref\": 0.3611111111111111, \"symbol\": \"circle\"}, \"mode\": \"markers\", \"name\": \"FD WRAPS/BAGS/TRSH BG\", \"orientation\": \"v\", \"showlegend\": true, \"type\": \"scatter\", \"x\": [945], \"xaxis\": \"x\", \"y\": [2441.0599999999977], \"yaxis\": \"y\"}, {\"hovertemplate\": \"<b>%{hovertext}</b><br><br>COMMODITY_DESC=FEMININE HYGIENE<br>QUANTITY=%{x}<br>SALES_VALUE=%{y}<br>HOUSEHOLDS=%{marker.size}<extra></extra>\", \"hovertext\": [\"FEMININE HYGIENE\"], \"legendgroup\": \"FEMININE HYGIENE\", \"marker\": {\"color\": \"#8C564B\", \"size\": [203], \"sizemode\": \"area\", \"sizeref\": 0.3611111111111111, \"symbol\": \"circle\"}, \"mode\": \"markers\", \"name\": \"FEMININE HYGIENE\", \"orientation\": \"v\", \"showlegend\": true, \"type\": \"scatter\", \"x\": [321], \"xaxis\": \"x\", \"y\": [1134.3799999999994], \"yaxis\": \"y\"}, {\"hovertemplate\": \"<b>%{hovertext}</b><br><br>COMMODITY_DESC=FILM AND CAMERA PRODUCTS<br>QUANTITY=%{x}<br>SALES_VALUE=%{y}<br>HOUSEHOLDS=%{marker.size}<extra></extra>\", \"hovertext\": [\"FILM AND CAMERA PRODUCTS\"], \"legendgroup\": \"FILM AND CAMERA PRODUCTS\", \"marker\": {\"color\": \"#E377C2\", \"size\": [81], \"sizemode\": \"area\", \"sizeref\": 0.3611111111111111, \"symbol\": \"circle\"}, \"mode\": \"markers\", \"name\": \"FILM AND CAMERA PRODUCTS\", \"orientation\": \"v\", \"showlegend\": true, \"type\": \"scatter\", \"x\": [129], \"xaxis\": \"x\", \"y\": [712.2100000000006], \"yaxis\": \"y\"}, {\"hovertemplate\": \"<b>%{hovertext}</b><br><br>COMMODITY_DESC=FIREWORKS<br>QUANTITY=%{x}<br>SALES_VALUE=%{y}<br>HOUSEHOLDS=%{marker.size}<extra></extra>\", \"hovertext\": [\"FIREWORKS\"], \"legendgroup\": \"FIREWORKS\", \"marker\": {\"color\": \"#7F7F7F\", \"size\": [24], \"sizemode\": \"area\", \"sizeref\": 0.3611111111111111, \"symbol\": \"circle\"}, \"mode\": \"markers\", \"name\": \"FIREWORKS\", \"orientation\": \"v\", \"showlegend\": true, \"type\": \"scatter\", \"x\": [41], \"xaxis\": \"x\", \"y\": [91.57], \"yaxis\": \"y\"}, {\"hovertemplate\": \"<b>%{hovertext}</b><br><br>COMMODITY_DESC=FIRST AID PRODUCTS<br>QUANTITY=%{x}<br>SALES_VALUE=%{y}<br>HOUSEHOLDS=%{marker.size}<extra></extra>\", \"hovertext\": [\"FIRST AID PRODUCTS\"], \"legendgroup\": \"FIRST AID PRODUCTS\", \"marker\": {\"color\": \"#BCBD22\", \"size\": [149], \"sizemode\": \"area\", \"sizeref\": 0.3611111111111111, \"symbol\": \"circle\"}, \"mode\": \"markers\", \"name\": \"FIRST AID PRODUCTS\", \"orientation\": \"v\", \"showlegend\": true, \"type\": \"scatter\", \"x\": [240], \"xaxis\": \"x\", \"y\": [829.940000000001], \"yaxis\": \"y\"}, {\"hovertemplate\": \"<b>%{hovertext}</b><br><br>COMMODITY_DESC=FITNESS&DIET<br>QUANTITY=%{x}<br>SALES_VALUE=%{y}<br>HOUSEHOLDS=%{marker.size}<extra></extra>\", \"hovertext\": [\"FITNESS&DIET\"], \"legendgroup\": \"FITNESS&DIET\", \"marker\": {\"color\": \"#17BECF\", \"size\": [56], \"sizemode\": \"area\", \"sizeref\": 0.3611111111111111, \"symbol\": \"circle\"}, \"mode\": \"markers\", \"name\": \"FITNESS&DIET\", \"orientation\": \"v\", \"showlegend\": true, \"type\": \"scatter\", \"x\": [263], \"xaxis\": \"x\", \"y\": [372.1800000000002], \"yaxis\": \"y\"}, {\"hovertemplate\": \"<b>%{hovertext}</b><br><br>COMMODITY_DESC=FLORAL BALLOONS<br>QUANTITY=%{x}<br>SALES_VALUE=%{y}<br>HOUSEHOLDS=%{marker.size}<extra></extra>\", \"hovertext\": [\"FLORAL BALLOONS\"], \"legendgroup\": \"FLORAL BALLOONS\", \"marker\": {\"color\": \"#1F77B4\", \"size\": [20], \"sizemode\": \"area\", \"sizeref\": 0.3611111111111111, \"symbol\": \"circle\"}, \"mode\": \"markers\", \"name\": \"FLORAL BALLOONS\", \"orientation\": \"v\", \"showlegend\": true, \"type\": \"scatter\", \"x\": [33], \"xaxis\": \"x\", \"y\": [196.70000000000005], \"yaxis\": \"y\"}, {\"hovertemplate\": \"<b>%{hovertext}</b><br><br>COMMODITY_DESC=FLORAL- HARD GOODS<br>QUANTITY=%{x}<br>SALES_VALUE=%{y}<br>HOUSEHOLDS=%{marker.size}<extra></extra>\", \"hovertext\": [\"FLORAL- HARD GOODS\"], \"legendgroup\": \"FLORAL- HARD GOODS\", \"marker\": {\"color\": \"#FF7F0E\", \"size\": [11], \"sizemode\": \"area\", \"sizeref\": 0.3611111111111111, \"symbol\": \"circle\"}, \"mode\": \"markers\", \"name\": \"FLORAL- HARD GOODS\", \"orientation\": \"v\", \"showlegend\": true, \"type\": \"scatter\", \"x\": [14], \"xaxis\": \"x\", \"y\": [71.93], \"yaxis\": \"y\"}, {\"hovertemplate\": \"<b>%{hovertext}</b><br><br>COMMODITY_DESC=FLORAL-ACCESSORIES<br>QUANTITY=%{x}<br>SALES_VALUE=%{y}<br>HOUSEHOLDS=%{marker.size}<extra></extra>\", \"hovertext\": [\"FLORAL-ACCESSORIES\"], \"legendgroup\": \"FLORAL-ACCESSORIES\", \"marker\": {\"color\": \"#2CA02C\", \"size\": [4], \"sizemode\": \"area\", \"sizeref\": 0.3611111111111111, \"symbol\": \"circle\"}, \"mode\": \"markers\", \"name\": \"FLORAL-ACCESSORIES\", \"orientation\": \"v\", \"showlegend\": true, \"type\": \"scatter\", \"x\": [8], \"xaxis\": \"x\", \"y\": [40.45], \"yaxis\": \"y\"}, {\"hovertemplate\": \"<b>%{hovertext}</b><br><br>COMMODITY_DESC=FLORAL-FLOWERING PLANTS<br>QUANTITY=%{x}<br>SALES_VALUE=%{y}<br>HOUSEHOLDS=%{marker.size}<extra></extra>\", \"hovertext\": [\"FLORAL-FLOWERING PLANTS\"], \"legendgroup\": \"FLORAL-FLOWERING PLANTS\", \"marker\": {\"color\": \"#D62728\", \"size\": [25], \"sizemode\": \"area\", \"sizeref\": 0.3611111111111111, \"symbol\": \"circle\"}, \"mode\": \"markers\", \"name\": \"FLORAL-FLOWERING PLANTS\", \"orientation\": \"v\", \"showlegend\": true, \"type\": \"scatter\", \"x\": [26], \"xaxis\": \"x\", \"y\": [224.76000000000005], \"yaxis\": \"y\"}, {\"hovertemplate\": \"<b>%{hovertext}</b><br><br>COMMODITY_DESC=FLORAL-FOLIAGE PLANTS<br>QUANTITY=%{x}<br>SALES_VALUE=%{y}<br>HOUSEHOLDS=%{marker.size}<extra></extra>\", \"hovertext\": [\"FLORAL-FOLIAGE PLANTS\"], \"legendgroup\": \"FLORAL-FOLIAGE PLANTS\", \"marker\": {\"color\": \"#9467BD\", \"size\": [20], \"sizemode\": \"area\", \"sizeref\": 0.3611111111111111, \"symbol\": \"circle\"}, \"mode\": \"markers\", \"name\": \"FLORAL-FOLIAGE PLANTS\", \"orientation\": \"v\", \"showlegend\": true, \"type\": \"scatter\", \"x\": [41], \"xaxis\": \"x\", \"y\": [240.78], \"yaxis\": \"y\"}, {\"hovertemplate\": \"<b>%{hovertext}</b><br><br>COMMODITY_DESC=FLORAL-FRESH CUT<br>QUANTITY=%{x}<br>SALES_VALUE=%{y}<br>HOUSEHOLDS=%{marker.size}<extra></extra>\", \"hovertext\": [\"FLORAL-FRESH CUT\"], \"legendgroup\": \"FLORAL-FRESH CUT\", \"marker\": {\"color\": \"#8C564B\", \"size\": [129], \"sizemode\": \"area\", \"sizeref\": 0.3611111111111111, \"symbol\": \"circle\"}, \"mode\": \"markers\", \"name\": \"FLORAL-FRESH CUT\", \"orientation\": \"v\", \"showlegend\": true, \"type\": \"scatter\", \"x\": [269], \"xaxis\": \"x\", \"y\": [1378.5100000000002], \"yaxis\": \"y\"}, {\"hovertemplate\": \"<b>%{hovertext}</b><br><br>COMMODITY_DESC=FLOUR & MEALS<br>QUANTITY=%{x}<br>SALES_VALUE=%{y}<br>HOUSEHOLDS=%{marker.size}<extra></extra>\", \"hovertext\": [\"FLOUR & MEALS\"], \"legendgroup\": \"FLOUR & MEALS\", \"marker\": {\"color\": \"#E377C2\", \"size\": [145], \"sizemode\": \"area\", \"sizeref\": 0.3611111111111111, \"symbol\": \"circle\"}, \"mode\": \"markers\", \"name\": \"FLOUR & MEALS\", \"orientation\": \"v\", \"showlegend\": true, \"type\": \"scatter\", \"x\": [186], \"xaxis\": \"x\", \"y\": [332.3300000000005], \"yaxis\": \"y\"}, {\"hovertemplate\": \"<b>%{hovertext}</b><br><br>COMMODITY_DESC=FLUID MILK PRODUCTS<br>QUANTITY=%{x}<br>SALES_VALUE=%{y}<br>HOUSEHOLDS=%{marker.size}<extra></extra>\", \"hovertext\": [\"FLUID MILK PRODUCTS\"], \"legendgroup\": \"FLUID MILK PRODUCTS\", \"marker\": {\"color\": \"#7F7F7F\", \"size\": [1300], \"sizemode\": \"area\", \"sizeref\": 0.3611111111111111, \"symbol\": \"circle\"}, \"mode\": \"markers\", \"name\": \"FLUID MILK PRODUCTS\", \"orientation\": \"v\", \"showlegend\": true, \"type\": \"scatter\", \"x\": [6731], \"xaxis\": \"x\", \"y\": [11476.069999999847], \"yaxis\": \"y\"}, {\"hovertemplate\": \"<b>%{hovertext}</b><br><br>COMMODITY_DESC=FOOT CARE PRODUCTS<br>QUANTITY=%{x}<br>SALES_VALUE=%{y}<br>HOUSEHOLDS=%{marker.size}<extra></extra>\", \"hovertext\": [\"FOOT CARE PRODUCTS\"], \"legendgroup\": \"FOOT CARE PRODUCTS\", \"marker\": {\"color\": \"#BCBD22\", \"size\": [42], \"sizemode\": \"area\", \"sizeref\": 0.3611111111111111, \"symbol\": \"circle\"}, \"mode\": \"markers\", \"name\": \"FOOT CARE PRODUCTS\", \"orientation\": \"v\", \"showlegend\": true, \"type\": \"scatter\", \"x\": [51], \"xaxis\": \"x\", \"y\": [340.4000000000002], \"yaxis\": \"y\"}, {\"hovertemplate\": \"<b>%{hovertext}</b><br><br>COMMODITY_DESC=FRAGRANCES<br>QUANTITY=%{x}<br>SALES_VALUE=%{y}<br>HOUSEHOLDS=%{marker.size}<extra></extra>\", \"hovertext\": [\"FRAGRANCES\"], \"legendgroup\": \"FRAGRANCES\", \"marker\": {\"color\": \"#17BECF\", \"size\": [8], \"sizemode\": \"area\", \"sizeref\": 0.3611111111111111, \"symbol\": \"circle\"}, \"mode\": \"markers\", \"name\": \"FRAGRANCES\", \"orientation\": \"v\", \"showlegend\": true, \"type\": \"scatter\", \"x\": [8], \"xaxis\": \"x\", \"y\": [119.53], \"yaxis\": \"y\"}, {\"hovertemplate\": \"<b>%{hovertext}</b><br><br>COMMODITY_DESC=FROZEN<br>QUANTITY=%{x}<br>SALES_VALUE=%{y}<br>HOUSEHOLDS=%{marker.size}<extra></extra>\", \"hovertext\": [\"FROZEN\"], \"legendgroup\": \"FROZEN\", \"marker\": {\"color\": \"#1F77B4\", \"size\": [58], \"sizemode\": \"area\", \"sizeref\": 0.3611111111111111, \"symbol\": \"circle\"}, \"mode\": \"markers\", \"name\": \"FROZEN\", \"orientation\": \"v\", \"showlegend\": true, \"type\": \"scatter\", \"x\": [198], \"xaxis\": \"x\", \"y\": [588.5200000000002], \"yaxis\": \"y\"}, {\"hovertemplate\": \"<b>%{hovertext}</b><br><br>COMMODITY_DESC=FROZEN - BOXED(GROCERY)<br>QUANTITY=%{x}<br>SALES_VALUE=%{y}<br>HOUSEHOLDS=%{marker.size}<extra></extra>\", \"hovertext\": [\"FROZEN - BOXED(GROCERY)\"], \"legendgroup\": \"FROZEN - BOXED(GROCERY)\", \"marker\": {\"color\": \"#FF7F0E\", \"size\": [39], \"sizemode\": \"area\", \"sizeref\": 0.3611111111111111, \"symbol\": \"circle\"}, \"mode\": \"markers\", \"name\": \"FROZEN - BOXED(GROCERY)\", \"orientation\": \"v\", \"showlegend\": true, \"type\": \"scatter\", \"x\": [45], \"xaxis\": \"x\", \"y\": [231.68000000000015], \"yaxis\": \"y\"}, {\"hovertemplate\": \"<b>%{hovertext}</b><br><br>COMMODITY_DESC=FROZEN BREAD/DOUGH<br>QUANTITY=%{x}<br>SALES_VALUE=%{y}<br>HOUSEHOLDS=%{marker.size}<extra></extra>\", \"hovertext\": [\"FROZEN BREAD/DOUGH\"], \"legendgroup\": \"FROZEN BREAD/DOUGH\", \"marker\": {\"color\": \"#2CA02C\", \"size\": [292], \"sizemode\": \"area\", \"sizeref\": 0.3611111111111111, \"symbol\": \"circle\"}, \"mode\": \"markers\", \"name\": \"FROZEN BREAD/DOUGH\", \"orientation\": \"v\", \"showlegend\": true, \"type\": \"scatter\", \"x\": [514], \"xaxis\": \"x\", \"y\": [1018.7800000000002], \"yaxis\": \"y\"}, {\"hovertemplate\": \"<b>%{hovertext}</b><br><br>COMMODITY_DESC=FROZEN CHICKEN<br>QUANTITY=%{x}<br>SALES_VALUE=%{y}<br>HOUSEHOLDS=%{marker.size}<extra></extra>\", \"hovertext\": [\"FROZEN CHICKEN\"], \"legendgroup\": \"FROZEN CHICKEN\", \"marker\": {\"color\": \"#D62728\", \"size\": [7], \"sizemode\": \"area\", \"sizeref\": 0.3611111111111111, \"symbol\": \"circle\"}, \"mode\": \"markers\", \"name\": \"FROZEN CHICKEN\", \"orientation\": \"v\", \"showlegend\": true, \"type\": \"scatter\", \"x\": [8], \"xaxis\": \"x\", \"y\": [87.91999999999999], \"yaxis\": \"y\"}, {\"hovertemplate\": \"<b>%{hovertext}</b><br><br>COMMODITY_DESC=FROZEN MEAT<br>QUANTITY=%{x}<br>SALES_VALUE=%{y}<br>HOUSEHOLDS=%{marker.size}<extra></extra>\", \"hovertext\": [\"FROZEN MEAT\"], \"legendgroup\": \"FROZEN MEAT\", \"marker\": {\"color\": \"#9467BD\", \"size\": [355], \"sizemode\": \"area\", \"sizeref\": 0.3611111111111111, \"symbol\": \"circle\"}, \"mode\": \"markers\", \"name\": \"FROZEN MEAT\", \"orientation\": \"v\", \"showlegend\": true, \"type\": \"scatter\", \"x\": [779], \"xaxis\": \"x\", \"y\": [2744.7199999999857], \"yaxis\": \"y\"}, {\"hovertemplate\": \"<b>%{hovertext}</b><br><br>COMMODITY_DESC=FROZEN PIE/DESSERTS<br>QUANTITY=%{x}<br>SALES_VALUE=%{y}<br>HOUSEHOLDS=%{marker.size}<extra></extra>\", \"hovertext\": [\"FROZEN PIE/DESSERTS\"], \"legendgroup\": \"FROZEN PIE/DESSERTS\", \"marker\": {\"color\": \"#8C564B\", \"size\": [225], \"sizemode\": \"area\", \"sizeref\": 0.3611111111111111, \"symbol\": \"circle\"}, \"mode\": \"markers\", \"name\": \"FROZEN PIE/DESSERTS\", \"orientation\": \"v\", \"showlegend\": true, \"type\": \"scatter\", \"x\": [397], \"xaxis\": \"x\", \"y\": [857.3500000000016], \"yaxis\": \"y\"}, {\"hovertemplate\": \"<b>%{hovertext}</b><br><br>COMMODITY_DESC=FROZEN PIZZA<br>QUANTITY=%{x}<br>SALES_VALUE=%{y}<br>HOUSEHOLDS=%{marker.size}<extra></extra>\", \"hovertext\": [\"FROZEN PIZZA\"], \"legendgroup\": \"FROZEN PIZZA\", \"marker\": {\"color\": \"#E377C2\", \"size\": [696], \"sizemode\": \"area\", \"sizeref\": 0.3611111111111111, \"symbol\": \"circle\"}, \"mode\": \"markers\", \"name\": \"FROZEN PIZZA\", \"orientation\": \"v\", \"showlegend\": true, \"type\": \"scatter\", \"x\": [3861], \"xaxis\": \"x\", \"y\": [8507.499999999922], \"yaxis\": \"y\"}, {\"hovertemplate\": \"<b>%{hovertext}</b><br><br>COMMODITY_DESC=FRUIT - SHELF STABLE<br>QUANTITY=%{x}<br>SALES_VALUE=%{y}<br>HOUSEHOLDS=%{marker.size}<extra></extra>\", \"hovertext\": [\"FRUIT - SHELF STABLE\"], \"legendgroup\": \"FRUIT - SHELF STABLE\", \"marker\": {\"color\": \"#7F7F7F\", \"size\": [464], \"sizemode\": \"area\", \"sizeref\": 0.3611111111111111, \"symbol\": \"circle\"}, \"mode\": \"markers\", \"name\": \"FRUIT - SHELF STABLE\", \"orientation\": \"v\", \"showlegend\": true, \"type\": \"scatter\", \"x\": [1759], \"xaxis\": \"x\", \"y\": [2350.2099999999964], \"yaxis\": \"y\"}, {\"hovertemplate\": \"<b>%{hovertext}</b><br><br>COMMODITY_DESC=FRZN BREAKFAST FOODS<br>QUANTITY=%{x}<br>SALES_VALUE=%{y}<br>HOUSEHOLDS=%{marker.size}<extra></extra>\", \"hovertext\": [\"FRZN BREAKFAST FOODS\"], \"legendgroup\": \"FRZN BREAKFAST FOODS\", \"marker\": {\"color\": \"#BCBD22\", \"size\": [252], \"sizemode\": \"area\", \"sizeref\": 0.3611111111111111, \"symbol\": \"circle\"}, \"mode\": \"markers\", \"name\": \"FRZN BREAKFAST FOODS\", \"orientation\": \"v\", \"showlegend\": true, \"type\": \"scatter\", \"x\": [725], \"xaxis\": \"x\", \"y\": [1382.220000000004], \"yaxis\": \"y\"}, {\"hovertemplate\": \"<b>%{hovertext}</b><br><br>COMMODITY_DESC=FRZN FRUITS<br>QUANTITY=%{x}<br>SALES_VALUE=%{y}<br>HOUSEHOLDS=%{marker.size}<extra></extra>\", \"hovertext\": [\"FRZN FRUITS\"], \"legendgroup\": \"FRZN FRUITS\", \"marker\": {\"color\": \"#17BECF\", \"size\": [45], \"sizemode\": \"area\", \"sizeref\": 0.3611111111111111, \"symbol\": \"circle\"}, \"mode\": \"markers\", \"name\": \"FRZN FRUITS\", \"orientation\": \"v\", \"showlegend\": true, \"type\": \"scatter\", \"x\": [115], \"xaxis\": \"x\", \"y\": [314.81000000000006], \"yaxis\": \"y\"}, {\"hovertemplate\": \"<b>%{hovertext}</b><br><br>COMMODITY_DESC=FRZN ICE<br>QUANTITY=%{x}<br>SALES_VALUE=%{y}<br>HOUSEHOLDS=%{marker.size}<extra></extra>\", \"hovertext\": [\"FRZN ICE\"], \"legendgroup\": \"FRZN ICE\", \"marker\": {\"color\": \"#1F77B4\", \"size\": [153], \"sizemode\": \"area\", \"sizeref\": 0.3611111111111111, \"symbol\": \"circle\"}, \"mode\": \"markers\", \"name\": \"FRZN ICE\", \"orientation\": \"v\", \"showlegend\": true, \"type\": \"scatter\", \"x\": [287], \"xaxis\": \"x\", \"y\": [655.5300000000013], \"yaxis\": \"y\"}, {\"hovertemplate\": \"<b>%{hovertext}</b><br><br>COMMODITY_DESC=FRZN JCE CONC/DRNKS<br>QUANTITY=%{x}<br>SALES_VALUE=%{y}<br>HOUSEHOLDS=%{marker.size}<extra></extra>\", \"hovertext\": [\"FRZN JCE CONC/DRNKS\"], \"legendgroup\": \"FRZN JCE CONC/DRNKS\", \"marker\": {\"color\": \"#FF7F0E\", \"size\": [75], \"sizemode\": \"area\", \"sizeref\": 0.3611111111111111, \"symbol\": \"circle\"}, \"mode\": \"markers\", \"name\": \"FRZN JCE CONC/DRNKS\", \"orientation\": \"v\", \"showlegend\": true, \"type\": \"scatter\", \"x\": [277], \"xaxis\": \"x\", \"y\": [307.61], \"yaxis\": \"y\"}, {\"hovertemplate\": \"<b>%{hovertext}</b><br><br>COMMODITY_DESC=FRZN MEAT/MEAT DINNERS<br>QUANTITY=%{x}<br>SALES_VALUE=%{y}<br>HOUSEHOLDS=%{marker.size}<extra></extra>\", \"hovertext\": [\"FRZN MEAT/MEAT DINNERS\"], \"legendgroup\": \"FRZN MEAT/MEAT DINNERS\", \"marker\": {\"color\": \"#2CA02C\", \"size\": [682], \"sizemode\": \"area\", \"sizeref\": 0.3611111111111111, \"symbol\": \"circle\"}, \"mode\": \"markers\", \"name\": \"FRZN MEAT/MEAT DINNERS\", \"orientation\": \"v\", \"showlegend\": true, \"type\": \"scatter\", \"x\": [4652], \"xaxis\": \"x\", \"y\": [9166.579999999938], \"yaxis\": \"y\"}, {\"hovertemplate\": \"<b>%{hovertext}</b><br><br>COMMODITY_DESC=FRZN NOVELTIES/WTR ICE<br>QUANTITY=%{x}<br>SALES_VALUE=%{y}<br>HOUSEHOLDS=%{marker.size}<extra></extra>\", \"hovertext\": [\"FRZN NOVELTIES/WTR ICE\"], \"legendgroup\": \"FRZN NOVELTIES/WTR ICE\", \"marker\": {\"color\": \"#D62728\", \"size\": [480], \"sizemode\": \"area\", \"sizeref\": 0.3611111111111111, \"symbol\": \"circle\"}, \"mode\": \"markers\", \"name\": \"FRZN NOVELTIES/WTR ICE\", \"orientation\": \"v\", \"showlegend\": true, \"type\": \"scatter\", \"x\": [1334], \"xaxis\": \"x\", \"y\": [3361.8299999999886], \"yaxis\": \"y\"}, {\"hovertemplate\": \"<b>%{hovertext}</b><br><br>COMMODITY_DESC=FRZN POTATOES<br>QUANTITY=%{x}<br>SALES_VALUE=%{y}<br>HOUSEHOLDS=%{marker.size}<extra></extra>\", \"hovertext\": [\"FRZN POTATOES\"], \"legendgroup\": \"FRZN POTATOES\", \"marker\": {\"color\": \"#9467BD\", \"size\": [288], \"sizemode\": \"area\", \"sizeref\": 0.3611111111111111, \"symbol\": \"circle\"}, \"mode\": \"markers\", \"name\": \"FRZN POTATOES\", \"orientation\": \"v\", \"showlegend\": true, \"type\": \"scatter\", \"x\": [577], \"xaxis\": \"x\", \"y\": [1082.930000000001], \"yaxis\": \"y\"}, {\"hovertemplate\": \"<b>%{hovertext}</b><br><br>COMMODITY_DESC=FRZN SEAFOOD<br>QUANTITY=%{x}<br>SALES_VALUE=%{y}<br>HOUSEHOLDS=%{marker.size}<extra></extra>\", \"hovertext\": [\"FRZN SEAFOOD\"], \"legendgroup\": \"FRZN SEAFOOD\", \"marker\": {\"color\": \"#8C564B\", \"size\": [4], \"sizemode\": \"area\", \"sizeref\": 0.3611111111111111, \"symbol\": \"circle\"}, \"mode\": \"markers\", \"name\": \"FRZN SEAFOOD\", \"orientation\": \"v\", \"showlegend\": true, \"type\": \"scatter\", \"x\": [5], \"xaxis\": \"x\", \"y\": [17.950000000000003], \"yaxis\": \"y\"}, {\"hovertemplate\": \"<b>%{hovertext}</b><br><br>COMMODITY_DESC=FRZN VEGETABLE/VEG DSH<br>QUANTITY=%{x}<br>SALES_VALUE=%{y}<br>HOUSEHOLDS=%{marker.size}<extra></extra>\", \"hovertext\": [\"FRZN VEGETABLE/VEG DSH\"], \"legendgroup\": \"FRZN VEGETABLE/VEG DSH\", \"marker\": {\"color\": \"#E377C2\", \"size\": [378], \"sizemode\": \"area\", \"sizeref\": 0.3611111111111111, \"symbol\": \"circle\"}, \"mode\": \"markers\", \"name\": \"FRZN VEGETABLE/VEG DSH\", \"orientation\": \"v\", \"showlegend\": true, \"type\": \"scatter\", \"x\": [1474], \"xaxis\": \"x\", \"y\": [1871.7800000000025], \"yaxis\": \"y\"}, {\"hovertemplate\": \"<b>%{hovertext}</b><br><br>COMMODITY_DESC=FUEL<br>QUANTITY=%{x}<br>SALES_VALUE=%{y}<br>HOUSEHOLDS=%{marker.size}<extra></extra>\", \"hovertext\": [\"FUEL\"], \"legendgroup\": \"FUEL\", \"marker\": {\"color\": \"#7F7F7F\", \"size\": [23], \"sizemode\": \"area\", \"sizeref\": 0.3611111111111111, \"symbol\": \"circle\"}, \"mode\": \"markers\", \"name\": \"FUEL\", \"orientation\": \"v\", \"showlegend\": true, \"type\": \"scatter\", \"x\": [52], \"xaxis\": \"x\", \"y\": [631.84], \"yaxis\": \"y\"}, {\"hovertemplate\": \"<b>%{hovertext}</b><br><br>COMMODITY_DESC=GARDEN CENTER<br>QUANTITY=%{x}<br>SALES_VALUE=%{y}<br>HOUSEHOLDS=%{marker.size}<extra></extra>\", \"hovertext\": [\"GARDEN CENTER\"], \"legendgroup\": \"GARDEN CENTER\", \"marker\": {\"color\": \"#BCBD22\", \"size\": [67], \"sizemode\": \"area\", \"sizeref\": 0.3611111111111111, \"symbol\": \"circle\"}, \"mode\": \"markers\", \"name\": \"GARDEN CENTER\", \"orientation\": \"v\", \"showlegend\": true, \"type\": \"scatter\", \"x\": [186], \"xaxis\": \"x\", \"y\": [1021.7400000000007], \"yaxis\": \"y\"}, {\"hovertemplate\": \"<b>%{hovertext}</b><br><br>COMMODITY_DESC=GLASSES/VISION AIDS<br>QUANTITY=%{x}<br>SALES_VALUE=%{y}<br>HOUSEHOLDS=%{marker.size}<extra></extra>\", \"hovertext\": [\"GLASSES/VISION AIDS\"], \"legendgroup\": \"GLASSES/VISION AIDS\", \"marker\": {\"color\": \"#17BECF\", \"size\": [6], \"sizemode\": \"area\", \"sizeref\": 0.3611111111111111, \"symbol\": \"circle\"}, \"mode\": \"markers\", \"name\": \"GLASSES/VISION AIDS\", \"orientation\": \"v\", \"showlegend\": true, \"type\": \"scatter\", \"x\": [8], \"xaxis\": \"x\", \"y\": [58.84000000000001], \"yaxis\": \"y\"}, {\"hovertemplate\": \"<b>%{hovertext}</b><br><br>COMMODITY_DESC=GLASSWARE & DINNERWARE<br>QUANTITY=%{x}<br>SALES_VALUE=%{y}<br>HOUSEHOLDS=%{marker.size}<extra></extra>\", \"hovertext\": [\"GLASSWARE & DINNERWARE\"], \"legendgroup\": \"GLASSWARE & DINNERWARE\", \"marker\": {\"color\": \"#1F77B4\", \"size\": [11], \"sizemode\": \"area\", \"sizeref\": 0.3611111111111111, \"symbol\": \"circle\"}, \"mode\": \"markers\", \"name\": \"GLASSWARE & DINNERWARE\", \"orientation\": \"v\", \"showlegend\": true, \"type\": \"scatter\", \"x\": [13], \"xaxis\": \"x\", \"y\": [45.27000000000001], \"yaxis\": \"y\"}, {\"hovertemplate\": \"<b>%{hovertext}</b><br><br>COMMODITY_DESC=GRAPES<br>QUANTITY=%{x}<br>SALES_VALUE=%{y}<br>HOUSEHOLDS=%{marker.size}<extra></extra>\", \"hovertext\": [\"GRAPES\"], \"legendgroup\": \"GRAPES\", \"marker\": {\"color\": \"#FF7F0E\", \"size\": [406], \"sizemode\": \"area\", \"sizeref\": 0.3611111111111111, \"symbol\": \"circle\"}, \"mode\": \"markers\", \"name\": \"GRAPES\", \"orientation\": \"v\", \"showlegend\": true, \"type\": \"scatter\", \"x\": [643], \"xaxis\": \"x\", \"y\": [1959.8699999999997], \"yaxis\": \"y\"}, {\"hovertemplate\": \"<b>%{hovertext}</b><br><br>COMMODITY_DESC=GREETING CARDS/WRAP/PARTY SPLY<br>QUANTITY=%{x}<br>SALES_VALUE=%{y}<br>HOUSEHOLDS=%{marker.size}<extra></extra>\", \"hovertext\": [\"GREETING CARDS/WRAP/PARTY SPLY\"], \"legendgroup\": \"GREETING CARDS/WRAP/PARTY SPLY\", \"marker\": {\"color\": \"#2CA02C\", \"size\": [374], \"sizemode\": \"area\", \"sizeref\": 0.3611111111111111, \"symbol\": \"circle\"}, \"mode\": \"markers\", \"name\": \"GREETING CARDS/WRAP/PARTY SPLY\", \"orientation\": \"v\", \"showlegend\": true, \"type\": \"scatter\", \"x\": [1046], \"xaxis\": \"x\", \"y\": [2582.1199999999735], \"yaxis\": \"y\"}, {\"hovertemplate\": \"<b>%{hovertext}</b><br><br>COMMODITY_DESC=HAIR CARE ACCESSORIES<br>QUANTITY=%{x}<br>SALES_VALUE=%{y}<br>HOUSEHOLDS=%{marker.size}<extra></extra>\", \"hovertext\": [\"HAIR CARE ACCESSORIES\"], \"legendgroup\": \"HAIR CARE ACCESSORIES\", \"marker\": {\"color\": \"#D62728\", \"size\": [72], \"sizemode\": \"area\", \"sizeref\": 0.3611111111111111, \"symbol\": \"circle\"}, \"mode\": \"markers\", \"name\": \"HAIR CARE ACCESSORIES\", \"orientation\": \"v\", \"showlegend\": true, \"type\": \"scatter\", \"x\": [106], \"xaxis\": \"x\", \"y\": [290.86000000000024], \"yaxis\": \"y\"}, {\"hovertemplate\": \"<b>%{hovertext}</b><br><br>COMMODITY_DESC=HAIR CARE PRODUCTS<br>QUANTITY=%{x}<br>SALES_VALUE=%{y}<br>HOUSEHOLDS=%{marker.size}<extra></extra>\", \"hovertext\": [\"HAIR CARE PRODUCTS\"], \"legendgroup\": \"HAIR CARE PRODUCTS\", \"marker\": {\"color\": \"#9467BD\", \"size\": [326], \"sizemode\": \"area\", \"sizeref\": 0.3611111111111111, \"symbol\": \"circle\"}, \"mode\": \"markers\", \"name\": \"HAIR CARE PRODUCTS\", \"orientation\": \"v\", \"showlegend\": true, \"type\": \"scatter\", \"x\": [711], \"xaxis\": \"x\", \"y\": [2529.689999999998], \"yaxis\": \"y\"}, {\"hovertemplate\": \"<b>%{hovertext}</b><br><br>COMMODITY_DESC=HALLOWEEN<br>QUANTITY=%{x}<br>SALES_VALUE=%{y}<br>HOUSEHOLDS=%{marker.size}<extra></extra>\", \"hovertext\": [\"HALLOWEEN\"], \"legendgroup\": \"HALLOWEEN\", \"marker\": {\"color\": \"#8C564B\", \"size\": [1], \"sizemode\": \"area\", \"sizeref\": 0.3611111111111111, \"symbol\": \"circle\"}, \"mode\": \"markers\", \"name\": \"HALLOWEEN\", \"orientation\": \"v\", \"showlegend\": true, \"type\": \"scatter\", \"x\": [1], \"xaxis\": \"x\", \"y\": [0.25], \"yaxis\": \"y\"}, {\"hovertemplate\": \"<b>%{hovertext}</b><br><br>COMMODITY_DESC=HAND/BODY/FACIAL PRODUCTS<br>QUANTITY=%{x}<br>SALES_VALUE=%{y}<br>HOUSEHOLDS=%{marker.size}<extra></extra>\", \"hovertext\": [\"HAND/BODY/FACIAL PRODUCTS\"], \"legendgroup\": \"HAND/BODY/FACIAL PRODUCTS\", \"marker\": {\"color\": \"#E377C2\", \"size\": [147], \"sizemode\": \"area\", \"sizeref\": 0.3611111111111111, \"symbol\": \"circle\"}, \"mode\": \"markers\", \"name\": \"HAND/BODY/FACIAL PRODUCTS\", \"orientation\": \"v\", \"showlegend\": true, \"type\": \"scatter\", \"x\": [211], \"xaxis\": \"x\", \"y\": [1301.720000000001], \"yaxis\": \"y\"}, {\"hovertemplate\": \"<b>%{hovertext}</b><br><br>COMMODITY_DESC=HARDWARE SUPPLIES<br>QUANTITY=%{x}<br>SALES_VALUE=%{y}<br>HOUSEHOLDS=%{marker.size}<extra></extra>\", \"hovertext\": [\"HARDWARE SUPPLIES\"], \"legendgroup\": \"HARDWARE SUPPLIES\", \"marker\": {\"color\": \"#7F7F7F\", \"size\": [56], \"sizemode\": \"area\", \"sizeref\": 0.3611111111111111, \"symbol\": \"circle\"}, \"mode\": \"markers\", \"name\": \"HARDWARE SUPPLIES\", \"orientation\": \"v\", \"showlegend\": true, \"type\": \"scatter\", \"x\": [100], \"xaxis\": \"x\", \"y\": [312.87000000000023], \"yaxis\": \"y\"}, {\"hovertemplate\": \"<b>%{hovertext}</b><br><br>COMMODITY_DESC=HEAT/SERVE<br>QUANTITY=%{x}<br>SALES_VALUE=%{y}<br>HOUSEHOLDS=%{marker.size}<extra></extra>\", \"hovertext\": [\"HEAT/SERVE\"], \"legendgroup\": \"HEAT/SERVE\", \"marker\": {\"color\": \"#BCBD22\", \"size\": [217], \"sizemode\": \"area\", \"sizeref\": 0.3611111111111111, \"symbol\": \"circle\"}, \"mode\": \"markers\", \"name\": \"HEAT/SERVE\", \"orientation\": \"v\", \"showlegend\": true, \"type\": \"scatter\", \"x\": [439], \"xaxis\": \"x\", \"y\": [1648.7400000000023], \"yaxis\": \"y\"}, {\"hovertemplate\": \"<b>%{hovertext}</b><br><br>COMMODITY_DESC=HERBS<br>QUANTITY=%{x}<br>SALES_VALUE=%{y}<br>HOUSEHOLDS=%{marker.size}<extra></extra>\", \"hovertext\": [\"HERBS\"], \"legendgroup\": \"HERBS\", \"marker\": {\"color\": \"#17BECF\", \"size\": [138], \"sizemode\": \"area\", \"sizeref\": 0.3611111111111111, \"symbol\": \"circle\"}, \"mode\": \"markers\", \"name\": \"HERBS\", \"orientation\": \"v\", \"showlegend\": true, \"type\": \"scatter\", \"x\": [248], \"xaxis\": \"x\", \"y\": [336.39000000000067], \"yaxis\": \"y\"}, {\"hovertemplate\": \"<b>%{hovertext}</b><br><br>COMMODITY_DESC=HISPANIC<br>QUANTITY=%{x}<br>SALES_VALUE=%{y}<br>HOUSEHOLDS=%{marker.size}<extra></extra>\", \"hovertext\": [\"HISPANIC\"], \"legendgroup\": \"HISPANIC\", \"marker\": {\"color\": \"#1F77B4\", \"size\": [509], \"sizemode\": \"area\", \"sizeref\": 0.3611111111111111, \"symbol\": \"circle\"}, \"mode\": \"markers\", \"name\": \"HISPANIC\", \"orientation\": \"v\", \"showlegend\": true, \"type\": \"scatter\", \"x\": [1880], \"xaxis\": \"x\", \"y\": [2830.569999999987], \"yaxis\": \"y\"}, {\"hovertemplate\": \"<b>%{hovertext}</b><br><br>COMMODITY_DESC=HOME FREEZING & CANNING SUPPLY<br>QUANTITY=%{x}<br>SALES_VALUE=%{y}<br>HOUSEHOLDS=%{marker.size}<extra></extra>\", \"hovertext\": [\"HOME FREEZING & CANNING SUPPLY\"], \"legendgroup\": \"HOME FREEZING & CANNING SUPPLY\", \"marker\": {\"color\": \"#FF7F0E\", \"size\": [3], \"sizemode\": \"area\", \"sizeref\": 0.3611111111111111, \"symbol\": \"circle\"}, \"mode\": \"markers\", \"name\": \"HOME FREEZING & CANNING SUPPLY\", \"orientation\": \"v\", \"showlegend\": true, \"type\": \"scatter\", \"x\": [4], \"xaxis\": \"x\", \"y\": [9.76], \"yaxis\": \"y\"}, {\"hovertemplate\": \"<b>%{hovertext}</b><br><br>COMMODITY_DESC=HOME FURNISHINGS<br>QUANTITY=%{x}<br>SALES_VALUE=%{y}<br>HOUSEHOLDS=%{marker.size}<extra></extra>\", \"hovertext\": [\"HOME FURNISHINGS\"], \"legendgroup\": \"HOME FURNISHINGS\", \"marker\": {\"color\": \"#2CA02C\", \"size\": [6], \"sizemode\": \"area\", \"sizeref\": 0.3611111111111111, \"symbol\": \"circle\"}, \"mode\": \"markers\", \"name\": \"HOME FURNISHINGS\", \"orientation\": \"v\", \"showlegend\": true, \"type\": \"scatter\", \"x\": [8], \"xaxis\": \"x\", \"y\": [93.91999999999999], \"yaxis\": \"y\"}, {\"hovertemplate\": \"<b>%{hovertext}</b><br><br>COMMODITY_DESC=HOSIERY/SOCKS<br>QUANTITY=%{x}<br>SALES_VALUE=%{y}<br>HOUSEHOLDS=%{marker.size}<extra></extra>\", \"hovertext\": [\"HOSIERY/SOCKS\"], \"legendgroup\": \"HOSIERY/SOCKS\", \"marker\": {\"color\": \"#D62728\", \"size\": [39], \"sizemode\": \"area\", \"sizeref\": 0.3611111111111111, \"symbol\": \"circle\"}, \"mode\": \"markers\", \"name\": \"HOSIERY/SOCKS\", \"orientation\": \"v\", \"showlegend\": true, \"type\": \"scatter\", \"x\": [72], \"xaxis\": \"x\", \"y\": [235.66], \"yaxis\": \"y\"}, {\"hovertemplate\": \"<b>%{hovertext}</b><br><br>COMMODITY_DESC=HOT CEREAL<br>QUANTITY=%{x}<br>SALES_VALUE=%{y}<br>HOUSEHOLDS=%{marker.size}<extra></extra>\", \"hovertext\": [\"HOT CEREAL\"], \"legendgroup\": \"HOT CEREAL\", \"marker\": {\"color\": \"#9467BD\", \"size\": [182], \"sizemode\": \"area\", \"sizeref\": 0.3611111111111111, \"symbol\": \"circle\"}, \"mode\": \"markers\", \"name\": \"HOT CEREAL\", \"orientation\": \"v\", \"showlegend\": true, \"type\": \"scatter\", \"x\": [345], \"xaxis\": \"x\", \"y\": [771.6100000000013], \"yaxis\": \"y\"}, {\"hovertemplate\": \"<b>%{hovertext}</b><br><br>COMMODITY_DESC=HOT DOGS<br>QUANTITY=%{x}<br>SALES_VALUE=%{y}<br>HOUSEHOLDS=%{marker.size}<extra></extra>\", \"hovertext\": [\"HOT DOGS\"], \"legendgroup\": \"HOT DOGS\", \"marker\": {\"color\": \"#8C564B\", \"size\": [553], \"sizemode\": \"area\", \"sizeref\": 0.3611111111111111, \"symbol\": \"circle\"}, \"mode\": \"markers\", \"name\": \"HOT DOGS\", \"orientation\": \"v\", \"showlegend\": true, \"type\": \"scatter\", \"x\": [1448], \"xaxis\": \"x\", \"y\": [2747.7599999999857], \"yaxis\": \"y\"}, {\"hovertemplate\": \"<b>%{hovertext}</b><br><br>COMMODITY_DESC=HOUSEHOLD CLEANG NEEDS<br>QUANTITY=%{x}<br>SALES_VALUE=%{y}<br>HOUSEHOLDS=%{marker.size}<extra></extra>\", \"hovertext\": [\"HOUSEHOLD CLEANG NEEDS\"], \"legendgroup\": \"HOUSEHOLD CLEANG NEEDS\", \"marker\": {\"color\": \"#E377C2\", \"size\": [307], \"sizemode\": \"area\", \"sizeref\": 0.3611111111111111, \"symbol\": \"circle\"}, \"mode\": \"markers\", \"name\": \"HOUSEHOLD CLEANG NEEDS\", \"orientation\": \"v\", \"showlegend\": true, \"type\": \"scatter\", \"x\": [745], \"xaxis\": \"x\", \"y\": [2413.7199999999984], \"yaxis\": \"y\"}, {\"hovertemplate\": \"<b>%{hovertext}</b><br><br>COMMODITY_DESC=ICE CREAM/MILK/SHERBTS<br>QUANTITY=%{x}<br>SALES_VALUE=%{y}<br>HOUSEHOLDS=%{marker.size}<extra></extra>\", \"hovertext\": [\"ICE CREAM/MILK/SHERBTS\"], \"legendgroup\": \"ICE CREAM/MILK/SHERBTS\", \"marker\": {\"color\": \"#7F7F7F\", \"size\": [728], \"sizemode\": \"area\", \"sizeref\": 0.3611111111111111, \"symbol\": \"circle\"}, \"mode\": \"markers\", \"name\": \"ICE CREAM/MILK/SHERBTS\", \"orientation\": \"v\", \"showlegend\": true, \"type\": \"scatter\", \"x\": [2085], \"xaxis\": \"x\", \"y\": [5472.289999999968], \"yaxis\": \"y\"}, {\"hovertemplate\": \"<b>%{hovertext}</b><br><br>COMMODITY_DESC=IMPORTED WINE<br>QUANTITY=%{x}<br>SALES_VALUE=%{y}<br>HOUSEHOLDS=%{marker.size}<extra></extra>\", \"hovertext\": [\"IMPORTED WINE\"], \"legendgroup\": \"IMPORTED WINE\", \"marker\": {\"color\": \"#BCBD22\", \"size\": [58], \"sizemode\": \"area\", \"sizeref\": 0.3611111111111111, \"symbol\": \"circle\"}, \"mode\": \"markers\", \"name\": \"IMPORTED WINE\", \"orientation\": \"v\", \"showlegend\": true, \"type\": \"scatter\", \"x\": [193], \"xaxis\": \"x\", \"y\": [1799.5700000000015], \"yaxis\": \"y\"}, {\"hovertemplate\": \"<b>%{hovertext}</b><br><br>COMMODITY_DESC=IN-STORE PHOTOFINISHING<br>QUANTITY=%{x}<br>SALES_VALUE=%{y}<br>HOUSEHOLDS=%{marker.size}<extra></extra>\", \"hovertext\": [\"IN-STORE PHOTOFINISHING\"], \"legendgroup\": \"IN-STORE PHOTOFINISHING\", \"marker\": {\"color\": \"#17BECF\", \"size\": [27], \"sizemode\": \"area\", \"sizeref\": 0.3611111111111111, \"symbol\": \"circle\"}, \"mode\": \"markers\", \"name\": \"IN-STORE PHOTOFINISHING\", \"orientation\": \"v\", \"showlegend\": true, \"type\": \"scatter\", \"x\": [88], \"xaxis\": \"x\", \"y\": [524.8499999999999], \"yaxis\": \"y\"}, {\"hovertemplate\": \"<b>%{hovertext}</b><br><br>COMMODITY_DESC=INFANT CARE PRODUCTS<br>QUANTITY=%{x}<br>SALES_VALUE=%{y}<br>HOUSEHOLDS=%{marker.size}<extra></extra>\", \"hovertext\": [\"INFANT CARE PRODUCTS\"], \"legendgroup\": \"INFANT CARE PRODUCTS\", \"marker\": {\"color\": \"#1F77B4\", \"size\": [63], \"sizemode\": \"area\", \"sizeref\": 0.3611111111111111, \"symbol\": \"circle\"}, \"mode\": \"markers\", \"name\": \"INFANT CARE PRODUCTS\", \"orientation\": \"v\", \"showlegend\": true, \"type\": \"scatter\", \"x\": [108], \"xaxis\": \"x\", \"y\": [418.34000000000015], \"yaxis\": \"y\"}, {\"hovertemplate\": \"<b>%{hovertext}</b><br><br>COMMODITY_DESC=INFANT FORMULA<br>QUANTITY=%{x}<br>SALES_VALUE=%{y}<br>HOUSEHOLDS=%{marker.size}<extra></extra>\", \"hovertext\": [\"INFANT FORMULA\"], \"legendgroup\": \"INFANT FORMULA\", \"marker\": {\"color\": \"#FF7F0E\", \"size\": [80], \"sizemode\": \"area\", \"sizeref\": 0.3611111111111111, \"symbol\": \"circle\"}, \"mode\": \"markers\", \"name\": \"INFANT FORMULA\", \"orientation\": \"v\", \"showlegend\": true, \"type\": \"scatter\", \"x\": [398], \"xaxis\": \"x\", \"y\": [3130.2100000000005], \"yaxis\": \"y\"}, {\"hovertemplate\": \"<b>%{hovertext}</b><br><br>COMMODITY_DESC=INSECTICIDES<br>QUANTITY=%{x}<br>SALES_VALUE=%{y}<br>HOUSEHOLDS=%{marker.size}<extra></extra>\", \"hovertext\": [\"INSECTICIDES\"], \"legendgroup\": \"INSECTICIDES\", \"marker\": {\"color\": \"#2CA02C\", \"size\": [71], \"sizemode\": \"area\", \"sizeref\": 0.3611111111111111, \"symbol\": \"circle\"}, \"mode\": \"markers\", \"name\": \"INSECTICIDES\", \"orientation\": \"v\", \"showlegend\": true, \"type\": \"scatter\", \"x\": [98], \"xaxis\": \"x\", \"y\": [370.81000000000034], \"yaxis\": \"y\"}, {\"hovertemplate\": \"<b>%{hovertext}</b><br><br>COMMODITY_DESC=IRONING AND CHEMICALS<br>QUANTITY=%{x}<br>SALES_VALUE=%{y}<br>HOUSEHOLDS=%{marker.size}<extra></extra>\", \"hovertext\": [\"IRONING AND CHEMICALS\"], \"legendgroup\": \"IRONING AND CHEMICALS\", \"marker\": {\"color\": \"#D62728\", \"size\": [26], \"sizemode\": \"area\", \"sizeref\": 0.3611111111111111, \"symbol\": \"circle\"}, \"mode\": \"markers\", \"name\": \"IRONING AND CHEMICALS\", \"orientation\": \"v\", \"showlegend\": true, \"type\": \"scatter\", \"x\": [50], \"xaxis\": \"x\", \"y\": [355.1100000000001], \"yaxis\": \"y\"}, {\"hovertemplate\": \"<b>%{hovertext}</b><br><br>COMMODITY_DESC=ISOTONIC DRINKS<br>QUANTITY=%{x}<br>SALES_VALUE=%{y}<br>HOUSEHOLDS=%{marker.size}<extra></extra>\", \"hovertext\": [\"ISOTONIC DRINKS\"], \"legendgroup\": \"ISOTONIC DRINKS\", \"marker\": {\"color\": \"#9467BD\", \"size\": [243], \"sizemode\": \"area\", \"sizeref\": 0.3611111111111111, \"symbol\": \"circle\"}, \"mode\": \"markers\", \"name\": \"ISOTONIC DRINKS\", \"orientation\": \"v\", \"showlegend\": true, \"type\": \"scatter\", \"x\": [1012], \"xaxis\": \"x\", \"y\": [2126.4499999999975], \"yaxis\": \"y\"}, {\"hovertemplate\": \"<b>%{hovertext}</b><br><br>COMMODITY_DESC=J-HOOKS<br>QUANTITY=%{x}<br>SALES_VALUE=%{y}<br>HOUSEHOLDS=%{marker.size}<extra></extra>\", \"hovertext\": [\"J-HOOKS\"], \"legendgroup\": \"J-HOOKS\", \"marker\": {\"color\": \"#8C564B\", \"size\": [37], \"sizemode\": \"area\", \"sizeref\": 0.3611111111111111, \"symbol\": \"circle\"}, \"mode\": \"markers\", \"name\": \"J-HOOKS\", \"orientation\": \"v\", \"showlegend\": true, \"type\": \"scatter\", \"x\": [54], \"xaxis\": \"x\", \"y\": [157.87000000000003], \"yaxis\": \"y\"}, {\"hovertemplate\": \"<b>%{hovertext}</b><br><br>COMMODITY_DESC=JUICE<br>QUANTITY=%{x}<br>SALES_VALUE=%{y}<br>HOUSEHOLDS=%{marker.size}<extra></extra>\", \"hovertext\": [\"JUICE\"], \"legendgroup\": \"JUICE\", \"marker\": {\"color\": \"#E377C2\", \"size\": [45], \"sizemode\": \"area\", \"sizeref\": 0.3611111111111111, \"symbol\": \"circle\"}, \"mode\": \"markers\", \"name\": \"JUICE\", \"orientation\": \"v\", \"showlegend\": true, \"type\": \"scatter\", \"x\": [127], \"xaxis\": \"x\", \"y\": [297.84000000000003], \"yaxis\": \"y\"}, {\"hovertemplate\": \"<b>%{hovertext}</b><br><br>COMMODITY_DESC=KITCHEN GADGETS<br>QUANTITY=%{x}<br>SALES_VALUE=%{y}<br>HOUSEHOLDS=%{marker.size}<extra></extra>\", \"hovertext\": [\"KITCHEN GADGETS\"], \"legendgroup\": \"KITCHEN GADGETS\", \"marker\": {\"color\": \"#7F7F7F\", \"size\": [142], \"sizemode\": \"area\", \"sizeref\": 0.3611111111111111, \"symbol\": \"circle\"}, \"mode\": \"markers\", \"name\": \"KITCHEN GADGETS\", \"orientation\": \"v\", \"showlegend\": true, \"type\": \"scatter\", \"x\": [212], \"xaxis\": \"x\", \"y\": [522.6200000000003], \"yaxis\": \"y\"}, {\"hovertemplate\": \"<b>%{hovertext}</b><br><br>COMMODITY_DESC=LAMB<br>QUANTITY=%{x}<br>SALES_VALUE=%{y}<br>HOUSEHOLDS=%{marker.size}<extra></extra>\", \"hovertext\": [\"LAMB\"], \"legendgroup\": \"LAMB\", \"marker\": {\"color\": \"#BCBD22\", \"size\": [8], \"sizemode\": \"area\", \"sizeref\": 0.3611111111111111, \"symbol\": \"circle\"}, \"mode\": \"markers\", \"name\": \"LAMB\", \"orientation\": \"v\", \"showlegend\": true, \"type\": \"scatter\", \"x\": [20], \"xaxis\": \"x\", \"y\": [70.44999999999999], \"yaxis\": \"y\"}, {\"hovertemplate\": \"<b>%{hovertext}</b><br><br>COMMODITY_DESC=LAUNDRY ADDITIVES<br>QUANTITY=%{x}<br>SALES_VALUE=%{y}<br>HOUSEHOLDS=%{marker.size}<extra></extra>\", \"hovertext\": [\"LAUNDRY ADDITIVES\"], \"legendgroup\": \"LAUNDRY ADDITIVES\", \"marker\": {\"color\": \"#17BECF\", \"size\": [226], \"sizemode\": \"area\", \"sizeref\": 0.3611111111111111, \"symbol\": \"circle\"}, \"mode\": \"markers\", \"name\": \"LAUNDRY ADDITIVES\", \"orientation\": \"v\", \"showlegend\": true, \"type\": \"scatter\", \"x\": [342], \"xaxis\": \"x\", \"y\": [1283.000000000002], \"yaxis\": \"y\"}, {\"hovertemplate\": \"<b>%{hovertext}</b><br><br>COMMODITY_DESC=LAUNDRY DETERGENTS<br>QUANTITY=%{x}<br>SALES_VALUE=%{y}<br>HOUSEHOLDS=%{marker.size}<extra></extra>\", \"hovertext\": [\"LAUNDRY DETERGENTS\"], \"legendgroup\": \"LAUNDRY DETERGENTS\", \"marker\": {\"color\": \"#1F77B4\", \"size\": [386], \"sizemode\": \"area\", \"sizeref\": 0.3611111111111111, \"symbol\": \"circle\"}, \"mode\": \"markers\", \"name\": \"LAUNDRY DETERGENTS\", \"orientation\": \"v\", \"showlegend\": true, \"type\": \"scatter\", \"x\": [613], \"xaxis\": \"x\", \"y\": [3476.8899999999694], \"yaxis\": \"y\"}, {\"hovertemplate\": \"<b>%{hovertext}</b><br><br>COMMODITY_DESC=LAWN AND GARDEN SHOP<br>QUANTITY=%{x}<br>SALES_VALUE=%{y}<br>HOUSEHOLDS=%{marker.size}<extra></extra>\", \"hovertext\": [\"LAWN AND GARDEN SHOP\"], \"legendgroup\": \"LAWN AND GARDEN SHOP\", \"marker\": {\"color\": \"#FF7F0E\", \"size\": [33], \"sizemode\": \"area\", \"sizeref\": 0.3611111111111111, \"symbol\": \"circle\"}, \"mode\": \"markers\", \"name\": \"LAWN AND GARDEN SHOP\", \"orientation\": \"v\", \"showlegend\": true, \"type\": \"scatter\", \"x\": [72], \"xaxis\": \"x\", \"y\": [559.3500000000001], \"yaxis\": \"y\"}, {\"hovertemplate\": \"<b>%{hovertext}</b><br><br>COMMODITY_DESC=LAXATIVES<br>QUANTITY=%{x}<br>SALES_VALUE=%{y}<br>HOUSEHOLDS=%{marker.size}<extra></extra>\", \"hovertext\": [\"LAXATIVES\"], \"legendgroup\": \"LAXATIVES\", \"marker\": {\"color\": \"#2CA02C\", \"size\": [58], \"sizemode\": \"area\", \"sizeref\": 0.3611111111111111, \"symbol\": \"circle\"}, \"mode\": \"markers\", \"name\": \"LAXATIVES\", \"orientation\": \"v\", \"showlegend\": true, \"type\": \"scatter\", \"x\": [120], \"xaxis\": \"x\", \"y\": [589.0000000000002], \"yaxis\": \"y\"}, {\"hovertemplate\": \"<b>%{hovertext}</b><br><br>COMMODITY_DESC=LIQUOR<br>QUANTITY=%{x}<br>SALES_VALUE=%{y}<br>HOUSEHOLDS=%{marker.size}<extra></extra>\", \"hovertext\": [\"LIQUOR\"], \"legendgroup\": \"LIQUOR\", \"marker\": {\"color\": \"#D62728\", \"size\": [97], \"sizemode\": \"area\", \"sizeref\": 0.3611111111111111, \"symbol\": \"circle\"}, \"mode\": \"markers\", \"name\": \"LIQUOR\", \"orientation\": \"v\", \"showlegend\": true, \"type\": \"scatter\", \"x\": [201], \"xaxis\": \"x\", \"y\": [1684.2500000000023], \"yaxis\": \"y\"}, {\"hovertemplate\": \"<b>%{hovertext}</b><br><br>COMMODITY_DESC=LONG DISTANCE CALLING CARDS<br>QUANTITY=%{x}<br>SALES_VALUE=%{y}<br>HOUSEHOLDS=%{marker.size}<extra></extra>\", \"hovertext\": [\"LONG DISTANCE CALLING CARDS\"], \"legendgroup\": \"LONG DISTANCE CALLING CARDS\", \"marker\": {\"color\": \"#9467BD\", \"size\": [3], \"sizemode\": \"area\", \"sizeref\": 0.3611111111111111, \"symbol\": \"circle\"}, \"mode\": \"markers\", \"name\": \"LONG DISTANCE CALLING CARDS\", \"orientation\": \"v\", \"showlegend\": true, \"type\": \"scatter\", \"x\": [3], \"xaxis\": \"x\", \"y\": [41.4], \"yaxis\": \"y\"}, {\"hovertemplate\": \"<b>%{hovertext}</b><br><br>COMMODITY_DESC=LUNCHMEAT<br>QUANTITY=%{x}<br>SALES_VALUE=%{y}<br>HOUSEHOLDS=%{marker.size}<extra></extra>\", \"hovertext\": [\"LUNCHMEAT\"], \"legendgroup\": \"LUNCHMEAT\", \"marker\": {\"color\": \"#8C564B\", \"size\": [739], \"sizemode\": \"area\", \"sizeref\": 0.3611111111111111, \"symbol\": \"circle\"}, \"mode\": \"markers\", \"name\": \"LUNCHMEAT\", \"orientation\": \"v\", \"showlegend\": true, \"type\": \"scatter\", \"x\": [2874], \"xaxis\": \"x\", \"y\": [5931.4699999999275], \"yaxis\": \"y\"}, {\"hovertemplate\": \"<b>%{hovertext}</b><br><br>COMMODITY_DESC=MAGAZINE<br>QUANTITY=%{x}<br>SALES_VALUE=%{y}<br>HOUSEHOLDS=%{marker.size}<extra></extra>\", \"hovertext\": [\"MAGAZINE\"], \"legendgroup\": \"MAGAZINE\", \"marker\": {\"color\": \"#E377C2\", \"size\": [256], \"sizemode\": \"area\", \"sizeref\": 0.3611111111111111, \"symbol\": \"circle\"}, \"mode\": \"markers\", \"name\": \"MAGAZINE\", \"orientation\": \"v\", \"showlegend\": true, \"type\": \"scatter\", \"x\": [512], \"xaxis\": \"x\", \"y\": [1764.4200000000044], \"yaxis\": \"y\"}, {\"hovertemplate\": \"<b>%{hovertext}</b><br><br>COMMODITY_DESC=MAKEUP AND TREATMENT<br>QUANTITY=%{x}<br>SALES_VALUE=%{y}<br>HOUSEHOLDS=%{marker.size}<extra></extra>\", \"hovertext\": [\"MAKEUP AND TREATMENT\"], \"legendgroup\": \"MAKEUP AND TREATMENT\", \"marker\": {\"color\": \"#7F7F7F\", \"size\": [170], \"sizemode\": \"area\", \"sizeref\": 0.3611111111111111, \"symbol\": \"circle\"}, \"mode\": \"markers\", \"name\": \"MAKEUP AND TREATMENT\", \"orientation\": \"v\", \"showlegend\": true, \"type\": \"scatter\", \"x\": [381], \"xaxis\": \"x\", \"y\": [1299.7600000000018], \"yaxis\": \"y\"}, {\"hovertemplate\": \"<b>%{hovertext}</b><br><br>COMMODITY_DESC=MARGARINES<br>QUANTITY=%{x}<br>SALES_VALUE=%{y}<br>HOUSEHOLDS=%{marker.size}<extra></extra>\", \"hovertext\": [\"MARGARINES\"], \"legendgroup\": \"MARGARINES\", \"marker\": {\"color\": \"#BCBD22\", \"size\": [546], \"sizemode\": \"area\", \"sizeref\": 0.3611111111111111, \"symbol\": \"circle\"}, \"mode\": \"markers\", \"name\": \"MARGARINES\", \"orientation\": \"v\", \"showlegend\": true, \"type\": \"scatter\", \"x\": [1013], \"xaxis\": \"x\", \"y\": [1293.1500000000046], \"yaxis\": \"y\"}, {\"hovertemplate\": \"<b>%{hovertext}</b><br><br>COMMODITY_DESC=MEAT - MISC<br>QUANTITY=%{x}<br>SALES_VALUE=%{y}<br>HOUSEHOLDS=%{marker.size}<extra></extra>\", \"hovertext\": [\"MEAT - MISC\"], \"legendgroup\": \"MEAT - MISC\", \"marker\": {\"color\": \"#17BECF\", \"size\": [404], \"sizemode\": \"area\", \"sizeref\": 0.3611111111111111, \"symbol\": \"circle\"}, \"mode\": \"markers\", \"name\": \"MEAT - MISC\", \"orientation\": \"v\", \"showlegend\": true, \"type\": \"scatter\", \"x\": [750], \"xaxis\": \"x\", \"y\": [4695.649999999938], \"yaxis\": \"y\"}, {\"hovertemplate\": \"<b>%{hovertext}</b><br><br>COMMODITY_DESC=MEAT - SHELF STABLE<br>QUANTITY=%{x}<br>SALES_VALUE=%{y}<br>HOUSEHOLDS=%{marker.size}<extra></extra>\", \"hovertext\": [\"MEAT - SHELF STABLE\"], \"legendgroup\": \"MEAT - SHELF STABLE\", \"marker\": {\"color\": \"#1F77B4\", \"size\": [460], \"sizemode\": \"area\", \"sizeref\": 0.3611111111111111, \"symbol\": \"circle\"}, \"mode\": \"markers\", \"name\": \"MEAT - SHELF STABLE\", \"orientation\": \"v\", \"showlegend\": true, \"type\": \"scatter\", \"x\": [2479], \"xaxis\": \"x\", \"y\": [3015.64999999999], \"yaxis\": \"y\"}, {\"hovertemplate\": \"<b>%{hovertext}</b><br><br>COMMODITY_DESC=MEAT SUPPLIES<br>QUANTITY=%{x}<br>SALES_VALUE=%{y}<br>HOUSEHOLDS=%{marker.size}<extra></extra>\", \"hovertext\": [\"MEAT SUPPLIES\"], \"legendgroup\": \"MEAT SUPPLIES\", \"marker\": {\"color\": \"#FF7F0E\", \"size\": [2], \"sizemode\": \"area\", \"sizeref\": 0.3611111111111111, \"symbol\": \"circle\"}, \"mode\": \"markers\", \"name\": \"MEAT SUPPLIES\", \"orientation\": \"v\", \"showlegend\": true, \"type\": \"scatter\", \"x\": [2], \"xaxis\": \"x\", \"y\": [5.0600000000000005], \"yaxis\": \"y\"}, {\"hovertemplate\": \"<b>%{hovertext}</b><br><br>COMMODITY_DESC=MELONS<br>QUANTITY=%{x}<br>SALES_VALUE=%{y}<br>HOUSEHOLDS=%{marker.size}<extra></extra>\", \"hovertext\": [\"MELONS\"], \"legendgroup\": \"MELONS\", \"marker\": {\"color\": \"#2CA02C\", \"size\": [275], \"sizemode\": \"area\", \"sizeref\": 0.3611111111111111, \"symbol\": \"circle\"}, \"mode\": \"markers\", \"name\": \"MELONS\", \"orientation\": \"v\", \"showlegend\": true, \"type\": \"scatter\", \"x\": [456], \"xaxis\": \"x\", \"y\": [1199.7500000000023], \"yaxis\": \"y\"}, {\"hovertemplate\": \"<b>%{hovertext}</b><br><br>COMMODITY_DESC=MILK BY-PRODUCTS<br>QUANTITY=%{x}<br>SALES_VALUE=%{y}<br>HOUSEHOLDS=%{marker.size}<extra></extra>\", \"hovertext\": [\"MILK BY-PRODUCTS\"], \"legendgroup\": \"MILK BY-PRODUCTS\", \"marker\": {\"color\": \"#D62728\", \"size\": [648], \"sizemode\": \"area\", \"sizeref\": 0.3611111111111111, \"symbol\": \"circle\"}, \"mode\": \"markers\", \"name\": \"MILK BY-PRODUCTS\", \"orientation\": \"v\", \"showlegend\": true, \"type\": \"scatter\", \"x\": [1653], \"xaxis\": \"x\", \"y\": [2572.4200000000073], \"yaxis\": \"y\"}, {\"hovertemplate\": \"<b>%{hovertext}</b><br><br>COMMODITY_DESC=MISC WINE<br>QUANTITY=%{x}<br>SALES_VALUE=%{y}<br>HOUSEHOLDS=%{marker.size}<extra></extra>\", \"hovertext\": [\"MISC WINE\"], \"legendgroup\": \"MISC WINE\", \"marker\": {\"color\": \"#9467BD\", \"size\": [73], \"sizemode\": \"area\", \"sizeref\": 0.3611111111111111, \"symbol\": \"circle\"}, \"mode\": \"markers\", \"name\": \"MISC WINE\", \"orientation\": \"v\", \"showlegend\": true, \"type\": \"scatter\", \"x\": [107], \"xaxis\": \"x\", \"y\": [566.9400000000004], \"yaxis\": \"y\"}, {\"hovertemplate\": \"<b>%{hovertext}</b><br><br>COMMODITY_DESC=MISC. DAIRY<br>QUANTITY=%{x}<br>SALES_VALUE=%{y}<br>HOUSEHOLDS=%{marker.size}<extra></extra>\", \"hovertext\": [\"MISC. DAIRY\"], \"legendgroup\": \"MISC. DAIRY\", \"marker\": {\"color\": \"#8C564B\", \"size\": [322], \"sizemode\": \"area\", \"sizeref\": 0.3611111111111111, \"symbol\": \"circle\"}, \"mode\": \"markers\", \"name\": \"MISC. DAIRY\", \"orientation\": \"v\", \"showlegend\": true, \"type\": \"scatter\", \"x\": [727], \"xaxis\": \"x\", \"y\": [1561.3300000000027], \"yaxis\": \"y\"}, {\"hovertemplate\": \"<b>%{hovertext}</b><br><br>COMMODITY_DESC=MISCELLANEOUS<br>QUANTITY=%{x}<br>SALES_VALUE=%{y}<br>HOUSEHOLDS=%{marker.size}<extra></extra>\", \"hovertext\": [\"MISCELLANEOUS\"], \"legendgroup\": \"MISCELLANEOUS\", \"marker\": {\"color\": \"#E377C2\", \"size\": [106], \"sizemode\": \"area\", \"sizeref\": 0.3611111111111111, \"symbol\": \"circle\"}, \"mode\": \"markers\", \"name\": \"MISCELLANEOUS\", \"orientation\": \"v\", \"showlegend\": true, \"type\": \"scatter\", \"x\": [167], \"xaxis\": \"x\", \"y\": [379.34000000000015], \"yaxis\": \"y\"}, {\"hovertemplate\": \"<b>%{hovertext}</b><br><br>COMMODITY_DESC=MISCELLANEOUS HBC<br>QUANTITY=%{x}<br>SALES_VALUE=%{y}<br>HOUSEHOLDS=%{marker.size}<extra></extra>\", \"hovertext\": [\"MISCELLANEOUS HBC\"], \"legendgroup\": \"MISCELLANEOUS HBC\", \"marker\": {\"color\": \"#7F7F7F\", \"size\": [6], \"sizemode\": \"area\", \"sizeref\": 0.3611111111111111, \"symbol\": \"circle\"}, \"mode\": \"markers\", \"name\": \"MISCELLANEOUS HBC\", \"orientation\": \"v\", \"showlegend\": true, \"type\": \"scatter\", \"x\": [8], \"xaxis\": \"x\", \"y\": [23.92], \"yaxis\": \"y\"}, {\"hovertemplate\": \"<b>%{hovertext}</b><br><br>COMMODITY_DESC=MOLASSES/SYRUP/PANCAKE MIXS<br>QUANTITY=%{x}<br>SALES_VALUE=%{y}<br>HOUSEHOLDS=%{marker.size}<extra></extra>\", \"hovertext\": [\"MOLASSES/SYRUP/PANCAKE MIXS\"], \"legendgroup\": \"MOLASSES/SYRUP/PANCAKE MIXS\", \"marker\": {\"color\": \"#BCBD22\", \"size\": [219], \"sizemode\": \"area\", \"sizeref\": 0.3611111111111111, \"symbol\": \"circle\"}, \"mode\": \"markers\", \"name\": \"MOLASSES/SYRUP/PANCAKE MIXS\", \"orientation\": \"v\", \"showlegend\": true, \"type\": \"scatter\", \"x\": [380], \"xaxis\": \"x\", \"y\": [837.6000000000017], \"yaxis\": \"y\"}, {\"hovertemplate\": \"<b>%{hovertext}</b><br><br>COMMODITY_DESC=MUSHROOMS<br>QUANTITY=%{x}<br>SALES_VALUE=%{y}<br>HOUSEHOLDS=%{marker.size}<extra></extra>\", \"hovertext\": [\"MUSHROOMS\"], \"legendgroup\": \"MUSHROOMS\", \"marker\": {\"color\": \"#17BECF\", \"size\": [197], \"sizemode\": \"area\", \"sizeref\": 0.3611111111111111, \"symbol\": \"circle\"}, \"mode\": \"markers\", \"name\": \"MUSHROOMS\", \"orientation\": \"v\", \"showlegend\": true, \"type\": \"scatter\", \"x\": [342], \"xaxis\": \"x\", \"y\": [735.2500000000007], \"yaxis\": \"y\"}, {\"hovertemplate\": \"<b>%{hovertext}</b><br><br>COMMODITY_DESC=NATURAL HBC<br>QUANTITY=%{x}<br>SALES_VALUE=%{y}<br>HOUSEHOLDS=%{marker.size}<extra></extra>\", \"hovertext\": [\"NATURAL HBC\"], \"legendgroup\": \"NATURAL HBC\", \"marker\": {\"color\": \"#1F77B4\", \"size\": [3], \"sizemode\": \"area\", \"sizeref\": 0.3611111111111111, \"symbol\": \"circle\"}, \"mode\": \"markers\", \"name\": \"NATURAL HBC\", \"orientation\": \"v\", \"showlegend\": true, \"type\": \"scatter\", \"x\": [5], \"xaxis\": \"x\", \"y\": [35.15], \"yaxis\": \"y\"}, {\"hovertemplate\": \"<b>%{hovertext}</b><br><br>COMMODITY_DESC=NEWSPAPER<br>QUANTITY=%{x}<br>SALES_VALUE=%{y}<br>HOUSEHOLDS=%{marker.size}<extra></extra>\", \"hovertext\": [\"NEWSPAPER\"], \"legendgroup\": \"NEWSPAPER\", \"marker\": {\"color\": \"#FF7F0E\", \"size\": [126], \"sizemode\": \"area\", \"sizeref\": 0.3611111111111111, \"symbol\": \"circle\"}, \"mode\": \"markers\", \"name\": \"NEWSPAPER\", \"orientation\": \"v\", \"showlegend\": true, \"type\": \"scatter\", \"x\": [248], \"xaxis\": \"x\", \"y\": [284.65], \"yaxis\": \"y\"}, {\"hovertemplate\": \"<b>%{hovertext}</b><br><br>COMMODITY_DESC=NO COMMODITY DESCRIPTION<br>QUANTITY=%{x}<br>SALES_VALUE=%{y}<br>HOUSEHOLDS=%{marker.size}<extra></extra>\", \"hovertext\": [\"NO COMMODITY DESCRIPTION\"], \"legendgroup\": \"NO COMMODITY DESCRIPTION\", \"marker\": {\"color\": \"#2CA02C\", \"size\": [81], \"sizemode\": \"area\", \"sizeref\": 0.3611111111111111, \"symbol\": \"circle\"}, \"mode\": \"markers\", \"name\": \"NO COMMODITY DESCRIPTION\", \"orientation\": \"v\", \"showlegend\": true, \"type\": \"scatter\", \"x\": [111], \"xaxis\": \"x\", \"y\": [749.3100000000003], \"yaxis\": \"y\"}, {\"hovertemplate\": \"<b>%{hovertext}</b><br><br>COMMODITY_DESC=NON EDIBLE PRODUCTS<br>QUANTITY=%{x}<br>SALES_VALUE=%{y}<br>HOUSEHOLDS=%{marker.size}<extra></extra>\", \"hovertext\": [\"NON EDIBLE PRODUCTS\"], \"legendgroup\": \"NON EDIBLE PRODUCTS\", \"marker\": {\"color\": \"#D62728\", \"size\": [1], \"sizemode\": \"area\", \"sizeref\": 0.3611111111111111, \"symbol\": \"circle\"}, \"mode\": \"markers\", \"name\": \"NON EDIBLE PRODUCTS\", \"orientation\": \"v\", \"showlegend\": true, \"type\": \"scatter\", \"x\": [1], \"xaxis\": \"x\", \"y\": [3.89], \"yaxis\": \"y\"}, {\"hovertemplate\": \"<b>%{hovertext}</b><br><br>COMMODITY_DESC=NON-DAIRY BEVERAGES<br>QUANTITY=%{x}<br>SALES_VALUE=%{y}<br>HOUSEHOLDS=%{marker.size}<extra></extra>\", \"hovertext\": [\"NON-DAIRY BEVERAGES\"], \"legendgroup\": \"NON-DAIRY BEVERAGES\", \"marker\": {\"color\": \"#9467BD\", \"size\": [15], \"sizemode\": \"area\", \"sizeref\": 0.3611111111111111, \"symbol\": \"circle\"}, \"mode\": \"markers\", \"name\": \"NON-DAIRY BEVERAGES\", \"orientation\": \"v\", \"showlegend\": true, \"type\": \"scatter\", \"x\": [31], \"xaxis\": \"x\", \"y\": [76.38000000000001], \"yaxis\": \"y\"}, {\"hovertemplate\": \"<b>%{hovertext}</b><br><br>COMMODITY_DESC=NUTS<br>QUANTITY=%{x}<br>SALES_VALUE=%{y}<br>HOUSEHOLDS=%{marker.size}<extra></extra>\", \"hovertext\": [\"NUTS\"], \"legendgroup\": \"NUTS\", \"marker\": {\"color\": \"#8C564B\", \"size\": [64], \"sizemode\": \"area\", \"sizeref\": 0.3611111111111111, \"symbol\": \"circle\"}, \"mode\": \"markers\", \"name\": \"NUTS\", \"orientation\": \"v\", \"showlegend\": true, \"type\": \"scatter\", \"x\": [98], \"xaxis\": \"x\", \"y\": [378.8300000000004], \"yaxis\": \"y\"}, {\"hovertemplate\": \"<b>%{hovertext}</b><br><br>COMMODITY_DESC=OLIVES<br>QUANTITY=%{x}<br>SALES_VALUE=%{y}<br>HOUSEHOLDS=%{marker.size}<extra></extra>\", \"hovertext\": [\"OLIVES\"], \"legendgroup\": \"OLIVES\", \"marker\": {\"color\": \"#E377C2\", \"size\": [139], \"sizemode\": \"area\", \"sizeref\": 0.3611111111111111, \"symbol\": \"circle\"}, \"mode\": \"markers\", \"name\": \"OLIVES\", \"orientation\": \"v\", \"showlegend\": true, \"type\": \"scatter\", \"x\": [214], \"xaxis\": \"x\", \"y\": [313.78000000000026], \"yaxis\": \"y\"}, {\"hovertemplate\": \"<b>%{hovertext}</b><br><br>COMMODITY_DESC=ONIONS<br>QUANTITY=%{x}<br>SALES_VALUE=%{y}<br>HOUSEHOLDS=%{marker.size}<extra></extra>\", \"hovertext\": [\"ONIONS\"], \"legendgroup\": \"ONIONS\", \"marker\": {\"color\": \"#7F7F7F\", \"size\": [546], \"sizemode\": \"area\", \"sizeref\": 0.3611111111111111, \"symbol\": \"circle\"}, \"mode\": \"markers\", \"name\": \"ONIONS\", \"orientation\": \"v\", \"showlegend\": true, \"type\": \"scatter\", \"x\": [1155], \"xaxis\": \"x\", \"y\": [1336.2900000000054], \"yaxis\": \"y\"}, {\"hovertemplate\": \"<b>%{hovertext}</b><br><br>COMMODITY_DESC=ORAL HYGIENE PRODUCTS<br>QUANTITY=%{x}<br>SALES_VALUE=%{y}<br>HOUSEHOLDS=%{marker.size}<extra></extra>\", \"hovertext\": [\"ORAL HYGIENE PRODUCTS\"], \"legendgroup\": \"ORAL HYGIENE PRODUCTS\", \"marker\": {\"color\": \"#BCBD22\", \"size\": [331], \"sizemode\": \"area\", \"sizeref\": 0.3611111111111111, \"symbol\": \"circle\"}, \"mode\": \"markers\", \"name\": \"ORAL HYGIENE PRODUCTS\", \"orientation\": \"v\", \"showlegend\": true, \"type\": \"scatter\", \"x\": [669], \"xaxis\": \"x\", \"y\": [2135.080000000002], \"yaxis\": \"y\"}, {\"hovertemplate\": \"<b>%{hovertext}</b><br><br>COMMODITY_DESC=ORGANICS FRUIT & VEGETABLES<br>QUANTITY=%{x}<br>SALES_VALUE=%{y}<br>HOUSEHOLDS=%{marker.size}<extra></extra>\", \"hovertext\": [\"ORGANICS FRUIT & VEGETABLES\"], \"legendgroup\": \"ORGANICS FRUIT & VEGETABLES\", \"marker\": {\"color\": \"#17BECF\", \"size\": [185], \"sizemode\": \"area\", \"sizeref\": 0.3611111111111111, \"symbol\": \"circle\"}, \"mode\": \"markers\", \"name\": \"ORGANICS FRUIT & VEGETABLES\", \"orientation\": \"v\", \"showlegend\": true, \"type\": \"scatter\", \"x\": [343], \"xaxis\": \"x\", \"y\": [853.6600000000016], \"yaxis\": \"y\"}, {\"hovertemplate\": \"<b>%{hovertext}</b><br><br>COMMODITY_DESC=OVERNIGHT PHOTOFINISHING<br>QUANTITY=%{x}<br>SALES_VALUE=%{y}<br>HOUSEHOLDS=%{marker.size}<extra></extra>\", \"hovertext\": [\"OVERNIGHT PHOTOFINISHING\"], \"legendgroup\": \"OVERNIGHT PHOTOFINISHING\", \"marker\": {\"color\": \"#1F77B4\", \"size\": [10], \"sizemode\": \"area\", \"sizeref\": 0.3611111111111111, \"symbol\": \"circle\"}, \"mode\": \"markers\", \"name\": \"OVERNIGHT PHOTOFINISHING\", \"orientation\": \"v\", \"showlegend\": true, \"type\": \"scatter\", \"x\": [19], \"xaxis\": \"x\", \"y\": [104.79999999999998], \"yaxis\": \"y\"}, {\"hovertemplate\": \"<b>%{hovertext}</b><br><br>COMMODITY_DESC=PACKAGED NATURAL SNACKS<br>QUANTITY=%{x}<br>SALES_VALUE=%{y}<br>HOUSEHOLDS=%{marker.size}<extra></extra>\", \"hovertext\": [\"PACKAGED NATURAL SNACKS\"], \"legendgroup\": \"PACKAGED NATURAL SNACKS\", \"marker\": {\"color\": \"#FF7F0E\", \"size\": [15], \"sizemode\": \"area\", \"sizeref\": 0.3611111111111111, \"symbol\": \"circle\"}, \"mode\": \"markers\", \"name\": \"PACKAGED NATURAL SNACKS\", \"orientation\": \"v\", \"showlegend\": true, \"type\": \"scatter\", \"x\": [19], \"xaxis\": \"x\", \"y\": [32.489999999999995], \"yaxis\": \"y\"}, {\"hovertemplate\": \"<b>%{hovertext}</b><br><br>COMMODITY_DESC=PAPER HOUSEWARES<br>QUANTITY=%{x}<br>SALES_VALUE=%{y}<br>HOUSEHOLDS=%{marker.size}<extra></extra>\", \"hovertext\": [\"PAPER HOUSEWARES\"], \"legendgroup\": \"PAPER HOUSEWARES\", \"marker\": {\"color\": \"#2CA02C\", \"size\": [356], \"sizemode\": \"area\", \"sizeref\": 0.3611111111111111, \"symbol\": \"circle\"}, \"mode\": \"markers\", \"name\": \"PAPER HOUSEWARES\", \"orientation\": \"v\", \"showlegend\": true, \"type\": \"scatter\", \"x\": [827], \"xaxis\": \"x\", \"y\": [1621.1300000000033], \"yaxis\": \"y\"}, {\"hovertemplate\": \"<b>%{hovertext}</b><br><br>COMMODITY_DESC=PAPER TOWELS<br>QUANTITY=%{x}<br>SALES_VALUE=%{y}<br>HOUSEHOLDS=%{marker.size}<extra></extra>\", \"hovertext\": [\"PAPER TOWELS\"], \"legendgroup\": \"PAPER TOWELS\", \"marker\": {\"color\": \"#D62728\", \"size\": [378], \"sizemode\": \"area\", \"sizeref\": 0.3611111111111111, \"symbol\": \"circle\"}, \"mode\": \"markers\", \"name\": \"PAPER TOWELS\", \"orientation\": \"v\", \"showlegend\": true, \"type\": \"scatter\", \"x\": [803], \"xaxis\": \"x\", \"y\": [1734.0500000000077], \"yaxis\": \"y\"}, {\"hovertemplate\": \"<b>%{hovertext}</b><br><br>COMMODITY_DESC=PARTY TRAYS<br>QUANTITY=%{x}<br>SALES_VALUE=%{y}<br>HOUSEHOLDS=%{marker.size}<extra></extra>\", \"hovertext\": [\"PARTY TRAYS\"], \"legendgroup\": \"PARTY TRAYS\", \"marker\": {\"color\": \"#9467BD\", \"size\": [13], \"sizemode\": \"area\", \"sizeref\": 0.3611111111111111, \"symbol\": \"circle\"}, \"mode\": \"markers\", \"name\": \"PARTY TRAYS\", \"orientation\": \"v\", \"showlegend\": true, \"type\": \"scatter\", \"x\": [17], \"xaxis\": \"x\", \"y\": [340.1500000000001], \"yaxis\": \"y\"}, {\"hovertemplate\": \"<b>%{hovertext}</b><br><br>COMMODITY_DESC=PASTA SAUCE<br>QUANTITY=%{x}<br>SALES_VALUE=%{y}<br>HOUSEHOLDS=%{marker.size}<extra></extra>\", \"hovertext\": [\"PASTA SAUCE\"], \"legendgroup\": \"PASTA SAUCE\", \"marker\": {\"color\": \"#8C564B\", \"size\": [467], \"sizemode\": \"area\", \"sizeref\": 0.3611111111111111, \"symbol\": \"circle\"}, \"mode\": \"markers\", \"name\": \"PASTA SAUCE\", \"orientation\": \"v\", \"showlegend\": true, \"type\": \"scatter\", \"x\": [1150], \"xaxis\": \"x\", \"y\": [1864.0299999999982], \"yaxis\": \"y\"}, {\"hovertemplate\": \"<b>%{hovertext}</b><br><br>COMMODITY_DESC=PEARS<br>QUANTITY=%{x}<br>SALES_VALUE=%{y}<br>HOUSEHOLDS=%{marker.size}<extra></extra>\", \"hovertext\": [\"PEARS\"], \"legendgroup\": \"PEARS\", \"marker\": {\"color\": \"#E377C2\", \"size\": [72], \"sizemode\": \"area\", \"sizeref\": 0.3611111111111111, \"symbol\": \"circle\"}, \"mode\": \"markers\", \"name\": \"PEARS\", \"orientation\": \"v\", \"showlegend\": true, \"type\": \"scatter\", \"x\": [87], \"xaxis\": \"x\", \"y\": [182.21], \"yaxis\": \"y\"}, {\"hovertemplate\": \"<b>%{hovertext}</b><br><br>COMMODITY_DESC=PEPPERS-ALL<br>QUANTITY=%{x}<br>SALES_VALUE=%{y}<br>HOUSEHOLDS=%{marker.size}<extra></extra>\", \"hovertext\": [\"PEPPERS-ALL\"], \"legendgroup\": \"PEPPERS-ALL\", \"marker\": {\"color\": \"#7F7F7F\", \"size\": [349], \"sizemode\": \"area\", \"sizeref\": 0.3611111111111111, \"symbol\": \"circle\"}, \"mode\": \"markers\", \"name\": \"PEPPERS-ALL\", \"orientation\": \"v\", \"showlegend\": true, \"type\": \"scatter\", \"x\": [831], \"xaxis\": \"x\", \"y\": [1051.7700000000007], \"yaxis\": \"y\"}, {\"hovertemplate\": \"<b>%{hovertext}</b><br><br>COMMODITY_DESC=PERSONAL CARE APPLIANCES<br>QUANTITY=%{x}<br>SALES_VALUE=%{y}<br>HOUSEHOLDS=%{marker.size}<extra></extra>\", \"hovertext\": [\"PERSONAL CARE APPLIANCES\"], \"legendgroup\": \"PERSONAL CARE APPLIANCES\", \"marker\": {\"color\": \"#BCBD22\", \"size\": [11], \"sizemode\": \"area\", \"sizeref\": 0.3611111111111111, \"symbol\": \"circle\"}, \"mode\": \"markers\", \"name\": \"PERSONAL CARE APPLIANCES\", \"orientation\": \"v\", \"showlegend\": true, \"type\": \"scatter\", \"x\": [11], \"xaxis\": \"x\", \"y\": [162.69000000000003], \"yaxis\": \"y\"}, {\"hovertemplate\": \"<b>%{hovertext}</b><br><br>COMMODITY_DESC=PET CARE SUPPLIES<br>QUANTITY=%{x}<br>SALES_VALUE=%{y}<br>HOUSEHOLDS=%{marker.size}<extra></extra>\", \"hovertext\": [\"PET CARE SUPPLIES\"], \"legendgroup\": \"PET CARE SUPPLIES\", \"marker\": {\"color\": \"#17BECF\", \"size\": [118], \"sizemode\": \"area\", \"sizeref\": 0.3611111111111111, \"symbol\": \"circle\"}, \"mode\": \"markers\", \"name\": \"PET CARE SUPPLIES\", \"orientation\": \"v\", \"showlegend\": true, \"type\": \"scatter\", \"x\": [217], \"xaxis\": \"x\", \"y\": [769.8300000000006], \"yaxis\": \"y\"}, {\"hovertemplate\": \"<b>%{hovertext}</b><br><br>COMMODITY_DESC=PICKLE/RELISH/PKLD VEG<br>QUANTITY=%{x}<br>SALES_VALUE=%{y}<br>HOUSEHOLDS=%{marker.size}<extra></extra>\", \"hovertext\": [\"PICKLE/RELISH/PKLD VEG\"], \"legendgroup\": \"PICKLE/RELISH/PKLD VEG\", \"marker\": {\"color\": \"#1F77B4\", \"size\": [299], \"sizemode\": \"area\", \"sizeref\": 0.3611111111111111, \"symbol\": \"circle\"}, \"mode\": \"markers\", \"name\": \"PICKLE/RELISH/PKLD VEG\", \"orientation\": \"v\", \"showlegend\": true, \"type\": \"scatter\", \"x\": [506], \"xaxis\": \"x\", \"y\": [990.2500000000016], \"yaxis\": \"y\"}, {\"hovertemplate\": \"<b>%{hovertext}</b><br><br>COMMODITY_DESC=PIES<br>QUANTITY=%{x}<br>SALES_VALUE=%{y}<br>HOUSEHOLDS=%{marker.size}<extra></extra>\", \"hovertext\": [\"PIES\"], \"legendgroup\": \"PIES\", \"marker\": {\"color\": \"#FF7F0E\", \"size\": [92], \"sizemode\": \"area\", \"sizeref\": 0.3611111111111111, \"symbol\": \"circle\"}, \"mode\": \"markers\", \"name\": \"PIES\", \"orientation\": \"v\", \"showlegend\": true, \"type\": \"scatter\", \"x\": [145], \"xaxis\": \"x\", \"y\": [567.6600000000009], \"yaxis\": \"y\"}, {\"hovertemplate\": \"<b>%{hovertext}</b><br><br>COMMODITY_DESC=PLASTIC HOUSEWARES<br>QUANTITY=%{x}<br>SALES_VALUE=%{y}<br>HOUSEHOLDS=%{marker.size}<extra></extra>\", \"hovertext\": [\"PLASTIC HOUSEWARES\"], \"legendgroup\": \"PLASTIC HOUSEWARES\", \"marker\": {\"color\": \"#2CA02C\", \"size\": [134], \"sizemode\": \"area\", \"sizeref\": 0.3611111111111111, \"symbol\": \"circle\"}, \"mode\": \"markers\", \"name\": \"PLASTIC HOUSEWARES\", \"orientation\": \"v\", \"showlegend\": true, \"type\": \"scatter\", \"x\": [253], \"xaxis\": \"x\", \"y\": [551.3800000000003], \"yaxis\": \"y\"}, {\"hovertemplate\": \"<b>%{hovertext}</b><br><br>COMMODITY_DESC=PNT BTR/JELLY/JAMS<br>QUANTITY=%{x}<br>SALES_VALUE=%{y}<br>HOUSEHOLDS=%{marker.size}<extra></extra>\", \"hovertext\": [\"PNT BTR/JELLY/JAMS\"], \"legendgroup\": \"PNT BTR/JELLY/JAMS\", \"marker\": {\"color\": \"#D62728\", \"size\": [444], \"sizemode\": \"area\", \"sizeref\": 0.3611111111111111, \"symbol\": \"circle\"}, \"mode\": \"markers\", \"name\": \"PNT BTR/JELLY/JAMS\", \"orientation\": \"v\", \"showlegend\": true, \"type\": \"scatter\", \"x\": [922], \"xaxis\": \"x\", \"y\": [2156.020000000004], \"yaxis\": \"y\"}, {\"hovertemplate\": \"<b>%{hovertext}</b><br><br>COMMODITY_DESC=POPCORN<br>QUANTITY=%{x}<br>SALES_VALUE=%{y}<br>HOUSEHOLDS=%{marker.size}<extra></extra>\", \"hovertext\": [\"POPCORN\"], \"legendgroup\": \"POPCORN\", \"marker\": {\"color\": \"#9467BD\", \"size\": [160], \"sizemode\": \"area\", \"sizeref\": 0.3611111111111111, \"symbol\": \"circle\"}, \"mode\": \"markers\", \"name\": \"POPCORN\", \"orientation\": \"v\", \"showlegend\": true, \"type\": \"scatter\", \"x\": [248], \"xaxis\": \"x\", \"y\": [573.9300000000009], \"yaxis\": \"y\"}, {\"hovertemplate\": \"<b>%{hovertext}</b><br><br>COMMODITY_DESC=PORK<br>QUANTITY=%{x}<br>SALES_VALUE=%{y}<br>HOUSEHOLDS=%{marker.size}<extra></extra>\", \"hovertext\": [\"PORK\"], \"legendgroup\": \"PORK\", \"marker\": {\"color\": \"#8C564B\", \"size\": [498], \"sizemode\": \"area\", \"sizeref\": 0.3611111111111111, \"symbol\": \"circle\"}, \"mode\": \"markers\", \"name\": \"PORK\", \"orientation\": \"v\", \"showlegend\": true, \"type\": \"scatter\", \"x\": [1146], \"xaxis\": \"x\", \"y\": [5741.709999999993], \"yaxis\": \"y\"}, {\"hovertemplate\": \"<b>%{hovertext}</b><br><br>COMMODITY_DESC=PORTABLE ELECTRIC APPLIANCES<br>QUANTITY=%{x}<br>SALES_VALUE=%{y}<br>HOUSEHOLDS=%{marker.size}<extra></extra>\", \"hovertext\": [\"PORTABLE ELECTRIC APPLIANCES\"], \"legendgroup\": \"PORTABLE ELECTRIC APPLIANCES\", \"marker\": {\"color\": \"#E377C2\", \"size\": [4], \"sizemode\": \"area\", \"sizeref\": 0.3611111111111111, \"symbol\": \"circle\"}, \"mode\": \"markers\", \"name\": \"PORTABLE ELECTRIC APPLIANCES\", \"orientation\": \"v\", \"showlegend\": true, \"type\": \"scatter\", \"x\": [4], \"xaxis\": \"x\", \"y\": [39.96], \"yaxis\": \"y\"}, {\"hovertemplate\": \"<b>%{hovertext}</b><br><br>COMMODITY_DESC=POTATOES<br>QUANTITY=%{x}<br>SALES_VALUE=%{y}<br>HOUSEHOLDS=%{marker.size}<extra></extra>\", \"hovertext\": [\"POTATOES\"], \"legendgroup\": \"POTATOES\", \"marker\": {\"color\": \"#7F7F7F\", \"size\": [533], \"sizemode\": \"area\", \"sizeref\": 0.3611111111111111, \"symbol\": \"circle\"}, \"mode\": \"markers\", \"name\": \"POTATOES\", \"orientation\": \"v\", \"showlegend\": true, \"type\": \"scatter\", \"x\": [1024], \"xaxis\": \"x\", \"y\": [1928.9800000000032], \"yaxis\": \"y\"}, {\"hovertemplate\": \"<b>%{hovertext}</b><br><br>COMMODITY_DESC=PREPAID WIRELESS&ACCESSORIES<br>QUANTITY=%{x}<br>SALES_VALUE=%{y}<br>HOUSEHOLDS=%{marker.size}<extra></extra>\", \"hovertext\": [\"PREPAID WIRELESS&ACCESSORIES\"], \"legendgroup\": \"PREPAID WIRELESS&ACCESSORIES\", \"marker\": {\"color\": \"#BCBD22\", \"size\": [42], \"sizemode\": \"area\", \"sizeref\": 0.3611111111111111, \"symbol\": \"circle\"}, \"mode\": \"markers\", \"name\": \"PREPAID WIRELESS&ACCESSORIES\", \"orientation\": \"v\", \"showlegend\": true, \"type\": \"scatter\", \"x\": [88], \"xaxis\": \"x\", \"y\": [1511.8400000000001], \"yaxis\": \"y\"}, {\"hovertemplate\": \"<b>%{hovertext}</b><br><br>COMMODITY_DESC=PREPARED FOOD<br>QUANTITY=%{x}<br>SALES_VALUE=%{y}<br>HOUSEHOLDS=%{marker.size}<extra></extra>\", \"hovertext\": [\"PREPARED FOOD\"], \"legendgroup\": \"PREPARED FOOD\", \"marker\": {\"color\": \"#17BECF\", \"size\": [159], \"sizemode\": \"area\", \"sizeref\": 0.3611111111111111, \"symbol\": \"circle\"}, \"mode\": \"markers\", \"name\": \"PREPARED FOOD\", \"orientation\": \"v\", \"showlegend\": true, \"type\": \"scatter\", \"x\": [353], \"xaxis\": \"x\", \"y\": [1205.1899999999996], \"yaxis\": \"y\"}, {\"hovertemplate\": \"<b>%{hovertext}</b><br><br>COMMODITY_DESC=PREPARED/PKGD FOODS<br>QUANTITY=%{x}<br>SALES_VALUE=%{y}<br>HOUSEHOLDS=%{marker.size}<extra></extra>\", \"hovertext\": [\"PREPARED/PKGD FOODS\"], \"legendgroup\": \"PREPARED/PKGD FOODS\", \"marker\": {\"color\": \"#1F77B4\", \"size\": [19], \"sizemode\": \"area\", \"sizeref\": 0.3611111111111111, \"symbol\": \"circle\"}, \"mode\": \"markers\", \"name\": \"PREPARED/PKGD FOODS\", \"orientation\": \"v\", \"showlegend\": true, \"type\": \"scatter\", \"x\": [55], \"xaxis\": \"x\", \"y\": [124.75000000000001], \"yaxis\": \"y\"}, {\"hovertemplate\": \"<b>%{hovertext}</b><br><br>COMMODITY_DESC=PROCESSED<br>QUANTITY=%{x}<br>SALES_VALUE=%{y}<br>HOUSEHOLDS=%{marker.size}<extra></extra>\", \"hovertext\": [\"PROCESSED\"], \"legendgroup\": \"PROCESSED\", \"marker\": {\"color\": \"#FF7F0E\", \"size\": [194], \"sizemode\": \"area\", \"sizeref\": 0.3611111111111111, \"symbol\": \"circle\"}, \"mode\": \"markers\", \"name\": \"PROCESSED\", \"orientation\": \"v\", \"showlegend\": true, \"type\": \"scatter\", \"x\": [300], \"xaxis\": \"x\", \"y\": [767.900000000001], \"yaxis\": \"y\"}, {\"hovertemplate\": \"<b>%{hovertext}</b><br><br>COMMODITY_DESC=PROD SUPPLIES<br>QUANTITY=%{x}<br>SALES_VALUE=%{y}<br>HOUSEHOLDS=%{marker.size}<extra></extra>\", \"hovertext\": [\"PROD SUPPLIES\"], \"legendgroup\": \"PROD SUPPLIES\", \"marker\": {\"color\": \"#2CA02C\", \"size\": [5], \"sizemode\": \"area\", \"sizeref\": 0.3611111111111111, \"symbol\": \"circle\"}, \"mode\": \"markers\", \"name\": \"PROD SUPPLIES\", \"orientation\": \"v\", \"showlegend\": true, \"type\": \"scatter\", \"x\": [4], \"xaxis\": \"x\", \"y\": [42.2], \"yaxis\": \"y\"}, {\"hovertemplate\": \"<b>%{hovertext}</b><br><br>COMMODITY_DESC=PROPANE<br>QUANTITY=%{x}<br>SALES_VALUE=%{y}<br>HOUSEHOLDS=%{marker.size}<extra></extra>\", \"hovertext\": [\"PROPANE\"], \"legendgroup\": \"PROPANE\", \"marker\": {\"color\": \"#D62728\", \"size\": [7], \"sizemode\": \"area\", \"sizeref\": 0.3611111111111111, \"symbol\": \"circle\"}, \"mode\": \"markers\", \"name\": \"PROPANE\", \"orientation\": \"v\", \"showlegend\": true, \"type\": \"scatter\", \"x\": [8], \"xaxis\": \"x\", \"y\": [153.92], \"yaxis\": \"y\"}, {\"hovertemplate\": \"<b>%{hovertext}</b><br><br>COMMODITY_DESC=PWDR/CRYSTL DRNK MX<br>QUANTITY=%{x}<br>SALES_VALUE=%{y}<br>HOUSEHOLDS=%{marker.size}<extra></extra>\", \"hovertext\": [\"PWDR/CRYSTL DRNK MX\"], \"legendgroup\": \"PWDR/CRYSTL DRNK MX\", \"marker\": {\"color\": \"#9467BD\", \"size\": [280], \"sizemode\": \"area\", \"sizeref\": 0.3611111111111111, \"symbol\": \"circle\"}, \"mode\": \"markers\", \"name\": \"PWDR/CRYSTL DRNK MX\", \"orientation\": \"v\", \"showlegend\": true, \"type\": \"scatter\", \"x\": [2148], \"xaxis\": \"x\", \"y\": [1164.050000000002], \"yaxis\": \"y\"}, {\"hovertemplate\": \"<b>%{hovertext}</b><br><br>COMMODITY_DESC=QUICK SERVICE<br>QUANTITY=%{x}<br>SALES_VALUE=%{y}<br>HOUSEHOLDS=%{marker.size}<extra></extra>\", \"hovertext\": [\"QUICK SERVICE\"], \"legendgroup\": \"QUICK SERVICE\", \"marker\": {\"color\": \"#8C564B\", \"size\": [6], \"sizemode\": \"area\", \"sizeref\": 0.3611111111111111, \"symbol\": \"circle\"}, \"mode\": \"markers\", \"name\": \"QUICK SERVICE\", \"orientation\": \"v\", \"showlegend\": true, \"type\": \"scatter\", \"x\": [7], \"xaxis\": \"x\", \"y\": [38.050000000000004], \"yaxis\": \"y\"}, {\"hovertemplate\": \"<b>%{hovertext}</b><br><br>COMMODITY_DESC=REFRGRATD DOUGH PRODUCTS<br>QUANTITY=%{x}<br>SALES_VALUE=%{y}<br>HOUSEHOLDS=%{marker.size}<extra></extra>\", \"hovertext\": [\"REFRGRATD DOUGH PRODUCTS\"], \"legendgroup\": \"REFRGRATD DOUGH PRODUCTS\", \"marker\": {\"color\": \"#E377C2\", \"size\": [420], \"sizemode\": \"area\", \"sizeref\": 0.3611111111111111, \"symbol\": \"circle\"}, \"mode\": \"markers\", \"name\": \"REFRGRATD DOUGH PRODUCTS\", \"orientation\": \"v\", \"showlegend\": true, \"type\": \"scatter\", \"x\": [1236], \"xaxis\": \"x\", \"y\": [2165.3700000000026], \"yaxis\": \"y\"}, {\"hovertemplate\": \"<b>%{hovertext}</b><br><br>COMMODITY_DESC=REFRGRATD JUICES/DRNKS<br>QUANTITY=%{x}<br>SALES_VALUE=%{y}<br>HOUSEHOLDS=%{marker.size}<extra></extra>\", \"hovertext\": [\"REFRGRATD JUICES/DRNKS\"], \"legendgroup\": \"REFRGRATD JUICES/DRNKS\", \"marker\": {\"color\": \"#7F7F7F\", \"size\": [773], \"sizemode\": \"area\", \"sizeref\": 0.3611111111111111, \"symbol\": \"circle\"}, \"mode\": \"markers\", \"name\": \"REFRGRATD JUICES/DRNKS\", \"orientation\": \"v\", \"showlegend\": true, \"type\": \"scatter\", \"x\": [2650], \"xaxis\": \"x\", \"y\": [4534.27999999994], \"yaxis\": \"y\"}, {\"hovertemplate\": \"<b>%{hovertext}</b><br><br>COMMODITY_DESC=REFRIGERATED<br>QUANTITY=%{x}<br>SALES_VALUE=%{y}<br>HOUSEHOLDS=%{marker.size}<extra></extra>\", \"hovertext\": [\"REFRIGERATED\"], \"legendgroup\": \"REFRIGERATED\", \"marker\": {\"color\": \"#BCBD22\", \"size\": [144], \"sizemode\": \"area\", \"sizeref\": 0.3611111111111111, \"symbol\": \"circle\"}, \"mode\": \"markers\", \"name\": \"REFRIGERATED\", \"orientation\": \"v\", \"showlegend\": true, \"type\": \"scatter\", \"x\": [615], \"xaxis\": \"x\", \"y\": [1319.7800000000018], \"yaxis\": \"y\"}, {\"hovertemplate\": \"<b>%{hovertext}</b><br><br>COMMODITY_DESC=RESTRICTED DIET<br>QUANTITY=%{x}<br>SALES_VALUE=%{y}<br>HOUSEHOLDS=%{marker.size}<extra></extra>\", \"hovertext\": [\"RESTRICTED DIET\"], \"legendgroup\": \"RESTRICTED DIET\", \"marker\": {\"color\": \"#17BECF\", \"size\": [2], \"sizemode\": \"area\", \"sizeref\": 0.3611111111111111, \"symbol\": \"circle\"}, \"mode\": \"markers\", \"name\": \"RESTRICTED DIET\", \"orientation\": \"v\", \"showlegend\": true, \"type\": \"scatter\", \"x\": [2], \"xaxis\": \"x\", \"y\": [6.28], \"yaxis\": \"y\"}, {\"hovertemplate\": \"<b>%{hovertext}</b><br><br>COMMODITY_DESC=RICE CAKES<br>QUANTITY=%{x}<br>SALES_VALUE=%{y}<br>HOUSEHOLDS=%{marker.size}<extra></extra>\", \"hovertext\": [\"RICE CAKES\"], \"legendgroup\": \"RICE CAKES\", \"marker\": {\"color\": \"#1F77B4\", \"size\": [37], \"sizemode\": \"area\", \"sizeref\": 0.3611111111111111, \"symbol\": \"circle\"}, \"mode\": \"markers\", \"name\": \"RICE CAKES\", \"orientation\": \"v\", \"showlegend\": true, \"type\": \"scatter\", \"x\": [79], \"xaxis\": \"x\", \"y\": [179.82999999999996], \"yaxis\": \"y\"}, {\"hovertemplate\": \"<b>%{hovertext}</b><br><br>COMMODITY_DESC=ROLLS<br>QUANTITY=%{x}<br>SALES_VALUE=%{y}<br>HOUSEHOLDS=%{marker.size}<extra></extra>\", \"hovertext\": [\"ROLLS\"], \"legendgroup\": \"ROLLS\", \"marker\": {\"color\": \"#FF7F0E\", \"size\": [201], \"sizemode\": \"area\", \"sizeref\": 0.3611111111111111, \"symbol\": \"circle\"}, \"mode\": \"markers\", \"name\": \"ROLLS\", \"orientation\": \"v\", \"showlegend\": true, \"type\": \"scatter\", \"x\": [520], \"xaxis\": \"x\", \"y\": [652.8100000000014], \"yaxis\": \"y\"}, {\"hovertemplate\": \"<b>%{hovertext}</b><br><br>COMMODITY_DESC=ROSES<br>QUANTITY=%{x}<br>SALES_VALUE=%{y}<br>HOUSEHOLDS=%{marker.size}<extra></extra>\", \"hovertext\": [\"ROSES\"], \"legendgroup\": \"ROSES\", \"marker\": {\"color\": \"#2CA02C\", \"size\": [34], \"sizemode\": \"area\", \"sizeref\": 0.3611111111111111, \"symbol\": \"circle\"}, \"mode\": \"markers\", \"name\": \"ROSES\", \"orientation\": \"v\", \"showlegend\": true, \"type\": \"scatter\", \"x\": [42], \"xaxis\": \"x\", \"y\": [497.69000000000017], \"yaxis\": \"y\"}, {\"hovertemplate\": \"<b>%{hovertext}</b><br><br>COMMODITY_DESC=RW FRESH PROCESSED MEAT<br>QUANTITY=%{x}<br>SALES_VALUE=%{y}<br>HOUSEHOLDS=%{marker.size}<extra></extra>\", \"hovertext\": [\"RW FRESH PROCESSED MEAT\"], \"legendgroup\": \"RW FRESH PROCESSED MEAT\", \"marker\": {\"color\": \"#D62728\", \"size\": [2], \"sizemode\": \"area\", \"sizeref\": 0.3611111111111111, \"symbol\": \"circle\"}, \"mode\": \"markers\", \"name\": \"RW FRESH PROCESSED MEAT\", \"orientation\": \"v\", \"showlegend\": true, \"type\": \"scatter\", \"x\": [3], \"xaxis\": \"x\", \"y\": [3.79], \"yaxis\": \"y\"}, {\"hovertemplate\": \"<b>%{hovertext}</b><br><br>COMMODITY_DESC=SALAD BAR<br>QUANTITY=%{x}<br>SALES_VALUE=%{y}<br>HOUSEHOLDS=%{marker.size}<extra></extra>\", \"hovertext\": [\"SALAD BAR\"], \"legendgroup\": \"SALAD BAR\", \"marker\": {\"color\": \"#9467BD\", \"size\": [281], \"sizemode\": \"area\", \"sizeref\": 0.3611111111111111, \"symbol\": \"circle\"}, \"mode\": \"markers\", \"name\": \"SALAD BAR\", \"orientation\": \"v\", \"showlegend\": true, \"type\": \"scatter\", \"x\": [773], \"xaxis\": \"x\", \"y\": [2358.3199999999956], \"yaxis\": \"y\"}, {\"hovertemplate\": \"<b>%{hovertext}</b><br><br>COMMODITY_DESC=SALAD MIX<br>QUANTITY=%{x}<br>SALES_VALUE=%{y}<br>HOUSEHOLDS=%{marker.size}<extra></extra>\", \"hovertext\": [\"SALAD MIX\"], \"legendgroup\": \"SALAD MIX\", \"marker\": {\"color\": \"#8C564B\", \"size\": [495], \"sizemode\": \"area\", \"sizeref\": 0.3611111111111111, \"symbol\": \"circle\"}, \"mode\": \"markers\", \"name\": \"SALAD MIX\", \"orientation\": \"v\", \"showlegend\": true, \"type\": \"scatter\", \"x\": [1169], \"xaxis\": \"x\", \"y\": [2637.399999999995], \"yaxis\": \"y\"}, {\"hovertemplate\": \"<b>%{hovertext}</b><br><br>COMMODITY_DESC=SALADS/DIPS<br>QUANTITY=%{x}<br>SALES_VALUE=%{y}<br>HOUSEHOLDS=%{marker.size}<extra></extra>\", \"hovertext\": [\"SALADS/DIPS\"], \"legendgroup\": \"SALADS/DIPS\", \"marker\": {\"color\": \"#E377C2\", \"size\": [296], \"sizemode\": \"area\", \"sizeref\": 0.3611111111111111, \"symbol\": \"circle\"}, \"mode\": \"markers\", \"name\": \"SALADS/DIPS\", \"orientation\": \"v\", \"showlegend\": true, \"type\": \"scatter\", \"x\": [599], \"xaxis\": \"x\", \"y\": [1755.4200000000028], \"yaxis\": \"y\"}, {\"hovertemplate\": \"<b>%{hovertext}</b><br><br>COMMODITY_DESC=SALD DRSNG/SNDWCH SPRD<br>QUANTITY=%{x}<br>SALES_VALUE=%{y}<br>HOUSEHOLDS=%{marker.size}<extra></extra>\", \"hovertext\": [\"SALD DRSNG/SNDWCH SPRD\"], \"legendgroup\": \"SALD DRSNG/SNDWCH SPRD\", \"marker\": {\"color\": \"#7F7F7F\", \"size\": [722], \"sizemode\": \"area\", \"sizeref\": 0.3611111111111111, \"symbol\": \"circle\"}, \"mode\": \"markers\", \"name\": \"SALD DRSNG/SNDWCH SPRD\", \"orientation\": \"v\", \"showlegend\": true, \"type\": \"scatter\", \"x\": [1680], \"xaxis\": \"x\", \"y\": [3399.099999999989], \"yaxis\": \"y\"}, {\"hovertemplate\": \"<b>%{hovertext}</b><br><br>COMMODITY_DESC=SANDWICHES<br>QUANTITY=%{x}<br>SALES_VALUE=%{y}<br>HOUSEHOLDS=%{marker.size}<extra></extra>\", \"hovertext\": [\"SANDWICHES\"], \"legendgroup\": \"SANDWICHES\", \"marker\": {\"color\": \"#BCBD22\", \"size\": [39], \"sizemode\": \"area\", \"sizeref\": 0.3611111111111111, \"symbol\": \"circle\"}, \"mode\": \"markers\", \"name\": \"SANDWICHES\", \"orientation\": \"v\", \"showlegend\": true, \"type\": \"scatter\", \"x\": [88], \"xaxis\": \"x\", \"y\": [304.62000000000023], \"yaxis\": \"y\"}, {\"hovertemplate\": \"<b>%{hovertext}</b><br><br>COMMODITY_DESC=SEAFOOD - FROZEN<br>QUANTITY=%{x}<br>SALES_VALUE=%{y}<br>HOUSEHOLDS=%{marker.size}<extra></extra>\", \"hovertext\": [\"SEAFOOD - FROZEN\"], \"legendgroup\": \"SEAFOOD - FROZEN\", \"marker\": {\"color\": \"#17BECF\", \"size\": [307], \"sizemode\": \"area\", \"sizeref\": 0.3611111111111111, \"symbol\": \"circle\"}, \"mode\": \"markers\", \"name\": \"SEAFOOD - FROZEN\", \"orientation\": \"v\", \"showlegend\": true, \"type\": \"scatter\", \"x\": [602], \"xaxis\": \"x\", \"y\": [3291.0499999999874], \"yaxis\": \"y\"}, {\"hovertemplate\": \"<b>%{hovertext}</b><br><br>COMMODITY_DESC=SEAFOOD - MISC<br>QUANTITY=%{x}<br>SALES_VALUE=%{y}<br>HOUSEHOLDS=%{marker.size}<extra></extra>\", \"hovertext\": [\"SEAFOOD - MISC\"], \"legendgroup\": \"SEAFOOD - MISC\", \"marker\": {\"color\": \"#1F77B4\", \"size\": [65], \"sizemode\": \"area\", \"sizeref\": 0.3611111111111111, \"symbol\": \"circle\"}, \"mode\": \"markers\", \"name\": \"SEAFOOD - MISC\", \"orientation\": \"v\", \"showlegend\": true, \"type\": \"scatter\", \"x\": [79], \"xaxis\": \"x\", \"y\": [136.32000000000002], \"yaxis\": \"y\"}, {\"hovertemplate\": \"<b>%{hovertext}</b><br><br>COMMODITY_DESC=SEAFOOD - SHELF STABLE<br>QUANTITY=%{x}<br>SALES_VALUE=%{y}<br>HOUSEHOLDS=%{marker.size}<extra></extra>\", \"hovertext\": [\"SEAFOOD - SHELF STABLE\"], \"legendgroup\": \"SEAFOOD - SHELF STABLE\", \"marker\": {\"color\": \"#FF7F0E\", \"size\": [319], \"sizemode\": \"area\", \"sizeref\": 0.3611111111111111, \"symbol\": \"circle\"}, \"mode\": \"markers\", \"name\": \"SEAFOOD - SHELF STABLE\", \"orientation\": \"v\", \"showlegend\": true, \"type\": \"scatter\", \"x\": [1313], \"xaxis\": \"x\", \"y\": [1521.870000000001], \"yaxis\": \"y\"}, {\"hovertemplate\": \"<b>%{hovertext}</b><br><br>COMMODITY_DESC=SEAFOOD-FRESH<br>QUANTITY=%{x}<br>SALES_VALUE=%{y}<br>HOUSEHOLDS=%{marker.size}<extra></extra>\", \"hovertext\": [\"SEAFOOD-FRESH\"], \"legendgroup\": \"SEAFOOD-FRESH\", \"marker\": {\"color\": \"#2CA02C\", \"size\": [166], \"sizemode\": \"area\", \"sizeref\": 0.3611111111111111, \"symbol\": \"circle\"}, \"mode\": \"markers\", \"name\": \"SEAFOOD-FRESH\", \"orientation\": \"v\", \"showlegend\": true, \"type\": \"scatter\", \"x\": [342], \"xaxis\": \"x\", \"y\": [1599.9700000000005], \"yaxis\": \"y\"}, {\"hovertemplate\": \"<b>%{hovertext}</b><br><br>COMMODITY_DESC=SERVICE BEVERAGE<br>QUANTITY=%{x}<br>SALES_VALUE=%{y}<br>HOUSEHOLDS=%{marker.size}<extra></extra>\", \"hovertext\": [\"SERVICE BEVERAGE\"], \"legendgroup\": \"SERVICE BEVERAGE\", \"marker\": {\"color\": \"#D62728\", \"size\": [18], \"sizemode\": \"area\", \"sizeref\": 0.3611111111111111, \"symbol\": \"circle\"}, \"mode\": \"markers\", \"name\": \"SERVICE BEVERAGE\", \"orientation\": \"v\", \"showlegend\": true, \"type\": \"scatter\", \"x\": [49], \"xaxis\": \"x\", \"y\": [46.91], \"yaxis\": \"y\"}, {\"hovertemplate\": \"<b>%{hovertext}</b><br><br>COMMODITY_DESC=SEWING<br>QUANTITY=%{x}<br>SALES_VALUE=%{y}<br>HOUSEHOLDS=%{marker.size}<extra></extra>\", \"hovertext\": [\"SEWING\"], \"legendgroup\": \"SEWING\", \"marker\": {\"color\": \"#9467BD\", \"size\": [5], \"sizemode\": \"area\", \"sizeref\": 0.3611111111111111, \"symbol\": \"circle\"}, \"mode\": \"markers\", \"name\": \"SEWING\", \"orientation\": \"v\", \"showlegend\": true, \"type\": \"scatter\", \"x\": [8], \"xaxis\": \"x\", \"y\": [54.04], \"yaxis\": \"y\"}, {\"hovertemplate\": \"<b>%{hovertext}</b><br><br>COMMODITY_DESC=SHAVING CARE PRODUCTS<br>QUANTITY=%{x}<br>SALES_VALUE=%{y}<br>HOUSEHOLDS=%{marker.size}<extra></extra>\", \"hovertext\": [\"SHAVING CARE PRODUCTS\"], \"legendgroup\": \"SHAVING CARE PRODUCTS\", \"marker\": {\"color\": \"#8C564B\", \"size\": [163], \"sizemode\": \"area\", \"sizeref\": 0.3611111111111111, \"symbol\": \"circle\"}, \"mode\": \"markers\", \"name\": \"SHAVING CARE PRODUCTS\", \"orientation\": \"v\", \"showlegend\": true, \"type\": \"scatter\", \"x\": [260], \"xaxis\": \"x\", \"y\": [1379.3100000000009], \"yaxis\": \"y\"}, {\"hovertemplate\": \"<b>%{hovertext}</b><br><br>COMMODITY_DESC=SHOE CARE<br>QUANTITY=%{x}<br>SALES_VALUE=%{y}<br>HOUSEHOLDS=%{marker.size}<extra></extra>\", \"hovertext\": [\"SHOE CARE\"], \"legendgroup\": \"SHOE CARE\", \"marker\": {\"color\": \"#E377C2\", \"size\": [14], \"sizemode\": \"area\", \"sizeref\": 0.3611111111111111, \"symbol\": \"circle\"}, \"mode\": \"markers\", \"name\": \"SHOE CARE\", \"orientation\": \"v\", \"showlegend\": true, \"type\": \"scatter\", \"x\": [15], \"xaxis\": \"x\", \"y\": [38.8], \"yaxis\": \"y\"}, {\"hovertemplate\": \"<b>%{hovertext}</b><br><br>COMMODITY_DESC=SHORTENING/OIL<br>QUANTITY=%{x}<br>SALES_VALUE=%{y}<br>HOUSEHOLDS=%{marker.size}<extra></extra>\", \"hovertext\": [\"SHORTENING/OIL\"], \"legendgroup\": \"SHORTENING/OIL\", \"marker\": {\"color\": \"#7F7F7F\", \"size\": [368], \"sizemode\": \"area\", \"sizeref\": 0.3611111111111111, \"symbol\": \"circle\"}, \"mode\": \"markers\", \"name\": \"SHORTENING/OIL\", \"orientation\": \"v\", \"showlegend\": true, \"type\": \"scatter\", \"x\": [573], \"xaxis\": \"x\", \"y\": [1606.650000000004], \"yaxis\": \"y\"}, {\"hovertemplate\": \"<b>%{hovertext}</b><br><br>COMMODITY_DESC=SINUS AND ALLERGY<br>QUANTITY=%{x}<br>SALES_VALUE=%{y}<br>HOUSEHOLDS=%{marker.size}<extra></extra>\", \"hovertext\": [\"SINUS AND ALLERGY\"], \"legendgroup\": \"SINUS AND ALLERGY\", \"marker\": {\"color\": \"#BCBD22\", \"size\": [97], \"sizemode\": \"area\", \"sizeref\": 0.3611111111111111, \"symbol\": \"circle\"}, \"mode\": \"markers\", \"name\": \"SINUS AND ALLERGY\", \"orientation\": \"v\", \"showlegend\": true, \"type\": \"scatter\", \"x\": [127], \"xaxis\": \"x\", \"y\": [838.7900000000009], \"yaxis\": \"y\"}, {\"hovertemplate\": \"<b>%{hovertext}</b><br><br>COMMODITY_DESC=SMOKED MEATS<br>QUANTITY=%{x}<br>SALES_VALUE=%{y}<br>HOUSEHOLDS=%{marker.size}<extra></extra>\", \"hovertext\": [\"SMOKED MEATS\"], \"legendgroup\": \"SMOKED MEATS\", \"marker\": {\"color\": \"#17BECF\", \"size\": [140], \"sizemode\": \"area\", \"sizeref\": 0.3611111111111111, \"symbol\": \"circle\"}, \"mode\": \"markers\", \"name\": \"SMOKED MEATS\", \"orientation\": \"v\", \"showlegend\": true, \"type\": \"scatter\", \"x\": [211], \"xaxis\": \"x\", \"y\": [1058.1700000000008], \"yaxis\": \"y\"}, {\"hovertemplate\": \"<b>%{hovertext}</b><br><br>COMMODITY_DESC=SMOKING CESSATIONS<br>QUANTITY=%{x}<br>SALES_VALUE=%{y}<br>HOUSEHOLDS=%{marker.size}<extra></extra>\", \"hovertext\": [\"SMOKING CESSATIONS\"], \"legendgroup\": \"SMOKING CESSATIONS\", \"marker\": {\"color\": \"#1F77B4\", \"size\": [3], \"sizemode\": \"area\", \"sizeref\": 0.3611111111111111, \"symbol\": \"circle\"}, \"mode\": \"markers\", \"name\": \"SMOKING CESSATIONS\", \"orientation\": \"v\", \"showlegend\": true, \"type\": \"scatter\", \"x\": [11], \"xaxis\": \"x\", \"y\": [391.17], \"yaxis\": \"y\"}, {\"hovertemplate\": \"<b>%{hovertext}</b><br><br>COMMODITY_DESC=SNACK NUTS<br>QUANTITY=%{x}<br>SALES_VALUE=%{y}<br>HOUSEHOLDS=%{marker.size}<extra></extra>\", \"hovertext\": [\"SNACK NUTS\"], \"legendgroup\": \"SNACK NUTS\", \"marker\": {\"color\": \"#FF7F0E\", \"size\": [201], \"sizemode\": \"area\", \"sizeref\": 0.3611111111111111, \"symbol\": \"circle\"}, \"mode\": \"markers\", \"name\": \"SNACK NUTS\", \"orientation\": \"v\", \"showlegend\": true, \"type\": \"scatter\", \"x\": [396], \"xaxis\": \"x\", \"y\": [1023.5400000000006], \"yaxis\": \"y\"}, {\"hovertemplate\": \"<b>%{hovertext}</b><br><br>COMMODITY_DESC=SNACKS<br>QUANTITY=%{x}<br>SALES_VALUE=%{y}<br>HOUSEHOLDS=%{marker.size}<extra></extra>\", \"hovertext\": [\"SNACKS\"], \"legendgroup\": \"SNACKS\", \"marker\": {\"color\": \"#2CA02C\", \"size\": [51], \"sizemode\": \"area\", \"sizeref\": 0.3611111111111111, \"symbol\": \"circle\"}, \"mode\": \"markers\", \"name\": \"SNACKS\", \"orientation\": \"v\", \"showlegend\": true, \"type\": \"scatter\", \"x\": [86], \"xaxis\": \"x\", \"y\": [211.98000000000008], \"yaxis\": \"y\"}, {\"hovertemplate\": \"<b>%{hovertext}</b><br><br>COMMODITY_DESC=SNKS/CKYS/CRKR/CNDY<br>QUANTITY=%{x}<br>SALES_VALUE=%{y}<br>HOUSEHOLDS=%{marker.size}<extra></extra>\", \"hovertext\": [\"SNKS/CKYS/CRKR/CNDY\"], \"legendgroup\": \"SNKS/CKYS/CRKR/CNDY\", \"marker\": {\"color\": \"#D62728\", \"size\": [30], \"sizemode\": \"area\", \"sizeref\": 0.3611111111111111, \"symbol\": \"circle\"}, \"mode\": \"markers\", \"name\": \"SNKS/CKYS/CRKR/CNDY\", \"orientation\": \"v\", \"showlegend\": true, \"type\": \"scatter\", \"x\": [207], \"xaxis\": \"x\", \"y\": [198.94000000000005], \"yaxis\": \"y\"}, {\"hovertemplate\": \"<b>%{hovertext}</b><br><br>COMMODITY_DESC=SOAP - LIQUID & BAR<br>QUANTITY=%{x}<br>SALES_VALUE=%{y}<br>HOUSEHOLDS=%{marker.size}<extra></extra>\", \"hovertext\": [\"SOAP - LIQUID & BAR\"], \"legendgroup\": \"SOAP - LIQUID & BAR\", \"marker\": {\"color\": \"#9467BD\", \"size\": [271], \"sizemode\": \"area\", \"sizeref\": 0.3611111111111111, \"symbol\": \"circle\"}, \"mode\": \"markers\", \"name\": \"SOAP - LIQUID & BAR\", \"orientation\": \"v\", \"showlegend\": true, \"type\": \"scatter\", \"x\": [498], \"xaxis\": \"x\", \"y\": [1402.9900000000007], \"yaxis\": \"y\"}, {\"hovertemplate\": \"<b>%{hovertext}</b><br><br>COMMODITY_DESC=SOFT DRINKS<br>QUANTITY=%{x}<br>SALES_VALUE=%{y}<br>HOUSEHOLDS=%{marker.size}<extra></extra>\", \"hovertext\": [\"SOFT DRINKS\"], \"legendgroup\": \"SOFT DRINKS\", \"marker\": {\"color\": \"#8C564B\", \"size\": [1283], \"sizemode\": \"area\", \"sizeref\": 0.3611111111111111, \"symbol\": \"circle\"}, \"mode\": \"markers\", \"name\": \"SOFT DRINKS\", \"orientation\": \"v\", \"showlegend\": true, \"type\": \"scatter\", \"x\": [10734], \"xaxis\": \"x\", \"y\": [22295.210000001112], \"yaxis\": \"y\"}, {\"hovertemplate\": \"<b>%{hovertext}</b><br><br>COMMODITY_DESC=SOUP<br>QUANTITY=%{x}<br>SALES_VALUE=%{y}<br>HOUSEHOLDS=%{marker.size}<extra></extra>\", \"hovertext\": [\"SOUP\"], \"legendgroup\": \"SOUP\", \"marker\": {\"color\": \"#E377C2\", \"size\": [617], \"sizemode\": \"area\", \"sizeref\": 0.3611111111111111, \"symbol\": \"circle\"}, \"mode\": \"markers\", \"name\": \"SOUP\", \"orientation\": \"v\", \"showlegend\": true, \"type\": \"scatter\", \"x\": [4156], \"xaxis\": \"x\", \"y\": [3753.2600000000025], \"yaxis\": \"y\"}, {\"hovertemplate\": \"<b>%{hovertext}</b><br><br>COMMODITY_DESC=SPICES & EXTRACTS<br>QUANTITY=%{x}<br>SALES_VALUE=%{y}<br>HOUSEHOLDS=%{marker.size}<extra></extra>\", \"hovertext\": [\"SPICES & EXTRACTS\"], \"legendgroup\": \"SPICES & EXTRACTS\", \"marker\": {\"color\": \"#7F7F7F\", \"size\": [398], \"sizemode\": \"area\", \"sizeref\": 0.3611111111111111, \"symbol\": \"circle\"}, \"mode\": \"markers\", \"name\": \"SPICES & EXTRACTS\", \"orientation\": \"v\", \"showlegend\": true, \"type\": \"scatter\", \"x\": [831], \"xaxis\": \"x\", \"y\": [1633.7699999999998], \"yaxis\": \"y\"}, {\"hovertemplate\": \"<b>%{hovertext}</b><br><br>COMMODITY_DESC=SPORTS MEMORABLILIA<br>QUANTITY=%{x}<br>SALES_VALUE=%{y}<br>HOUSEHOLDS=%{marker.size}<extra></extra>\", \"hovertext\": [\"SPORTS MEMORABLILIA\"], \"legendgroup\": \"SPORTS MEMORABLILIA\", \"marker\": {\"color\": \"#BCBD22\", \"size\": [10], \"sizemode\": \"area\", \"sizeref\": 0.3611111111111111, \"symbol\": \"circle\"}, \"mode\": \"markers\", \"name\": \"SPORTS MEMORABLILIA\", \"orientation\": \"v\", \"showlegend\": true, \"type\": \"scatter\", \"x\": [11], \"xaxis\": \"x\", \"y\": [15.6], \"yaxis\": \"y\"}, {\"hovertemplate\": \"<b>%{hovertext}</b><br><br>COMMODITY_DESC=SPRING/SUMMER SEASONAL<br>QUANTITY=%{x}<br>SALES_VALUE=%{y}<br>HOUSEHOLDS=%{marker.size}<extra></extra>\", \"hovertext\": [\"SPRING/SUMMER SEASONAL\"], \"legendgroup\": \"SPRING/SUMMER SEASONAL\", \"marker\": {\"color\": \"#17BECF\", \"size\": [171], \"sizemode\": \"area\", \"sizeref\": 0.3611111111111111, \"symbol\": \"circle\"}, \"mode\": \"markers\", \"name\": \"SPRING/SUMMER SEASONAL\", \"orientation\": \"v\", \"showlegend\": true, \"type\": \"scatter\", \"x\": [328], \"xaxis\": \"x\", \"y\": [2262.730000000001], \"yaxis\": \"y\"}, {\"hovertemplate\": \"<b>%{hovertext}</b><br><br>COMMODITY_DESC=SQUASH<br>QUANTITY=%{x}<br>SALES_VALUE=%{y}<br>HOUSEHOLDS=%{marker.size}<extra></extra>\", \"hovertext\": [\"SQUASH\"], \"legendgroup\": \"SQUASH\", \"marker\": {\"color\": \"#1F77B4\", \"size\": [85], \"sizemode\": \"area\", \"sizeref\": 0.3611111111111111, \"symbol\": \"circle\"}, \"mode\": \"markers\", \"name\": \"SQUASH\", \"orientation\": \"v\", \"showlegend\": true, \"type\": \"scatter\", \"x\": [112], \"xaxis\": \"x\", \"y\": [180.05999999999995], \"yaxis\": \"y\"}, {\"hovertemplate\": \"<b>%{hovertext}</b><br><br>COMMODITY_DESC=STATIONERY & SCHOOL SUPPLIES<br>QUANTITY=%{x}<br>SALES_VALUE=%{y}<br>HOUSEHOLDS=%{marker.size}<extra></extra>\", \"hovertext\": [\"STATIONERY & SCHOOL SUPPLIES\"], \"legendgroup\": \"STATIONERY & SCHOOL SUPPLIES\", \"marker\": {\"color\": \"#FF7F0E\", \"size\": [156], \"sizemode\": \"area\", \"sizeref\": 0.3611111111111111, \"symbol\": \"circle\"}, \"mode\": \"markers\", \"name\": \"STATIONERY & SCHOOL SUPPLIES\", \"orientation\": \"v\", \"showlegend\": true, \"type\": \"scatter\", \"x\": [326], \"xaxis\": \"x\", \"y\": [789.930000000001], \"yaxis\": \"y\"}, {\"hovertemplate\": \"<b>%{hovertext}</b><br><br>COMMODITY_DESC=STONE FRUIT<br>QUANTITY=%{x}<br>SALES_VALUE=%{y}<br>HOUSEHOLDS=%{marker.size}<extra></extra>\", \"hovertext\": [\"STONE FRUIT\"], \"legendgroup\": \"STONE FRUIT\", \"marker\": {\"color\": \"#2CA02C\", \"size\": [321], \"sizemode\": \"area\", \"sizeref\": 0.3611111111111111, \"symbol\": \"circle\"}, \"mode\": \"markers\", \"name\": \"STONE FRUIT\", \"orientation\": \"v\", \"showlegend\": true, \"type\": \"scatter\", \"x\": [571], \"xaxis\": \"x\", \"y\": [1468.0000000000002], \"yaxis\": \"y\"}, {\"hovertemplate\": \"<b>%{hovertext}</b><br><br>COMMODITY_DESC=SUGARS/SWEETNERS<br>QUANTITY=%{x}<br>SALES_VALUE=%{y}<br>HOUSEHOLDS=%{marker.size}<extra></extra>\", \"hovertext\": [\"SUGARS/SWEETNERS\"], \"legendgroup\": \"SUGARS/SWEETNERS\", \"marker\": {\"color\": \"#D62728\", \"size\": [411], \"sizemode\": \"area\", \"sizeref\": 0.3611111111111111, \"symbol\": \"circle\"}, \"mode\": \"markers\", \"name\": \"SUGARS/SWEETNERS\", \"orientation\": \"v\", \"showlegend\": true, \"type\": \"scatter\", \"x\": [717], \"xaxis\": \"x\", \"y\": [1462.5500000000075], \"yaxis\": \"y\"}, {\"hovertemplate\": \"<b>%{hovertext}</b><br><br>COMMODITY_DESC=SUNTAN<br>QUANTITY=%{x}<br>SALES_VALUE=%{y}<br>HOUSEHOLDS=%{marker.size}<extra></extra>\", \"hovertext\": [\"SUNTAN\"], \"legendgroup\": \"SUNTAN\", \"marker\": {\"color\": \"#9467BD\", \"size\": [63], \"sizemode\": \"area\", \"sizeref\": 0.3611111111111111, \"symbol\": \"circle\"}, \"mode\": \"markers\", \"name\": \"SUNTAN\", \"orientation\": \"v\", \"showlegend\": true, \"type\": \"scatter\", \"x\": [80], \"xaxis\": \"x\", \"y\": [511.72000000000037], \"yaxis\": \"y\"}, {\"hovertemplate\": \"<b>%{hovertext}</b><br><br>COMMODITY_DESC=SUSHI<br>QUANTITY=%{x}<br>SALES_VALUE=%{y}<br>HOUSEHOLDS=%{marker.size}<extra></extra>\", \"hovertext\": [\"SUSHI\"], \"legendgroup\": \"SUSHI\", \"marker\": {\"color\": \"#8C564B\", \"size\": [18], \"sizemode\": \"area\", \"sizeref\": 0.3611111111111111, \"symbol\": \"circle\"}, \"mode\": \"markers\", \"name\": \"SUSHI\", \"orientation\": \"v\", \"showlegend\": true, \"type\": \"scatter\", \"x\": [45], \"xaxis\": \"x\", \"y\": [248.70000000000002], \"yaxis\": \"y\"}, {\"hovertemplate\": \"<b>%{hovertext}</b><br><br>COMMODITY_DESC=SWEET GOODS & SNACKS<br>QUANTITY=%{x}<br>SALES_VALUE=%{y}<br>HOUSEHOLDS=%{marker.size}<extra></extra>\", \"hovertext\": [\"SWEET GOODS & SNACKS\"], \"legendgroup\": \"SWEET GOODS & SNACKS\", \"marker\": {\"color\": \"#E377C2\", \"size\": [95], \"sizemode\": \"area\", \"sizeref\": 0.3611111111111111, \"symbol\": \"circle\"}, \"mode\": \"markers\", \"name\": \"SWEET GOODS & SNACKS\", \"orientation\": \"v\", \"showlegend\": true, \"type\": \"scatter\", \"x\": [174], \"xaxis\": \"x\", \"y\": [357.18000000000046], \"yaxis\": \"y\"}, {\"hovertemplate\": \"<b>%{hovertext}</b><br><br>COMMODITY_DESC=SYRUPS/TOPPINGS<br>QUANTITY=%{x}<br>SALES_VALUE=%{y}<br>HOUSEHOLDS=%{marker.size}<extra></extra>\", \"hovertext\": [\"SYRUPS/TOPPINGS\"], \"legendgroup\": \"SYRUPS/TOPPINGS\", \"marker\": {\"color\": \"#7F7F7F\", \"size\": [76], \"sizemode\": \"area\", \"sizeref\": 0.3611111111111111, \"symbol\": \"circle\"}, \"mode\": \"markers\", \"name\": \"SYRUPS/TOPPINGS\", \"orientation\": \"v\", \"showlegend\": true, \"type\": \"scatter\", \"x\": [123], \"xaxis\": \"x\", \"y\": [220.79999999999973], \"yaxis\": \"y\"}, {\"hovertemplate\": \"<b>%{hovertext}</b><br><br>COMMODITY_DESC=TEAS<br>QUANTITY=%{x}<br>SALES_VALUE=%{y}<br>HOUSEHOLDS=%{marker.size}<extra></extra>\", \"hovertext\": [\"TEAS\"], \"legendgroup\": \"TEAS\", \"marker\": {\"color\": \"#BCBD22\", \"size\": [186], \"sizemode\": \"area\", \"sizeref\": 0.3611111111111111, \"symbol\": \"circle\"}, \"mode\": \"markers\", \"name\": \"TEAS\", \"orientation\": \"v\", \"showlegend\": true, \"type\": \"scatter\", \"x\": [296], \"xaxis\": \"x\", \"y\": [808.8700000000006], \"yaxis\": \"y\"}, {\"hovertemplate\": \"<b>%{hovertext}</b><br><br>COMMODITY_DESC=TICKETS<br>QUANTITY=%{x}<br>SALES_VALUE=%{y}<br>HOUSEHOLDS=%{marker.size}<extra></extra>\", \"hovertext\": [\"TICKETS\"], \"legendgroup\": \"TICKETS\", \"marker\": {\"color\": \"#17BECF\", \"size\": [29], \"sizemode\": \"area\", \"sizeref\": 0.3611111111111111, \"symbol\": \"circle\"}, \"mode\": \"markers\", \"name\": \"TICKETS\", \"orientation\": \"v\", \"showlegend\": true, \"type\": \"scatter\", \"x\": [41], \"xaxis\": \"x\", \"y\": [322.58], \"yaxis\": \"y\"}, {\"hovertemplate\": \"<b>%{hovertext}</b><br><br>COMMODITY_DESC=TOBACCO OTHER<br>QUANTITY=%{x}<br>SALES_VALUE=%{y}<br>HOUSEHOLDS=%{marker.size}<extra></extra>\", \"hovertext\": [\"TOBACCO OTHER\"], \"legendgroup\": \"TOBACCO OTHER\", \"marker\": {\"color\": \"#1F77B4\", \"size\": [48], \"sizemode\": \"area\", \"sizeref\": 0.3611111111111111, \"symbol\": \"circle\"}, \"mode\": \"markers\", \"name\": \"TOBACCO OTHER\", \"orientation\": \"v\", \"showlegend\": true, \"type\": \"scatter\", \"x\": [70], \"xaxis\": \"x\", \"y\": [219.98], \"yaxis\": \"y\"}, {\"hovertemplate\": \"<b>%{hovertext}</b><br><br>COMMODITY_DESC=TOMATOES<br>QUANTITY=%{x}<br>SALES_VALUE=%{y}<br>HOUSEHOLDS=%{marker.size}<extra></extra>\", \"hovertext\": [\"TOMATOES\"], \"legendgroup\": \"TOMATOES\", \"marker\": {\"color\": \"#FF7F0E\", \"size\": [601], \"sizemode\": \"area\", \"sizeref\": 0.3611111111111111, \"symbol\": \"circle\"}, \"mode\": \"markers\", \"name\": \"TOMATOES\", \"orientation\": \"v\", \"showlegend\": true, \"type\": \"scatter\", \"x\": [1209], \"xaxis\": \"x\", \"y\": [2966.109999999997], \"yaxis\": \"y\"}, {\"hovertemplate\": \"<b>%{hovertext}</b><br><br>COMMODITY_DESC=TOYS AND GAMES<br>QUANTITY=%{x}<br>SALES_VALUE=%{y}<br>HOUSEHOLDS=%{marker.size}<extra></extra>\", \"hovertext\": [\"TOYS AND GAMES\"], \"legendgroup\": \"TOYS AND GAMES\", \"marker\": {\"color\": \"#2CA02C\", \"size\": [118], \"sizemode\": \"area\", \"sizeref\": 0.3611111111111111, \"symbol\": \"circle\"}, \"mode\": \"markers\", \"name\": \"TOYS AND GAMES\", \"orientation\": \"v\", \"showlegend\": true, \"type\": \"scatter\", \"x\": [202], \"xaxis\": \"x\", \"y\": [740.6300000000009], \"yaxis\": \"y\"}, {\"hovertemplate\": \"<b>%{hovertext}</b><br><br>COMMODITY_DESC=TROPICAL FRUIT<br>QUANTITY=%{x}<br>SALES_VALUE=%{y}<br>HOUSEHOLDS=%{marker.size}<extra></extra>\", \"hovertext\": [\"TROPICAL FRUIT\"], \"legendgroup\": \"TROPICAL FRUIT\", \"marker\": {\"color\": \"#D62728\", \"size\": [844], \"sizemode\": \"area\", \"sizeref\": 0.3611111111111111, \"symbol\": \"circle\"}, \"mode\": \"markers\", \"name\": \"TROPICAL FRUIT\", \"orientation\": \"v\", \"showlegend\": true, \"type\": \"scatter\", \"x\": [2590], \"xaxis\": \"x\", \"y\": [2602.129999999976], \"yaxis\": \"y\"}, {\"hovertemplate\": \"<b>%{hovertext}</b><br><br>COMMODITY_DESC=TURKEY<br>QUANTITY=%{x}<br>SALES_VALUE=%{y}<br>HOUSEHOLDS=%{marker.size}<extra></extra>\", \"hovertext\": [\"TURKEY\"], \"legendgroup\": \"TURKEY\", \"marker\": {\"color\": \"#9467BD\", \"size\": [82], \"sizemode\": \"area\", \"sizeref\": 0.3611111111111111, \"symbol\": \"circle\"}, \"mode\": \"markers\", \"name\": \"TURKEY\", \"orientation\": \"v\", \"showlegend\": true, \"type\": \"scatter\", \"x\": [185], \"xaxis\": \"x\", \"y\": [559.1200000000002], \"yaxis\": \"y\"}, {\"hovertemplate\": \"<b>%{hovertext}</b><br><br>COMMODITY_DESC=UNKNOWN<br>QUANTITY=%{x}<br>SALES_VALUE=%{y}<br>HOUSEHOLDS=%{marker.size}<extra></extra>\", \"hovertext\": [\"UNKNOWN\"], \"legendgroup\": \"UNKNOWN\", \"marker\": {\"color\": \"#8C564B\", \"size\": [36], \"sizemode\": \"area\", \"sizeref\": 0.3611111111111111, \"symbol\": \"circle\"}, \"mode\": \"markers\", \"name\": \"UNKNOWN\", \"orientation\": \"v\", \"showlegend\": true, \"type\": \"scatter\", \"x\": [96], \"xaxis\": \"x\", \"y\": [337.53000000000014], \"yaxis\": \"y\"}, {\"hovertemplate\": \"<b>%{hovertext}</b><br><br>COMMODITY_DESC=VALENTINE<br>QUANTITY=%{x}<br>SALES_VALUE=%{y}<br>HOUSEHOLDS=%{marker.size}<extra></extra>\", \"hovertext\": [\"VALENTINE\"], \"legendgroup\": \"VALENTINE\", \"marker\": {\"color\": \"#E377C2\", \"size\": [3], \"sizemode\": \"area\", \"sizeref\": 0.3611111111111111, \"symbol\": \"circle\"}, \"mode\": \"markers\", \"name\": \"VALENTINE\", \"orientation\": \"v\", \"showlegend\": true, \"type\": \"scatter\", \"x\": [3], \"xaxis\": \"x\", \"y\": [3.7199999999999998], \"yaxis\": \"y\"}, {\"hovertemplate\": \"<b>%{hovertext}</b><br><br>COMMODITY_DESC=VALUE ADDED FRUIT<br>QUANTITY=%{x}<br>SALES_VALUE=%{y}<br>HOUSEHOLDS=%{marker.size}<extra></extra>\", \"hovertext\": [\"VALUE ADDED FRUIT\"], \"legendgroup\": \"VALUE ADDED FRUIT\", \"marker\": {\"color\": \"#7F7F7F\", \"size\": [301], \"sizemode\": \"area\", \"sizeref\": 0.3611111111111111, \"symbol\": \"circle\"}, \"mode\": \"markers\", \"name\": \"VALUE ADDED FRUIT\", \"orientation\": \"v\", \"showlegend\": true, \"type\": \"scatter\", \"x\": [659], \"xaxis\": \"x\", \"y\": [1818.580000000001], \"yaxis\": \"y\"}, {\"hovertemplate\": \"<b>%{hovertext}</b><br><br>COMMODITY_DESC=VALUE ADDED VEGETABLES<br>QUANTITY=%{x}<br>SALES_VALUE=%{y}<br>HOUSEHOLDS=%{marker.size}<extra></extra>\", \"hovertext\": [\"VALUE ADDED VEGETABLES\"], \"legendgroup\": \"VALUE ADDED VEGETABLES\", \"marker\": {\"color\": \"#BCBD22\", \"size\": [96], \"sizemode\": \"area\", \"sizeref\": 0.3611111111111111, \"symbol\": \"circle\"}, \"mode\": \"markers\", \"name\": \"VALUE ADDED VEGETABLES\", \"orientation\": \"v\", \"showlegend\": true, \"type\": \"scatter\", \"x\": [151], \"xaxis\": \"x\", \"y\": [475.1800000000007], \"yaxis\": \"y\"}, {\"hovertemplate\": \"<b>%{hovertext}</b><br><br>COMMODITY_DESC=VEAL<br>QUANTITY=%{x}<br>SALES_VALUE=%{y}<br>HOUSEHOLDS=%{marker.size}<extra></extra>\", \"hovertext\": [\"VEAL\"], \"legendgroup\": \"VEAL\", \"marker\": {\"color\": \"#17BECF\", \"size\": [8], \"sizemode\": \"area\", \"sizeref\": 0.3611111111111111, \"symbol\": \"circle\"}, \"mode\": \"markers\", \"name\": \"VEAL\", \"orientation\": \"v\", \"showlegend\": true, \"type\": \"scatter\", \"x\": [14], \"xaxis\": \"x\", \"y\": [54.45], \"yaxis\": \"y\"}, {\"hovertemplate\": \"<b>%{hovertext}</b><br><br>COMMODITY_DESC=VEGETABLES - ALL OTHERS<br>QUANTITY=%{x}<br>SALES_VALUE=%{y}<br>HOUSEHOLDS=%{marker.size}<extra></extra>\", \"hovertext\": [\"VEGETABLES - ALL OTHERS\"], \"legendgroup\": \"VEGETABLES - ALL OTHERS\", \"marker\": {\"color\": \"#1F77B4\", \"size\": [528], \"sizemode\": \"area\", \"sizeref\": 0.3611111111111111, \"symbol\": \"circle\"}, \"mode\": \"markers\", \"name\": \"VEGETABLES - ALL OTHERS\", \"orientation\": \"v\", \"showlegend\": true, \"type\": \"scatter\", \"x\": [1497], \"xaxis\": \"x\", \"y\": [1861.5600000000036], \"yaxis\": \"y\"}, {\"hovertemplate\": \"<b>%{hovertext}</b><br><br>COMMODITY_DESC=VEGETABLES - SHELF STABLE<br>QUANTITY=%{x}<br>SALES_VALUE=%{y}<br>HOUSEHOLDS=%{marker.size}<extra></extra>\", \"hovertext\": [\"VEGETABLES - SHELF STABLE\"], \"legendgroup\": \"VEGETABLES - SHELF STABLE\", \"marker\": {\"color\": \"#FF7F0E\", \"size\": [653], \"sizemode\": \"area\", \"sizeref\": 0.3611111111111111, \"symbol\": \"circle\"}, \"mode\": \"markers\", \"name\": \"VEGETABLES - SHELF STABLE\", \"orientation\": \"v\", \"showlegend\": true, \"type\": \"scatter\", \"x\": [3970], \"xaxis\": \"x\", \"y\": [2853.979999999998], \"yaxis\": \"y\"}, {\"hovertemplate\": \"<b>%{hovertext}</b><br><br>COMMODITY_DESC=VEGETABLES SALAD<br>QUANTITY=%{x}<br>SALES_VALUE=%{y}<br>HOUSEHOLDS=%{marker.size}<extra></extra>\", \"hovertext\": [\"VEGETABLES SALAD\"], \"legendgroup\": \"VEGETABLES SALAD\", \"marker\": {\"color\": \"#2CA02C\", \"size\": [442], \"sizemode\": \"area\", \"sizeref\": 0.3611111111111111, \"symbol\": \"circle\"}, \"mode\": \"markers\", \"name\": \"VEGETABLES SALAD\", \"orientation\": \"v\", \"showlegend\": true, \"type\": \"scatter\", \"x\": [847], \"xaxis\": \"x\", \"y\": [988.6800000000061], \"yaxis\": \"y\"}, {\"hovertemplate\": \"<b>%{hovertext}</b><br><br>COMMODITY_DESC=VITAMINS<br>QUANTITY=%{x}<br>SALES_VALUE=%{y}<br>HOUSEHOLDS=%{marker.size}<extra></extra>\", \"hovertext\": [\"VITAMINS\"], \"legendgroup\": \"VITAMINS\", \"marker\": {\"color\": \"#D62728\", \"size\": [78], \"sizemode\": \"area\", \"sizeref\": 0.3611111111111111, \"symbol\": \"circle\"}, \"mode\": \"markers\", \"name\": \"VITAMINS\", \"orientation\": \"v\", \"showlegend\": true, \"type\": \"scatter\", \"x\": [120], \"xaxis\": \"x\", \"y\": [860.0700000000006], \"yaxis\": \"y\"}, {\"hovertemplate\": \"<b>%{hovertext}</b><br><br>COMMODITY_DESC=WAREHOUSE SNACKS<br>QUANTITY=%{x}<br>SALES_VALUE=%{y}<br>HOUSEHOLDS=%{marker.size}<extra></extra>\", \"hovertext\": [\"WAREHOUSE SNACKS\"], \"legendgroup\": \"WAREHOUSE SNACKS\", \"marker\": {\"color\": \"#9467BD\", \"size\": [265], \"sizemode\": \"area\", \"sizeref\": 0.3611111111111111, \"symbol\": \"circle\"}, \"mode\": \"markers\", \"name\": \"WAREHOUSE SNACKS\", \"orientation\": \"v\", \"showlegend\": true, \"type\": \"scatter\", \"x\": [611], \"xaxis\": \"x\", \"y\": [954.3499999999999], \"yaxis\": \"y\"}, {\"hovertemplate\": \"<b>%{hovertext}</b><br><br>COMMODITY_DESC=WATCHES/CALCULATORS/LOBBY<br>QUANTITY=%{x}<br>SALES_VALUE=%{y}<br>HOUSEHOLDS=%{marker.size}<extra></extra>\", \"hovertext\": [\"WATCHES/CALCULATORS/LOBBY\"], \"legendgroup\": \"WATCHES/CALCULATORS/LOBBY\", \"marker\": {\"color\": \"#8C564B\", \"size\": [2], \"sizemode\": \"area\", \"sizeref\": 0.3611111111111111, \"symbol\": \"circle\"}, \"mode\": \"markers\", \"name\": \"WATCHES/CALCULATORS/LOBBY\", \"orientation\": \"v\", \"showlegend\": true, \"type\": \"scatter\", \"x\": [2], \"xaxis\": \"x\", \"y\": [6.98], \"yaxis\": \"y\"}, {\"hovertemplate\": \"<b>%{hovertext}</b><br><br>COMMODITY_DESC=WATER<br>QUANTITY=%{x}<br>SALES_VALUE=%{y}<br>HOUSEHOLDS=%{marker.size}<extra></extra>\", \"hovertext\": [\"WATER\"], \"legendgroup\": \"WATER\", \"marker\": {\"color\": \"#E377C2\", \"size\": [68], \"sizemode\": \"area\", \"sizeref\": 0.3611111111111111, \"symbol\": \"circle\"}, \"mode\": \"markers\", \"name\": \"WATER\", \"orientation\": \"v\", \"showlegend\": true, \"type\": \"scatter\", \"x\": [215], \"xaxis\": \"x\", \"y\": [223.80000000000007], \"yaxis\": \"y\"}, {\"hovertemplate\": \"<b>%{hovertext}</b><br><br>COMMODITY_DESC=WATER - CARBONATED/FLVRD DRINK<br>QUANTITY=%{x}<br>SALES_VALUE=%{y}<br>HOUSEHOLDS=%{marker.size}<extra></extra>\", \"hovertext\": [\"WATER - CARBONATED/FLVRD DRINK\"], \"legendgroup\": \"WATER - CARBONATED/FLVRD DRINK\", \"marker\": {\"color\": \"#7F7F7F\", \"size\": [590], \"sizemode\": \"area\", \"sizeref\": 0.3611111111111111, \"symbol\": \"circle\"}, \"mode\": \"markers\", \"name\": \"WATER - CARBONATED/FLVRD DRINK\", \"orientation\": \"v\", \"showlegend\": true, \"type\": \"scatter\", \"x\": [2038], \"xaxis\": \"x\", \"y\": [4692.359999999936], \"yaxis\": \"y\"}, {\"hovertemplate\": \"<b>%{hovertext}</b><br><br>COMMODITY_DESC=YOGURT<br>QUANTITY=%{x}<br>SALES_VALUE=%{y}<br>HOUSEHOLDS=%{marker.size}<extra></extra>\", \"hovertext\": [\"YOGURT\"], \"legendgroup\": \"YOGURT\", \"marker\": {\"color\": \"#BCBD22\", \"size\": [517], \"sizemode\": \"area\", \"sizeref\": 0.3611111111111111, \"symbol\": \"circle\"}, \"mode\": \"markers\", \"name\": \"YOGURT\", \"orientation\": \"v\", \"showlegend\": true, \"type\": \"scatter\", \"x\": [4618], \"xaxis\": \"x\", \"y\": [3480.520000000022], \"yaxis\": \"y\"}],                        {\"annotations\": [{\"showarrow\": false, \"text\": \"Sizes of the bubbles represent the number of households buying the product\", \"x\": -0.04, \"xref\": \"paper\", \"y\": 1.11, \"yref\": \"paper\"}], \"legend\": {\"itemsizing\": \"constant\", \"title\": {\"text\": \"COMMODITY_DESC\"}, \"tracegroupgap\": 0}, \"showlegend\": false, \"template\": {\"data\": {\"bar\": [{\"error_x\": {\"color\": \"rgb(36,36,36)\"}, \"error_y\": {\"color\": \"rgb(36,36,36)\"}, \"marker\": {\"line\": {\"color\": \"white\", \"width\": 0.5}}, \"type\": \"bar\"}], \"barpolar\": [{\"marker\": {\"line\": {\"color\": \"white\", \"width\": 0.5}}, \"type\": \"barpolar\"}], \"carpet\": [{\"aaxis\": {\"endlinecolor\": \"rgb(36,36,36)\", \"gridcolor\": \"white\", \"linecolor\": \"white\", \"minorgridcolor\": \"white\", \"startlinecolor\": \"rgb(36,36,36)\"}, \"baxis\": {\"endlinecolor\": \"rgb(36,36,36)\", \"gridcolor\": \"white\", \"linecolor\": \"white\", \"minorgridcolor\": \"white\", \"startlinecolor\": \"rgb(36,36,36)\"}, \"type\": \"carpet\"}], \"choropleth\": [{\"colorbar\": {\"outlinewidth\": 1, \"tickcolor\": \"rgb(36,36,36)\", \"ticks\": \"outside\"}, \"type\": \"choropleth\"}], \"contour\": [{\"colorbar\": {\"outlinewidth\": 1, \"tickcolor\": \"rgb(36,36,36)\", \"ticks\": \"outside\"}, \"colorscale\": [[0.0, \"#440154\"], [0.1111111111111111, \"#482878\"], [0.2222222222222222, \"#3e4989\"], [0.3333333333333333, \"#31688e\"], [0.4444444444444444, \"#26828e\"], [0.5555555555555556, \"#1f9e89\"], [0.6666666666666666, \"#35b779\"], [0.7777777777777778, \"#6ece58\"], [0.8888888888888888, \"#b5de2b\"], [1.0, \"#fde725\"]], \"type\": \"contour\"}], \"contourcarpet\": [{\"colorbar\": {\"outlinewidth\": 1, \"tickcolor\": \"rgb(36,36,36)\", \"ticks\": \"outside\"}, \"type\": \"contourcarpet\"}], \"heatmap\": [{\"colorbar\": {\"outlinewidth\": 1, \"tickcolor\": \"rgb(36,36,36)\", \"ticks\": \"outside\"}, \"colorscale\": [[0.0, \"#440154\"], [0.1111111111111111, \"#482878\"], [0.2222222222222222, \"#3e4989\"], [0.3333333333333333, \"#31688e\"], [0.4444444444444444, \"#26828e\"], [0.5555555555555556, \"#1f9e89\"], [0.6666666666666666, \"#35b779\"], [0.7777777777777778, \"#6ece58\"], [0.8888888888888888, \"#b5de2b\"], [1.0, \"#fde725\"]], \"type\": \"heatmap\"}], \"heatmapgl\": [{\"colorbar\": {\"outlinewidth\": 1, \"tickcolor\": \"rgb(36,36,36)\", \"ticks\": \"outside\"}, \"colorscale\": [[0.0, \"#440154\"], [0.1111111111111111, \"#482878\"], [0.2222222222222222, \"#3e4989\"], [0.3333333333333333, \"#31688e\"], [0.4444444444444444, \"#26828e\"], [0.5555555555555556, \"#1f9e89\"], [0.6666666666666666, \"#35b779\"], [0.7777777777777778, \"#6ece58\"], [0.8888888888888888, \"#b5de2b\"], [1.0, \"#fde725\"]], \"type\": \"heatmapgl\"}], \"histogram\": [{\"marker\": {\"line\": {\"color\": \"white\", \"width\": 0.6}}, \"type\": \"histogram\"}], \"histogram2d\": [{\"colorbar\": {\"outlinewidth\": 1, \"tickcolor\": \"rgb(36,36,36)\", \"ticks\": \"outside\"}, \"colorscale\": [[0.0, \"#440154\"], [0.1111111111111111, \"#482878\"], [0.2222222222222222, \"#3e4989\"], [0.3333333333333333, \"#31688e\"], [0.4444444444444444, \"#26828e\"], [0.5555555555555556, \"#1f9e89\"], [0.6666666666666666, \"#35b779\"], [0.7777777777777778, \"#6ece58\"], [0.8888888888888888, \"#b5de2b\"], [1.0, \"#fde725\"]], \"type\": \"histogram2d\"}], \"histogram2dcontour\": [{\"colorbar\": {\"outlinewidth\": 1, \"tickcolor\": \"rgb(36,36,36)\", \"ticks\": \"outside\"}, \"colorscale\": [[0.0, \"#440154\"], [0.1111111111111111, \"#482878\"], [0.2222222222222222, \"#3e4989\"], [0.3333333333333333, \"#31688e\"], [0.4444444444444444, \"#26828e\"], [0.5555555555555556, \"#1f9e89\"], [0.6666666666666666, \"#35b779\"], [0.7777777777777778, \"#6ece58\"], [0.8888888888888888, \"#b5de2b\"], [1.0, \"#fde725\"]], \"type\": \"histogram2dcontour\"}], \"mesh3d\": [{\"colorbar\": {\"outlinewidth\": 1, \"tickcolor\": \"rgb(36,36,36)\", \"ticks\": \"outside\"}, \"type\": \"mesh3d\"}], \"parcoords\": [{\"line\": {\"colorbar\": {\"outlinewidth\": 1, \"tickcolor\": \"rgb(36,36,36)\", \"ticks\": \"outside\"}}, \"type\": \"parcoords\"}], \"pie\": [{\"automargin\": true, \"type\": \"pie\"}], \"scatter\": [{\"marker\": {\"colorbar\": {\"outlinewidth\": 1, \"tickcolor\": \"rgb(36,36,36)\", \"ticks\": \"outside\"}}, \"type\": \"scatter\"}], \"scatter3d\": [{\"line\": {\"colorbar\": {\"outlinewidth\": 1, \"tickcolor\": \"rgb(36,36,36)\", \"ticks\": \"outside\"}}, \"marker\": {\"colorbar\": {\"outlinewidth\": 1, \"tickcolor\": \"rgb(36,36,36)\", \"ticks\": \"outside\"}}, \"type\": \"scatter3d\"}], \"scattercarpet\": [{\"marker\": {\"colorbar\": {\"outlinewidth\": 1, \"tickcolor\": \"rgb(36,36,36)\", \"ticks\": \"outside\"}}, \"type\": \"scattercarpet\"}], \"scattergeo\": [{\"marker\": {\"colorbar\": {\"outlinewidth\": 1, \"tickcolor\": \"rgb(36,36,36)\", \"ticks\": \"outside\"}}, \"type\": \"scattergeo\"}], \"scattergl\": [{\"marker\": {\"colorbar\": {\"outlinewidth\": 1, \"tickcolor\": \"rgb(36,36,36)\", \"ticks\": \"outside\"}}, \"type\": \"scattergl\"}], \"scattermapbox\": [{\"marker\": {\"colorbar\": {\"outlinewidth\": 1, \"tickcolor\": \"rgb(36,36,36)\", \"ticks\": \"outside\"}}, \"type\": \"scattermapbox\"}], \"scatterpolar\": [{\"marker\": {\"colorbar\": {\"outlinewidth\": 1, \"tickcolor\": \"rgb(36,36,36)\", \"ticks\": \"outside\"}}, \"type\": \"scatterpolar\"}], \"scatterpolargl\": [{\"marker\": {\"colorbar\": {\"outlinewidth\": 1, \"tickcolor\": \"rgb(36,36,36)\", \"ticks\": \"outside\"}}, \"type\": \"scatterpolargl\"}], \"scatterternary\": [{\"marker\": {\"colorbar\": {\"outlinewidth\": 1, \"tickcolor\": \"rgb(36,36,36)\", \"ticks\": \"outside\"}}, \"type\": \"scatterternary\"}], \"surface\": [{\"colorbar\": {\"outlinewidth\": 1, \"tickcolor\": \"rgb(36,36,36)\", \"ticks\": \"outside\"}, \"colorscale\": [[0.0, \"#440154\"], [0.1111111111111111, \"#482878\"], [0.2222222222222222, \"#3e4989\"], [0.3333333333333333, \"#31688e\"], [0.4444444444444444, \"#26828e\"], [0.5555555555555556, \"#1f9e89\"], [0.6666666666666666, \"#35b779\"], [0.7777777777777778, \"#6ece58\"], [0.8888888888888888, \"#b5de2b\"], [1.0, \"#fde725\"]], \"type\": \"surface\"}], \"table\": [{\"cells\": {\"fill\": {\"color\": \"rgb(237,237,237)\"}, \"line\": {\"color\": \"white\"}}, \"header\": {\"fill\": {\"color\": \"rgb(217,217,217)\"}, \"line\": {\"color\": \"white\"}}, \"type\": \"table\"}]}, \"layout\": {\"annotationdefaults\": {\"arrowhead\": 0, \"arrowwidth\": 1}, \"autotypenumbers\": \"strict\", \"coloraxis\": {\"colorbar\": {\"outlinewidth\": 1, \"tickcolor\": \"rgb(36,36,36)\", \"ticks\": \"outside\"}}, \"colorscale\": {\"diverging\": [[0.0, \"rgb(103,0,31)\"], [0.1, \"rgb(178,24,43)\"], [0.2, \"rgb(214,96,77)\"], [0.3, \"rgb(244,165,130)\"], [0.4, \"rgb(253,219,199)\"], [0.5, \"rgb(247,247,247)\"], [0.6, \"rgb(209,229,240)\"], [0.7, \"rgb(146,197,222)\"], [0.8, \"rgb(67,147,195)\"], [0.9, \"rgb(33,102,172)\"], [1.0, \"rgb(5,48,97)\"]], \"sequential\": [[0.0, \"#440154\"], [0.1111111111111111, \"#482878\"], [0.2222222222222222, \"#3e4989\"], [0.3333333333333333, \"#31688e\"], [0.4444444444444444, \"#26828e\"], [0.5555555555555556, \"#1f9e89\"], [0.6666666666666666, \"#35b779\"], [0.7777777777777778, \"#6ece58\"], [0.8888888888888888, \"#b5de2b\"], [1.0, \"#fde725\"]], \"sequentialminus\": [[0.0, \"#440154\"], [0.1111111111111111, \"#482878\"], [0.2222222222222222, \"#3e4989\"], [0.3333333333333333, \"#31688e\"], [0.4444444444444444, \"#26828e\"], [0.5555555555555556, \"#1f9e89\"], [0.6666666666666666, \"#35b779\"], [0.7777777777777778, \"#6ece58\"], [0.8888888888888888, \"#b5de2b\"], [1.0, \"#fde725\"]]}, \"colorway\": [\"#1F77B4\", \"#FF7F0E\", \"#2CA02C\", \"#D62728\", \"#9467BD\", \"#8C564B\", \"#E377C2\", \"#7F7F7F\", \"#BCBD22\", \"#17BECF\"], \"font\": {\"color\": \"rgb(36,36,36)\"}, \"geo\": {\"bgcolor\": \"white\", \"lakecolor\": \"white\", \"landcolor\": \"white\", \"showlakes\": true, \"showland\": true, \"subunitcolor\": \"white\"}, \"hoverlabel\": {\"align\": \"left\"}, \"hovermode\": \"closest\", \"mapbox\": {\"style\": \"light\"}, \"paper_bgcolor\": \"white\", \"plot_bgcolor\": \"white\", \"polar\": {\"angularaxis\": {\"gridcolor\": \"rgb(232,232,232)\", \"linecolor\": \"rgb(36,36,36)\", \"showgrid\": false, \"showline\": true, \"ticks\": \"outside\"}, \"bgcolor\": \"white\", \"radialaxis\": {\"gridcolor\": \"rgb(232,232,232)\", \"linecolor\": \"rgb(36,36,36)\", \"showgrid\": false, \"showline\": true, \"ticks\": \"outside\"}}, \"scene\": {\"xaxis\": {\"backgroundcolor\": \"white\", \"gridcolor\": \"rgb(232,232,232)\", \"gridwidth\": 2, \"linecolor\": \"rgb(36,36,36)\", \"showbackground\": true, \"showgrid\": false, \"showline\": true, \"ticks\": \"outside\", \"zeroline\": false, \"zerolinecolor\": \"rgb(36,36,36)\"}, \"yaxis\": {\"backgroundcolor\": \"white\", \"gridcolor\": \"rgb(232,232,232)\", \"gridwidth\": 2, \"linecolor\": \"rgb(36,36,36)\", \"showbackground\": true, \"showgrid\": false, \"showline\": true, \"ticks\": \"outside\", \"zeroline\": false, \"zerolinecolor\": \"rgb(36,36,36)\"}, \"zaxis\": {\"backgroundcolor\": \"white\", \"gridcolor\": \"rgb(232,232,232)\", \"gridwidth\": 2, \"linecolor\": \"rgb(36,36,36)\", \"showbackground\": true, \"showgrid\": false, \"showline\": true, \"ticks\": \"outside\", \"zeroline\": false, \"zerolinecolor\": \"rgb(36,36,36)\"}}, \"shapedefaults\": {\"fillcolor\": \"black\", \"line\": {\"width\": 0}, \"opacity\": 0.3}, \"ternary\": {\"aaxis\": {\"gridcolor\": \"rgb(232,232,232)\", \"linecolor\": \"rgb(36,36,36)\", \"showgrid\": false, \"showline\": true, \"ticks\": \"outside\"}, \"baxis\": {\"gridcolor\": \"rgb(232,232,232)\", \"linecolor\": \"rgb(36,36,36)\", \"showgrid\": false, \"showline\": true, \"ticks\": \"outside\"}, \"bgcolor\": \"white\", \"caxis\": {\"gridcolor\": \"rgb(232,232,232)\", \"linecolor\": \"rgb(36,36,36)\", \"showgrid\": false, \"showline\": true, \"ticks\": \"outside\"}}, \"title\": {\"x\": 0.05}, \"xaxis\": {\"automargin\": true, \"gridcolor\": \"rgb(232,232,232)\", \"linecolor\": \"rgb(36,36,36)\", \"showgrid\": false, \"showline\": true, \"ticks\": \"outside\", \"title\": {\"standoff\": 15}, \"zeroline\": false, \"zerolinecolor\": \"rgb(36,36,36)\"}, \"yaxis\": {\"automargin\": true, \"gridcolor\": \"rgb(232,232,232)\", \"linecolor\": \"rgb(36,36,36)\", \"showgrid\": false, \"showline\": true, \"ticks\": \"outside\", \"title\": {\"standoff\": 15}, \"zeroline\": false, \"zerolinecolor\": \"rgb(36,36,36)\"}}}, \"title\": {\"text\": \"Sales, Volume, and Household Counts for Various Consumer Commodities\"}, \"xaxis\": {\"anchor\": \"y\", \"domain\": [0.0, 1.0], \"title\": {\"text\": \"QUANTITY\"}}, \"yaxis\": {\"anchor\": \"x\", \"domain\": [0.0, 1.0], \"title\": {\"text\": \"SALES_VALUE\"}}},                        {\"responsive\": true}                    ).then(function(){\n",
       "                            \n",
       "var gd = document.getElementById('a9d53cf6-e8d0-4567-bbfa-3bb3943e3166');\n",
       "var x = new MutationObserver(function (mutations, observer) {{\n",
       "        var display = window.getComputedStyle(gd).display;\n",
       "        if (!display || display === 'none') {{\n",
       "            console.log([gd, 'removed!']);\n",
       "            Plotly.purge(gd);\n",
       "            observer.disconnect();\n",
       "        }}\n",
       "}});\n",
       "\n",
       "// Listen for the removal of the full notebook cells\n",
       "var notebookContainer = gd.closest('#notebook-container');\n",
       "if (notebookContainer) {{\n",
       "    x.observe(notebookContainer, {childList: true});\n",
       "}}\n",
       "\n",
       "// Listen for the clearing of the current output cell\n",
       "var outputEl = gd.closest('.output');\n",
       "if (outputEl) {{\n",
       "    x.observe(outputEl, {childList: true});\n",
       "}}\n",
       "\n",
       "                        })                };                });            </script>        </div>"
      ]
     },
     "metadata": {},
     "output_type": "display_data"
    }
   ],
   "source": [
    "fig = px.scatter(sales_agg, \n",
    "                 x='QUANTITY', \n",
    "                 y='SALES_VALUE',\n",
    "                 size='HOUSEHOLDS', \n",
    "                 color='COMMODITY_DESC',\n",
    "                 hover_name='COMMODITY_DESC',\n",
    "                 size_max=60,\n",
    "                 title = 'Sales, Volume, and Household Counts for Various Consumer Commodities',\n",
    "                 template = 'simple_white')\n",
    "fig.update_layout(showlegend=False)\n",
    "fig.add_annotation(text='Sizes of the bubbles represent the number of households buying the product',\n",
    "                  xref='paper', yref='paper',\n",
    "                  x=-0.04, y=1.11, showarrow=False)\n",
    "fig.show()"
   ]
  }
 ],
 "metadata": {
  "kernelspec": {
   "display_name": "Python 3",
   "language": "python",
   "name": "python3"
  },
  "language_info": {
   "codemirror_mode": {
    "name": "ipython",
    "version": 3
   },
   "file_extension": ".py",
   "mimetype": "text/x-python",
   "name": "python",
   "nbconvert_exporter": "python",
   "pygments_lexer": "ipython3",
   "version": "3.7.6"
  }
 },
 "nbformat": 4,
 "nbformat_minor": 4
}
